{
  "nbformat": 4,
  "nbformat_minor": 0,
  "metadata": {
    "colab": {
      "provenance": []
    },
    "kernelspec": {
      "name": "python3",
      "display_name": "Python 3"
    },
    "language_info": {
      "name": "python"
    },
    "widgets": {
      "application/vnd.jupyter.widget-state+json": {
        "da8c2213cae54e4ca5cab07044a1b3e3": {
          "model_module": "@jupyter-widgets/controls",
          "model_name": "VBoxModel",
          "model_module_version": "1.5.0",
          "state": {
            "_dom_classes": [],
            "_model_module": "@jupyter-widgets/controls",
            "_model_module_version": "1.5.0",
            "_model_name": "VBoxModel",
            "_view_count": null,
            "_view_module": "@jupyter-widgets/controls",
            "_view_module_version": "1.5.0",
            "_view_name": "VBoxView",
            "box_style": "",
            "children": [],
            "layout": "IPY_MODEL_e5d64954d95644da895ecbe1ae1b0552"
          }
        },
        "d4780a1d0d9c40ebbf915905d14c6a41": {
          "model_module": "@jupyter-widgets/controls",
          "model_name": "HTMLModel",
          "model_module_version": "1.5.0",
          "state": {
            "_dom_classes": [],
            "_model_module": "@jupyter-widgets/controls",
            "_model_module_version": "1.5.0",
            "_model_name": "HTMLModel",
            "_view_count": null,
            "_view_module": "@jupyter-widgets/controls",
            "_view_module_version": "1.5.0",
            "_view_name": "HTMLView",
            "description": "",
            "description_tooltip": null,
            "layout": "IPY_MODEL_af628725415a4095a7f108602c4bcf9a",
            "placeholder": "​",
            "style": "IPY_MODEL_6bfc5b09bd464195bd3328769f95b50c",
            "value": "<center> <img\nsrc=https://huggingface.co/front/assets/huggingface_logo-noborder.svg\nalt='Hugging Face'> <br> Copy a token from <a\nhref=\"https://huggingface.co/settings/tokens\" target=\"_blank\">your Hugging Face\ntokens page</a> and paste it below. <br> Immediately click login after copying\nyour token or it might be stored in plain text in this notebook file. </center>"
          }
        },
        "4d16d50325344372937a87d3c35c8508": {
          "model_module": "@jupyter-widgets/controls",
          "model_name": "PasswordModel",
          "model_module_version": "1.5.0",
          "state": {
            "_dom_classes": [],
            "_model_module": "@jupyter-widgets/controls",
            "_model_module_version": "1.5.0",
            "_model_name": "PasswordModel",
            "_view_count": null,
            "_view_module": "@jupyter-widgets/controls",
            "_view_module_version": "1.5.0",
            "_view_name": "PasswordView",
            "continuous_update": true,
            "description": "Token:",
            "description_tooltip": null,
            "disabled": false,
            "layout": "IPY_MODEL_1fa8a640968a4cae9b645e0e968fa178",
            "placeholder": "​",
            "style": "IPY_MODEL_6e03c1e6e60647788245f0d28b164db7",
            "value": ""
          }
        },
        "686a0f9252a14d33a2384dd2e937c78e": {
          "model_module": "@jupyter-widgets/controls",
          "model_name": "CheckboxModel",
          "model_module_version": "1.5.0",
          "state": {
            "_dom_classes": [],
            "_model_module": "@jupyter-widgets/controls",
            "_model_module_version": "1.5.0",
            "_model_name": "CheckboxModel",
            "_view_count": null,
            "_view_module": "@jupyter-widgets/controls",
            "_view_module_version": "1.5.0",
            "_view_name": "CheckboxView",
            "description": "Add token as git credential?",
            "description_tooltip": null,
            "disabled": false,
            "indent": true,
            "layout": "IPY_MODEL_27e7e10740394f978c77a448137fbf33",
            "style": "IPY_MODEL_3ab4aa911d064250aced596d41de4b31",
            "value": true
          }
        },
        "2160e37141934e409477477150bb32e2": {
          "model_module": "@jupyter-widgets/controls",
          "model_name": "ButtonModel",
          "model_module_version": "1.5.0",
          "state": {
            "_dom_classes": [],
            "_model_module": "@jupyter-widgets/controls",
            "_model_module_version": "1.5.0",
            "_model_name": "ButtonModel",
            "_view_count": null,
            "_view_module": "@jupyter-widgets/controls",
            "_view_module_version": "1.5.0",
            "_view_name": "ButtonView",
            "button_style": "",
            "description": "Login",
            "disabled": false,
            "icon": "",
            "layout": "IPY_MODEL_d5f4957de6584e4190816d46c65138c4",
            "style": "IPY_MODEL_aa99973b146c409e9f64b5b469929de6",
            "tooltip": ""
          }
        },
        "a543bd63e7394a9780ba3133537d2fea": {
          "model_module": "@jupyter-widgets/controls",
          "model_name": "HTMLModel",
          "model_module_version": "1.5.0",
          "state": {
            "_dom_classes": [],
            "_model_module": "@jupyter-widgets/controls",
            "_model_module_version": "1.5.0",
            "_model_name": "HTMLModel",
            "_view_count": null,
            "_view_module": "@jupyter-widgets/controls",
            "_view_module_version": "1.5.0",
            "_view_name": "HTMLView",
            "description": "",
            "description_tooltip": null,
            "layout": "IPY_MODEL_6c5b7ac0dfd142a2a001e6c5f96888d8",
            "placeholder": "​",
            "style": "IPY_MODEL_494df14e7bf649bc84ebf84214f8596a",
            "value": "\n<b>Pro Tip:</b> If you don't already have one, you can create a dedicated\n'notebooks' token with 'write' access, that you can then easily reuse for all\nnotebooks. </center>"
          }
        },
        "e5d64954d95644da895ecbe1ae1b0552": {
          "model_module": "@jupyter-widgets/base",
          "model_name": "LayoutModel",
          "model_module_version": "1.2.0",
          "state": {
            "_model_module": "@jupyter-widgets/base",
            "_model_module_version": "1.2.0",
            "_model_name": "LayoutModel",
            "_view_count": null,
            "_view_module": "@jupyter-widgets/base",
            "_view_module_version": "1.2.0",
            "_view_name": "LayoutView",
            "align_content": null,
            "align_items": "center",
            "align_self": null,
            "border": null,
            "bottom": null,
            "display": "flex",
            "flex": null,
            "flex_flow": "column",
            "grid_area": null,
            "grid_auto_columns": null,
            "grid_auto_flow": null,
            "grid_auto_rows": null,
            "grid_column": null,
            "grid_gap": null,
            "grid_row": null,
            "grid_template_areas": null,
            "grid_template_columns": null,
            "grid_template_rows": null,
            "height": null,
            "justify_content": null,
            "justify_items": null,
            "left": null,
            "margin": null,
            "max_height": null,
            "max_width": null,
            "min_height": null,
            "min_width": null,
            "object_fit": null,
            "object_position": null,
            "order": null,
            "overflow": null,
            "overflow_x": null,
            "overflow_y": null,
            "padding": null,
            "right": null,
            "top": null,
            "visibility": null,
            "width": "50%"
          }
        },
        "af628725415a4095a7f108602c4bcf9a": {
          "model_module": "@jupyter-widgets/base",
          "model_name": "LayoutModel",
          "model_module_version": "1.2.0",
          "state": {
            "_model_module": "@jupyter-widgets/base",
            "_model_module_version": "1.2.0",
            "_model_name": "LayoutModel",
            "_view_count": null,
            "_view_module": "@jupyter-widgets/base",
            "_view_module_version": "1.2.0",
            "_view_name": "LayoutView",
            "align_content": null,
            "align_items": null,
            "align_self": null,
            "border": null,
            "bottom": null,
            "display": null,
            "flex": null,
            "flex_flow": null,
            "grid_area": null,
            "grid_auto_columns": null,
            "grid_auto_flow": null,
            "grid_auto_rows": null,
            "grid_column": null,
            "grid_gap": null,
            "grid_row": null,
            "grid_template_areas": null,
            "grid_template_columns": null,
            "grid_template_rows": null,
            "height": null,
            "justify_content": null,
            "justify_items": null,
            "left": null,
            "margin": null,
            "max_height": null,
            "max_width": null,
            "min_height": null,
            "min_width": null,
            "object_fit": null,
            "object_position": null,
            "order": null,
            "overflow": null,
            "overflow_x": null,
            "overflow_y": null,
            "padding": null,
            "right": null,
            "top": null,
            "visibility": null,
            "width": null
          }
        },
        "6bfc5b09bd464195bd3328769f95b50c": {
          "model_module": "@jupyter-widgets/controls",
          "model_name": "DescriptionStyleModel",
          "model_module_version": "1.5.0",
          "state": {
            "_model_module": "@jupyter-widgets/controls",
            "_model_module_version": "1.5.0",
            "_model_name": "DescriptionStyleModel",
            "_view_count": null,
            "_view_module": "@jupyter-widgets/base",
            "_view_module_version": "1.2.0",
            "_view_name": "StyleView",
            "description_width": ""
          }
        },
        "1fa8a640968a4cae9b645e0e968fa178": {
          "model_module": "@jupyter-widgets/base",
          "model_name": "LayoutModel",
          "model_module_version": "1.2.0",
          "state": {
            "_model_module": "@jupyter-widgets/base",
            "_model_module_version": "1.2.0",
            "_model_name": "LayoutModel",
            "_view_count": null,
            "_view_module": "@jupyter-widgets/base",
            "_view_module_version": "1.2.0",
            "_view_name": "LayoutView",
            "align_content": null,
            "align_items": null,
            "align_self": null,
            "border": null,
            "bottom": null,
            "display": null,
            "flex": null,
            "flex_flow": null,
            "grid_area": null,
            "grid_auto_columns": null,
            "grid_auto_flow": null,
            "grid_auto_rows": null,
            "grid_column": null,
            "grid_gap": null,
            "grid_row": null,
            "grid_template_areas": null,
            "grid_template_columns": null,
            "grid_template_rows": null,
            "height": null,
            "justify_content": null,
            "justify_items": null,
            "left": null,
            "margin": null,
            "max_height": null,
            "max_width": null,
            "min_height": null,
            "min_width": null,
            "object_fit": null,
            "object_position": null,
            "order": null,
            "overflow": null,
            "overflow_x": null,
            "overflow_y": null,
            "padding": null,
            "right": null,
            "top": null,
            "visibility": null,
            "width": null
          }
        },
        "6e03c1e6e60647788245f0d28b164db7": {
          "model_module": "@jupyter-widgets/controls",
          "model_name": "DescriptionStyleModel",
          "model_module_version": "1.5.0",
          "state": {
            "_model_module": "@jupyter-widgets/controls",
            "_model_module_version": "1.5.0",
            "_model_name": "DescriptionStyleModel",
            "_view_count": null,
            "_view_module": "@jupyter-widgets/base",
            "_view_module_version": "1.2.0",
            "_view_name": "StyleView",
            "description_width": ""
          }
        },
        "27e7e10740394f978c77a448137fbf33": {
          "model_module": "@jupyter-widgets/base",
          "model_name": "LayoutModel",
          "model_module_version": "1.2.0",
          "state": {
            "_model_module": "@jupyter-widgets/base",
            "_model_module_version": "1.2.0",
            "_model_name": "LayoutModel",
            "_view_count": null,
            "_view_module": "@jupyter-widgets/base",
            "_view_module_version": "1.2.0",
            "_view_name": "LayoutView",
            "align_content": null,
            "align_items": null,
            "align_self": null,
            "border": null,
            "bottom": null,
            "display": null,
            "flex": null,
            "flex_flow": null,
            "grid_area": null,
            "grid_auto_columns": null,
            "grid_auto_flow": null,
            "grid_auto_rows": null,
            "grid_column": null,
            "grid_gap": null,
            "grid_row": null,
            "grid_template_areas": null,
            "grid_template_columns": null,
            "grid_template_rows": null,
            "height": null,
            "justify_content": null,
            "justify_items": null,
            "left": null,
            "margin": null,
            "max_height": null,
            "max_width": null,
            "min_height": null,
            "min_width": null,
            "object_fit": null,
            "object_position": null,
            "order": null,
            "overflow": null,
            "overflow_x": null,
            "overflow_y": null,
            "padding": null,
            "right": null,
            "top": null,
            "visibility": null,
            "width": null
          }
        },
        "3ab4aa911d064250aced596d41de4b31": {
          "model_module": "@jupyter-widgets/controls",
          "model_name": "DescriptionStyleModel",
          "model_module_version": "1.5.0",
          "state": {
            "_model_module": "@jupyter-widgets/controls",
            "_model_module_version": "1.5.0",
            "_model_name": "DescriptionStyleModel",
            "_view_count": null,
            "_view_module": "@jupyter-widgets/base",
            "_view_module_version": "1.2.0",
            "_view_name": "StyleView",
            "description_width": ""
          }
        },
        "d5f4957de6584e4190816d46c65138c4": {
          "model_module": "@jupyter-widgets/base",
          "model_name": "LayoutModel",
          "model_module_version": "1.2.0",
          "state": {
            "_model_module": "@jupyter-widgets/base",
            "_model_module_version": "1.2.0",
            "_model_name": "LayoutModel",
            "_view_count": null,
            "_view_module": "@jupyter-widgets/base",
            "_view_module_version": "1.2.0",
            "_view_name": "LayoutView",
            "align_content": null,
            "align_items": null,
            "align_self": null,
            "border": null,
            "bottom": null,
            "display": null,
            "flex": null,
            "flex_flow": null,
            "grid_area": null,
            "grid_auto_columns": null,
            "grid_auto_flow": null,
            "grid_auto_rows": null,
            "grid_column": null,
            "grid_gap": null,
            "grid_row": null,
            "grid_template_areas": null,
            "grid_template_columns": null,
            "grid_template_rows": null,
            "height": null,
            "justify_content": null,
            "justify_items": null,
            "left": null,
            "margin": null,
            "max_height": null,
            "max_width": null,
            "min_height": null,
            "min_width": null,
            "object_fit": null,
            "object_position": null,
            "order": null,
            "overflow": null,
            "overflow_x": null,
            "overflow_y": null,
            "padding": null,
            "right": null,
            "top": null,
            "visibility": null,
            "width": null
          }
        },
        "aa99973b146c409e9f64b5b469929de6": {
          "model_module": "@jupyter-widgets/controls",
          "model_name": "ButtonStyleModel",
          "model_module_version": "1.5.0",
          "state": {
            "_model_module": "@jupyter-widgets/controls",
            "_model_module_version": "1.5.0",
            "_model_name": "ButtonStyleModel",
            "_view_count": null,
            "_view_module": "@jupyter-widgets/base",
            "_view_module_version": "1.2.0",
            "_view_name": "StyleView",
            "button_color": null,
            "font_weight": ""
          }
        },
        "6c5b7ac0dfd142a2a001e6c5f96888d8": {
          "model_module": "@jupyter-widgets/base",
          "model_name": "LayoutModel",
          "model_module_version": "1.2.0",
          "state": {
            "_model_module": "@jupyter-widgets/base",
            "_model_module_version": "1.2.0",
            "_model_name": "LayoutModel",
            "_view_count": null,
            "_view_module": "@jupyter-widgets/base",
            "_view_module_version": "1.2.0",
            "_view_name": "LayoutView",
            "align_content": null,
            "align_items": null,
            "align_self": null,
            "border": null,
            "bottom": null,
            "display": null,
            "flex": null,
            "flex_flow": null,
            "grid_area": null,
            "grid_auto_columns": null,
            "grid_auto_flow": null,
            "grid_auto_rows": null,
            "grid_column": null,
            "grid_gap": null,
            "grid_row": null,
            "grid_template_areas": null,
            "grid_template_columns": null,
            "grid_template_rows": null,
            "height": null,
            "justify_content": null,
            "justify_items": null,
            "left": null,
            "margin": null,
            "max_height": null,
            "max_width": null,
            "min_height": null,
            "min_width": null,
            "object_fit": null,
            "object_position": null,
            "order": null,
            "overflow": null,
            "overflow_x": null,
            "overflow_y": null,
            "padding": null,
            "right": null,
            "top": null,
            "visibility": null,
            "width": null
          }
        },
        "494df14e7bf649bc84ebf84214f8596a": {
          "model_module": "@jupyter-widgets/controls",
          "model_name": "DescriptionStyleModel",
          "model_module_version": "1.5.0",
          "state": {
            "_model_module": "@jupyter-widgets/controls",
            "_model_module_version": "1.5.0",
            "_model_name": "DescriptionStyleModel",
            "_view_count": null,
            "_view_module": "@jupyter-widgets/base",
            "_view_module_version": "1.2.0",
            "_view_name": "StyleView",
            "description_width": ""
          }
        },
        "cde549ec1c3847519cc38c922cd1ad1a": {
          "model_module": "@jupyter-widgets/controls",
          "model_name": "LabelModel",
          "model_module_version": "1.5.0",
          "state": {
            "_dom_classes": [],
            "_model_module": "@jupyter-widgets/controls",
            "_model_module_version": "1.5.0",
            "_model_name": "LabelModel",
            "_view_count": null,
            "_view_module": "@jupyter-widgets/controls",
            "_view_module_version": "1.5.0",
            "_view_name": "LabelView",
            "description": "",
            "description_tooltip": null,
            "layout": "IPY_MODEL_2edf3ce973fe4c32b06b8a3757ef09f9",
            "placeholder": "​",
            "style": "IPY_MODEL_122e0525691e4276bd25901ef8120ab1",
            "value": "Connecting..."
          }
        },
        "2edf3ce973fe4c32b06b8a3757ef09f9": {
          "model_module": "@jupyter-widgets/base",
          "model_name": "LayoutModel",
          "model_module_version": "1.2.0",
          "state": {
            "_model_module": "@jupyter-widgets/base",
            "_model_module_version": "1.2.0",
            "_model_name": "LayoutModel",
            "_view_count": null,
            "_view_module": "@jupyter-widgets/base",
            "_view_module_version": "1.2.0",
            "_view_name": "LayoutView",
            "align_content": null,
            "align_items": null,
            "align_self": null,
            "border": null,
            "bottom": null,
            "display": null,
            "flex": null,
            "flex_flow": null,
            "grid_area": null,
            "grid_auto_columns": null,
            "grid_auto_flow": null,
            "grid_auto_rows": null,
            "grid_column": null,
            "grid_gap": null,
            "grid_row": null,
            "grid_template_areas": null,
            "grid_template_columns": null,
            "grid_template_rows": null,
            "height": null,
            "justify_content": null,
            "justify_items": null,
            "left": null,
            "margin": null,
            "max_height": null,
            "max_width": null,
            "min_height": null,
            "min_width": null,
            "object_fit": null,
            "object_position": null,
            "order": null,
            "overflow": null,
            "overflow_x": null,
            "overflow_y": null,
            "padding": null,
            "right": null,
            "top": null,
            "visibility": null,
            "width": null
          }
        },
        "122e0525691e4276bd25901ef8120ab1": {
          "model_module": "@jupyter-widgets/controls",
          "model_name": "DescriptionStyleModel",
          "model_module_version": "1.5.0",
          "state": {
            "_model_module": "@jupyter-widgets/controls",
            "_model_module_version": "1.5.0",
            "_model_name": "DescriptionStyleModel",
            "_view_count": null,
            "_view_module": "@jupyter-widgets/base",
            "_view_module_version": "1.2.0",
            "_view_name": "StyleView",
            "description_width": ""
          }
        },
        "d81d36d058b24489aedafe5602429d7a": {
          "model_module": "@jupyter-widgets/controls",
          "model_name": "HBoxModel",
          "model_module_version": "1.5.0",
          "state": {
            "_dom_classes": [],
            "_model_module": "@jupyter-widgets/controls",
            "_model_module_version": "1.5.0",
            "_model_name": "HBoxModel",
            "_view_count": null,
            "_view_module": "@jupyter-widgets/controls",
            "_view_module_version": "1.5.0",
            "_view_name": "HBoxView",
            "box_style": "",
            "children": [
              "IPY_MODEL_1c82c7e5cb154aae917122252fb075ec",
              "IPY_MODEL_538ee6e1c4c248859ca9edc9f26cdb7c",
              "IPY_MODEL_afe233abc548442596036ec05839cbc3"
            ],
            "layout": "IPY_MODEL_aa700889944a446193ad728696ef76dc"
          }
        },
        "1c82c7e5cb154aae917122252fb075ec": {
          "model_module": "@jupyter-widgets/controls",
          "model_name": "HTMLModel",
          "model_module_version": "1.5.0",
          "state": {
            "_dom_classes": [],
            "_model_module": "@jupyter-widgets/controls",
            "_model_module_version": "1.5.0",
            "_model_name": "HTMLModel",
            "_view_count": null,
            "_view_module": "@jupyter-widgets/controls",
            "_view_module_version": "1.5.0",
            "_view_name": "HTMLView",
            "description": "",
            "description_tooltip": null,
            "layout": "IPY_MODEL_2f663f9e53fa4056986bf247c04541dd",
            "placeholder": "​",
            "style": "IPY_MODEL_bc9fd6a3cbb44cd1927ec2ce69878e19",
            "value": "modules.json: 100%"
          }
        },
        "538ee6e1c4c248859ca9edc9f26cdb7c": {
          "model_module": "@jupyter-widgets/controls",
          "model_name": "FloatProgressModel",
          "model_module_version": "1.5.0",
          "state": {
            "_dom_classes": [],
            "_model_module": "@jupyter-widgets/controls",
            "_model_module_version": "1.5.0",
            "_model_name": "FloatProgressModel",
            "_view_count": null,
            "_view_module": "@jupyter-widgets/controls",
            "_view_module_version": "1.5.0",
            "_view_name": "ProgressView",
            "bar_style": "success",
            "description": "",
            "description_tooltip": null,
            "layout": "IPY_MODEL_12e559893dbd43478a07d6f9ff1d0a25",
            "max": 349,
            "min": 0,
            "orientation": "horizontal",
            "style": "IPY_MODEL_85631415e5a444bc83e24070e539702b",
            "value": 349
          }
        },
        "afe233abc548442596036ec05839cbc3": {
          "model_module": "@jupyter-widgets/controls",
          "model_name": "HTMLModel",
          "model_module_version": "1.5.0",
          "state": {
            "_dom_classes": [],
            "_model_module": "@jupyter-widgets/controls",
            "_model_module_version": "1.5.0",
            "_model_name": "HTMLModel",
            "_view_count": null,
            "_view_module": "@jupyter-widgets/controls",
            "_view_module_version": "1.5.0",
            "_view_name": "HTMLView",
            "description": "",
            "description_tooltip": null,
            "layout": "IPY_MODEL_75d0c72252c247438e2738c55692ff17",
            "placeholder": "​",
            "style": "IPY_MODEL_f0fc0e9068f04b39aa917339ca61adf0",
            "value": " 349/349 [00:00&lt;00:00, 26.3kB/s]"
          }
        },
        "aa700889944a446193ad728696ef76dc": {
          "model_module": "@jupyter-widgets/base",
          "model_name": "LayoutModel",
          "model_module_version": "1.2.0",
          "state": {
            "_model_module": "@jupyter-widgets/base",
            "_model_module_version": "1.2.0",
            "_model_name": "LayoutModel",
            "_view_count": null,
            "_view_module": "@jupyter-widgets/base",
            "_view_module_version": "1.2.0",
            "_view_name": "LayoutView",
            "align_content": null,
            "align_items": null,
            "align_self": null,
            "border": null,
            "bottom": null,
            "display": null,
            "flex": null,
            "flex_flow": null,
            "grid_area": null,
            "grid_auto_columns": null,
            "grid_auto_flow": null,
            "grid_auto_rows": null,
            "grid_column": null,
            "grid_gap": null,
            "grid_row": null,
            "grid_template_areas": null,
            "grid_template_columns": null,
            "grid_template_rows": null,
            "height": null,
            "justify_content": null,
            "justify_items": null,
            "left": null,
            "margin": null,
            "max_height": null,
            "max_width": null,
            "min_height": null,
            "min_width": null,
            "object_fit": null,
            "object_position": null,
            "order": null,
            "overflow": null,
            "overflow_x": null,
            "overflow_y": null,
            "padding": null,
            "right": null,
            "top": null,
            "visibility": null,
            "width": null
          }
        },
        "2f663f9e53fa4056986bf247c04541dd": {
          "model_module": "@jupyter-widgets/base",
          "model_name": "LayoutModel",
          "model_module_version": "1.2.0",
          "state": {
            "_model_module": "@jupyter-widgets/base",
            "_model_module_version": "1.2.0",
            "_model_name": "LayoutModel",
            "_view_count": null,
            "_view_module": "@jupyter-widgets/base",
            "_view_module_version": "1.2.0",
            "_view_name": "LayoutView",
            "align_content": null,
            "align_items": null,
            "align_self": null,
            "border": null,
            "bottom": null,
            "display": null,
            "flex": null,
            "flex_flow": null,
            "grid_area": null,
            "grid_auto_columns": null,
            "grid_auto_flow": null,
            "grid_auto_rows": null,
            "grid_column": null,
            "grid_gap": null,
            "grid_row": null,
            "grid_template_areas": null,
            "grid_template_columns": null,
            "grid_template_rows": null,
            "height": null,
            "justify_content": null,
            "justify_items": null,
            "left": null,
            "margin": null,
            "max_height": null,
            "max_width": null,
            "min_height": null,
            "min_width": null,
            "object_fit": null,
            "object_position": null,
            "order": null,
            "overflow": null,
            "overflow_x": null,
            "overflow_y": null,
            "padding": null,
            "right": null,
            "top": null,
            "visibility": null,
            "width": null
          }
        },
        "bc9fd6a3cbb44cd1927ec2ce69878e19": {
          "model_module": "@jupyter-widgets/controls",
          "model_name": "DescriptionStyleModel",
          "model_module_version": "1.5.0",
          "state": {
            "_model_module": "@jupyter-widgets/controls",
            "_model_module_version": "1.5.0",
            "_model_name": "DescriptionStyleModel",
            "_view_count": null,
            "_view_module": "@jupyter-widgets/base",
            "_view_module_version": "1.2.0",
            "_view_name": "StyleView",
            "description_width": ""
          }
        },
        "12e559893dbd43478a07d6f9ff1d0a25": {
          "model_module": "@jupyter-widgets/base",
          "model_name": "LayoutModel",
          "model_module_version": "1.2.0",
          "state": {
            "_model_module": "@jupyter-widgets/base",
            "_model_module_version": "1.2.0",
            "_model_name": "LayoutModel",
            "_view_count": null,
            "_view_module": "@jupyter-widgets/base",
            "_view_module_version": "1.2.0",
            "_view_name": "LayoutView",
            "align_content": null,
            "align_items": null,
            "align_self": null,
            "border": null,
            "bottom": null,
            "display": null,
            "flex": null,
            "flex_flow": null,
            "grid_area": null,
            "grid_auto_columns": null,
            "grid_auto_flow": null,
            "grid_auto_rows": null,
            "grid_column": null,
            "grid_gap": null,
            "grid_row": null,
            "grid_template_areas": null,
            "grid_template_columns": null,
            "grid_template_rows": null,
            "height": null,
            "justify_content": null,
            "justify_items": null,
            "left": null,
            "margin": null,
            "max_height": null,
            "max_width": null,
            "min_height": null,
            "min_width": null,
            "object_fit": null,
            "object_position": null,
            "order": null,
            "overflow": null,
            "overflow_x": null,
            "overflow_y": null,
            "padding": null,
            "right": null,
            "top": null,
            "visibility": null,
            "width": null
          }
        },
        "85631415e5a444bc83e24070e539702b": {
          "model_module": "@jupyter-widgets/controls",
          "model_name": "ProgressStyleModel",
          "model_module_version": "1.5.0",
          "state": {
            "_model_module": "@jupyter-widgets/controls",
            "_model_module_version": "1.5.0",
            "_model_name": "ProgressStyleModel",
            "_view_count": null,
            "_view_module": "@jupyter-widgets/base",
            "_view_module_version": "1.2.0",
            "_view_name": "StyleView",
            "bar_color": null,
            "description_width": ""
          }
        },
        "75d0c72252c247438e2738c55692ff17": {
          "model_module": "@jupyter-widgets/base",
          "model_name": "LayoutModel",
          "model_module_version": "1.2.0",
          "state": {
            "_model_module": "@jupyter-widgets/base",
            "_model_module_version": "1.2.0",
            "_model_name": "LayoutModel",
            "_view_count": null,
            "_view_module": "@jupyter-widgets/base",
            "_view_module_version": "1.2.0",
            "_view_name": "LayoutView",
            "align_content": null,
            "align_items": null,
            "align_self": null,
            "border": null,
            "bottom": null,
            "display": null,
            "flex": null,
            "flex_flow": null,
            "grid_area": null,
            "grid_auto_columns": null,
            "grid_auto_flow": null,
            "grid_auto_rows": null,
            "grid_column": null,
            "grid_gap": null,
            "grid_row": null,
            "grid_template_areas": null,
            "grid_template_columns": null,
            "grid_template_rows": null,
            "height": null,
            "justify_content": null,
            "justify_items": null,
            "left": null,
            "margin": null,
            "max_height": null,
            "max_width": null,
            "min_height": null,
            "min_width": null,
            "object_fit": null,
            "object_position": null,
            "order": null,
            "overflow": null,
            "overflow_x": null,
            "overflow_y": null,
            "padding": null,
            "right": null,
            "top": null,
            "visibility": null,
            "width": null
          }
        },
        "f0fc0e9068f04b39aa917339ca61adf0": {
          "model_module": "@jupyter-widgets/controls",
          "model_name": "DescriptionStyleModel",
          "model_module_version": "1.5.0",
          "state": {
            "_model_module": "@jupyter-widgets/controls",
            "_model_module_version": "1.5.0",
            "_model_name": "DescriptionStyleModel",
            "_view_count": null,
            "_view_module": "@jupyter-widgets/base",
            "_view_module_version": "1.2.0",
            "_view_name": "StyleView",
            "description_width": ""
          }
        },
        "889b944c0a9f4da1b82836b28813afb4": {
          "model_module": "@jupyter-widgets/controls",
          "model_name": "HBoxModel",
          "model_module_version": "1.5.0",
          "state": {
            "_dom_classes": [],
            "_model_module": "@jupyter-widgets/controls",
            "_model_module_version": "1.5.0",
            "_model_name": "HBoxModel",
            "_view_count": null,
            "_view_module": "@jupyter-widgets/controls",
            "_view_module_version": "1.5.0",
            "_view_name": "HBoxView",
            "box_style": "",
            "children": [
              "IPY_MODEL_8dbf753bee794a82b6545fac85ee6d57",
              "IPY_MODEL_453e133685e947a496192e13fe9f65eb",
              "IPY_MODEL_b2be9fa70c7c4da2b79bfac8857fc787"
            ],
            "layout": "IPY_MODEL_e77edba7990d4b8180b98e8a10db189f"
          }
        },
        "8dbf753bee794a82b6545fac85ee6d57": {
          "model_module": "@jupyter-widgets/controls",
          "model_name": "HTMLModel",
          "model_module_version": "1.5.0",
          "state": {
            "_dom_classes": [],
            "_model_module": "@jupyter-widgets/controls",
            "_model_module_version": "1.5.0",
            "_model_name": "HTMLModel",
            "_view_count": null,
            "_view_module": "@jupyter-widgets/controls",
            "_view_module_version": "1.5.0",
            "_view_name": "HTMLView",
            "description": "",
            "description_tooltip": null,
            "layout": "IPY_MODEL_63e0ccb4d01346829d2d3c79f56dd887",
            "placeholder": "​",
            "style": "IPY_MODEL_b761ec2e5de44ae4918e483f6b2cedbd",
            "value": "config_sentence_transformers.json: 100%"
          }
        },
        "453e133685e947a496192e13fe9f65eb": {
          "model_module": "@jupyter-widgets/controls",
          "model_name": "FloatProgressModel",
          "model_module_version": "1.5.0",
          "state": {
            "_dom_classes": [],
            "_model_module": "@jupyter-widgets/controls",
            "_model_module_version": "1.5.0",
            "_model_name": "FloatProgressModel",
            "_view_count": null,
            "_view_module": "@jupyter-widgets/controls",
            "_view_module_version": "1.5.0",
            "_view_name": "ProgressView",
            "bar_style": "success",
            "description": "",
            "description_tooltip": null,
            "layout": "IPY_MODEL_43857ba1a9424b32930d060d7b87c50c",
            "max": 116,
            "min": 0,
            "orientation": "horizontal",
            "style": "IPY_MODEL_b70982d7354d435a98de5c198f6133b7",
            "value": 116
          }
        },
        "b2be9fa70c7c4da2b79bfac8857fc787": {
          "model_module": "@jupyter-widgets/controls",
          "model_name": "HTMLModel",
          "model_module_version": "1.5.0",
          "state": {
            "_dom_classes": [],
            "_model_module": "@jupyter-widgets/controls",
            "_model_module_version": "1.5.0",
            "_model_name": "HTMLModel",
            "_view_count": null,
            "_view_module": "@jupyter-widgets/controls",
            "_view_module_version": "1.5.0",
            "_view_name": "HTMLView",
            "description": "",
            "description_tooltip": null,
            "layout": "IPY_MODEL_c33849bfbf1b4e98b540c03bff137e72",
            "placeholder": "​",
            "style": "IPY_MODEL_72f6ae0372064161bc6560dcda4fedc1",
            "value": " 116/116 [00:00&lt;00:00, 6.45kB/s]"
          }
        },
        "e77edba7990d4b8180b98e8a10db189f": {
          "model_module": "@jupyter-widgets/base",
          "model_name": "LayoutModel",
          "model_module_version": "1.2.0",
          "state": {
            "_model_module": "@jupyter-widgets/base",
            "_model_module_version": "1.2.0",
            "_model_name": "LayoutModel",
            "_view_count": null,
            "_view_module": "@jupyter-widgets/base",
            "_view_module_version": "1.2.0",
            "_view_name": "LayoutView",
            "align_content": null,
            "align_items": null,
            "align_self": null,
            "border": null,
            "bottom": null,
            "display": null,
            "flex": null,
            "flex_flow": null,
            "grid_area": null,
            "grid_auto_columns": null,
            "grid_auto_flow": null,
            "grid_auto_rows": null,
            "grid_column": null,
            "grid_gap": null,
            "grid_row": null,
            "grid_template_areas": null,
            "grid_template_columns": null,
            "grid_template_rows": null,
            "height": null,
            "justify_content": null,
            "justify_items": null,
            "left": null,
            "margin": null,
            "max_height": null,
            "max_width": null,
            "min_height": null,
            "min_width": null,
            "object_fit": null,
            "object_position": null,
            "order": null,
            "overflow": null,
            "overflow_x": null,
            "overflow_y": null,
            "padding": null,
            "right": null,
            "top": null,
            "visibility": null,
            "width": null
          }
        },
        "63e0ccb4d01346829d2d3c79f56dd887": {
          "model_module": "@jupyter-widgets/base",
          "model_name": "LayoutModel",
          "model_module_version": "1.2.0",
          "state": {
            "_model_module": "@jupyter-widgets/base",
            "_model_module_version": "1.2.0",
            "_model_name": "LayoutModel",
            "_view_count": null,
            "_view_module": "@jupyter-widgets/base",
            "_view_module_version": "1.2.0",
            "_view_name": "LayoutView",
            "align_content": null,
            "align_items": null,
            "align_self": null,
            "border": null,
            "bottom": null,
            "display": null,
            "flex": null,
            "flex_flow": null,
            "grid_area": null,
            "grid_auto_columns": null,
            "grid_auto_flow": null,
            "grid_auto_rows": null,
            "grid_column": null,
            "grid_gap": null,
            "grid_row": null,
            "grid_template_areas": null,
            "grid_template_columns": null,
            "grid_template_rows": null,
            "height": null,
            "justify_content": null,
            "justify_items": null,
            "left": null,
            "margin": null,
            "max_height": null,
            "max_width": null,
            "min_height": null,
            "min_width": null,
            "object_fit": null,
            "object_position": null,
            "order": null,
            "overflow": null,
            "overflow_x": null,
            "overflow_y": null,
            "padding": null,
            "right": null,
            "top": null,
            "visibility": null,
            "width": null
          }
        },
        "b761ec2e5de44ae4918e483f6b2cedbd": {
          "model_module": "@jupyter-widgets/controls",
          "model_name": "DescriptionStyleModel",
          "model_module_version": "1.5.0",
          "state": {
            "_model_module": "@jupyter-widgets/controls",
            "_model_module_version": "1.5.0",
            "_model_name": "DescriptionStyleModel",
            "_view_count": null,
            "_view_module": "@jupyter-widgets/base",
            "_view_module_version": "1.2.0",
            "_view_name": "StyleView",
            "description_width": ""
          }
        },
        "43857ba1a9424b32930d060d7b87c50c": {
          "model_module": "@jupyter-widgets/base",
          "model_name": "LayoutModel",
          "model_module_version": "1.2.0",
          "state": {
            "_model_module": "@jupyter-widgets/base",
            "_model_module_version": "1.2.0",
            "_model_name": "LayoutModel",
            "_view_count": null,
            "_view_module": "@jupyter-widgets/base",
            "_view_module_version": "1.2.0",
            "_view_name": "LayoutView",
            "align_content": null,
            "align_items": null,
            "align_self": null,
            "border": null,
            "bottom": null,
            "display": null,
            "flex": null,
            "flex_flow": null,
            "grid_area": null,
            "grid_auto_columns": null,
            "grid_auto_flow": null,
            "grid_auto_rows": null,
            "grid_column": null,
            "grid_gap": null,
            "grid_row": null,
            "grid_template_areas": null,
            "grid_template_columns": null,
            "grid_template_rows": null,
            "height": null,
            "justify_content": null,
            "justify_items": null,
            "left": null,
            "margin": null,
            "max_height": null,
            "max_width": null,
            "min_height": null,
            "min_width": null,
            "object_fit": null,
            "object_position": null,
            "order": null,
            "overflow": null,
            "overflow_x": null,
            "overflow_y": null,
            "padding": null,
            "right": null,
            "top": null,
            "visibility": null,
            "width": null
          }
        },
        "b70982d7354d435a98de5c198f6133b7": {
          "model_module": "@jupyter-widgets/controls",
          "model_name": "ProgressStyleModel",
          "model_module_version": "1.5.0",
          "state": {
            "_model_module": "@jupyter-widgets/controls",
            "_model_module_version": "1.5.0",
            "_model_name": "ProgressStyleModel",
            "_view_count": null,
            "_view_module": "@jupyter-widgets/base",
            "_view_module_version": "1.2.0",
            "_view_name": "StyleView",
            "bar_color": null,
            "description_width": ""
          }
        },
        "c33849bfbf1b4e98b540c03bff137e72": {
          "model_module": "@jupyter-widgets/base",
          "model_name": "LayoutModel",
          "model_module_version": "1.2.0",
          "state": {
            "_model_module": "@jupyter-widgets/base",
            "_model_module_version": "1.2.0",
            "_model_name": "LayoutModel",
            "_view_count": null,
            "_view_module": "@jupyter-widgets/base",
            "_view_module_version": "1.2.0",
            "_view_name": "LayoutView",
            "align_content": null,
            "align_items": null,
            "align_self": null,
            "border": null,
            "bottom": null,
            "display": null,
            "flex": null,
            "flex_flow": null,
            "grid_area": null,
            "grid_auto_columns": null,
            "grid_auto_flow": null,
            "grid_auto_rows": null,
            "grid_column": null,
            "grid_gap": null,
            "grid_row": null,
            "grid_template_areas": null,
            "grid_template_columns": null,
            "grid_template_rows": null,
            "height": null,
            "justify_content": null,
            "justify_items": null,
            "left": null,
            "margin": null,
            "max_height": null,
            "max_width": null,
            "min_height": null,
            "min_width": null,
            "object_fit": null,
            "object_position": null,
            "order": null,
            "overflow": null,
            "overflow_x": null,
            "overflow_y": null,
            "padding": null,
            "right": null,
            "top": null,
            "visibility": null,
            "width": null
          }
        },
        "72f6ae0372064161bc6560dcda4fedc1": {
          "model_module": "@jupyter-widgets/controls",
          "model_name": "DescriptionStyleModel",
          "model_module_version": "1.5.0",
          "state": {
            "_model_module": "@jupyter-widgets/controls",
            "_model_module_version": "1.5.0",
            "_model_name": "DescriptionStyleModel",
            "_view_count": null,
            "_view_module": "@jupyter-widgets/base",
            "_view_module_version": "1.2.0",
            "_view_name": "StyleView",
            "description_width": ""
          }
        },
        "9798de9eb7fa44319055744c2872d8e2": {
          "model_module": "@jupyter-widgets/controls",
          "model_name": "HBoxModel",
          "model_module_version": "1.5.0",
          "state": {
            "_dom_classes": [],
            "_model_module": "@jupyter-widgets/controls",
            "_model_module_version": "1.5.0",
            "_model_name": "HBoxModel",
            "_view_count": null,
            "_view_module": "@jupyter-widgets/controls",
            "_view_module_version": "1.5.0",
            "_view_name": "HBoxView",
            "box_style": "",
            "children": [
              "IPY_MODEL_5e1e0bbfa9c24a5491e550654579f7c0",
              "IPY_MODEL_6ac7e02371e0437c9f42ffebdc733285",
              "IPY_MODEL_82e63d0563d042f1b0eb4a412a3cbb5d"
            ],
            "layout": "IPY_MODEL_c36abac543764c1b9ea8d3f6f7f621cd"
          }
        },
        "5e1e0bbfa9c24a5491e550654579f7c0": {
          "model_module": "@jupyter-widgets/controls",
          "model_name": "HTMLModel",
          "model_module_version": "1.5.0",
          "state": {
            "_dom_classes": [],
            "_model_module": "@jupyter-widgets/controls",
            "_model_module_version": "1.5.0",
            "_model_name": "HTMLModel",
            "_view_count": null,
            "_view_module": "@jupyter-widgets/controls",
            "_view_module_version": "1.5.0",
            "_view_name": "HTMLView",
            "description": "",
            "description_tooltip": null,
            "layout": "IPY_MODEL_265b9f46301c4a49ad26b8b04346df93",
            "placeholder": "​",
            "style": "IPY_MODEL_5de6b285f64b44bc8bb4877ddebb5321",
            "value": "README.md: 100%"
          }
        },
        "6ac7e02371e0437c9f42ffebdc733285": {
          "model_module": "@jupyter-widgets/controls",
          "model_name": "FloatProgressModel",
          "model_module_version": "1.5.0",
          "state": {
            "_dom_classes": [],
            "_model_module": "@jupyter-widgets/controls",
            "_model_module_version": "1.5.0",
            "_model_name": "FloatProgressModel",
            "_view_count": null,
            "_view_module": "@jupyter-widgets/controls",
            "_view_module_version": "1.5.0",
            "_view_name": "ProgressView",
            "bar_style": "success",
            "description": "",
            "description_tooltip": null,
            "layout": "IPY_MODEL_baee9d6ecf5a4930811a2aea807689b5",
            "max": 10454,
            "min": 0,
            "orientation": "horizontal",
            "style": "IPY_MODEL_c123ee2dd883463498d39e89d8e69af2",
            "value": 10454
          }
        },
        "82e63d0563d042f1b0eb4a412a3cbb5d": {
          "model_module": "@jupyter-widgets/controls",
          "model_name": "HTMLModel",
          "model_module_version": "1.5.0",
          "state": {
            "_dom_classes": [],
            "_model_module": "@jupyter-widgets/controls",
            "_model_module_version": "1.5.0",
            "_model_name": "HTMLModel",
            "_view_count": null,
            "_view_module": "@jupyter-widgets/controls",
            "_view_module_version": "1.5.0",
            "_view_name": "HTMLView",
            "description": "",
            "description_tooltip": null,
            "layout": "IPY_MODEL_cdad338dfabc478e83afc7c433aa3a3f",
            "placeholder": "​",
            "style": "IPY_MODEL_3aaf718de5744c4e904ef0598634209d",
            "value": " 10.5k/10.5k [00:00&lt;00:00, 779kB/s]"
          }
        },
        "c36abac543764c1b9ea8d3f6f7f621cd": {
          "model_module": "@jupyter-widgets/base",
          "model_name": "LayoutModel",
          "model_module_version": "1.2.0",
          "state": {
            "_model_module": "@jupyter-widgets/base",
            "_model_module_version": "1.2.0",
            "_model_name": "LayoutModel",
            "_view_count": null,
            "_view_module": "@jupyter-widgets/base",
            "_view_module_version": "1.2.0",
            "_view_name": "LayoutView",
            "align_content": null,
            "align_items": null,
            "align_self": null,
            "border": null,
            "bottom": null,
            "display": null,
            "flex": null,
            "flex_flow": null,
            "grid_area": null,
            "grid_auto_columns": null,
            "grid_auto_flow": null,
            "grid_auto_rows": null,
            "grid_column": null,
            "grid_gap": null,
            "grid_row": null,
            "grid_template_areas": null,
            "grid_template_columns": null,
            "grid_template_rows": null,
            "height": null,
            "justify_content": null,
            "justify_items": null,
            "left": null,
            "margin": null,
            "max_height": null,
            "max_width": null,
            "min_height": null,
            "min_width": null,
            "object_fit": null,
            "object_position": null,
            "order": null,
            "overflow": null,
            "overflow_x": null,
            "overflow_y": null,
            "padding": null,
            "right": null,
            "top": null,
            "visibility": null,
            "width": null
          }
        },
        "265b9f46301c4a49ad26b8b04346df93": {
          "model_module": "@jupyter-widgets/base",
          "model_name": "LayoutModel",
          "model_module_version": "1.2.0",
          "state": {
            "_model_module": "@jupyter-widgets/base",
            "_model_module_version": "1.2.0",
            "_model_name": "LayoutModel",
            "_view_count": null,
            "_view_module": "@jupyter-widgets/base",
            "_view_module_version": "1.2.0",
            "_view_name": "LayoutView",
            "align_content": null,
            "align_items": null,
            "align_self": null,
            "border": null,
            "bottom": null,
            "display": null,
            "flex": null,
            "flex_flow": null,
            "grid_area": null,
            "grid_auto_columns": null,
            "grid_auto_flow": null,
            "grid_auto_rows": null,
            "grid_column": null,
            "grid_gap": null,
            "grid_row": null,
            "grid_template_areas": null,
            "grid_template_columns": null,
            "grid_template_rows": null,
            "height": null,
            "justify_content": null,
            "justify_items": null,
            "left": null,
            "margin": null,
            "max_height": null,
            "max_width": null,
            "min_height": null,
            "min_width": null,
            "object_fit": null,
            "object_position": null,
            "order": null,
            "overflow": null,
            "overflow_x": null,
            "overflow_y": null,
            "padding": null,
            "right": null,
            "top": null,
            "visibility": null,
            "width": null
          }
        },
        "5de6b285f64b44bc8bb4877ddebb5321": {
          "model_module": "@jupyter-widgets/controls",
          "model_name": "DescriptionStyleModel",
          "model_module_version": "1.5.0",
          "state": {
            "_model_module": "@jupyter-widgets/controls",
            "_model_module_version": "1.5.0",
            "_model_name": "DescriptionStyleModel",
            "_view_count": null,
            "_view_module": "@jupyter-widgets/base",
            "_view_module_version": "1.2.0",
            "_view_name": "StyleView",
            "description_width": ""
          }
        },
        "baee9d6ecf5a4930811a2aea807689b5": {
          "model_module": "@jupyter-widgets/base",
          "model_name": "LayoutModel",
          "model_module_version": "1.2.0",
          "state": {
            "_model_module": "@jupyter-widgets/base",
            "_model_module_version": "1.2.0",
            "_model_name": "LayoutModel",
            "_view_count": null,
            "_view_module": "@jupyter-widgets/base",
            "_view_module_version": "1.2.0",
            "_view_name": "LayoutView",
            "align_content": null,
            "align_items": null,
            "align_self": null,
            "border": null,
            "bottom": null,
            "display": null,
            "flex": null,
            "flex_flow": null,
            "grid_area": null,
            "grid_auto_columns": null,
            "grid_auto_flow": null,
            "grid_auto_rows": null,
            "grid_column": null,
            "grid_gap": null,
            "grid_row": null,
            "grid_template_areas": null,
            "grid_template_columns": null,
            "grid_template_rows": null,
            "height": null,
            "justify_content": null,
            "justify_items": null,
            "left": null,
            "margin": null,
            "max_height": null,
            "max_width": null,
            "min_height": null,
            "min_width": null,
            "object_fit": null,
            "object_position": null,
            "order": null,
            "overflow": null,
            "overflow_x": null,
            "overflow_y": null,
            "padding": null,
            "right": null,
            "top": null,
            "visibility": null,
            "width": null
          }
        },
        "c123ee2dd883463498d39e89d8e69af2": {
          "model_module": "@jupyter-widgets/controls",
          "model_name": "ProgressStyleModel",
          "model_module_version": "1.5.0",
          "state": {
            "_model_module": "@jupyter-widgets/controls",
            "_model_module_version": "1.5.0",
            "_model_name": "ProgressStyleModel",
            "_view_count": null,
            "_view_module": "@jupyter-widgets/base",
            "_view_module_version": "1.2.0",
            "_view_name": "StyleView",
            "bar_color": null,
            "description_width": ""
          }
        },
        "cdad338dfabc478e83afc7c433aa3a3f": {
          "model_module": "@jupyter-widgets/base",
          "model_name": "LayoutModel",
          "model_module_version": "1.2.0",
          "state": {
            "_model_module": "@jupyter-widgets/base",
            "_model_module_version": "1.2.0",
            "_model_name": "LayoutModel",
            "_view_count": null,
            "_view_module": "@jupyter-widgets/base",
            "_view_module_version": "1.2.0",
            "_view_name": "LayoutView",
            "align_content": null,
            "align_items": null,
            "align_self": null,
            "border": null,
            "bottom": null,
            "display": null,
            "flex": null,
            "flex_flow": null,
            "grid_area": null,
            "grid_auto_columns": null,
            "grid_auto_flow": null,
            "grid_auto_rows": null,
            "grid_column": null,
            "grid_gap": null,
            "grid_row": null,
            "grid_template_areas": null,
            "grid_template_columns": null,
            "grid_template_rows": null,
            "height": null,
            "justify_content": null,
            "justify_items": null,
            "left": null,
            "margin": null,
            "max_height": null,
            "max_width": null,
            "min_height": null,
            "min_width": null,
            "object_fit": null,
            "object_position": null,
            "order": null,
            "overflow": null,
            "overflow_x": null,
            "overflow_y": null,
            "padding": null,
            "right": null,
            "top": null,
            "visibility": null,
            "width": null
          }
        },
        "3aaf718de5744c4e904ef0598634209d": {
          "model_module": "@jupyter-widgets/controls",
          "model_name": "DescriptionStyleModel",
          "model_module_version": "1.5.0",
          "state": {
            "_model_module": "@jupyter-widgets/controls",
            "_model_module_version": "1.5.0",
            "_model_name": "DescriptionStyleModel",
            "_view_count": null,
            "_view_module": "@jupyter-widgets/base",
            "_view_module_version": "1.2.0",
            "_view_name": "StyleView",
            "description_width": ""
          }
        },
        "ee6769e34e0b4946ad3cf4008a4e03d9": {
          "model_module": "@jupyter-widgets/controls",
          "model_name": "HBoxModel",
          "model_module_version": "1.5.0",
          "state": {
            "_dom_classes": [],
            "_model_module": "@jupyter-widgets/controls",
            "_model_module_version": "1.5.0",
            "_model_name": "HBoxModel",
            "_view_count": null,
            "_view_module": "@jupyter-widgets/controls",
            "_view_module_version": "1.5.0",
            "_view_name": "HBoxView",
            "box_style": "",
            "children": [
              "IPY_MODEL_275936b3e91d4bb197883591a98fb7c0",
              "IPY_MODEL_06faea93b47346a0adb2ad628b5dfda0",
              "IPY_MODEL_0abe03b7cacc4d1398da97e023dc6180"
            ],
            "layout": "IPY_MODEL_ec1d76dfed6c4f11aed4c2af6f8069dc"
          }
        },
        "275936b3e91d4bb197883591a98fb7c0": {
          "model_module": "@jupyter-widgets/controls",
          "model_name": "HTMLModel",
          "model_module_version": "1.5.0",
          "state": {
            "_dom_classes": [],
            "_model_module": "@jupyter-widgets/controls",
            "_model_module_version": "1.5.0",
            "_model_name": "HTMLModel",
            "_view_count": null,
            "_view_module": "@jupyter-widgets/controls",
            "_view_module_version": "1.5.0",
            "_view_name": "HTMLView",
            "description": "",
            "description_tooltip": null,
            "layout": "IPY_MODEL_2204c35085784a43a7ea44533125f793",
            "placeholder": "​",
            "style": "IPY_MODEL_5ed447a9e55c497ca69d2c0c5b07cd07",
            "value": "sentence_bert_config.json: 100%"
          }
        },
        "06faea93b47346a0adb2ad628b5dfda0": {
          "model_module": "@jupyter-widgets/controls",
          "model_name": "FloatProgressModel",
          "model_module_version": "1.5.0",
          "state": {
            "_dom_classes": [],
            "_model_module": "@jupyter-widgets/controls",
            "_model_module_version": "1.5.0",
            "_model_name": "FloatProgressModel",
            "_view_count": null,
            "_view_module": "@jupyter-widgets/controls",
            "_view_module_version": "1.5.0",
            "_view_name": "ProgressView",
            "bar_style": "success",
            "description": "",
            "description_tooltip": null,
            "layout": "IPY_MODEL_114fc7d100704e238092e16091a1d328",
            "max": 53,
            "min": 0,
            "orientation": "horizontal",
            "style": "IPY_MODEL_cf85596f76b249afbfab1e4a7c5a6859",
            "value": 53
          }
        },
        "0abe03b7cacc4d1398da97e023dc6180": {
          "model_module": "@jupyter-widgets/controls",
          "model_name": "HTMLModel",
          "model_module_version": "1.5.0",
          "state": {
            "_dom_classes": [],
            "_model_module": "@jupyter-widgets/controls",
            "_model_module_version": "1.5.0",
            "_model_name": "HTMLModel",
            "_view_count": null,
            "_view_module": "@jupyter-widgets/controls",
            "_view_module_version": "1.5.0",
            "_view_name": "HTMLView",
            "description": "",
            "description_tooltip": null,
            "layout": "IPY_MODEL_cee0c361da344777a9eadd1c587cdad9",
            "placeholder": "​",
            "style": "IPY_MODEL_89c0e4d82a534246aa08b5a6e691eef6",
            "value": " 53.0/53.0 [00:00&lt;00:00, 4.83kB/s]"
          }
        },
        "ec1d76dfed6c4f11aed4c2af6f8069dc": {
          "model_module": "@jupyter-widgets/base",
          "model_name": "LayoutModel",
          "model_module_version": "1.2.0",
          "state": {
            "_model_module": "@jupyter-widgets/base",
            "_model_module_version": "1.2.0",
            "_model_name": "LayoutModel",
            "_view_count": null,
            "_view_module": "@jupyter-widgets/base",
            "_view_module_version": "1.2.0",
            "_view_name": "LayoutView",
            "align_content": null,
            "align_items": null,
            "align_self": null,
            "border": null,
            "bottom": null,
            "display": null,
            "flex": null,
            "flex_flow": null,
            "grid_area": null,
            "grid_auto_columns": null,
            "grid_auto_flow": null,
            "grid_auto_rows": null,
            "grid_column": null,
            "grid_gap": null,
            "grid_row": null,
            "grid_template_areas": null,
            "grid_template_columns": null,
            "grid_template_rows": null,
            "height": null,
            "justify_content": null,
            "justify_items": null,
            "left": null,
            "margin": null,
            "max_height": null,
            "max_width": null,
            "min_height": null,
            "min_width": null,
            "object_fit": null,
            "object_position": null,
            "order": null,
            "overflow": null,
            "overflow_x": null,
            "overflow_y": null,
            "padding": null,
            "right": null,
            "top": null,
            "visibility": null,
            "width": null
          }
        },
        "2204c35085784a43a7ea44533125f793": {
          "model_module": "@jupyter-widgets/base",
          "model_name": "LayoutModel",
          "model_module_version": "1.2.0",
          "state": {
            "_model_module": "@jupyter-widgets/base",
            "_model_module_version": "1.2.0",
            "_model_name": "LayoutModel",
            "_view_count": null,
            "_view_module": "@jupyter-widgets/base",
            "_view_module_version": "1.2.0",
            "_view_name": "LayoutView",
            "align_content": null,
            "align_items": null,
            "align_self": null,
            "border": null,
            "bottom": null,
            "display": null,
            "flex": null,
            "flex_flow": null,
            "grid_area": null,
            "grid_auto_columns": null,
            "grid_auto_flow": null,
            "grid_auto_rows": null,
            "grid_column": null,
            "grid_gap": null,
            "grid_row": null,
            "grid_template_areas": null,
            "grid_template_columns": null,
            "grid_template_rows": null,
            "height": null,
            "justify_content": null,
            "justify_items": null,
            "left": null,
            "margin": null,
            "max_height": null,
            "max_width": null,
            "min_height": null,
            "min_width": null,
            "object_fit": null,
            "object_position": null,
            "order": null,
            "overflow": null,
            "overflow_x": null,
            "overflow_y": null,
            "padding": null,
            "right": null,
            "top": null,
            "visibility": null,
            "width": null
          }
        },
        "5ed447a9e55c497ca69d2c0c5b07cd07": {
          "model_module": "@jupyter-widgets/controls",
          "model_name": "DescriptionStyleModel",
          "model_module_version": "1.5.0",
          "state": {
            "_model_module": "@jupyter-widgets/controls",
            "_model_module_version": "1.5.0",
            "_model_name": "DescriptionStyleModel",
            "_view_count": null,
            "_view_module": "@jupyter-widgets/base",
            "_view_module_version": "1.2.0",
            "_view_name": "StyleView",
            "description_width": ""
          }
        },
        "114fc7d100704e238092e16091a1d328": {
          "model_module": "@jupyter-widgets/base",
          "model_name": "LayoutModel",
          "model_module_version": "1.2.0",
          "state": {
            "_model_module": "@jupyter-widgets/base",
            "_model_module_version": "1.2.0",
            "_model_name": "LayoutModel",
            "_view_count": null,
            "_view_module": "@jupyter-widgets/base",
            "_view_module_version": "1.2.0",
            "_view_name": "LayoutView",
            "align_content": null,
            "align_items": null,
            "align_self": null,
            "border": null,
            "bottom": null,
            "display": null,
            "flex": null,
            "flex_flow": null,
            "grid_area": null,
            "grid_auto_columns": null,
            "grid_auto_flow": null,
            "grid_auto_rows": null,
            "grid_column": null,
            "grid_gap": null,
            "grid_row": null,
            "grid_template_areas": null,
            "grid_template_columns": null,
            "grid_template_rows": null,
            "height": null,
            "justify_content": null,
            "justify_items": null,
            "left": null,
            "margin": null,
            "max_height": null,
            "max_width": null,
            "min_height": null,
            "min_width": null,
            "object_fit": null,
            "object_position": null,
            "order": null,
            "overflow": null,
            "overflow_x": null,
            "overflow_y": null,
            "padding": null,
            "right": null,
            "top": null,
            "visibility": null,
            "width": null
          }
        },
        "cf85596f76b249afbfab1e4a7c5a6859": {
          "model_module": "@jupyter-widgets/controls",
          "model_name": "ProgressStyleModel",
          "model_module_version": "1.5.0",
          "state": {
            "_model_module": "@jupyter-widgets/controls",
            "_model_module_version": "1.5.0",
            "_model_name": "ProgressStyleModel",
            "_view_count": null,
            "_view_module": "@jupyter-widgets/base",
            "_view_module_version": "1.2.0",
            "_view_name": "StyleView",
            "bar_color": null,
            "description_width": ""
          }
        },
        "cee0c361da344777a9eadd1c587cdad9": {
          "model_module": "@jupyter-widgets/base",
          "model_name": "LayoutModel",
          "model_module_version": "1.2.0",
          "state": {
            "_model_module": "@jupyter-widgets/base",
            "_model_module_version": "1.2.0",
            "_model_name": "LayoutModel",
            "_view_count": null,
            "_view_module": "@jupyter-widgets/base",
            "_view_module_version": "1.2.0",
            "_view_name": "LayoutView",
            "align_content": null,
            "align_items": null,
            "align_self": null,
            "border": null,
            "bottom": null,
            "display": null,
            "flex": null,
            "flex_flow": null,
            "grid_area": null,
            "grid_auto_columns": null,
            "grid_auto_flow": null,
            "grid_auto_rows": null,
            "grid_column": null,
            "grid_gap": null,
            "grid_row": null,
            "grid_template_areas": null,
            "grid_template_columns": null,
            "grid_template_rows": null,
            "height": null,
            "justify_content": null,
            "justify_items": null,
            "left": null,
            "margin": null,
            "max_height": null,
            "max_width": null,
            "min_height": null,
            "min_width": null,
            "object_fit": null,
            "object_position": null,
            "order": null,
            "overflow": null,
            "overflow_x": null,
            "overflow_y": null,
            "padding": null,
            "right": null,
            "top": null,
            "visibility": null,
            "width": null
          }
        },
        "89c0e4d82a534246aa08b5a6e691eef6": {
          "model_module": "@jupyter-widgets/controls",
          "model_name": "DescriptionStyleModel",
          "model_module_version": "1.5.0",
          "state": {
            "_model_module": "@jupyter-widgets/controls",
            "_model_module_version": "1.5.0",
            "_model_name": "DescriptionStyleModel",
            "_view_count": null,
            "_view_module": "@jupyter-widgets/base",
            "_view_module_version": "1.2.0",
            "_view_name": "StyleView",
            "description_width": ""
          }
        },
        "12e58f83853f42558ee30c2ed0640748": {
          "model_module": "@jupyter-widgets/controls",
          "model_name": "HBoxModel",
          "model_module_version": "1.5.0",
          "state": {
            "_dom_classes": [],
            "_model_module": "@jupyter-widgets/controls",
            "_model_module_version": "1.5.0",
            "_model_name": "HBoxModel",
            "_view_count": null,
            "_view_module": "@jupyter-widgets/controls",
            "_view_module_version": "1.5.0",
            "_view_name": "HBoxView",
            "box_style": "",
            "children": [
              "IPY_MODEL_1e0a953ea2844392bf75deb4b12d1a39",
              "IPY_MODEL_4e0b9386e69c44d78f2ed13fee2a4daa",
              "IPY_MODEL_e0f956ddb48345aa8aa3cf38988b6497"
            ],
            "layout": "IPY_MODEL_f60a1519a91a4ccbbcc3a8403bff1628"
          }
        },
        "1e0a953ea2844392bf75deb4b12d1a39": {
          "model_module": "@jupyter-widgets/controls",
          "model_name": "HTMLModel",
          "model_module_version": "1.5.0",
          "state": {
            "_dom_classes": [],
            "_model_module": "@jupyter-widgets/controls",
            "_model_module_version": "1.5.0",
            "_model_name": "HTMLModel",
            "_view_count": null,
            "_view_module": "@jupyter-widgets/controls",
            "_view_module_version": "1.5.0",
            "_view_name": "HTMLView",
            "description": "",
            "description_tooltip": null,
            "layout": "IPY_MODEL_bdbdb52262394b66a2440fcc32da8089",
            "placeholder": "​",
            "style": "IPY_MODEL_df560af77b754cf9ac704a982d50d1b8",
            "value": "config.json: 100%"
          }
        },
        "4e0b9386e69c44d78f2ed13fee2a4daa": {
          "model_module": "@jupyter-widgets/controls",
          "model_name": "FloatProgressModel",
          "model_module_version": "1.5.0",
          "state": {
            "_dom_classes": [],
            "_model_module": "@jupyter-widgets/controls",
            "_model_module_version": "1.5.0",
            "_model_name": "FloatProgressModel",
            "_view_count": null,
            "_view_module": "@jupyter-widgets/controls",
            "_view_module_version": "1.5.0",
            "_view_name": "ProgressView",
            "bar_style": "success",
            "description": "",
            "description_tooltip": null,
            "layout": "IPY_MODEL_7a60fa8bb5544c2397dfcdbccc2dc021",
            "max": 612,
            "min": 0,
            "orientation": "horizontal",
            "style": "IPY_MODEL_efbd53c7a14740be81de86cd42b9980d",
            "value": 612
          }
        },
        "e0f956ddb48345aa8aa3cf38988b6497": {
          "model_module": "@jupyter-widgets/controls",
          "model_name": "HTMLModel",
          "model_module_version": "1.5.0",
          "state": {
            "_dom_classes": [],
            "_model_module": "@jupyter-widgets/controls",
            "_model_module_version": "1.5.0",
            "_model_name": "HTMLModel",
            "_view_count": null,
            "_view_module": "@jupyter-widgets/controls",
            "_view_module_version": "1.5.0",
            "_view_name": "HTMLView",
            "description": "",
            "description_tooltip": null,
            "layout": "IPY_MODEL_569226ae9b0848ae90d33e7826f4b52a",
            "placeholder": "​",
            "style": "IPY_MODEL_ac6bba1758b34826a28f25934ecf6dbe",
            "value": " 612/612 [00:00&lt;00:00, 46.8kB/s]"
          }
        },
        "f60a1519a91a4ccbbcc3a8403bff1628": {
          "model_module": "@jupyter-widgets/base",
          "model_name": "LayoutModel",
          "model_module_version": "1.2.0",
          "state": {
            "_model_module": "@jupyter-widgets/base",
            "_model_module_version": "1.2.0",
            "_model_name": "LayoutModel",
            "_view_count": null,
            "_view_module": "@jupyter-widgets/base",
            "_view_module_version": "1.2.0",
            "_view_name": "LayoutView",
            "align_content": null,
            "align_items": null,
            "align_self": null,
            "border": null,
            "bottom": null,
            "display": null,
            "flex": null,
            "flex_flow": null,
            "grid_area": null,
            "grid_auto_columns": null,
            "grid_auto_flow": null,
            "grid_auto_rows": null,
            "grid_column": null,
            "grid_gap": null,
            "grid_row": null,
            "grid_template_areas": null,
            "grid_template_columns": null,
            "grid_template_rows": null,
            "height": null,
            "justify_content": null,
            "justify_items": null,
            "left": null,
            "margin": null,
            "max_height": null,
            "max_width": null,
            "min_height": null,
            "min_width": null,
            "object_fit": null,
            "object_position": null,
            "order": null,
            "overflow": null,
            "overflow_x": null,
            "overflow_y": null,
            "padding": null,
            "right": null,
            "top": null,
            "visibility": null,
            "width": null
          }
        },
        "bdbdb52262394b66a2440fcc32da8089": {
          "model_module": "@jupyter-widgets/base",
          "model_name": "LayoutModel",
          "model_module_version": "1.2.0",
          "state": {
            "_model_module": "@jupyter-widgets/base",
            "_model_module_version": "1.2.0",
            "_model_name": "LayoutModel",
            "_view_count": null,
            "_view_module": "@jupyter-widgets/base",
            "_view_module_version": "1.2.0",
            "_view_name": "LayoutView",
            "align_content": null,
            "align_items": null,
            "align_self": null,
            "border": null,
            "bottom": null,
            "display": null,
            "flex": null,
            "flex_flow": null,
            "grid_area": null,
            "grid_auto_columns": null,
            "grid_auto_flow": null,
            "grid_auto_rows": null,
            "grid_column": null,
            "grid_gap": null,
            "grid_row": null,
            "grid_template_areas": null,
            "grid_template_columns": null,
            "grid_template_rows": null,
            "height": null,
            "justify_content": null,
            "justify_items": null,
            "left": null,
            "margin": null,
            "max_height": null,
            "max_width": null,
            "min_height": null,
            "min_width": null,
            "object_fit": null,
            "object_position": null,
            "order": null,
            "overflow": null,
            "overflow_x": null,
            "overflow_y": null,
            "padding": null,
            "right": null,
            "top": null,
            "visibility": null,
            "width": null
          }
        },
        "df560af77b754cf9ac704a982d50d1b8": {
          "model_module": "@jupyter-widgets/controls",
          "model_name": "DescriptionStyleModel",
          "model_module_version": "1.5.0",
          "state": {
            "_model_module": "@jupyter-widgets/controls",
            "_model_module_version": "1.5.0",
            "_model_name": "DescriptionStyleModel",
            "_view_count": null,
            "_view_module": "@jupyter-widgets/base",
            "_view_module_version": "1.2.0",
            "_view_name": "StyleView",
            "description_width": ""
          }
        },
        "7a60fa8bb5544c2397dfcdbccc2dc021": {
          "model_module": "@jupyter-widgets/base",
          "model_name": "LayoutModel",
          "model_module_version": "1.2.0",
          "state": {
            "_model_module": "@jupyter-widgets/base",
            "_model_module_version": "1.2.0",
            "_model_name": "LayoutModel",
            "_view_count": null,
            "_view_module": "@jupyter-widgets/base",
            "_view_module_version": "1.2.0",
            "_view_name": "LayoutView",
            "align_content": null,
            "align_items": null,
            "align_self": null,
            "border": null,
            "bottom": null,
            "display": null,
            "flex": null,
            "flex_flow": null,
            "grid_area": null,
            "grid_auto_columns": null,
            "grid_auto_flow": null,
            "grid_auto_rows": null,
            "grid_column": null,
            "grid_gap": null,
            "grid_row": null,
            "grid_template_areas": null,
            "grid_template_columns": null,
            "grid_template_rows": null,
            "height": null,
            "justify_content": null,
            "justify_items": null,
            "left": null,
            "margin": null,
            "max_height": null,
            "max_width": null,
            "min_height": null,
            "min_width": null,
            "object_fit": null,
            "object_position": null,
            "order": null,
            "overflow": null,
            "overflow_x": null,
            "overflow_y": null,
            "padding": null,
            "right": null,
            "top": null,
            "visibility": null,
            "width": null
          }
        },
        "efbd53c7a14740be81de86cd42b9980d": {
          "model_module": "@jupyter-widgets/controls",
          "model_name": "ProgressStyleModel",
          "model_module_version": "1.5.0",
          "state": {
            "_model_module": "@jupyter-widgets/controls",
            "_model_module_version": "1.5.0",
            "_model_name": "ProgressStyleModel",
            "_view_count": null,
            "_view_module": "@jupyter-widgets/base",
            "_view_module_version": "1.2.0",
            "_view_name": "StyleView",
            "bar_color": null,
            "description_width": ""
          }
        },
        "569226ae9b0848ae90d33e7826f4b52a": {
          "model_module": "@jupyter-widgets/base",
          "model_name": "LayoutModel",
          "model_module_version": "1.2.0",
          "state": {
            "_model_module": "@jupyter-widgets/base",
            "_model_module_version": "1.2.0",
            "_model_name": "LayoutModel",
            "_view_count": null,
            "_view_module": "@jupyter-widgets/base",
            "_view_module_version": "1.2.0",
            "_view_name": "LayoutView",
            "align_content": null,
            "align_items": null,
            "align_self": null,
            "border": null,
            "bottom": null,
            "display": null,
            "flex": null,
            "flex_flow": null,
            "grid_area": null,
            "grid_auto_columns": null,
            "grid_auto_flow": null,
            "grid_auto_rows": null,
            "grid_column": null,
            "grid_gap": null,
            "grid_row": null,
            "grid_template_areas": null,
            "grid_template_columns": null,
            "grid_template_rows": null,
            "height": null,
            "justify_content": null,
            "justify_items": null,
            "left": null,
            "margin": null,
            "max_height": null,
            "max_width": null,
            "min_height": null,
            "min_width": null,
            "object_fit": null,
            "object_position": null,
            "order": null,
            "overflow": null,
            "overflow_x": null,
            "overflow_y": null,
            "padding": null,
            "right": null,
            "top": null,
            "visibility": null,
            "width": null
          }
        },
        "ac6bba1758b34826a28f25934ecf6dbe": {
          "model_module": "@jupyter-widgets/controls",
          "model_name": "DescriptionStyleModel",
          "model_module_version": "1.5.0",
          "state": {
            "_model_module": "@jupyter-widgets/controls",
            "_model_module_version": "1.5.0",
            "_model_name": "DescriptionStyleModel",
            "_view_count": null,
            "_view_module": "@jupyter-widgets/base",
            "_view_module_version": "1.2.0",
            "_view_name": "StyleView",
            "description_width": ""
          }
        },
        "3097b199d6c440309cea6e0b526287a0": {
          "model_module": "@jupyter-widgets/controls",
          "model_name": "HBoxModel",
          "model_module_version": "1.5.0",
          "state": {
            "_dom_classes": [],
            "_model_module": "@jupyter-widgets/controls",
            "_model_module_version": "1.5.0",
            "_model_name": "HBoxModel",
            "_view_count": null,
            "_view_module": "@jupyter-widgets/controls",
            "_view_module_version": "1.5.0",
            "_view_name": "HBoxView",
            "box_style": "",
            "children": [
              "IPY_MODEL_a6dd4b0e5e314c4087ab25f1ebd04387",
              "IPY_MODEL_aad08025b98048ff8ae8021391d45b07",
              "IPY_MODEL_bc67b706020145fcb3bbe0236936b5ab"
            ],
            "layout": "IPY_MODEL_039a2dc7ad6c4b779ca15a56a201e45c"
          }
        },
        "a6dd4b0e5e314c4087ab25f1ebd04387": {
          "model_module": "@jupyter-widgets/controls",
          "model_name": "HTMLModel",
          "model_module_version": "1.5.0",
          "state": {
            "_dom_classes": [],
            "_model_module": "@jupyter-widgets/controls",
            "_model_module_version": "1.5.0",
            "_model_name": "HTMLModel",
            "_view_count": null,
            "_view_module": "@jupyter-widgets/controls",
            "_view_module_version": "1.5.0",
            "_view_name": "HTMLView",
            "description": "",
            "description_tooltip": null,
            "layout": "IPY_MODEL_e48a1c7e65204c65842670fc8936ebf5",
            "placeholder": "​",
            "style": "IPY_MODEL_db4d399d329f4812852aac9dd54d2f61",
            "value": "model.safetensors: 100%"
          }
        },
        "aad08025b98048ff8ae8021391d45b07": {
          "model_module": "@jupyter-widgets/controls",
          "model_name": "FloatProgressModel",
          "model_module_version": "1.5.0",
          "state": {
            "_dom_classes": [],
            "_model_module": "@jupyter-widgets/controls",
            "_model_module_version": "1.5.0",
            "_model_name": "FloatProgressModel",
            "_view_count": null,
            "_view_module": "@jupyter-widgets/controls",
            "_view_module_version": "1.5.0",
            "_view_name": "ProgressView",
            "bar_style": "success",
            "description": "",
            "description_tooltip": null,
            "layout": "IPY_MODEL_d4f7491283324d2089e3a29869abbea7",
            "max": 90868376,
            "min": 0,
            "orientation": "horizontal",
            "style": "IPY_MODEL_42bc92a3622a4b21b48fe595abde9454",
            "value": 90868376
          }
        },
        "bc67b706020145fcb3bbe0236936b5ab": {
          "model_module": "@jupyter-widgets/controls",
          "model_name": "HTMLModel",
          "model_module_version": "1.5.0",
          "state": {
            "_dom_classes": [],
            "_model_module": "@jupyter-widgets/controls",
            "_model_module_version": "1.5.0",
            "_model_name": "HTMLModel",
            "_view_count": null,
            "_view_module": "@jupyter-widgets/controls",
            "_view_module_version": "1.5.0",
            "_view_name": "HTMLView",
            "description": "",
            "description_tooltip": null,
            "layout": "IPY_MODEL_375d188f3c454660adbef1fb46eef839",
            "placeholder": "​",
            "style": "IPY_MODEL_f0675ee3140e45fc8b647e0f1092d94d",
            "value": " 90.9M/90.9M [00:00&lt;00:00, 173MB/s]"
          }
        },
        "039a2dc7ad6c4b779ca15a56a201e45c": {
          "model_module": "@jupyter-widgets/base",
          "model_name": "LayoutModel",
          "model_module_version": "1.2.0",
          "state": {
            "_model_module": "@jupyter-widgets/base",
            "_model_module_version": "1.2.0",
            "_model_name": "LayoutModel",
            "_view_count": null,
            "_view_module": "@jupyter-widgets/base",
            "_view_module_version": "1.2.0",
            "_view_name": "LayoutView",
            "align_content": null,
            "align_items": null,
            "align_self": null,
            "border": null,
            "bottom": null,
            "display": null,
            "flex": null,
            "flex_flow": null,
            "grid_area": null,
            "grid_auto_columns": null,
            "grid_auto_flow": null,
            "grid_auto_rows": null,
            "grid_column": null,
            "grid_gap": null,
            "grid_row": null,
            "grid_template_areas": null,
            "grid_template_columns": null,
            "grid_template_rows": null,
            "height": null,
            "justify_content": null,
            "justify_items": null,
            "left": null,
            "margin": null,
            "max_height": null,
            "max_width": null,
            "min_height": null,
            "min_width": null,
            "object_fit": null,
            "object_position": null,
            "order": null,
            "overflow": null,
            "overflow_x": null,
            "overflow_y": null,
            "padding": null,
            "right": null,
            "top": null,
            "visibility": null,
            "width": null
          }
        },
        "e48a1c7e65204c65842670fc8936ebf5": {
          "model_module": "@jupyter-widgets/base",
          "model_name": "LayoutModel",
          "model_module_version": "1.2.0",
          "state": {
            "_model_module": "@jupyter-widgets/base",
            "_model_module_version": "1.2.0",
            "_model_name": "LayoutModel",
            "_view_count": null,
            "_view_module": "@jupyter-widgets/base",
            "_view_module_version": "1.2.0",
            "_view_name": "LayoutView",
            "align_content": null,
            "align_items": null,
            "align_self": null,
            "border": null,
            "bottom": null,
            "display": null,
            "flex": null,
            "flex_flow": null,
            "grid_area": null,
            "grid_auto_columns": null,
            "grid_auto_flow": null,
            "grid_auto_rows": null,
            "grid_column": null,
            "grid_gap": null,
            "grid_row": null,
            "grid_template_areas": null,
            "grid_template_columns": null,
            "grid_template_rows": null,
            "height": null,
            "justify_content": null,
            "justify_items": null,
            "left": null,
            "margin": null,
            "max_height": null,
            "max_width": null,
            "min_height": null,
            "min_width": null,
            "object_fit": null,
            "object_position": null,
            "order": null,
            "overflow": null,
            "overflow_x": null,
            "overflow_y": null,
            "padding": null,
            "right": null,
            "top": null,
            "visibility": null,
            "width": null
          }
        },
        "db4d399d329f4812852aac9dd54d2f61": {
          "model_module": "@jupyter-widgets/controls",
          "model_name": "DescriptionStyleModel",
          "model_module_version": "1.5.0",
          "state": {
            "_model_module": "@jupyter-widgets/controls",
            "_model_module_version": "1.5.0",
            "_model_name": "DescriptionStyleModel",
            "_view_count": null,
            "_view_module": "@jupyter-widgets/base",
            "_view_module_version": "1.2.0",
            "_view_name": "StyleView",
            "description_width": ""
          }
        },
        "d4f7491283324d2089e3a29869abbea7": {
          "model_module": "@jupyter-widgets/base",
          "model_name": "LayoutModel",
          "model_module_version": "1.2.0",
          "state": {
            "_model_module": "@jupyter-widgets/base",
            "_model_module_version": "1.2.0",
            "_model_name": "LayoutModel",
            "_view_count": null,
            "_view_module": "@jupyter-widgets/base",
            "_view_module_version": "1.2.0",
            "_view_name": "LayoutView",
            "align_content": null,
            "align_items": null,
            "align_self": null,
            "border": null,
            "bottom": null,
            "display": null,
            "flex": null,
            "flex_flow": null,
            "grid_area": null,
            "grid_auto_columns": null,
            "grid_auto_flow": null,
            "grid_auto_rows": null,
            "grid_column": null,
            "grid_gap": null,
            "grid_row": null,
            "grid_template_areas": null,
            "grid_template_columns": null,
            "grid_template_rows": null,
            "height": null,
            "justify_content": null,
            "justify_items": null,
            "left": null,
            "margin": null,
            "max_height": null,
            "max_width": null,
            "min_height": null,
            "min_width": null,
            "object_fit": null,
            "object_position": null,
            "order": null,
            "overflow": null,
            "overflow_x": null,
            "overflow_y": null,
            "padding": null,
            "right": null,
            "top": null,
            "visibility": null,
            "width": null
          }
        },
        "42bc92a3622a4b21b48fe595abde9454": {
          "model_module": "@jupyter-widgets/controls",
          "model_name": "ProgressStyleModel",
          "model_module_version": "1.5.0",
          "state": {
            "_model_module": "@jupyter-widgets/controls",
            "_model_module_version": "1.5.0",
            "_model_name": "ProgressStyleModel",
            "_view_count": null,
            "_view_module": "@jupyter-widgets/base",
            "_view_module_version": "1.2.0",
            "_view_name": "StyleView",
            "bar_color": null,
            "description_width": ""
          }
        },
        "375d188f3c454660adbef1fb46eef839": {
          "model_module": "@jupyter-widgets/base",
          "model_name": "LayoutModel",
          "model_module_version": "1.2.0",
          "state": {
            "_model_module": "@jupyter-widgets/base",
            "_model_module_version": "1.2.0",
            "_model_name": "LayoutModel",
            "_view_count": null,
            "_view_module": "@jupyter-widgets/base",
            "_view_module_version": "1.2.0",
            "_view_name": "LayoutView",
            "align_content": null,
            "align_items": null,
            "align_self": null,
            "border": null,
            "bottom": null,
            "display": null,
            "flex": null,
            "flex_flow": null,
            "grid_area": null,
            "grid_auto_columns": null,
            "grid_auto_flow": null,
            "grid_auto_rows": null,
            "grid_column": null,
            "grid_gap": null,
            "grid_row": null,
            "grid_template_areas": null,
            "grid_template_columns": null,
            "grid_template_rows": null,
            "height": null,
            "justify_content": null,
            "justify_items": null,
            "left": null,
            "margin": null,
            "max_height": null,
            "max_width": null,
            "min_height": null,
            "min_width": null,
            "object_fit": null,
            "object_position": null,
            "order": null,
            "overflow": null,
            "overflow_x": null,
            "overflow_y": null,
            "padding": null,
            "right": null,
            "top": null,
            "visibility": null,
            "width": null
          }
        },
        "f0675ee3140e45fc8b647e0f1092d94d": {
          "model_module": "@jupyter-widgets/controls",
          "model_name": "DescriptionStyleModel",
          "model_module_version": "1.5.0",
          "state": {
            "_model_module": "@jupyter-widgets/controls",
            "_model_module_version": "1.5.0",
            "_model_name": "DescriptionStyleModel",
            "_view_count": null,
            "_view_module": "@jupyter-widgets/base",
            "_view_module_version": "1.2.0",
            "_view_name": "StyleView",
            "description_width": ""
          }
        },
        "f2f1da34f0304d2eb43d1415a1ff62c8": {
          "model_module": "@jupyter-widgets/controls",
          "model_name": "HBoxModel",
          "model_module_version": "1.5.0",
          "state": {
            "_dom_classes": [],
            "_model_module": "@jupyter-widgets/controls",
            "_model_module_version": "1.5.0",
            "_model_name": "HBoxModel",
            "_view_count": null,
            "_view_module": "@jupyter-widgets/controls",
            "_view_module_version": "1.5.0",
            "_view_name": "HBoxView",
            "box_style": "",
            "children": [
              "IPY_MODEL_c310bfab687948bcadc94e2a9ad63482",
              "IPY_MODEL_7b875c2f83f242429bfc844d1812406c",
              "IPY_MODEL_d81f84884ed64ee6b662ca9737641086"
            ],
            "layout": "IPY_MODEL_f93a5675f3a9414b9dccfb8f2a5ff45d"
          }
        },
        "c310bfab687948bcadc94e2a9ad63482": {
          "model_module": "@jupyter-widgets/controls",
          "model_name": "HTMLModel",
          "model_module_version": "1.5.0",
          "state": {
            "_dom_classes": [],
            "_model_module": "@jupyter-widgets/controls",
            "_model_module_version": "1.5.0",
            "_model_name": "HTMLModel",
            "_view_count": null,
            "_view_module": "@jupyter-widgets/controls",
            "_view_module_version": "1.5.0",
            "_view_name": "HTMLView",
            "description": "",
            "description_tooltip": null,
            "layout": "IPY_MODEL_fb2412f875ad43f59305fde5191ace19",
            "placeholder": "​",
            "style": "IPY_MODEL_02fb8124d44c4941a03e90cbd75d519f",
            "value": "tokenizer_config.json: 100%"
          }
        },
        "7b875c2f83f242429bfc844d1812406c": {
          "model_module": "@jupyter-widgets/controls",
          "model_name": "FloatProgressModel",
          "model_module_version": "1.5.0",
          "state": {
            "_dom_classes": [],
            "_model_module": "@jupyter-widgets/controls",
            "_model_module_version": "1.5.0",
            "_model_name": "FloatProgressModel",
            "_view_count": null,
            "_view_module": "@jupyter-widgets/controls",
            "_view_module_version": "1.5.0",
            "_view_name": "ProgressView",
            "bar_style": "success",
            "description": "",
            "description_tooltip": null,
            "layout": "IPY_MODEL_379359040b5e451f982462c6619e32cb",
            "max": 350,
            "min": 0,
            "orientation": "horizontal",
            "style": "IPY_MODEL_79d7624400554f43ac6fe5379790c9e9",
            "value": 350
          }
        },
        "d81f84884ed64ee6b662ca9737641086": {
          "model_module": "@jupyter-widgets/controls",
          "model_name": "HTMLModel",
          "model_module_version": "1.5.0",
          "state": {
            "_dom_classes": [],
            "_model_module": "@jupyter-widgets/controls",
            "_model_module_version": "1.5.0",
            "_model_name": "HTMLModel",
            "_view_count": null,
            "_view_module": "@jupyter-widgets/controls",
            "_view_module_version": "1.5.0",
            "_view_name": "HTMLView",
            "description": "",
            "description_tooltip": null,
            "layout": "IPY_MODEL_51da52ccead84e53877c83f8284b2ad1",
            "placeholder": "​",
            "style": "IPY_MODEL_49d1b3a6414c4f989f7e4a7f591d0da2",
            "value": " 350/350 [00:00&lt;00:00, 27.0kB/s]"
          }
        },
        "f93a5675f3a9414b9dccfb8f2a5ff45d": {
          "model_module": "@jupyter-widgets/base",
          "model_name": "LayoutModel",
          "model_module_version": "1.2.0",
          "state": {
            "_model_module": "@jupyter-widgets/base",
            "_model_module_version": "1.2.0",
            "_model_name": "LayoutModel",
            "_view_count": null,
            "_view_module": "@jupyter-widgets/base",
            "_view_module_version": "1.2.0",
            "_view_name": "LayoutView",
            "align_content": null,
            "align_items": null,
            "align_self": null,
            "border": null,
            "bottom": null,
            "display": null,
            "flex": null,
            "flex_flow": null,
            "grid_area": null,
            "grid_auto_columns": null,
            "grid_auto_flow": null,
            "grid_auto_rows": null,
            "grid_column": null,
            "grid_gap": null,
            "grid_row": null,
            "grid_template_areas": null,
            "grid_template_columns": null,
            "grid_template_rows": null,
            "height": null,
            "justify_content": null,
            "justify_items": null,
            "left": null,
            "margin": null,
            "max_height": null,
            "max_width": null,
            "min_height": null,
            "min_width": null,
            "object_fit": null,
            "object_position": null,
            "order": null,
            "overflow": null,
            "overflow_x": null,
            "overflow_y": null,
            "padding": null,
            "right": null,
            "top": null,
            "visibility": null,
            "width": null
          }
        },
        "fb2412f875ad43f59305fde5191ace19": {
          "model_module": "@jupyter-widgets/base",
          "model_name": "LayoutModel",
          "model_module_version": "1.2.0",
          "state": {
            "_model_module": "@jupyter-widgets/base",
            "_model_module_version": "1.2.0",
            "_model_name": "LayoutModel",
            "_view_count": null,
            "_view_module": "@jupyter-widgets/base",
            "_view_module_version": "1.2.0",
            "_view_name": "LayoutView",
            "align_content": null,
            "align_items": null,
            "align_self": null,
            "border": null,
            "bottom": null,
            "display": null,
            "flex": null,
            "flex_flow": null,
            "grid_area": null,
            "grid_auto_columns": null,
            "grid_auto_flow": null,
            "grid_auto_rows": null,
            "grid_column": null,
            "grid_gap": null,
            "grid_row": null,
            "grid_template_areas": null,
            "grid_template_columns": null,
            "grid_template_rows": null,
            "height": null,
            "justify_content": null,
            "justify_items": null,
            "left": null,
            "margin": null,
            "max_height": null,
            "max_width": null,
            "min_height": null,
            "min_width": null,
            "object_fit": null,
            "object_position": null,
            "order": null,
            "overflow": null,
            "overflow_x": null,
            "overflow_y": null,
            "padding": null,
            "right": null,
            "top": null,
            "visibility": null,
            "width": null
          }
        },
        "02fb8124d44c4941a03e90cbd75d519f": {
          "model_module": "@jupyter-widgets/controls",
          "model_name": "DescriptionStyleModel",
          "model_module_version": "1.5.0",
          "state": {
            "_model_module": "@jupyter-widgets/controls",
            "_model_module_version": "1.5.0",
            "_model_name": "DescriptionStyleModel",
            "_view_count": null,
            "_view_module": "@jupyter-widgets/base",
            "_view_module_version": "1.2.0",
            "_view_name": "StyleView",
            "description_width": ""
          }
        },
        "379359040b5e451f982462c6619e32cb": {
          "model_module": "@jupyter-widgets/base",
          "model_name": "LayoutModel",
          "model_module_version": "1.2.0",
          "state": {
            "_model_module": "@jupyter-widgets/base",
            "_model_module_version": "1.2.0",
            "_model_name": "LayoutModel",
            "_view_count": null,
            "_view_module": "@jupyter-widgets/base",
            "_view_module_version": "1.2.0",
            "_view_name": "LayoutView",
            "align_content": null,
            "align_items": null,
            "align_self": null,
            "border": null,
            "bottom": null,
            "display": null,
            "flex": null,
            "flex_flow": null,
            "grid_area": null,
            "grid_auto_columns": null,
            "grid_auto_flow": null,
            "grid_auto_rows": null,
            "grid_column": null,
            "grid_gap": null,
            "grid_row": null,
            "grid_template_areas": null,
            "grid_template_columns": null,
            "grid_template_rows": null,
            "height": null,
            "justify_content": null,
            "justify_items": null,
            "left": null,
            "margin": null,
            "max_height": null,
            "max_width": null,
            "min_height": null,
            "min_width": null,
            "object_fit": null,
            "object_position": null,
            "order": null,
            "overflow": null,
            "overflow_x": null,
            "overflow_y": null,
            "padding": null,
            "right": null,
            "top": null,
            "visibility": null,
            "width": null
          }
        },
        "79d7624400554f43ac6fe5379790c9e9": {
          "model_module": "@jupyter-widgets/controls",
          "model_name": "ProgressStyleModel",
          "model_module_version": "1.5.0",
          "state": {
            "_model_module": "@jupyter-widgets/controls",
            "_model_module_version": "1.5.0",
            "_model_name": "ProgressStyleModel",
            "_view_count": null,
            "_view_module": "@jupyter-widgets/base",
            "_view_module_version": "1.2.0",
            "_view_name": "StyleView",
            "bar_color": null,
            "description_width": ""
          }
        },
        "51da52ccead84e53877c83f8284b2ad1": {
          "model_module": "@jupyter-widgets/base",
          "model_name": "LayoutModel",
          "model_module_version": "1.2.0",
          "state": {
            "_model_module": "@jupyter-widgets/base",
            "_model_module_version": "1.2.0",
            "_model_name": "LayoutModel",
            "_view_count": null,
            "_view_module": "@jupyter-widgets/base",
            "_view_module_version": "1.2.0",
            "_view_name": "LayoutView",
            "align_content": null,
            "align_items": null,
            "align_self": null,
            "border": null,
            "bottom": null,
            "display": null,
            "flex": null,
            "flex_flow": null,
            "grid_area": null,
            "grid_auto_columns": null,
            "grid_auto_flow": null,
            "grid_auto_rows": null,
            "grid_column": null,
            "grid_gap": null,
            "grid_row": null,
            "grid_template_areas": null,
            "grid_template_columns": null,
            "grid_template_rows": null,
            "height": null,
            "justify_content": null,
            "justify_items": null,
            "left": null,
            "margin": null,
            "max_height": null,
            "max_width": null,
            "min_height": null,
            "min_width": null,
            "object_fit": null,
            "object_position": null,
            "order": null,
            "overflow": null,
            "overflow_x": null,
            "overflow_y": null,
            "padding": null,
            "right": null,
            "top": null,
            "visibility": null,
            "width": null
          }
        },
        "49d1b3a6414c4f989f7e4a7f591d0da2": {
          "model_module": "@jupyter-widgets/controls",
          "model_name": "DescriptionStyleModel",
          "model_module_version": "1.5.0",
          "state": {
            "_model_module": "@jupyter-widgets/controls",
            "_model_module_version": "1.5.0",
            "_model_name": "DescriptionStyleModel",
            "_view_count": null,
            "_view_module": "@jupyter-widgets/base",
            "_view_module_version": "1.2.0",
            "_view_name": "StyleView",
            "description_width": ""
          }
        },
        "9281d8edb6d04f91846cab6d43056841": {
          "model_module": "@jupyter-widgets/controls",
          "model_name": "HBoxModel",
          "model_module_version": "1.5.0",
          "state": {
            "_dom_classes": [],
            "_model_module": "@jupyter-widgets/controls",
            "_model_module_version": "1.5.0",
            "_model_name": "HBoxModel",
            "_view_count": null,
            "_view_module": "@jupyter-widgets/controls",
            "_view_module_version": "1.5.0",
            "_view_name": "HBoxView",
            "box_style": "",
            "children": [
              "IPY_MODEL_dd4c540361c347aeb993b27a66514ed4",
              "IPY_MODEL_c391ae53d12b4c8fbff4b581dda206c4",
              "IPY_MODEL_1e0d25fb5b174a8f9db04e657bf44931"
            ],
            "layout": "IPY_MODEL_080b05b36f974a618fa1727c6914f955"
          }
        },
        "dd4c540361c347aeb993b27a66514ed4": {
          "model_module": "@jupyter-widgets/controls",
          "model_name": "HTMLModel",
          "model_module_version": "1.5.0",
          "state": {
            "_dom_classes": [],
            "_model_module": "@jupyter-widgets/controls",
            "_model_module_version": "1.5.0",
            "_model_name": "HTMLModel",
            "_view_count": null,
            "_view_module": "@jupyter-widgets/controls",
            "_view_module_version": "1.5.0",
            "_view_name": "HTMLView",
            "description": "",
            "description_tooltip": null,
            "layout": "IPY_MODEL_05cbf1fd7b8e4a819374029307e55ea7",
            "placeholder": "​",
            "style": "IPY_MODEL_f99d3de1f6724785875717f2ffe50fe2",
            "value": "vocab.txt: 100%"
          }
        },
        "c391ae53d12b4c8fbff4b581dda206c4": {
          "model_module": "@jupyter-widgets/controls",
          "model_name": "FloatProgressModel",
          "model_module_version": "1.5.0",
          "state": {
            "_dom_classes": [],
            "_model_module": "@jupyter-widgets/controls",
            "_model_module_version": "1.5.0",
            "_model_name": "FloatProgressModel",
            "_view_count": null,
            "_view_module": "@jupyter-widgets/controls",
            "_view_module_version": "1.5.0",
            "_view_name": "ProgressView",
            "bar_style": "success",
            "description": "",
            "description_tooltip": null,
            "layout": "IPY_MODEL_93b1beb8206a487ba6668a84f55cda8b",
            "max": 231508,
            "min": 0,
            "orientation": "horizontal",
            "style": "IPY_MODEL_c6482d6748444560bc9b47b8bebce5d9",
            "value": 231508
          }
        },
        "1e0d25fb5b174a8f9db04e657bf44931": {
          "model_module": "@jupyter-widgets/controls",
          "model_name": "HTMLModel",
          "model_module_version": "1.5.0",
          "state": {
            "_dom_classes": [],
            "_model_module": "@jupyter-widgets/controls",
            "_model_module_version": "1.5.0",
            "_model_name": "HTMLModel",
            "_view_count": null,
            "_view_module": "@jupyter-widgets/controls",
            "_view_module_version": "1.5.0",
            "_view_name": "HTMLView",
            "description": "",
            "description_tooltip": null,
            "layout": "IPY_MODEL_f49df6af34a54b8ba27c0bc2a4749c6d",
            "placeholder": "​",
            "style": "IPY_MODEL_ea2552ef27774d0296984f1cf4450c0e",
            "value": " 232k/232k [00:00&lt;00:00, 3.15MB/s]"
          }
        },
        "080b05b36f974a618fa1727c6914f955": {
          "model_module": "@jupyter-widgets/base",
          "model_name": "LayoutModel",
          "model_module_version": "1.2.0",
          "state": {
            "_model_module": "@jupyter-widgets/base",
            "_model_module_version": "1.2.0",
            "_model_name": "LayoutModel",
            "_view_count": null,
            "_view_module": "@jupyter-widgets/base",
            "_view_module_version": "1.2.0",
            "_view_name": "LayoutView",
            "align_content": null,
            "align_items": null,
            "align_self": null,
            "border": null,
            "bottom": null,
            "display": null,
            "flex": null,
            "flex_flow": null,
            "grid_area": null,
            "grid_auto_columns": null,
            "grid_auto_flow": null,
            "grid_auto_rows": null,
            "grid_column": null,
            "grid_gap": null,
            "grid_row": null,
            "grid_template_areas": null,
            "grid_template_columns": null,
            "grid_template_rows": null,
            "height": null,
            "justify_content": null,
            "justify_items": null,
            "left": null,
            "margin": null,
            "max_height": null,
            "max_width": null,
            "min_height": null,
            "min_width": null,
            "object_fit": null,
            "object_position": null,
            "order": null,
            "overflow": null,
            "overflow_x": null,
            "overflow_y": null,
            "padding": null,
            "right": null,
            "top": null,
            "visibility": null,
            "width": null
          }
        },
        "05cbf1fd7b8e4a819374029307e55ea7": {
          "model_module": "@jupyter-widgets/base",
          "model_name": "LayoutModel",
          "model_module_version": "1.2.0",
          "state": {
            "_model_module": "@jupyter-widgets/base",
            "_model_module_version": "1.2.0",
            "_model_name": "LayoutModel",
            "_view_count": null,
            "_view_module": "@jupyter-widgets/base",
            "_view_module_version": "1.2.0",
            "_view_name": "LayoutView",
            "align_content": null,
            "align_items": null,
            "align_self": null,
            "border": null,
            "bottom": null,
            "display": null,
            "flex": null,
            "flex_flow": null,
            "grid_area": null,
            "grid_auto_columns": null,
            "grid_auto_flow": null,
            "grid_auto_rows": null,
            "grid_column": null,
            "grid_gap": null,
            "grid_row": null,
            "grid_template_areas": null,
            "grid_template_columns": null,
            "grid_template_rows": null,
            "height": null,
            "justify_content": null,
            "justify_items": null,
            "left": null,
            "margin": null,
            "max_height": null,
            "max_width": null,
            "min_height": null,
            "min_width": null,
            "object_fit": null,
            "object_position": null,
            "order": null,
            "overflow": null,
            "overflow_x": null,
            "overflow_y": null,
            "padding": null,
            "right": null,
            "top": null,
            "visibility": null,
            "width": null
          }
        },
        "f99d3de1f6724785875717f2ffe50fe2": {
          "model_module": "@jupyter-widgets/controls",
          "model_name": "DescriptionStyleModel",
          "model_module_version": "1.5.0",
          "state": {
            "_model_module": "@jupyter-widgets/controls",
            "_model_module_version": "1.5.0",
            "_model_name": "DescriptionStyleModel",
            "_view_count": null,
            "_view_module": "@jupyter-widgets/base",
            "_view_module_version": "1.2.0",
            "_view_name": "StyleView",
            "description_width": ""
          }
        },
        "93b1beb8206a487ba6668a84f55cda8b": {
          "model_module": "@jupyter-widgets/base",
          "model_name": "LayoutModel",
          "model_module_version": "1.2.0",
          "state": {
            "_model_module": "@jupyter-widgets/base",
            "_model_module_version": "1.2.0",
            "_model_name": "LayoutModel",
            "_view_count": null,
            "_view_module": "@jupyter-widgets/base",
            "_view_module_version": "1.2.0",
            "_view_name": "LayoutView",
            "align_content": null,
            "align_items": null,
            "align_self": null,
            "border": null,
            "bottom": null,
            "display": null,
            "flex": null,
            "flex_flow": null,
            "grid_area": null,
            "grid_auto_columns": null,
            "grid_auto_flow": null,
            "grid_auto_rows": null,
            "grid_column": null,
            "grid_gap": null,
            "grid_row": null,
            "grid_template_areas": null,
            "grid_template_columns": null,
            "grid_template_rows": null,
            "height": null,
            "justify_content": null,
            "justify_items": null,
            "left": null,
            "margin": null,
            "max_height": null,
            "max_width": null,
            "min_height": null,
            "min_width": null,
            "object_fit": null,
            "object_position": null,
            "order": null,
            "overflow": null,
            "overflow_x": null,
            "overflow_y": null,
            "padding": null,
            "right": null,
            "top": null,
            "visibility": null,
            "width": null
          }
        },
        "c6482d6748444560bc9b47b8bebce5d9": {
          "model_module": "@jupyter-widgets/controls",
          "model_name": "ProgressStyleModel",
          "model_module_version": "1.5.0",
          "state": {
            "_model_module": "@jupyter-widgets/controls",
            "_model_module_version": "1.5.0",
            "_model_name": "ProgressStyleModel",
            "_view_count": null,
            "_view_module": "@jupyter-widgets/base",
            "_view_module_version": "1.2.0",
            "_view_name": "StyleView",
            "bar_color": null,
            "description_width": ""
          }
        },
        "f49df6af34a54b8ba27c0bc2a4749c6d": {
          "model_module": "@jupyter-widgets/base",
          "model_name": "LayoutModel",
          "model_module_version": "1.2.0",
          "state": {
            "_model_module": "@jupyter-widgets/base",
            "_model_module_version": "1.2.0",
            "_model_name": "LayoutModel",
            "_view_count": null,
            "_view_module": "@jupyter-widgets/base",
            "_view_module_version": "1.2.0",
            "_view_name": "LayoutView",
            "align_content": null,
            "align_items": null,
            "align_self": null,
            "border": null,
            "bottom": null,
            "display": null,
            "flex": null,
            "flex_flow": null,
            "grid_area": null,
            "grid_auto_columns": null,
            "grid_auto_flow": null,
            "grid_auto_rows": null,
            "grid_column": null,
            "grid_gap": null,
            "grid_row": null,
            "grid_template_areas": null,
            "grid_template_columns": null,
            "grid_template_rows": null,
            "height": null,
            "justify_content": null,
            "justify_items": null,
            "left": null,
            "margin": null,
            "max_height": null,
            "max_width": null,
            "min_height": null,
            "min_width": null,
            "object_fit": null,
            "object_position": null,
            "order": null,
            "overflow": null,
            "overflow_x": null,
            "overflow_y": null,
            "padding": null,
            "right": null,
            "top": null,
            "visibility": null,
            "width": null
          }
        },
        "ea2552ef27774d0296984f1cf4450c0e": {
          "model_module": "@jupyter-widgets/controls",
          "model_name": "DescriptionStyleModel",
          "model_module_version": "1.5.0",
          "state": {
            "_model_module": "@jupyter-widgets/controls",
            "_model_module_version": "1.5.0",
            "_model_name": "DescriptionStyleModel",
            "_view_count": null,
            "_view_module": "@jupyter-widgets/base",
            "_view_module_version": "1.2.0",
            "_view_name": "StyleView",
            "description_width": ""
          }
        },
        "c1acb0adced14aadb7f0befcac1a12e6": {
          "model_module": "@jupyter-widgets/controls",
          "model_name": "HBoxModel",
          "model_module_version": "1.5.0",
          "state": {
            "_dom_classes": [],
            "_model_module": "@jupyter-widgets/controls",
            "_model_module_version": "1.5.0",
            "_model_name": "HBoxModel",
            "_view_count": null,
            "_view_module": "@jupyter-widgets/controls",
            "_view_module_version": "1.5.0",
            "_view_name": "HBoxView",
            "box_style": "",
            "children": [
              "IPY_MODEL_83579f421dd244e8894a9361265f5aeb",
              "IPY_MODEL_b66330282c3f4760abe713c59babc6db",
              "IPY_MODEL_76413f3dd54c4a76b82f1d56e6bb97f5"
            ],
            "layout": "IPY_MODEL_afffcdb6cf8648aaabd4a98991c3b3a8"
          }
        },
        "83579f421dd244e8894a9361265f5aeb": {
          "model_module": "@jupyter-widgets/controls",
          "model_name": "HTMLModel",
          "model_module_version": "1.5.0",
          "state": {
            "_dom_classes": [],
            "_model_module": "@jupyter-widgets/controls",
            "_model_module_version": "1.5.0",
            "_model_name": "HTMLModel",
            "_view_count": null,
            "_view_module": "@jupyter-widgets/controls",
            "_view_module_version": "1.5.0",
            "_view_name": "HTMLView",
            "description": "",
            "description_tooltip": null,
            "layout": "IPY_MODEL_7346ebd765c6487199fd8a58fc67cceb",
            "placeholder": "​",
            "style": "IPY_MODEL_1965a9e086354ca6ab67396e7bf4fd2f",
            "value": "tokenizer.json: 100%"
          }
        },
        "b66330282c3f4760abe713c59babc6db": {
          "model_module": "@jupyter-widgets/controls",
          "model_name": "FloatProgressModel",
          "model_module_version": "1.5.0",
          "state": {
            "_dom_classes": [],
            "_model_module": "@jupyter-widgets/controls",
            "_model_module_version": "1.5.0",
            "_model_name": "FloatProgressModel",
            "_view_count": null,
            "_view_module": "@jupyter-widgets/controls",
            "_view_module_version": "1.5.0",
            "_view_name": "ProgressView",
            "bar_style": "success",
            "description": "",
            "description_tooltip": null,
            "layout": "IPY_MODEL_d97e8a3da2a94715b6ea5c840ec60577",
            "max": 466247,
            "min": 0,
            "orientation": "horizontal",
            "style": "IPY_MODEL_ac7ce8d2d8e141b4812a4112c230549d",
            "value": 466247
          }
        },
        "76413f3dd54c4a76b82f1d56e6bb97f5": {
          "model_module": "@jupyter-widgets/controls",
          "model_name": "HTMLModel",
          "model_module_version": "1.5.0",
          "state": {
            "_dom_classes": [],
            "_model_module": "@jupyter-widgets/controls",
            "_model_module_version": "1.5.0",
            "_model_name": "HTMLModel",
            "_view_count": null,
            "_view_module": "@jupyter-widgets/controls",
            "_view_module_version": "1.5.0",
            "_view_name": "HTMLView",
            "description": "",
            "description_tooltip": null,
            "layout": "IPY_MODEL_04cc70b860ad4cdebf0c9a12468fd631",
            "placeholder": "​",
            "style": "IPY_MODEL_9f1890a257434d4ca26b854d989735c0",
            "value": " 466k/466k [00:00&lt;00:00, 3.30MB/s]"
          }
        },
        "afffcdb6cf8648aaabd4a98991c3b3a8": {
          "model_module": "@jupyter-widgets/base",
          "model_name": "LayoutModel",
          "model_module_version": "1.2.0",
          "state": {
            "_model_module": "@jupyter-widgets/base",
            "_model_module_version": "1.2.0",
            "_model_name": "LayoutModel",
            "_view_count": null,
            "_view_module": "@jupyter-widgets/base",
            "_view_module_version": "1.2.0",
            "_view_name": "LayoutView",
            "align_content": null,
            "align_items": null,
            "align_self": null,
            "border": null,
            "bottom": null,
            "display": null,
            "flex": null,
            "flex_flow": null,
            "grid_area": null,
            "grid_auto_columns": null,
            "grid_auto_flow": null,
            "grid_auto_rows": null,
            "grid_column": null,
            "grid_gap": null,
            "grid_row": null,
            "grid_template_areas": null,
            "grid_template_columns": null,
            "grid_template_rows": null,
            "height": null,
            "justify_content": null,
            "justify_items": null,
            "left": null,
            "margin": null,
            "max_height": null,
            "max_width": null,
            "min_height": null,
            "min_width": null,
            "object_fit": null,
            "object_position": null,
            "order": null,
            "overflow": null,
            "overflow_x": null,
            "overflow_y": null,
            "padding": null,
            "right": null,
            "top": null,
            "visibility": null,
            "width": null
          }
        },
        "7346ebd765c6487199fd8a58fc67cceb": {
          "model_module": "@jupyter-widgets/base",
          "model_name": "LayoutModel",
          "model_module_version": "1.2.0",
          "state": {
            "_model_module": "@jupyter-widgets/base",
            "_model_module_version": "1.2.0",
            "_model_name": "LayoutModel",
            "_view_count": null,
            "_view_module": "@jupyter-widgets/base",
            "_view_module_version": "1.2.0",
            "_view_name": "LayoutView",
            "align_content": null,
            "align_items": null,
            "align_self": null,
            "border": null,
            "bottom": null,
            "display": null,
            "flex": null,
            "flex_flow": null,
            "grid_area": null,
            "grid_auto_columns": null,
            "grid_auto_flow": null,
            "grid_auto_rows": null,
            "grid_column": null,
            "grid_gap": null,
            "grid_row": null,
            "grid_template_areas": null,
            "grid_template_columns": null,
            "grid_template_rows": null,
            "height": null,
            "justify_content": null,
            "justify_items": null,
            "left": null,
            "margin": null,
            "max_height": null,
            "max_width": null,
            "min_height": null,
            "min_width": null,
            "object_fit": null,
            "object_position": null,
            "order": null,
            "overflow": null,
            "overflow_x": null,
            "overflow_y": null,
            "padding": null,
            "right": null,
            "top": null,
            "visibility": null,
            "width": null
          }
        },
        "1965a9e086354ca6ab67396e7bf4fd2f": {
          "model_module": "@jupyter-widgets/controls",
          "model_name": "DescriptionStyleModel",
          "model_module_version": "1.5.0",
          "state": {
            "_model_module": "@jupyter-widgets/controls",
            "_model_module_version": "1.5.0",
            "_model_name": "DescriptionStyleModel",
            "_view_count": null,
            "_view_module": "@jupyter-widgets/base",
            "_view_module_version": "1.2.0",
            "_view_name": "StyleView",
            "description_width": ""
          }
        },
        "d97e8a3da2a94715b6ea5c840ec60577": {
          "model_module": "@jupyter-widgets/base",
          "model_name": "LayoutModel",
          "model_module_version": "1.2.0",
          "state": {
            "_model_module": "@jupyter-widgets/base",
            "_model_module_version": "1.2.0",
            "_model_name": "LayoutModel",
            "_view_count": null,
            "_view_module": "@jupyter-widgets/base",
            "_view_module_version": "1.2.0",
            "_view_name": "LayoutView",
            "align_content": null,
            "align_items": null,
            "align_self": null,
            "border": null,
            "bottom": null,
            "display": null,
            "flex": null,
            "flex_flow": null,
            "grid_area": null,
            "grid_auto_columns": null,
            "grid_auto_flow": null,
            "grid_auto_rows": null,
            "grid_column": null,
            "grid_gap": null,
            "grid_row": null,
            "grid_template_areas": null,
            "grid_template_columns": null,
            "grid_template_rows": null,
            "height": null,
            "justify_content": null,
            "justify_items": null,
            "left": null,
            "margin": null,
            "max_height": null,
            "max_width": null,
            "min_height": null,
            "min_width": null,
            "object_fit": null,
            "object_position": null,
            "order": null,
            "overflow": null,
            "overflow_x": null,
            "overflow_y": null,
            "padding": null,
            "right": null,
            "top": null,
            "visibility": null,
            "width": null
          }
        },
        "ac7ce8d2d8e141b4812a4112c230549d": {
          "model_module": "@jupyter-widgets/controls",
          "model_name": "ProgressStyleModel",
          "model_module_version": "1.5.0",
          "state": {
            "_model_module": "@jupyter-widgets/controls",
            "_model_module_version": "1.5.0",
            "_model_name": "ProgressStyleModel",
            "_view_count": null,
            "_view_module": "@jupyter-widgets/base",
            "_view_module_version": "1.2.0",
            "_view_name": "StyleView",
            "bar_color": null,
            "description_width": ""
          }
        },
        "04cc70b860ad4cdebf0c9a12468fd631": {
          "model_module": "@jupyter-widgets/base",
          "model_name": "LayoutModel",
          "model_module_version": "1.2.0",
          "state": {
            "_model_module": "@jupyter-widgets/base",
            "_model_module_version": "1.2.0",
            "_model_name": "LayoutModel",
            "_view_count": null,
            "_view_module": "@jupyter-widgets/base",
            "_view_module_version": "1.2.0",
            "_view_name": "LayoutView",
            "align_content": null,
            "align_items": null,
            "align_self": null,
            "border": null,
            "bottom": null,
            "display": null,
            "flex": null,
            "flex_flow": null,
            "grid_area": null,
            "grid_auto_columns": null,
            "grid_auto_flow": null,
            "grid_auto_rows": null,
            "grid_column": null,
            "grid_gap": null,
            "grid_row": null,
            "grid_template_areas": null,
            "grid_template_columns": null,
            "grid_template_rows": null,
            "height": null,
            "justify_content": null,
            "justify_items": null,
            "left": null,
            "margin": null,
            "max_height": null,
            "max_width": null,
            "min_height": null,
            "min_width": null,
            "object_fit": null,
            "object_position": null,
            "order": null,
            "overflow": null,
            "overflow_x": null,
            "overflow_y": null,
            "padding": null,
            "right": null,
            "top": null,
            "visibility": null,
            "width": null
          }
        },
        "9f1890a257434d4ca26b854d989735c0": {
          "model_module": "@jupyter-widgets/controls",
          "model_name": "DescriptionStyleModel",
          "model_module_version": "1.5.0",
          "state": {
            "_model_module": "@jupyter-widgets/controls",
            "_model_module_version": "1.5.0",
            "_model_name": "DescriptionStyleModel",
            "_view_count": null,
            "_view_module": "@jupyter-widgets/base",
            "_view_module_version": "1.2.0",
            "_view_name": "StyleView",
            "description_width": ""
          }
        },
        "9d8b4732c1cf48b593cf5405f5a931bb": {
          "model_module": "@jupyter-widgets/controls",
          "model_name": "HBoxModel",
          "model_module_version": "1.5.0",
          "state": {
            "_dom_classes": [],
            "_model_module": "@jupyter-widgets/controls",
            "_model_module_version": "1.5.0",
            "_model_name": "HBoxModel",
            "_view_count": null,
            "_view_module": "@jupyter-widgets/controls",
            "_view_module_version": "1.5.0",
            "_view_name": "HBoxView",
            "box_style": "",
            "children": [
              "IPY_MODEL_0d45681e970544f1a3ac95fdc2a8ab12",
              "IPY_MODEL_4d044ebff0b342a89acc146fef1e9dd4",
              "IPY_MODEL_98020880d9fa4687b24d3b51ad401aa4"
            ],
            "layout": "IPY_MODEL_3996a3897f7e4735a4f9b9b6551d0b9d"
          }
        },
        "0d45681e970544f1a3ac95fdc2a8ab12": {
          "model_module": "@jupyter-widgets/controls",
          "model_name": "HTMLModel",
          "model_module_version": "1.5.0",
          "state": {
            "_dom_classes": [],
            "_model_module": "@jupyter-widgets/controls",
            "_model_module_version": "1.5.0",
            "_model_name": "HTMLModel",
            "_view_count": null,
            "_view_module": "@jupyter-widgets/controls",
            "_view_module_version": "1.5.0",
            "_view_name": "HTMLView",
            "description": "",
            "description_tooltip": null,
            "layout": "IPY_MODEL_0038310ce4f84f92a70c66887e73301f",
            "placeholder": "​",
            "style": "IPY_MODEL_78c0b4abd296415da106c2ed2e7d6daa",
            "value": "special_tokens_map.json: 100%"
          }
        },
        "4d044ebff0b342a89acc146fef1e9dd4": {
          "model_module": "@jupyter-widgets/controls",
          "model_name": "FloatProgressModel",
          "model_module_version": "1.5.0",
          "state": {
            "_dom_classes": [],
            "_model_module": "@jupyter-widgets/controls",
            "_model_module_version": "1.5.0",
            "_model_name": "FloatProgressModel",
            "_view_count": null,
            "_view_module": "@jupyter-widgets/controls",
            "_view_module_version": "1.5.0",
            "_view_name": "ProgressView",
            "bar_style": "success",
            "description": "",
            "description_tooltip": null,
            "layout": "IPY_MODEL_513d3a4d4d044be4841e8f476d9d0b51",
            "max": 112,
            "min": 0,
            "orientation": "horizontal",
            "style": "IPY_MODEL_8f725d4ad4b6437e991e65749161351f",
            "value": 112
          }
        },
        "98020880d9fa4687b24d3b51ad401aa4": {
          "model_module": "@jupyter-widgets/controls",
          "model_name": "HTMLModel",
          "model_module_version": "1.5.0",
          "state": {
            "_dom_classes": [],
            "_model_module": "@jupyter-widgets/controls",
            "_model_module_version": "1.5.0",
            "_model_name": "HTMLModel",
            "_view_count": null,
            "_view_module": "@jupyter-widgets/controls",
            "_view_module_version": "1.5.0",
            "_view_name": "HTMLView",
            "description": "",
            "description_tooltip": null,
            "layout": "IPY_MODEL_b1d847a941bb439da0dce93777d67b8d",
            "placeholder": "​",
            "style": "IPY_MODEL_f5315ba82b1349ce9c1e2e295c9cdb37",
            "value": " 112/112 [00:00&lt;00:00, 9.13kB/s]"
          }
        },
        "3996a3897f7e4735a4f9b9b6551d0b9d": {
          "model_module": "@jupyter-widgets/base",
          "model_name": "LayoutModel",
          "model_module_version": "1.2.0",
          "state": {
            "_model_module": "@jupyter-widgets/base",
            "_model_module_version": "1.2.0",
            "_model_name": "LayoutModel",
            "_view_count": null,
            "_view_module": "@jupyter-widgets/base",
            "_view_module_version": "1.2.0",
            "_view_name": "LayoutView",
            "align_content": null,
            "align_items": null,
            "align_self": null,
            "border": null,
            "bottom": null,
            "display": null,
            "flex": null,
            "flex_flow": null,
            "grid_area": null,
            "grid_auto_columns": null,
            "grid_auto_flow": null,
            "grid_auto_rows": null,
            "grid_column": null,
            "grid_gap": null,
            "grid_row": null,
            "grid_template_areas": null,
            "grid_template_columns": null,
            "grid_template_rows": null,
            "height": null,
            "justify_content": null,
            "justify_items": null,
            "left": null,
            "margin": null,
            "max_height": null,
            "max_width": null,
            "min_height": null,
            "min_width": null,
            "object_fit": null,
            "object_position": null,
            "order": null,
            "overflow": null,
            "overflow_x": null,
            "overflow_y": null,
            "padding": null,
            "right": null,
            "top": null,
            "visibility": null,
            "width": null
          }
        },
        "0038310ce4f84f92a70c66887e73301f": {
          "model_module": "@jupyter-widgets/base",
          "model_name": "LayoutModel",
          "model_module_version": "1.2.0",
          "state": {
            "_model_module": "@jupyter-widgets/base",
            "_model_module_version": "1.2.0",
            "_model_name": "LayoutModel",
            "_view_count": null,
            "_view_module": "@jupyter-widgets/base",
            "_view_module_version": "1.2.0",
            "_view_name": "LayoutView",
            "align_content": null,
            "align_items": null,
            "align_self": null,
            "border": null,
            "bottom": null,
            "display": null,
            "flex": null,
            "flex_flow": null,
            "grid_area": null,
            "grid_auto_columns": null,
            "grid_auto_flow": null,
            "grid_auto_rows": null,
            "grid_column": null,
            "grid_gap": null,
            "grid_row": null,
            "grid_template_areas": null,
            "grid_template_columns": null,
            "grid_template_rows": null,
            "height": null,
            "justify_content": null,
            "justify_items": null,
            "left": null,
            "margin": null,
            "max_height": null,
            "max_width": null,
            "min_height": null,
            "min_width": null,
            "object_fit": null,
            "object_position": null,
            "order": null,
            "overflow": null,
            "overflow_x": null,
            "overflow_y": null,
            "padding": null,
            "right": null,
            "top": null,
            "visibility": null,
            "width": null
          }
        },
        "78c0b4abd296415da106c2ed2e7d6daa": {
          "model_module": "@jupyter-widgets/controls",
          "model_name": "DescriptionStyleModel",
          "model_module_version": "1.5.0",
          "state": {
            "_model_module": "@jupyter-widgets/controls",
            "_model_module_version": "1.5.0",
            "_model_name": "DescriptionStyleModel",
            "_view_count": null,
            "_view_module": "@jupyter-widgets/base",
            "_view_module_version": "1.2.0",
            "_view_name": "StyleView",
            "description_width": ""
          }
        },
        "513d3a4d4d044be4841e8f476d9d0b51": {
          "model_module": "@jupyter-widgets/base",
          "model_name": "LayoutModel",
          "model_module_version": "1.2.0",
          "state": {
            "_model_module": "@jupyter-widgets/base",
            "_model_module_version": "1.2.0",
            "_model_name": "LayoutModel",
            "_view_count": null,
            "_view_module": "@jupyter-widgets/base",
            "_view_module_version": "1.2.0",
            "_view_name": "LayoutView",
            "align_content": null,
            "align_items": null,
            "align_self": null,
            "border": null,
            "bottom": null,
            "display": null,
            "flex": null,
            "flex_flow": null,
            "grid_area": null,
            "grid_auto_columns": null,
            "grid_auto_flow": null,
            "grid_auto_rows": null,
            "grid_column": null,
            "grid_gap": null,
            "grid_row": null,
            "grid_template_areas": null,
            "grid_template_columns": null,
            "grid_template_rows": null,
            "height": null,
            "justify_content": null,
            "justify_items": null,
            "left": null,
            "margin": null,
            "max_height": null,
            "max_width": null,
            "min_height": null,
            "min_width": null,
            "object_fit": null,
            "object_position": null,
            "order": null,
            "overflow": null,
            "overflow_x": null,
            "overflow_y": null,
            "padding": null,
            "right": null,
            "top": null,
            "visibility": null,
            "width": null
          }
        },
        "8f725d4ad4b6437e991e65749161351f": {
          "model_module": "@jupyter-widgets/controls",
          "model_name": "ProgressStyleModel",
          "model_module_version": "1.5.0",
          "state": {
            "_model_module": "@jupyter-widgets/controls",
            "_model_module_version": "1.5.0",
            "_model_name": "ProgressStyleModel",
            "_view_count": null,
            "_view_module": "@jupyter-widgets/base",
            "_view_module_version": "1.2.0",
            "_view_name": "StyleView",
            "bar_color": null,
            "description_width": ""
          }
        },
        "b1d847a941bb439da0dce93777d67b8d": {
          "model_module": "@jupyter-widgets/base",
          "model_name": "LayoutModel",
          "model_module_version": "1.2.0",
          "state": {
            "_model_module": "@jupyter-widgets/base",
            "_model_module_version": "1.2.0",
            "_model_name": "LayoutModel",
            "_view_count": null,
            "_view_module": "@jupyter-widgets/base",
            "_view_module_version": "1.2.0",
            "_view_name": "LayoutView",
            "align_content": null,
            "align_items": null,
            "align_self": null,
            "border": null,
            "bottom": null,
            "display": null,
            "flex": null,
            "flex_flow": null,
            "grid_area": null,
            "grid_auto_columns": null,
            "grid_auto_flow": null,
            "grid_auto_rows": null,
            "grid_column": null,
            "grid_gap": null,
            "grid_row": null,
            "grid_template_areas": null,
            "grid_template_columns": null,
            "grid_template_rows": null,
            "height": null,
            "justify_content": null,
            "justify_items": null,
            "left": null,
            "margin": null,
            "max_height": null,
            "max_width": null,
            "min_height": null,
            "min_width": null,
            "object_fit": null,
            "object_position": null,
            "order": null,
            "overflow": null,
            "overflow_x": null,
            "overflow_y": null,
            "padding": null,
            "right": null,
            "top": null,
            "visibility": null,
            "width": null
          }
        },
        "f5315ba82b1349ce9c1e2e295c9cdb37": {
          "model_module": "@jupyter-widgets/controls",
          "model_name": "DescriptionStyleModel",
          "model_module_version": "1.5.0",
          "state": {
            "_model_module": "@jupyter-widgets/controls",
            "_model_module_version": "1.5.0",
            "_model_name": "DescriptionStyleModel",
            "_view_count": null,
            "_view_module": "@jupyter-widgets/base",
            "_view_module_version": "1.2.0",
            "_view_name": "StyleView",
            "description_width": ""
          }
        },
        "c843ec22fce94b888102c65f15c13d74": {
          "model_module": "@jupyter-widgets/controls",
          "model_name": "HBoxModel",
          "model_module_version": "1.5.0",
          "state": {
            "_dom_classes": [],
            "_model_module": "@jupyter-widgets/controls",
            "_model_module_version": "1.5.0",
            "_model_name": "HBoxModel",
            "_view_count": null,
            "_view_module": "@jupyter-widgets/controls",
            "_view_module_version": "1.5.0",
            "_view_name": "HBoxView",
            "box_style": "",
            "children": [
              "IPY_MODEL_a0d3afe23a3a4916bcd26876860913c9",
              "IPY_MODEL_5930ed24add04a089c3d5c758a4dd9e6",
              "IPY_MODEL_d1a9b8fc51984cd4aedb575d037587fc"
            ],
            "layout": "IPY_MODEL_57d22e11ed694bae9dce09b405b30405"
          }
        },
        "a0d3afe23a3a4916bcd26876860913c9": {
          "model_module": "@jupyter-widgets/controls",
          "model_name": "HTMLModel",
          "model_module_version": "1.5.0",
          "state": {
            "_dom_classes": [],
            "_model_module": "@jupyter-widgets/controls",
            "_model_module_version": "1.5.0",
            "_model_name": "HTMLModel",
            "_view_count": null,
            "_view_module": "@jupyter-widgets/controls",
            "_view_module_version": "1.5.0",
            "_view_name": "HTMLView",
            "description": "",
            "description_tooltip": null,
            "layout": "IPY_MODEL_9a225d6fdd544a7c9626a14ccc00826c",
            "placeholder": "​",
            "style": "IPY_MODEL_82e8e374b0044ad98540860a72b369df",
            "value": "config.json: 100%"
          }
        },
        "5930ed24add04a089c3d5c758a4dd9e6": {
          "model_module": "@jupyter-widgets/controls",
          "model_name": "FloatProgressModel",
          "model_module_version": "1.5.0",
          "state": {
            "_dom_classes": [],
            "_model_module": "@jupyter-widgets/controls",
            "_model_module_version": "1.5.0",
            "_model_name": "FloatProgressModel",
            "_view_count": null,
            "_view_module": "@jupyter-widgets/controls",
            "_view_module_version": "1.5.0",
            "_view_name": "ProgressView",
            "bar_style": "success",
            "description": "",
            "description_tooltip": null,
            "layout": "IPY_MODEL_cabc4cb3229046578865d06b8e48dbd7",
            "max": 190,
            "min": 0,
            "orientation": "horizontal",
            "style": "IPY_MODEL_43f16857a2044fe399420893e63dcc52",
            "value": 190
          }
        },
        "d1a9b8fc51984cd4aedb575d037587fc": {
          "model_module": "@jupyter-widgets/controls",
          "model_name": "HTMLModel",
          "model_module_version": "1.5.0",
          "state": {
            "_dom_classes": [],
            "_model_module": "@jupyter-widgets/controls",
            "_model_module_version": "1.5.0",
            "_model_name": "HTMLModel",
            "_view_count": null,
            "_view_module": "@jupyter-widgets/controls",
            "_view_module_version": "1.5.0",
            "_view_name": "HTMLView",
            "description": "",
            "description_tooltip": null,
            "layout": "IPY_MODEL_964a347bd3354ffab7585ce24a80608b",
            "placeholder": "​",
            "style": "IPY_MODEL_1a8aff8a4b284431a7d5c724852e71dd",
            "value": " 190/190 [00:00&lt;00:00, 15.2kB/s]"
          }
        },
        "57d22e11ed694bae9dce09b405b30405": {
          "model_module": "@jupyter-widgets/base",
          "model_name": "LayoutModel",
          "model_module_version": "1.2.0",
          "state": {
            "_model_module": "@jupyter-widgets/base",
            "_model_module_version": "1.2.0",
            "_model_name": "LayoutModel",
            "_view_count": null,
            "_view_module": "@jupyter-widgets/base",
            "_view_module_version": "1.2.0",
            "_view_name": "LayoutView",
            "align_content": null,
            "align_items": null,
            "align_self": null,
            "border": null,
            "bottom": null,
            "display": null,
            "flex": null,
            "flex_flow": null,
            "grid_area": null,
            "grid_auto_columns": null,
            "grid_auto_flow": null,
            "grid_auto_rows": null,
            "grid_column": null,
            "grid_gap": null,
            "grid_row": null,
            "grid_template_areas": null,
            "grid_template_columns": null,
            "grid_template_rows": null,
            "height": null,
            "justify_content": null,
            "justify_items": null,
            "left": null,
            "margin": null,
            "max_height": null,
            "max_width": null,
            "min_height": null,
            "min_width": null,
            "object_fit": null,
            "object_position": null,
            "order": null,
            "overflow": null,
            "overflow_x": null,
            "overflow_y": null,
            "padding": null,
            "right": null,
            "top": null,
            "visibility": null,
            "width": null
          }
        },
        "9a225d6fdd544a7c9626a14ccc00826c": {
          "model_module": "@jupyter-widgets/base",
          "model_name": "LayoutModel",
          "model_module_version": "1.2.0",
          "state": {
            "_model_module": "@jupyter-widgets/base",
            "_model_module_version": "1.2.0",
            "_model_name": "LayoutModel",
            "_view_count": null,
            "_view_module": "@jupyter-widgets/base",
            "_view_module_version": "1.2.0",
            "_view_name": "LayoutView",
            "align_content": null,
            "align_items": null,
            "align_self": null,
            "border": null,
            "bottom": null,
            "display": null,
            "flex": null,
            "flex_flow": null,
            "grid_area": null,
            "grid_auto_columns": null,
            "grid_auto_flow": null,
            "grid_auto_rows": null,
            "grid_column": null,
            "grid_gap": null,
            "grid_row": null,
            "grid_template_areas": null,
            "grid_template_columns": null,
            "grid_template_rows": null,
            "height": null,
            "justify_content": null,
            "justify_items": null,
            "left": null,
            "margin": null,
            "max_height": null,
            "max_width": null,
            "min_height": null,
            "min_width": null,
            "object_fit": null,
            "object_position": null,
            "order": null,
            "overflow": null,
            "overflow_x": null,
            "overflow_y": null,
            "padding": null,
            "right": null,
            "top": null,
            "visibility": null,
            "width": null
          }
        },
        "82e8e374b0044ad98540860a72b369df": {
          "model_module": "@jupyter-widgets/controls",
          "model_name": "DescriptionStyleModel",
          "model_module_version": "1.5.0",
          "state": {
            "_model_module": "@jupyter-widgets/controls",
            "_model_module_version": "1.5.0",
            "_model_name": "DescriptionStyleModel",
            "_view_count": null,
            "_view_module": "@jupyter-widgets/base",
            "_view_module_version": "1.2.0",
            "_view_name": "StyleView",
            "description_width": ""
          }
        },
        "cabc4cb3229046578865d06b8e48dbd7": {
          "model_module": "@jupyter-widgets/base",
          "model_name": "LayoutModel",
          "model_module_version": "1.2.0",
          "state": {
            "_model_module": "@jupyter-widgets/base",
            "_model_module_version": "1.2.0",
            "_model_name": "LayoutModel",
            "_view_count": null,
            "_view_module": "@jupyter-widgets/base",
            "_view_module_version": "1.2.0",
            "_view_name": "LayoutView",
            "align_content": null,
            "align_items": null,
            "align_self": null,
            "border": null,
            "bottom": null,
            "display": null,
            "flex": null,
            "flex_flow": null,
            "grid_area": null,
            "grid_auto_columns": null,
            "grid_auto_flow": null,
            "grid_auto_rows": null,
            "grid_column": null,
            "grid_gap": null,
            "grid_row": null,
            "grid_template_areas": null,
            "grid_template_columns": null,
            "grid_template_rows": null,
            "height": null,
            "justify_content": null,
            "justify_items": null,
            "left": null,
            "margin": null,
            "max_height": null,
            "max_width": null,
            "min_height": null,
            "min_width": null,
            "object_fit": null,
            "object_position": null,
            "order": null,
            "overflow": null,
            "overflow_x": null,
            "overflow_y": null,
            "padding": null,
            "right": null,
            "top": null,
            "visibility": null,
            "width": null
          }
        },
        "43f16857a2044fe399420893e63dcc52": {
          "model_module": "@jupyter-widgets/controls",
          "model_name": "ProgressStyleModel",
          "model_module_version": "1.5.0",
          "state": {
            "_model_module": "@jupyter-widgets/controls",
            "_model_module_version": "1.5.0",
            "_model_name": "ProgressStyleModel",
            "_view_count": null,
            "_view_module": "@jupyter-widgets/base",
            "_view_module_version": "1.2.0",
            "_view_name": "StyleView",
            "bar_color": null,
            "description_width": ""
          }
        },
        "964a347bd3354ffab7585ce24a80608b": {
          "model_module": "@jupyter-widgets/base",
          "model_name": "LayoutModel",
          "model_module_version": "1.2.0",
          "state": {
            "_model_module": "@jupyter-widgets/base",
            "_model_module_version": "1.2.0",
            "_model_name": "LayoutModel",
            "_view_count": null,
            "_view_module": "@jupyter-widgets/base",
            "_view_module_version": "1.2.0",
            "_view_name": "LayoutView",
            "align_content": null,
            "align_items": null,
            "align_self": null,
            "border": null,
            "bottom": null,
            "display": null,
            "flex": null,
            "flex_flow": null,
            "grid_area": null,
            "grid_auto_columns": null,
            "grid_auto_flow": null,
            "grid_auto_rows": null,
            "grid_column": null,
            "grid_gap": null,
            "grid_row": null,
            "grid_template_areas": null,
            "grid_template_columns": null,
            "grid_template_rows": null,
            "height": null,
            "justify_content": null,
            "justify_items": null,
            "left": null,
            "margin": null,
            "max_height": null,
            "max_width": null,
            "min_height": null,
            "min_width": null,
            "object_fit": null,
            "object_position": null,
            "order": null,
            "overflow": null,
            "overflow_x": null,
            "overflow_y": null,
            "padding": null,
            "right": null,
            "top": null,
            "visibility": null,
            "width": null
          }
        },
        "1a8aff8a4b284431a7d5c724852e71dd": {
          "model_module": "@jupyter-widgets/controls",
          "model_name": "DescriptionStyleModel",
          "model_module_version": "1.5.0",
          "state": {
            "_model_module": "@jupyter-widgets/controls",
            "_model_module_version": "1.5.0",
            "_model_name": "DescriptionStyleModel",
            "_view_count": null,
            "_view_module": "@jupyter-widgets/base",
            "_view_module_version": "1.2.0",
            "_view_name": "StyleView",
            "description_width": ""
          }
        }
      }
    }
  },
  "cells": [
    {
      "cell_type": "code",
      "execution_count": null,
      "metadata": {
        "colab": {
          "base_uri": "https://localhost:8080/"
        },
        "id": "-ximl6zcuJDf",
        "outputId": "394169a8-4449-4965-8c17-bc9993f275e5"
      },
      "outputs": [
        {
          "output_type": "stream",
          "name": "stdout",
          "text": [
            "Collecting agno\n",
            "  Downloading agno-1.3.4-py3-none-any.whl.metadata (45 kB)\n",
            "\u001b[?25l     \u001b[90m━━━━━━━━━━━━━━━━━━━━━━━━━━━━━━━━━━━━━━━━\u001b[0m \u001b[32m0.0/45.0 kB\u001b[0m \u001b[31m?\u001b[0m eta \u001b[36m-:--:--\u001b[0m\r\u001b[2K     \u001b[90m━━━━━━━━━━━━━━━━━━━━━━━━━━━━━━━━━━━━━━━━\u001b[0m \u001b[32m45.0/45.0 kB\u001b[0m \u001b[31m2.2 MB/s\u001b[0m eta \u001b[36m0:00:00\u001b[0m\n",
            "\u001b[?25hRequirement already satisfied: docstring-parser in /usr/local/lib/python3.11/dist-packages (from agno) (0.16)\n",
            "Requirement already satisfied: gitpython in /usr/local/lib/python3.11/dist-packages (from agno) (3.1.44)\n",
            "Requirement already satisfied: httpx in /usr/local/lib/python3.11/dist-packages (from agno) (0.28.1)\n",
            "Collecting pydantic-settings (from agno)\n",
            "  Downloading pydantic_settings-2.9.1-py3-none-any.whl.metadata (3.8 kB)\n",
            "Requirement already satisfied: pydantic in /usr/local/lib/python3.11/dist-packages (from agno) (2.11.3)\n",
            "Collecting python-dotenv (from agno)\n",
            "  Downloading python_dotenv-1.1.0-py3-none-any.whl.metadata (24 kB)\n",
            "Collecting python-multipart (from agno)\n",
            "  Downloading python_multipart-0.0.20-py3-none-any.whl.metadata (1.8 kB)\n",
            "Requirement already satisfied: pyyaml in /usr/local/lib/python3.11/dist-packages (from agno) (6.0.2)\n",
            "Requirement already satisfied: rich in /usr/local/lib/python3.11/dist-packages (from agno) (13.9.4)\n",
            "Collecting tomli (from agno)\n",
            "  Downloading tomli-2.2.1-cp311-cp311-manylinux_2_17_x86_64.manylinux2014_x86_64.whl.metadata (11 kB)\n",
            "Requirement already satisfied: typer in /usr/local/lib/python3.11/dist-packages (from agno) (0.15.2)\n",
            "Requirement already satisfied: typing-extensions in /usr/local/lib/python3.11/dist-packages (from agno) (4.13.2)\n",
            "Requirement already satisfied: gitdb<5,>=4.0.1 in /usr/local/lib/python3.11/dist-packages (from gitpython->agno) (4.0.12)\n",
            "Requirement already satisfied: anyio in /usr/local/lib/python3.11/dist-packages (from httpx->agno) (4.9.0)\n",
            "Requirement already satisfied: certifi in /usr/local/lib/python3.11/dist-packages (from httpx->agno) (2025.1.31)\n",
            "Requirement already satisfied: httpcore==1.* in /usr/local/lib/python3.11/dist-packages (from httpx->agno) (1.0.8)\n",
            "Requirement already satisfied: idna in /usr/local/lib/python3.11/dist-packages (from httpx->agno) (3.10)\n",
            "Requirement already satisfied: h11<0.15,>=0.13 in /usr/local/lib/python3.11/dist-packages (from httpcore==1.*->httpx->agno) (0.14.0)\n",
            "Requirement already satisfied: annotated-types>=0.6.0 in /usr/local/lib/python3.11/dist-packages (from pydantic->agno) (0.7.0)\n",
            "Requirement already satisfied: pydantic-core==2.33.1 in /usr/local/lib/python3.11/dist-packages (from pydantic->agno) (2.33.1)\n",
            "Requirement already satisfied: typing-inspection>=0.4.0 in /usr/local/lib/python3.11/dist-packages (from pydantic->agno) (0.4.0)\n",
            "Requirement already satisfied: markdown-it-py>=2.2.0 in /usr/local/lib/python3.11/dist-packages (from rich->agno) (3.0.0)\n",
            "Requirement already satisfied: pygments<3.0.0,>=2.13.0 in /usr/local/lib/python3.11/dist-packages (from rich->agno) (2.18.0)\n",
            "Requirement already satisfied: click>=8.0.0 in /usr/local/lib/python3.11/dist-packages (from typer->agno) (8.1.8)\n",
            "Requirement already satisfied: shellingham>=1.3.0 in /usr/local/lib/python3.11/dist-packages (from typer->agno) (1.5.4)\n",
            "Requirement already satisfied: smmap<6,>=3.0.1 in /usr/local/lib/python3.11/dist-packages (from gitdb<5,>=4.0.1->gitpython->agno) (5.0.2)\n",
            "Requirement already satisfied: mdurl~=0.1 in /usr/local/lib/python3.11/dist-packages (from markdown-it-py>=2.2.0->rich->agno) (0.1.2)\n",
            "Requirement already satisfied: sniffio>=1.1 in /usr/local/lib/python3.11/dist-packages (from anyio->httpx->agno) (1.3.1)\n",
            "Downloading agno-1.3.4-py3-none-any.whl (660 kB)\n",
            "\u001b[2K   \u001b[90m━━━━━━━━━━━━━━━━━━━━━━━━━━━━━━━━━━━━━━━━\u001b[0m \u001b[32m660.6/660.6 kB\u001b[0m \u001b[31m12.6 MB/s\u001b[0m eta \u001b[36m0:00:00\u001b[0m\n",
            "\u001b[?25hDownloading pydantic_settings-2.9.1-py3-none-any.whl (44 kB)\n",
            "\u001b[2K   \u001b[90m━━━━━━━━━━━━━━━━━━━━━━━━━━━━━━━━━━━━━━━━\u001b[0m \u001b[32m44.4/44.4 kB\u001b[0m \u001b[31m1.4 MB/s\u001b[0m eta \u001b[36m0:00:00\u001b[0m\n",
            "\u001b[?25hDownloading python_dotenv-1.1.0-py3-none-any.whl (20 kB)\n",
            "Downloading python_multipart-0.0.20-py3-none-any.whl (24 kB)\n",
            "Downloading tomli-2.2.1-cp311-cp311-manylinux_2_17_x86_64.manylinux2014_x86_64.whl (236 kB)\n",
            "\u001b[2K   \u001b[90m━━━━━━━━━━━━━━━━━━━━━━━━━━━━━━━━━━━━━━━━\u001b[0m \u001b[32m236.0/236.0 kB\u001b[0m \u001b[31m8.2 MB/s\u001b[0m eta \u001b[36m0:00:00\u001b[0m\n",
            "\u001b[?25hInstalling collected packages: tomli, python-multipart, python-dotenv, pydantic-settings, agno\n",
            "Successfully installed agno-1.3.4 pydantic-settings-2.9.1 python-dotenv-1.1.0 python-multipart-0.0.20 tomli-2.2.1\n"
          ]
        }
      ],
      "source": [
        "pip install -U agno"
      ]
    },
    {
      "cell_type": "code",
      "source": [
        "pip install chromadb"
      ],
      "metadata": {
        "colab": {
          "base_uri": "https://localhost:8080/"
        },
        "id": "qV8vaxhM0znk",
        "outputId": "bee66292-aaf8-440b-f2d0-ba5fa5b6ec03"
      },
      "execution_count": null,
      "outputs": [
        {
          "output_type": "stream",
          "name": "stdout",
          "text": [
            "Collecting chromadb\n",
            "  Downloading chromadb-1.0.5-cp39-abi3-manylinux_2_17_x86_64.manylinux2014_x86_64.whl.metadata (6.9 kB)\n",
            "Collecting build>=1.0.3 (from chromadb)\n",
            "  Downloading build-1.2.2.post1-py3-none-any.whl.metadata (6.5 kB)\n",
            "Requirement already satisfied: pydantic>=1.9 in /usr/local/lib/python3.11/dist-packages (from chromadb) (2.11.3)\n",
            "Collecting chroma-hnswlib==0.7.6 (from chromadb)\n",
            "  Downloading chroma_hnswlib-0.7.6-cp311-cp311-manylinux_2_17_x86_64.manylinux2014_x86_64.whl.metadata (252 bytes)\n",
            "Collecting fastapi==0.115.9 (from chromadb)\n",
            "  Downloading fastapi-0.115.9-py3-none-any.whl.metadata (27 kB)\n",
            "Collecting uvicorn>=0.18.3 (from uvicorn[standard]>=0.18.3->chromadb)\n",
            "  Downloading uvicorn-0.34.2-py3-none-any.whl.metadata (6.5 kB)\n",
            "Requirement already satisfied: numpy>=1.22.5 in /usr/local/lib/python3.11/dist-packages (from chromadb) (2.0.2)\n",
            "Collecting posthog>=2.4.0 (from chromadb)\n",
            "  Downloading posthog-3.25.0-py2.py3-none-any.whl.metadata (3.0 kB)\n",
            "Requirement already satisfied: typing-extensions>=4.5.0 in /usr/local/lib/python3.11/dist-packages (from chromadb) (4.13.2)\n",
            "Collecting onnxruntime>=1.14.1 (from chromadb)\n",
            "  Downloading onnxruntime-1.21.1-cp311-cp311-manylinux_2_27_x86_64.manylinux_2_28_x86_64.whl.metadata (4.5 kB)\n",
            "Requirement already satisfied: opentelemetry-api>=1.2.0 in /usr/local/lib/python3.11/dist-packages (from chromadb) (1.32.1)\n",
            "Collecting opentelemetry-exporter-otlp-proto-grpc>=1.2.0 (from chromadb)\n",
            "  Downloading opentelemetry_exporter_otlp_proto_grpc-1.32.1-py3-none-any.whl.metadata (2.5 kB)\n",
            "Collecting opentelemetry-instrumentation-fastapi>=0.41b0 (from chromadb)\n",
            "  Downloading opentelemetry_instrumentation_fastapi-0.53b1-py3-none-any.whl.metadata (2.2 kB)\n",
            "Requirement already satisfied: opentelemetry-sdk>=1.2.0 in /usr/local/lib/python3.11/dist-packages (from chromadb) (1.32.1)\n",
            "Requirement already satisfied: tokenizers>=0.13.2 in /usr/local/lib/python3.11/dist-packages (from chromadb) (0.21.1)\n",
            "Collecting pypika>=0.48.9 (from chromadb)\n",
            "  Downloading PyPika-0.48.9.tar.gz (67 kB)\n",
            "\u001b[2K     \u001b[90m━━━━━━━━━━━━━━━━━━━━━━━━━━━━━━━━━━━━━━━━\u001b[0m \u001b[32m67.3/67.3 kB\u001b[0m \u001b[31m4.7 MB/s\u001b[0m eta \u001b[36m0:00:00\u001b[0m\n",
            "\u001b[?25h  Installing build dependencies ... \u001b[?25l\u001b[?25hdone\n",
            "  Getting requirements to build wheel ... \u001b[?25l\u001b[?25hdone\n",
            "  Preparing metadata (pyproject.toml) ... \u001b[?25l\u001b[?25hdone\n",
            "Requirement already satisfied: tqdm>=4.65.0 in /usr/local/lib/python3.11/dist-packages (from chromadb) (4.67.1)\n",
            "Collecting overrides>=7.3.1 (from chromadb)\n",
            "  Downloading overrides-7.7.0-py3-none-any.whl.metadata (5.8 kB)\n",
            "Requirement already satisfied: importlib-resources in /usr/local/lib/python3.11/dist-packages (from chromadb) (6.5.2)\n",
            "Requirement already satisfied: grpcio>=1.58.0 in /usr/local/lib/python3.11/dist-packages (from chromadb) (1.71.0)\n",
            "Collecting bcrypt>=4.0.1 (from chromadb)\n",
            "  Downloading bcrypt-4.3.0-cp39-abi3-manylinux_2_34_x86_64.whl.metadata (10 kB)\n",
            "Requirement already satisfied: typer>=0.9.0 in /usr/local/lib/python3.11/dist-packages (from chromadb) (0.15.2)\n",
            "\u001b[33mWARNING: Retrying (Retry(total=4, connect=None, read=None, redirect=None, status=None)) after connection broken by 'ProtocolError('Connection aborted.', RemoteDisconnected('Remote end closed connection without response'))': /simple/kubernetes/\u001b[0m\u001b[33m\n",
            "\u001b[0mCollecting kubernetes>=28.1.0 (from chromadb)\n",
            "  Downloading kubernetes-32.0.1-py2.py3-none-any.whl.metadata (1.7 kB)\n",
            "Requirement already satisfied: tenacity>=8.2.3 in /usr/local/lib/python3.11/dist-packages (from chromadb) (9.1.2)\n",
            "Requirement already satisfied: pyyaml>=6.0.0 in /usr/local/lib/python3.11/dist-packages (from chromadb) (6.0.2)\n",
            "Collecting mmh3>=4.0.1 (from chromadb)\n",
            "  Downloading mmh3-5.1.0-cp311-cp311-manylinux_2_5_x86_64.manylinux1_x86_64.manylinux_2_17_x86_64.manylinux2014_x86_64.whl.metadata (16 kB)\n",
            "Requirement already satisfied: orjson>=3.9.12 in /usr/local/lib/python3.11/dist-packages (from chromadb) (3.10.16)\n",
            "Requirement already satisfied: httpx>=0.27.0 in /usr/local/lib/python3.11/dist-packages (from chromadb) (0.28.1)\n",
            "Requirement already satisfied: rich>=10.11.0 in /usr/local/lib/python3.11/dist-packages (from chromadb) (13.9.4)\n",
            "Requirement already satisfied: jsonschema>=4.19.0 in /usr/local/lib/python3.11/dist-packages (from chromadb) (4.23.0)\n",
            "Collecting starlette<0.46.0,>=0.40.0 (from fastapi==0.115.9->chromadb)\n",
            "  Downloading starlette-0.45.3-py3-none-any.whl.metadata (6.3 kB)\n",
            "Requirement already satisfied: packaging>=19.1 in /usr/local/lib/python3.11/dist-packages (from build>=1.0.3->chromadb) (24.2)\n",
            "Collecting pyproject_hooks (from build>=1.0.3->chromadb)\n",
            "  Downloading pyproject_hooks-1.2.0-py3-none-any.whl.metadata (1.3 kB)\n",
            "Requirement already satisfied: anyio in /usr/local/lib/python3.11/dist-packages (from httpx>=0.27.0->chromadb) (4.9.0)\n",
            "Requirement already satisfied: certifi in /usr/local/lib/python3.11/dist-packages (from httpx>=0.27.0->chromadb) (2025.1.31)\n",
            "Requirement already satisfied: httpcore==1.* in /usr/local/lib/python3.11/dist-packages (from httpx>=0.27.0->chromadb) (1.0.8)\n",
            "Requirement already satisfied: idna in /usr/local/lib/python3.11/dist-packages (from httpx>=0.27.0->chromadb) (3.10)\n",
            "Requirement already satisfied: h11<0.15,>=0.13 in /usr/local/lib/python3.11/dist-packages (from httpcore==1.*->httpx>=0.27.0->chromadb) (0.14.0)\n",
            "Requirement already satisfied: attrs>=22.2.0 in /usr/local/lib/python3.11/dist-packages (from jsonschema>=4.19.0->chromadb) (25.3.0)\n",
            "Requirement already satisfied: jsonschema-specifications>=2023.03.6 in /usr/local/lib/python3.11/dist-packages (from jsonschema>=4.19.0->chromadb) (2024.10.1)\n",
            "Requirement already satisfied: referencing>=0.28.4 in /usr/local/lib/python3.11/dist-packages (from jsonschema>=4.19.0->chromadb) (0.36.2)\n",
            "Requirement already satisfied: rpds-py>=0.7.1 in /usr/local/lib/python3.11/dist-packages (from jsonschema>=4.19.0->chromadb) (0.24.0)\n",
            "Requirement already satisfied: six>=1.9.0 in /usr/local/lib/python3.11/dist-packages (from kubernetes>=28.1.0->chromadb) (1.17.0)\n",
            "Requirement already satisfied: python-dateutil>=2.5.3 in /usr/local/lib/python3.11/dist-packages (from kubernetes>=28.1.0->chromadb) (2.8.2)\n",
            "Requirement already satisfied: google-auth>=1.0.1 in /usr/local/lib/python3.11/dist-packages (from kubernetes>=28.1.0->chromadb) (2.38.0)\n",
            "Requirement already satisfied: websocket-client!=0.40.0,!=0.41.*,!=0.42.*,>=0.32.0 in /usr/local/lib/python3.11/dist-packages (from kubernetes>=28.1.0->chromadb) (1.8.0)\n",
            "Requirement already satisfied: requests in /usr/local/lib/python3.11/dist-packages (from kubernetes>=28.1.0->chromadb) (2.32.3)\n",
            "Requirement already satisfied: requests-oauthlib in /usr/local/lib/python3.11/dist-packages (from kubernetes>=28.1.0->chromadb) (2.0.0)\n",
            "Requirement already satisfied: oauthlib>=3.2.2 in /usr/local/lib/python3.11/dist-packages (from kubernetes>=28.1.0->chromadb) (3.2.2)\n",
            "Requirement already satisfied: urllib3>=1.24.2 in /usr/local/lib/python3.11/dist-packages (from kubernetes>=28.1.0->chromadb) (2.3.0)\n",
            "Collecting durationpy>=0.7 (from kubernetes>=28.1.0->chromadb)\n",
            "  Downloading durationpy-0.9-py3-none-any.whl.metadata (338 bytes)\n",
            "Collecting coloredlogs (from onnxruntime>=1.14.1->chromadb)\n",
            "  Downloading coloredlogs-15.0.1-py2.py3-none-any.whl.metadata (12 kB)\n",
            "Requirement already satisfied: flatbuffers in /usr/local/lib/python3.11/dist-packages (from onnxruntime>=1.14.1->chromadb) (25.2.10)\n",
            "Requirement already satisfied: protobuf in /usr/local/lib/python3.11/dist-packages (from onnxruntime>=1.14.1->chromadb) (5.29.4)\n",
            "Requirement already satisfied: sympy in /usr/local/lib/python3.11/dist-packages (from onnxruntime>=1.14.1->chromadb) (1.13.1)\n",
            "Requirement already satisfied: deprecated>=1.2.6 in /usr/local/lib/python3.11/dist-packages (from opentelemetry-api>=1.2.0->chromadb) (1.2.18)\n",
            "Requirement already satisfied: importlib-metadata<8.7.0,>=6.0 in /usr/local/lib/python3.11/dist-packages (from opentelemetry-api>=1.2.0->chromadb) (8.6.1)\n",
            "Requirement already satisfied: googleapis-common-protos~=1.52 in /usr/local/lib/python3.11/dist-packages (from opentelemetry-exporter-otlp-proto-grpc>=1.2.0->chromadb) (1.70.0)\n",
            "Collecting opentelemetry-exporter-otlp-proto-common==1.32.1 (from opentelemetry-exporter-otlp-proto-grpc>=1.2.0->chromadb)\n",
            "  Downloading opentelemetry_exporter_otlp_proto_common-1.32.1-py3-none-any.whl.metadata (1.9 kB)\n",
            "Collecting opentelemetry-proto==1.32.1 (from opentelemetry-exporter-otlp-proto-grpc>=1.2.0->chromadb)\n",
            "  Downloading opentelemetry_proto-1.32.1-py3-none-any.whl.metadata (2.4 kB)\n",
            "Collecting opentelemetry-instrumentation-asgi==0.53b1 (from opentelemetry-instrumentation-fastapi>=0.41b0->chromadb)\n",
            "  Downloading opentelemetry_instrumentation_asgi-0.53b1-py3-none-any.whl.metadata (2.1 kB)\n",
            "Collecting opentelemetry-instrumentation==0.53b1 (from opentelemetry-instrumentation-fastapi>=0.41b0->chromadb)\n",
            "  Downloading opentelemetry_instrumentation-0.53b1-py3-none-any.whl.metadata (6.8 kB)\n",
            "Requirement already satisfied: opentelemetry-semantic-conventions==0.53b1 in /usr/local/lib/python3.11/dist-packages (from opentelemetry-instrumentation-fastapi>=0.41b0->chromadb) (0.53b1)\n",
            "Collecting opentelemetry-util-http==0.53b1 (from opentelemetry-instrumentation-fastapi>=0.41b0->chromadb)\n",
            "  Downloading opentelemetry_util_http-0.53b1-py3-none-any.whl.metadata (2.6 kB)\n",
            "Requirement already satisfied: wrapt<2.0.0,>=1.0.0 in /usr/local/lib/python3.11/dist-packages (from opentelemetry-instrumentation==0.53b1->opentelemetry-instrumentation-fastapi>=0.41b0->chromadb) (1.17.2)\n",
            "Collecting asgiref~=3.0 (from opentelemetry-instrumentation-asgi==0.53b1->opentelemetry-instrumentation-fastapi>=0.41b0->chromadb)\n",
            "  Downloading asgiref-3.8.1-py3-none-any.whl.metadata (9.3 kB)\n",
            "Collecting monotonic>=1.5 (from posthog>=2.4.0->chromadb)\n",
            "  Downloading monotonic-1.6-py2.py3-none-any.whl.metadata (1.5 kB)\n",
            "Collecting backoff>=1.10.0 (from posthog>=2.4.0->chromadb)\n",
            "  Downloading backoff-2.2.1-py3-none-any.whl.metadata (14 kB)\n",
            "Requirement already satisfied: distro>=1.5.0 in /usr/local/lib/python3.11/dist-packages (from posthog>=2.4.0->chromadb) (1.9.0)\n",
            "Requirement already satisfied: annotated-types>=0.6.0 in /usr/local/lib/python3.11/dist-packages (from pydantic>=1.9->chromadb) (0.7.0)\n",
            "Requirement already satisfied: pydantic-core==2.33.1 in /usr/local/lib/python3.11/dist-packages (from pydantic>=1.9->chromadb) (2.33.1)\n",
            "Requirement already satisfied: typing-inspection>=0.4.0 in /usr/local/lib/python3.11/dist-packages (from pydantic>=1.9->chromadb) (0.4.0)\n",
            "Requirement already satisfied: markdown-it-py>=2.2.0 in /usr/local/lib/python3.11/dist-packages (from rich>=10.11.0->chromadb) (3.0.0)\n",
            "Requirement already satisfied: pygments<3.0.0,>=2.13.0 in /usr/local/lib/python3.11/dist-packages (from rich>=10.11.0->chromadb) (2.18.0)\n",
            "Requirement already satisfied: huggingface-hub<1.0,>=0.16.4 in /usr/local/lib/python3.11/dist-packages (from tokenizers>=0.13.2->chromadb) (0.30.2)\n",
            "Requirement already satisfied: click>=8.0.0 in /usr/local/lib/python3.11/dist-packages (from typer>=0.9.0->chromadb) (8.1.8)\n",
            "Requirement already satisfied: shellingham>=1.3.0 in /usr/local/lib/python3.11/dist-packages (from typer>=0.9.0->chromadb) (1.5.4)\n",
            "Collecting httptools>=0.6.3 (from uvicorn[standard]>=0.18.3->chromadb)\n",
            "  Downloading httptools-0.6.4-cp311-cp311-manylinux_2_5_x86_64.manylinux1_x86_64.manylinux_2_17_x86_64.manylinux2014_x86_64.whl.metadata (3.6 kB)\n",
            "Requirement already satisfied: python-dotenv>=0.13 in /usr/local/lib/python3.11/dist-packages (from uvicorn[standard]>=0.18.3->chromadb) (1.1.0)\n",
            "Collecting uvloop!=0.15.0,!=0.15.1,>=0.14.0 (from uvicorn[standard]>=0.18.3->chromadb)\n",
            "  Downloading uvloop-0.21.0-cp311-cp311-manylinux_2_17_x86_64.manylinux2014_x86_64.whl.metadata (4.9 kB)\n",
            "Collecting watchfiles>=0.13 (from uvicorn[standard]>=0.18.3->chromadb)\n",
            "  Downloading watchfiles-1.0.5-cp311-cp311-manylinux_2_17_x86_64.manylinux2014_x86_64.whl.metadata (4.9 kB)\n",
            "Requirement already satisfied: websockets>=10.4 in /usr/local/lib/python3.11/dist-packages (from uvicorn[standard]>=0.18.3->chromadb) (15.0.1)\n",
            "Requirement already satisfied: cachetools<6.0,>=2.0.0 in /usr/local/lib/python3.11/dist-packages (from google-auth>=1.0.1->kubernetes>=28.1.0->chromadb) (5.5.2)\n",
            "Requirement already satisfied: pyasn1-modules>=0.2.1 in /usr/local/lib/python3.11/dist-packages (from google-auth>=1.0.1->kubernetes>=28.1.0->chromadb) (0.4.2)\n",
            "Requirement already satisfied: rsa<5,>=3.1.4 in /usr/local/lib/python3.11/dist-packages (from google-auth>=1.0.1->kubernetes>=28.1.0->chromadb) (4.9.1)\n",
            "Requirement already satisfied: filelock in /usr/local/lib/python3.11/dist-packages (from huggingface-hub<1.0,>=0.16.4->tokenizers>=0.13.2->chromadb) (3.18.0)\n",
            "Requirement already satisfied: fsspec>=2023.5.0 in /usr/local/lib/python3.11/dist-packages (from huggingface-hub<1.0,>=0.16.4->tokenizers>=0.13.2->chromadb) (2025.3.2)\n",
            "Requirement already satisfied: zipp>=3.20 in /usr/local/lib/python3.11/dist-packages (from importlib-metadata<8.7.0,>=6.0->opentelemetry-api>=1.2.0->chromadb) (3.21.0)\n",
            "Requirement already satisfied: mdurl~=0.1 in /usr/local/lib/python3.11/dist-packages (from markdown-it-py>=2.2.0->rich>=10.11.0->chromadb) (0.1.2)\n",
            "Requirement already satisfied: charset-normalizer<4,>=2 in /usr/local/lib/python3.11/dist-packages (from requests->kubernetes>=28.1.0->chromadb) (3.4.1)\n",
            "Requirement already satisfied: sniffio>=1.1 in /usr/local/lib/python3.11/dist-packages (from anyio->httpx>=0.27.0->chromadb) (1.3.1)\n",
            "Collecting humanfriendly>=9.1 (from coloredlogs->onnxruntime>=1.14.1->chromadb)\n",
            "  Downloading humanfriendly-10.0-py2.py3-none-any.whl.metadata (9.2 kB)\n",
            "Requirement already satisfied: mpmath<1.4,>=1.1.0 in /usr/local/lib/python3.11/dist-packages (from sympy->onnxruntime>=1.14.1->chromadb) (1.3.0)\n",
            "Requirement already satisfied: pyasn1<0.7.0,>=0.6.1 in /usr/local/lib/python3.11/dist-packages (from pyasn1-modules>=0.2.1->google-auth>=1.0.1->kubernetes>=28.1.0->chromadb) (0.6.1)\n",
            "Downloading chromadb-1.0.5-cp39-abi3-manylinux_2_17_x86_64.manylinux2014_x86_64.whl (18.3 MB)\n",
            "\u001b[2K   \u001b[90m━━━━━━━━━━━━━━━━━━━━━━━━━━━━━━━━━━━━━━━━\u001b[0m \u001b[32m18.3/18.3 MB\u001b[0m \u001b[31m87.9 MB/s\u001b[0m eta \u001b[36m0:00:00\u001b[0m\n",
            "\u001b[?25hDownloading chroma_hnswlib-0.7.6-cp311-cp311-manylinux_2_17_x86_64.manylinux2014_x86_64.whl (2.4 MB)\n",
            "\u001b[2K   \u001b[90m━━━━━━━━━━━━━━━━━━━━━━━━━━━━━━━━━━━━━━━━\u001b[0m \u001b[32m2.4/2.4 MB\u001b[0m \u001b[31m87.1 MB/s\u001b[0m eta \u001b[36m0:00:00\u001b[0m\n",
            "\u001b[?25hDownloading fastapi-0.115.9-py3-none-any.whl (94 kB)\n",
            "\u001b[2K   \u001b[90m━━━━━━━━━━━━━━━━━━━━━━━━━━━━━━━━━━━━━━━━\u001b[0m \u001b[32m94.9/94.9 kB\u001b[0m \u001b[31m9.6 MB/s\u001b[0m eta \u001b[36m0:00:00\u001b[0m\n",
            "\u001b[?25hDownloading bcrypt-4.3.0-cp39-abi3-manylinux_2_34_x86_64.whl (284 kB)\n",
            "\u001b[2K   \u001b[90m━━━━━━━━━━━━━━━━━━━━━━━━━━━━━━━━━━━━━━━━\u001b[0m \u001b[32m284.2/284.2 kB\u001b[0m \u001b[31m26.4 MB/s\u001b[0m eta \u001b[36m0:00:00\u001b[0m\n",
            "\u001b[?25hDownloading build-1.2.2.post1-py3-none-any.whl (22 kB)\n",
            "Downloading kubernetes-32.0.1-py2.py3-none-any.whl (2.0 MB)\n",
            "\u001b[2K   \u001b[90m━━━━━━━━━━━━━━━━━━━━━━━━━━━━━━━━━━━━━━━━\u001b[0m \u001b[32m2.0/2.0 MB\u001b[0m \u001b[31m81.2 MB/s\u001b[0m eta \u001b[36m0:00:00\u001b[0m\n",
            "\u001b[?25hDownloading mmh3-5.1.0-cp311-cp311-manylinux_2_5_x86_64.manylinux1_x86_64.manylinux_2_17_x86_64.manylinux2014_x86_64.whl (101 kB)\n",
            "\u001b[2K   \u001b[90m━━━━━━━━━━━━━━━━━━━━━━━━━━━━━━━━━━━━━━━━\u001b[0m \u001b[32m101.6/101.6 kB\u001b[0m \u001b[31m10.3 MB/s\u001b[0m eta \u001b[36m0:00:00\u001b[0m\n",
            "\u001b[?25hDownloading onnxruntime-1.21.1-cp311-cp311-manylinux_2_27_x86_64.manylinux_2_28_x86_64.whl (16.0 MB)\n",
            "\u001b[2K   \u001b[90m━━━━━━━━━━━━━━━━━━━━━━━━━━━━━━━━━━━━━━━━\u001b[0m \u001b[32m16.0/16.0 MB\u001b[0m \u001b[31m99.6 MB/s\u001b[0m eta \u001b[36m0:00:00\u001b[0m\n",
            "\u001b[?25hDownloading opentelemetry_exporter_otlp_proto_grpc-1.32.1-py3-none-any.whl (18 kB)\n",
            "Downloading opentelemetry_exporter_otlp_proto_common-1.32.1-py3-none-any.whl (18 kB)\n",
            "Downloading opentelemetry_proto-1.32.1-py3-none-any.whl (55 kB)\n",
            "\u001b[2K   \u001b[90m━━━━━━━━━━━━━━━━━━━━━━━━━━━━━━━━━━━━━━━━\u001b[0m \u001b[32m55.9/55.9 kB\u001b[0m \u001b[31m4.6 MB/s\u001b[0m eta \u001b[36m0:00:00\u001b[0m\n",
            "\u001b[?25hDownloading opentelemetry_instrumentation_fastapi-0.53b1-py3-none-any.whl (12 kB)\n",
            "Downloading opentelemetry_instrumentation-0.53b1-py3-none-any.whl (30 kB)\n",
            "Downloading opentelemetry_instrumentation_asgi-0.53b1-py3-none-any.whl (16 kB)\n",
            "Downloading opentelemetry_util_http-0.53b1-py3-none-any.whl (7.3 kB)\n",
            "Downloading overrides-7.7.0-py3-none-any.whl (17 kB)\n",
            "Downloading posthog-3.25.0-py2.py3-none-any.whl (89 kB)\n",
            "\u001b[2K   \u001b[90m━━━━━━━━━━━━━━━━━━━━━━━━━━━━━━━━━━━━━━━━\u001b[0m \u001b[32m89.1/89.1 kB\u001b[0m \u001b[31m9.2 MB/s\u001b[0m eta \u001b[36m0:00:00\u001b[0m\n",
            "\u001b[?25hDownloading uvicorn-0.34.2-py3-none-any.whl (62 kB)\n",
            "\u001b[2K   \u001b[90m━━━━━━━━━━━━━━━━━━━━━━━━━━━━━━━━━━━━━━━━\u001b[0m \u001b[32m62.5/62.5 kB\u001b[0m \u001b[31m5.3 MB/s\u001b[0m eta \u001b[36m0:00:00\u001b[0m\n",
            "\u001b[?25hDownloading backoff-2.2.1-py3-none-any.whl (15 kB)\n",
            "Downloading durationpy-0.9-py3-none-any.whl (3.5 kB)\n",
            "Downloading httptools-0.6.4-cp311-cp311-manylinux_2_5_x86_64.manylinux1_x86_64.manylinux_2_17_x86_64.manylinux2014_x86_64.whl (459 kB)\n",
            "\u001b[2K   \u001b[90m━━━━━━━━━━━━━━━━━━━━━━━━━━━━━━━━━━━━━━━━\u001b[0m \u001b[32m459.8/459.8 kB\u001b[0m \u001b[31m35.5 MB/s\u001b[0m eta \u001b[36m0:00:00\u001b[0m\n",
            "\u001b[?25hDownloading monotonic-1.6-py2.py3-none-any.whl (8.2 kB)\n",
            "Downloading starlette-0.45.3-py3-none-any.whl (71 kB)\n",
            "\u001b[2K   \u001b[90m━━━━━━━━━━━━━━━━━━━━━━━━━━━━━━━━━━━━━━━━\u001b[0m \u001b[32m71.5/71.5 kB\u001b[0m \u001b[31m6.4 MB/s\u001b[0m eta \u001b[36m0:00:00\u001b[0m\n",
            "\u001b[?25hDownloading uvloop-0.21.0-cp311-cp311-manylinux_2_17_x86_64.manylinux2014_x86_64.whl (4.0 MB)\n",
            "\u001b[2K   \u001b[90m━━━━━━━━━━━━━━━━━━━━━━━━━━━━━━━━━━━━━━━━\u001b[0m \u001b[32m4.0/4.0 MB\u001b[0m \u001b[31m100.0 MB/s\u001b[0m eta \u001b[36m0:00:00\u001b[0m\n",
            "\u001b[?25hDownloading watchfiles-1.0.5-cp311-cp311-manylinux_2_17_x86_64.manylinux2014_x86_64.whl (454 kB)\n",
            "\u001b[2K   \u001b[90m━━━━━━━━━━━━━━━━━━━━━━━━━━━━━━━━━━━━━━━━\u001b[0m \u001b[32m454.8/454.8 kB\u001b[0m \u001b[31m31.0 MB/s\u001b[0m eta \u001b[36m0:00:00\u001b[0m\n",
            "\u001b[?25hDownloading coloredlogs-15.0.1-py2.py3-none-any.whl (46 kB)\n",
            "\u001b[2K   \u001b[90m━━━━━━━━━━━━━━━━━━━━━━━━━━━━━━━━━━━━━━━━\u001b[0m \u001b[32m46.0/46.0 kB\u001b[0m \u001b[31m3.9 MB/s\u001b[0m eta \u001b[36m0:00:00\u001b[0m\n",
            "\u001b[?25hDownloading pyproject_hooks-1.2.0-py3-none-any.whl (10 kB)\n",
            "Downloading asgiref-3.8.1-py3-none-any.whl (23 kB)\n",
            "Downloading humanfriendly-10.0-py2.py3-none-any.whl (86 kB)\n",
            "\u001b[2K   \u001b[90m━━━━━━━━━━━━━━━━━━━━━━━━━━━━━━━━━━━━━━━━\u001b[0m \u001b[32m86.8/86.8 kB\u001b[0m \u001b[31m8.4 MB/s\u001b[0m eta \u001b[36m0:00:00\u001b[0m\n",
            "\u001b[?25hBuilding wheels for collected packages: pypika\n",
            "  Building wheel for pypika (pyproject.toml) ... \u001b[?25l\u001b[?25hdone\n",
            "  Created wheel for pypika: filename=pypika-0.48.9-py2.py3-none-any.whl size=53801 sha256=c70219d3f3bba428d5afea94dc2dfc21ecf84a9f2e8b30aa9b3a965cc59e0226\n",
            "  Stored in directory: /root/.cache/pip/wheels/a3/01/bd/4c40ceb9d5354160cb186dcc153360f4ab7eb23e2b24daf96d\n",
            "Successfully built pypika\n",
            "Installing collected packages: pypika, monotonic, durationpy, uvloop, uvicorn, pyproject_hooks, overrides, opentelemetry-util-http, opentelemetry-proto, mmh3, humanfriendly, httptools, chroma-hnswlib, bcrypt, backoff, asgiref, watchfiles, starlette, posthog, opentelemetry-exporter-otlp-proto-common, coloredlogs, build, onnxruntime, kubernetes, fastapi, opentelemetry-instrumentation, opentelemetry-instrumentation-asgi, opentelemetry-exporter-otlp-proto-grpc, opentelemetry-instrumentation-fastapi, chromadb\n",
            "Successfully installed asgiref-3.8.1 backoff-2.2.1 bcrypt-4.3.0 build-1.2.2.post1 chroma-hnswlib-0.7.6 chromadb-1.0.5 coloredlogs-15.0.1 durationpy-0.9 fastapi-0.115.9 httptools-0.6.4 humanfriendly-10.0 kubernetes-32.0.1 mmh3-5.1.0 monotonic-1.6 onnxruntime-1.21.1 opentelemetry-exporter-otlp-proto-common-1.32.1 opentelemetry-exporter-otlp-proto-grpc-1.32.1 opentelemetry-instrumentation-0.53b1 opentelemetry-instrumentation-asgi-0.53b1 opentelemetry-instrumentation-fastapi-0.53b1 opentelemetry-proto-1.32.1 opentelemetry-util-http-0.53b1 overrides-7.7.0 posthog-3.25.0 pypika-0.48.9 pyproject_hooks-1.2.0 starlette-0.45.3 uvicorn-0.34.2 uvloop-0.21.0 watchfiles-1.0.5\n"
          ]
        }
      ]
    },
    {
      "cell_type": "code",
      "source": [
        "pip install pypdf"
      ],
      "metadata": {
        "colab": {
          "base_uri": "https://localhost:8080/"
        },
        "id": "CNXv4Nfw5uWW",
        "outputId": "28e6e46d-15c5-434e-eb13-cd98edb0c85d"
      },
      "execution_count": null,
      "outputs": [
        {
          "output_type": "stream",
          "name": "stdout",
          "text": [
            "Collecting pypdf\n",
            "  Downloading pypdf-5.4.0-py3-none-any.whl.metadata (7.3 kB)\n",
            "Downloading pypdf-5.4.0-py3-none-any.whl (302 kB)\n",
            "\u001b[?25l   \u001b[90m━━━━━━━━━━━━━━━━━━━━━━━━━━━━━━━━━━━━━━━━\u001b[0m \u001b[32m0.0/302.3 kB\u001b[0m \u001b[31m?\u001b[0m eta \u001b[36m-:--:--\u001b[0m\r\u001b[2K   \u001b[91m━━━━━━━━━━━━━━━━━━━━━━━━━━━━━━━━━━━━━━━\u001b[0m\u001b[90m╺\u001b[0m \u001b[32m297.0/302.3 kB\u001b[0m \u001b[31m11.8 MB/s\u001b[0m eta \u001b[36m0:00:01\u001b[0m\r\u001b[2K   \u001b[90m━━━━━━━━━━━━━━━━━━━━━━━━━━━━━━━━━━━━━━━━\u001b[0m \u001b[32m302.3/302.3 kB\u001b[0m \u001b[31m8.1 MB/s\u001b[0m eta \u001b[36m0:00:00\u001b[0m\n",
            "\u001b[?25hInstalling collected packages: pypdf\n",
            "Successfully installed pypdf-5.4.0\n"
          ]
        }
      ]
    },
    {
      "cell_type": "code",
      "source": [
        "pip install -U groq agno"
      ],
      "metadata": {
        "colab": {
          "base_uri": "https://localhost:8080/"
        },
        "id": "vWK7l2MBGr74",
        "outputId": "26b955cb-15f9-4f5a-c6b6-6100c1893c2e"
      },
      "execution_count": null,
      "outputs": [
        {
          "output_type": "stream",
          "name": "stdout",
          "text": [
            "Collecting groq\n",
            "  Downloading groq-0.22.0-py3-none-any.whl.metadata (15 kB)\n",
            "Requirement already satisfied: agno in /usr/local/lib/python3.11/dist-packages (1.3.4)\n",
            "Requirement already satisfied: anyio<5,>=3.5.0 in /usr/local/lib/python3.11/dist-packages (from groq) (4.9.0)\n",
            "Requirement already satisfied: distro<2,>=1.7.0 in /usr/local/lib/python3.11/dist-packages (from groq) (1.9.0)\n",
            "Requirement already satisfied: httpx<1,>=0.23.0 in /usr/local/lib/python3.11/dist-packages (from groq) (0.28.1)\n",
            "Requirement already satisfied: pydantic<3,>=1.9.0 in /usr/local/lib/python3.11/dist-packages (from groq) (2.11.3)\n",
            "Requirement already satisfied: sniffio in /usr/local/lib/python3.11/dist-packages (from groq) (1.3.1)\n",
            "Requirement already satisfied: typing-extensions<5,>=4.10 in /usr/local/lib/python3.11/dist-packages (from groq) (4.13.2)\n",
            "Requirement already satisfied: docstring-parser in /usr/local/lib/python3.11/dist-packages (from agno) (0.16)\n",
            "Requirement already satisfied: gitpython in /usr/local/lib/python3.11/dist-packages (from agno) (3.1.44)\n",
            "Requirement already satisfied: pydantic-settings in /usr/local/lib/python3.11/dist-packages (from agno) (2.9.1)\n",
            "Requirement already satisfied: python-dotenv in /usr/local/lib/python3.11/dist-packages (from agno) (1.1.0)\n",
            "Requirement already satisfied: python-multipart in /usr/local/lib/python3.11/dist-packages (from agno) (0.0.20)\n",
            "Requirement already satisfied: pyyaml in /usr/local/lib/python3.11/dist-packages (from agno) (6.0.2)\n",
            "Requirement already satisfied: rich in /usr/local/lib/python3.11/dist-packages (from agno) (13.9.4)\n",
            "Requirement already satisfied: tomli in /usr/local/lib/python3.11/dist-packages (from agno) (2.2.1)\n",
            "Requirement already satisfied: typer in /usr/local/lib/python3.11/dist-packages (from agno) (0.15.2)\n",
            "Requirement already satisfied: idna>=2.8 in /usr/local/lib/python3.11/dist-packages (from anyio<5,>=3.5.0->groq) (3.10)\n",
            "Requirement already satisfied: certifi in /usr/local/lib/python3.11/dist-packages (from httpx<1,>=0.23.0->groq) (2025.1.31)\n",
            "Requirement already satisfied: httpcore==1.* in /usr/local/lib/python3.11/dist-packages (from httpx<1,>=0.23.0->groq) (1.0.8)\n",
            "Requirement already satisfied: h11<0.15,>=0.13 in /usr/local/lib/python3.11/dist-packages (from httpcore==1.*->httpx<1,>=0.23.0->groq) (0.14.0)\n",
            "Requirement already satisfied: annotated-types>=0.6.0 in /usr/local/lib/python3.11/dist-packages (from pydantic<3,>=1.9.0->groq) (0.7.0)\n",
            "Requirement already satisfied: pydantic-core==2.33.1 in /usr/local/lib/python3.11/dist-packages (from pydantic<3,>=1.9.0->groq) (2.33.1)\n",
            "Requirement already satisfied: typing-inspection>=0.4.0 in /usr/local/lib/python3.11/dist-packages (from pydantic<3,>=1.9.0->groq) (0.4.0)\n",
            "Requirement already satisfied: gitdb<5,>=4.0.1 in /usr/local/lib/python3.11/dist-packages (from gitpython->agno) (4.0.12)\n",
            "Requirement already satisfied: markdown-it-py>=2.2.0 in /usr/local/lib/python3.11/dist-packages (from rich->agno) (3.0.0)\n",
            "Requirement already satisfied: pygments<3.0.0,>=2.13.0 in /usr/local/lib/python3.11/dist-packages (from rich->agno) (2.18.0)\n",
            "Requirement already satisfied: click>=8.0.0 in /usr/local/lib/python3.11/dist-packages (from typer->agno) (8.1.8)\n",
            "Requirement already satisfied: shellingham>=1.3.0 in /usr/local/lib/python3.11/dist-packages (from typer->agno) (1.5.4)\n",
            "Requirement already satisfied: smmap<6,>=3.0.1 in /usr/local/lib/python3.11/dist-packages (from gitdb<5,>=4.0.1->gitpython->agno) (5.0.2)\n",
            "Requirement already satisfied: mdurl~=0.1 in /usr/local/lib/python3.11/dist-packages (from markdown-it-py>=2.2.0->rich->agno) (0.1.2)\n",
            "Downloading groq-0.22.0-py3-none-any.whl (126 kB)\n",
            "\u001b[2K   \u001b[90m━━━━━━━━━━━━━━━━━━━━━━━━━━━━━━━━━━━━━━━━\u001b[0m \u001b[32m126.7/126.7 kB\u001b[0m \u001b[31m5.0 MB/s\u001b[0m eta \u001b[36m0:00:00\u001b[0m\n",
            "\u001b[?25hInstalling collected packages: groq\n",
            "Successfully installed groq-0.22.0\n"
          ]
        }
      ]
    },
    {
      "cell_type": "code",
      "source": [
        "pip install elevenlabs"
      ],
      "metadata": {
        "colab": {
          "base_uri": "https://localhost:8080/"
        },
        "id": "b68PBJVuG-ZE",
        "outputId": "d240fbe9-2e1e-4038-e8b5-816c0662fe89"
      },
      "execution_count": null,
      "outputs": [
        {
          "output_type": "stream",
          "name": "stdout",
          "text": [
            "Collecting elevenlabs\n",
            "  Downloading elevenlabs-1.57.0-py3-none-any.whl.metadata (7.3 kB)\n",
            "Requirement already satisfied: httpx>=0.21.2 in /usr/local/lib/python3.11/dist-packages (from elevenlabs) (0.28.1)\n",
            "Requirement already satisfied: pydantic>=1.9.2 in /usr/local/lib/python3.11/dist-packages (from elevenlabs) (2.11.3)\n",
            "Requirement already satisfied: pydantic-core<3.0.0,>=2.18.2 in /usr/local/lib/python3.11/dist-packages (from elevenlabs) (2.33.1)\n",
            "Requirement already satisfied: requests>=2.20 in /usr/local/lib/python3.11/dist-packages (from elevenlabs) (2.32.3)\n",
            "Requirement already satisfied: typing_extensions>=4.0.0 in /usr/local/lib/python3.11/dist-packages (from elevenlabs) (4.13.2)\n",
            "Requirement already satisfied: websockets>=11.0 in /usr/local/lib/python3.11/dist-packages (from elevenlabs) (15.0.1)\n",
            "Requirement already satisfied: anyio in /usr/local/lib/python3.11/dist-packages (from httpx>=0.21.2->elevenlabs) (4.9.0)\n",
            "Requirement already satisfied: certifi in /usr/local/lib/python3.11/dist-packages (from httpx>=0.21.2->elevenlabs) (2025.1.31)\n",
            "Requirement already satisfied: httpcore==1.* in /usr/local/lib/python3.11/dist-packages (from httpx>=0.21.2->elevenlabs) (1.0.8)\n",
            "Requirement already satisfied: idna in /usr/local/lib/python3.11/dist-packages (from httpx>=0.21.2->elevenlabs) (3.10)\n",
            "Requirement already satisfied: h11<0.15,>=0.13 in /usr/local/lib/python3.11/dist-packages (from httpcore==1.*->httpx>=0.21.2->elevenlabs) (0.14.0)\n",
            "Requirement already satisfied: annotated-types>=0.6.0 in /usr/local/lib/python3.11/dist-packages (from pydantic>=1.9.2->elevenlabs) (0.7.0)\n",
            "Requirement already satisfied: typing-inspection>=0.4.0 in /usr/local/lib/python3.11/dist-packages (from pydantic>=1.9.2->elevenlabs) (0.4.0)\n",
            "Requirement already satisfied: charset-normalizer<4,>=2 in /usr/local/lib/python3.11/dist-packages (from requests>=2.20->elevenlabs) (3.4.1)\n",
            "Requirement already satisfied: urllib3<3,>=1.21.1 in /usr/local/lib/python3.11/dist-packages (from requests>=2.20->elevenlabs) (2.3.0)\n",
            "Requirement already satisfied: sniffio>=1.1 in /usr/local/lib/python3.11/dist-packages (from anyio->httpx>=0.21.2->elevenlabs) (1.3.1)\n",
            "Downloading elevenlabs-1.57.0-py3-none-any.whl (452 kB)\n",
            "\u001b[2K   \u001b[90m━━━━━━━━━━━━━━━━━━━━━━━━━━━━━━━━━━━━━━━━\u001b[0m \u001b[32m452.5/452.5 kB\u001b[0m \u001b[31m8.5 MB/s\u001b[0m eta \u001b[36m0:00:00\u001b[0m\n",
            "\u001b[?25hInstalling collected packages: elevenlabs\n",
            "Successfully installed elevenlabs-1.57.0\n"
          ]
        }
      ]
    },
    {
      "cell_type": "code",
      "source": [
        "# prompt: huggingface notebook login\n",
        "\n",
        "!pip install huggingface_hub\n",
        "from huggingface_hub import notebook_login\n",
        "notebook_login()\n"
      ],
      "metadata": {
        "colab": {
          "base_uri": "https://localhost:8080/",
          "height": 241,
          "referenced_widgets": [
            "da8c2213cae54e4ca5cab07044a1b3e3",
            "d4780a1d0d9c40ebbf915905d14c6a41",
            "4d16d50325344372937a87d3c35c8508",
            "686a0f9252a14d33a2384dd2e937c78e",
            "2160e37141934e409477477150bb32e2",
            "a543bd63e7394a9780ba3133537d2fea",
            "e5d64954d95644da895ecbe1ae1b0552",
            "af628725415a4095a7f108602c4bcf9a",
            "6bfc5b09bd464195bd3328769f95b50c",
            "1fa8a640968a4cae9b645e0e968fa178",
            "6e03c1e6e60647788245f0d28b164db7",
            "27e7e10740394f978c77a448137fbf33",
            "3ab4aa911d064250aced596d41de4b31",
            "d5f4957de6584e4190816d46c65138c4",
            "aa99973b146c409e9f64b5b469929de6",
            "6c5b7ac0dfd142a2a001e6c5f96888d8",
            "494df14e7bf649bc84ebf84214f8596a",
            "cde549ec1c3847519cc38c922cd1ad1a",
            "2edf3ce973fe4c32b06b8a3757ef09f9",
            "122e0525691e4276bd25901ef8120ab1"
          ]
        },
        "id": "rDhXzDciNchd",
        "outputId": "b5b227dc-0e6e-44c8-c057-66a64f9ae4ff"
      },
      "execution_count": null,
      "outputs": [
        {
          "output_type": "stream",
          "name": "stdout",
          "text": [
            "Requirement already satisfied: huggingface_hub in /usr/local/lib/python3.11/dist-packages (0.30.2)\n",
            "Requirement already satisfied: filelock in /usr/local/lib/python3.11/dist-packages (from huggingface_hub) (3.18.0)\n",
            "Requirement already satisfied: fsspec>=2023.5.0 in /usr/local/lib/python3.11/dist-packages (from huggingface_hub) (2025.3.2)\n",
            "Requirement already satisfied: packaging>=20.9 in /usr/local/lib/python3.11/dist-packages (from huggingface_hub) (24.2)\n",
            "Requirement already satisfied: pyyaml>=5.1 in /usr/local/lib/python3.11/dist-packages (from huggingface_hub) (6.0.2)\n",
            "Requirement already satisfied: requests in /usr/local/lib/python3.11/dist-packages (from huggingface_hub) (2.32.3)\n",
            "Requirement already satisfied: tqdm>=4.42.1 in /usr/local/lib/python3.11/dist-packages (from huggingface_hub) (4.67.1)\n",
            "Requirement already satisfied: typing-extensions>=3.7.4.3 in /usr/local/lib/python3.11/dist-packages (from huggingface_hub) (4.13.2)\n",
            "Requirement already satisfied: charset-normalizer<4,>=2 in /usr/local/lib/python3.11/dist-packages (from requests->huggingface_hub) (3.4.1)\n",
            "Requirement already satisfied: idna<4,>=2.5 in /usr/local/lib/python3.11/dist-packages (from requests->huggingface_hub) (3.10)\n",
            "Requirement already satisfied: urllib3<3,>=1.21.1 in /usr/local/lib/python3.11/dist-packages (from requests->huggingface_hub) (2.3.0)\n",
            "Requirement already satisfied: certifi>=2017.4.17 in /usr/local/lib/python3.11/dist-packages (from requests->huggingface_hub) (2025.1.31)\n"
          ]
        },
        {
          "output_type": "display_data",
          "data": {
            "text/plain": [
              "VBox(children=(HTML(value='<center> <img\\nsrc=https://huggingface.co/front/assets/huggingface_logo-noborder.sv…"
            ],
            "application/vnd.jupyter.widget-view+json": {
              "version_major": 2,
              "version_minor": 0,
              "model_id": "da8c2213cae54e4ca5cab07044a1b3e3"
            }
          },
          "metadata": {}
        }
      ]
    },
    {
      "cell_type": "code",
      "source": [
        "import typer\n",
        "from rich.prompt import Prompt\n",
        "from typing import Optional\n",
        "\n",
        "from agno.agent import Agent\n",
        "from agno.knowledge.pdf import PDFKnowledgeBase, PDFReader\n",
        "from agno.vectordb.chroma import ChromaDb\n",
        "from agno.document.chunking.document import DocumentChunking\n",
        "from agno.embedder.huggingface import HuggingfaceCustomEmbedder\n",
        "from agno.embedder.sentence_transformer import SentenceTransformerEmbedder\n",
        "\n",
        "knowledge_base = PDFKnowledgeBase(\n",
        "    path=\"/content/TULU_Model_Full_training.pdf\",\n",
        "    vector_db=ChromaDb(collection=\"voice_agent\", embedder=SentenceTransformerEmbedder()),\n",
        "    #vector_db=ChromaDb(collection=\"voice_agent\", embedder=HuggingfaceCustomEmbedder(\n",
        "    #chunking_strategy=DocumentChunking(),\n",
        "    reader=PDFReader(chunk=True),\n",
        ")\n"
      ],
      "metadata": {
        "id": "ywHfXWJ11s-H"
      },
      "execution_count": null,
      "outputs": []
    },
    {
      "cell_type": "code",
      "source": [
        "knowledge_base.load(recreate=False)"
      ],
      "metadata": {
        "colab": {
          "base_uri": "https://localhost:8080/",
          "height": 471,
          "referenced_widgets": [
            "d81d36d058b24489aedafe5602429d7a",
            "1c82c7e5cb154aae917122252fb075ec",
            "538ee6e1c4c248859ca9edc9f26cdb7c",
            "afe233abc548442596036ec05839cbc3",
            "aa700889944a446193ad728696ef76dc",
            "2f663f9e53fa4056986bf247c04541dd",
            "bc9fd6a3cbb44cd1927ec2ce69878e19",
            "12e559893dbd43478a07d6f9ff1d0a25",
            "85631415e5a444bc83e24070e539702b",
            "75d0c72252c247438e2738c55692ff17",
            "f0fc0e9068f04b39aa917339ca61adf0",
            "889b944c0a9f4da1b82836b28813afb4",
            "8dbf753bee794a82b6545fac85ee6d57",
            "453e133685e947a496192e13fe9f65eb",
            "b2be9fa70c7c4da2b79bfac8857fc787",
            "e77edba7990d4b8180b98e8a10db189f",
            "63e0ccb4d01346829d2d3c79f56dd887",
            "b761ec2e5de44ae4918e483f6b2cedbd",
            "43857ba1a9424b32930d060d7b87c50c",
            "b70982d7354d435a98de5c198f6133b7",
            "c33849bfbf1b4e98b540c03bff137e72",
            "72f6ae0372064161bc6560dcda4fedc1",
            "9798de9eb7fa44319055744c2872d8e2",
            "5e1e0bbfa9c24a5491e550654579f7c0",
            "6ac7e02371e0437c9f42ffebdc733285",
            "82e63d0563d042f1b0eb4a412a3cbb5d",
            "c36abac543764c1b9ea8d3f6f7f621cd",
            "265b9f46301c4a49ad26b8b04346df93",
            "5de6b285f64b44bc8bb4877ddebb5321",
            "baee9d6ecf5a4930811a2aea807689b5",
            "c123ee2dd883463498d39e89d8e69af2",
            "cdad338dfabc478e83afc7c433aa3a3f",
            "3aaf718de5744c4e904ef0598634209d",
            "ee6769e34e0b4946ad3cf4008a4e03d9",
            "275936b3e91d4bb197883591a98fb7c0",
            "06faea93b47346a0adb2ad628b5dfda0",
            "0abe03b7cacc4d1398da97e023dc6180",
            "ec1d76dfed6c4f11aed4c2af6f8069dc",
            "2204c35085784a43a7ea44533125f793",
            "5ed447a9e55c497ca69d2c0c5b07cd07",
            "114fc7d100704e238092e16091a1d328",
            "cf85596f76b249afbfab1e4a7c5a6859",
            "cee0c361da344777a9eadd1c587cdad9",
            "89c0e4d82a534246aa08b5a6e691eef6",
            "12e58f83853f42558ee30c2ed0640748",
            "1e0a953ea2844392bf75deb4b12d1a39",
            "4e0b9386e69c44d78f2ed13fee2a4daa",
            "e0f956ddb48345aa8aa3cf38988b6497",
            "f60a1519a91a4ccbbcc3a8403bff1628",
            "bdbdb52262394b66a2440fcc32da8089",
            "df560af77b754cf9ac704a982d50d1b8",
            "7a60fa8bb5544c2397dfcdbccc2dc021",
            "efbd53c7a14740be81de86cd42b9980d",
            "569226ae9b0848ae90d33e7826f4b52a",
            "ac6bba1758b34826a28f25934ecf6dbe",
            "3097b199d6c440309cea6e0b526287a0",
            "a6dd4b0e5e314c4087ab25f1ebd04387",
            "aad08025b98048ff8ae8021391d45b07",
            "bc67b706020145fcb3bbe0236936b5ab",
            "039a2dc7ad6c4b779ca15a56a201e45c",
            "e48a1c7e65204c65842670fc8936ebf5",
            "db4d399d329f4812852aac9dd54d2f61",
            "d4f7491283324d2089e3a29869abbea7",
            "42bc92a3622a4b21b48fe595abde9454",
            "375d188f3c454660adbef1fb46eef839",
            "f0675ee3140e45fc8b647e0f1092d94d",
            "f2f1da34f0304d2eb43d1415a1ff62c8",
            "c310bfab687948bcadc94e2a9ad63482",
            "7b875c2f83f242429bfc844d1812406c",
            "d81f84884ed64ee6b662ca9737641086",
            "f93a5675f3a9414b9dccfb8f2a5ff45d",
            "fb2412f875ad43f59305fde5191ace19",
            "02fb8124d44c4941a03e90cbd75d519f",
            "379359040b5e451f982462c6619e32cb",
            "79d7624400554f43ac6fe5379790c9e9",
            "51da52ccead84e53877c83f8284b2ad1",
            "49d1b3a6414c4f989f7e4a7f591d0da2",
            "9281d8edb6d04f91846cab6d43056841",
            "dd4c540361c347aeb993b27a66514ed4",
            "c391ae53d12b4c8fbff4b581dda206c4",
            "1e0d25fb5b174a8f9db04e657bf44931",
            "080b05b36f974a618fa1727c6914f955",
            "05cbf1fd7b8e4a819374029307e55ea7",
            "f99d3de1f6724785875717f2ffe50fe2",
            "93b1beb8206a487ba6668a84f55cda8b",
            "c6482d6748444560bc9b47b8bebce5d9",
            "f49df6af34a54b8ba27c0bc2a4749c6d",
            "ea2552ef27774d0296984f1cf4450c0e",
            "c1acb0adced14aadb7f0befcac1a12e6",
            "83579f421dd244e8894a9361265f5aeb",
            "b66330282c3f4760abe713c59babc6db",
            "76413f3dd54c4a76b82f1d56e6bb97f5",
            "afffcdb6cf8648aaabd4a98991c3b3a8",
            "7346ebd765c6487199fd8a58fc67cceb",
            "1965a9e086354ca6ab67396e7bf4fd2f",
            "d97e8a3da2a94715b6ea5c840ec60577",
            "ac7ce8d2d8e141b4812a4112c230549d",
            "04cc70b860ad4cdebf0c9a12468fd631",
            "9f1890a257434d4ca26b854d989735c0",
            "9d8b4732c1cf48b593cf5405f5a931bb",
            "0d45681e970544f1a3ac95fdc2a8ab12",
            "4d044ebff0b342a89acc146fef1e9dd4",
            "98020880d9fa4687b24d3b51ad401aa4",
            "3996a3897f7e4735a4f9b9b6551d0b9d",
            "0038310ce4f84f92a70c66887e73301f",
            "78c0b4abd296415da106c2ed2e7d6daa",
            "513d3a4d4d044be4841e8f476d9d0b51",
            "8f725d4ad4b6437e991e65749161351f",
            "b1d847a941bb439da0dce93777d67b8d",
            "f5315ba82b1349ce9c1e2e295c9cdb37",
            "c843ec22fce94b888102c65f15c13d74",
            "a0d3afe23a3a4916bcd26876860913c9",
            "5930ed24add04a089c3d5c758a4dd9e6",
            "d1a9b8fc51984cd4aedb575d037587fc",
            "57d22e11ed694bae9dce09b405b30405",
            "9a225d6fdd544a7c9626a14ccc00826c",
            "82e8e374b0044ad98540860a72b369df",
            "cabc4cb3229046578865d06b8e48dbd7",
            "43f16857a2044fe399420893e63dcc52",
            "964a347bd3354ffab7585ce24a80608b",
            "1a8aff8a4b284431a7d5c724852e71dd"
          ]
        },
        "id": "QGeVTTioMNXl",
        "outputId": "3e237368-532e-4483-86a5-65a57d8463d0"
      },
      "execution_count": null,
      "outputs": [
        {
          "output_type": "display_data",
          "data": {
            "text/plain": [
              "\u001b[34mINFO\u001b[0m Loading knowledge base                                                                                        \n"
            ],
            "text/html": [
              "<pre style=\"white-space:pre;overflow-x:auto;line-height:normal;font-family:Menlo,'DejaVu Sans Mono',consolas,'Courier New',monospace\"><span style=\"color: #000080; text-decoration-color: #000080\">INFO</span> Loading knowledge base                                                                                        \n",
              "</pre>\n"
            ]
          },
          "metadata": {}
        },
        {
          "output_type": "display_data",
          "data": {
            "text/plain": [
              "\u001b[34mINFO\u001b[0m Reading: TULU_Model_Full_training                                                                             \n"
            ],
            "text/html": [
              "<pre style=\"white-space:pre;overflow-x:auto;line-height:normal;font-family:Menlo,'DejaVu Sans Mono',consolas,'Courier New',monospace\"><span style=\"color: #000080; text-decoration-color: #000080\">INFO</span> Reading: TULU_Model_Full_training                                                                             \n",
              "</pre>\n"
            ]
          },
          "metadata": {}
        },
        {
          "output_type": "display_data",
          "data": {
            "text/plain": [
              "modules.json:   0%|          | 0.00/349 [00:00<?, ?B/s]"
            ],
            "application/vnd.jupyter.widget-view+json": {
              "version_major": 2,
              "version_minor": 0,
              "model_id": "d81d36d058b24489aedafe5602429d7a"
            }
          },
          "metadata": {}
        },
        {
          "output_type": "display_data",
          "data": {
            "text/plain": [
              "config_sentence_transformers.json:   0%|          | 0.00/116 [00:00<?, ?B/s]"
            ],
            "application/vnd.jupyter.widget-view+json": {
              "version_major": 2,
              "version_minor": 0,
              "model_id": "889b944c0a9f4da1b82836b28813afb4"
            }
          },
          "metadata": {}
        },
        {
          "output_type": "display_data",
          "data": {
            "text/plain": [
              "README.md:   0%|          | 0.00/10.5k [00:00<?, ?B/s]"
            ],
            "application/vnd.jupyter.widget-view+json": {
              "version_major": 2,
              "version_minor": 0,
              "model_id": "9798de9eb7fa44319055744c2872d8e2"
            }
          },
          "metadata": {}
        },
        {
          "output_type": "display_data",
          "data": {
            "text/plain": [
              "sentence_bert_config.json:   0%|          | 0.00/53.0 [00:00<?, ?B/s]"
            ],
            "application/vnd.jupyter.widget-view+json": {
              "version_major": 2,
              "version_minor": 0,
              "model_id": "ee6769e34e0b4946ad3cf4008a4e03d9"
            }
          },
          "metadata": {}
        },
        {
          "output_type": "display_data",
          "data": {
            "text/plain": [
              "config.json:   0%|          | 0.00/612 [00:00<?, ?B/s]"
            ],
            "application/vnd.jupyter.widget-view+json": {
              "version_major": 2,
              "version_minor": 0,
              "model_id": "12e58f83853f42558ee30c2ed0640748"
            }
          },
          "metadata": {}
        },
        {
          "output_type": "stream",
          "name": "stderr",
          "text": [
            "Xet Storage is enabled for this repo, but the 'hf_xet' package is not installed. Falling back to regular HTTP download. For better performance, install the package with: `pip install huggingface_hub[hf_xet]` or `pip install hf_xet`\n",
            "WARNING:huggingface_hub.file_download:Xet Storage is enabled for this repo, but the 'hf_xet' package is not installed. Falling back to regular HTTP download. For better performance, install the package with: `pip install huggingface_hub[hf_xet]` or `pip install hf_xet`\n"
          ]
        },
        {
          "output_type": "display_data",
          "data": {
            "text/plain": [
              "model.safetensors:   0%|          | 0.00/90.9M [00:00<?, ?B/s]"
            ],
            "application/vnd.jupyter.widget-view+json": {
              "version_major": 2,
              "version_minor": 0,
              "model_id": "3097b199d6c440309cea6e0b526287a0"
            }
          },
          "metadata": {}
        },
        {
          "output_type": "display_data",
          "data": {
            "text/plain": [
              "tokenizer_config.json:   0%|          | 0.00/350 [00:00<?, ?B/s]"
            ],
            "application/vnd.jupyter.widget-view+json": {
              "version_major": 2,
              "version_minor": 0,
              "model_id": "f2f1da34f0304d2eb43d1415a1ff62c8"
            }
          },
          "metadata": {}
        },
        {
          "output_type": "display_data",
          "data": {
            "text/plain": [
              "vocab.txt:   0%|          | 0.00/232k [00:00<?, ?B/s]"
            ],
            "application/vnd.jupyter.widget-view+json": {
              "version_major": 2,
              "version_minor": 0,
              "model_id": "9281d8edb6d04f91846cab6d43056841"
            }
          },
          "metadata": {}
        },
        {
          "output_type": "display_data",
          "data": {
            "text/plain": [
              "tokenizer.json:   0%|          | 0.00/466k [00:00<?, ?B/s]"
            ],
            "application/vnd.jupyter.widget-view+json": {
              "version_major": 2,
              "version_minor": 0,
              "model_id": "c1acb0adced14aadb7f0befcac1a12e6"
            }
          },
          "metadata": {}
        },
        {
          "output_type": "display_data",
          "data": {
            "text/plain": [
              "special_tokens_map.json:   0%|          | 0.00/112 [00:00<?, ?B/s]"
            ],
            "application/vnd.jupyter.widget-view+json": {
              "version_major": 2,
              "version_minor": 0,
              "model_id": "9d8b4732c1cf48b593cf5405f5a931bb"
            }
          },
          "metadata": {}
        },
        {
          "output_type": "display_data",
          "data": {
            "text/plain": [
              "config.json:   0%|          | 0.00/190 [00:00<?, ?B/s]"
            ],
            "application/vnd.jupyter.widget-view+json": {
              "version_major": 2,
              "version_minor": 0,
              "model_id": "c843ec22fce94b888102c65f15c13d74"
            }
          },
          "metadata": {}
        },
        {
          "output_type": "display_data",
          "data": {
            "text/plain": [
              "\u001b[34mINFO\u001b[0m Added \u001b[1;36m85\u001b[0m documents to knowledge base                                                                          \n"
            ],
            "text/html": [
              "<pre style=\"white-space:pre;overflow-x:auto;line-height:normal;font-family:Menlo,'DejaVu Sans Mono',consolas,'Courier New',monospace\"><span style=\"color: #000080; text-decoration-color: #000080\">INFO</span> Added <span style=\"color: #008080; text-decoration-color: #008080; font-weight: bold\">85</span> documents to knowledge base                                                                          \n",
              "</pre>\n"
            ]
          },
          "metadata": {}
        }
      ]
    },
    {
      "cell_type": "code",
      "source": [
        "import os\n",
        "from uuid import uuid4\n",
        "#from agno.agent import Agent\n",
        "from agno.models.groq import Groq\n",
        "from agno.tools.eleven_labs import ElevenLabsTools\n",
        "#from agno.tools.firecrawl import FirecrawlTools\n",
        "from agno.agent import Agent, RunResponse\n",
        "from agno.utils.audio import write_audio_to_file\n",
        "from agno.utils.log import logger"
      ],
      "metadata": {
        "id": "RAN79gGD6PhO"
      },
      "execution_count": null,
      "outputs": []
    },
    {
      "cell_type": "code",
      "source": [
        "from google.colab import userdata\n",
        "groq_key=userdata.get('Groq')"
      ],
      "metadata": {
        "id": "6GwNUfnIHmkw"
      },
      "execution_count": null,
      "outputs": []
    },
    {
      "cell_type": "code",
      "source": [
        "import os\n",
        "os.environ[\"GROQ_API_KEY\"] = groq_key\n"
      ],
      "metadata": {
        "id": "1PeEhrPOHh9N"
      },
      "execution_count": null,
      "outputs": []
    },
    {
      "cell_type": "code",
      "source": [
        "agent = Agent(model=Groq(id=\"llama-3.3-70b-versatile\"))\n",
        "\n",
        "# Get the response in a variable\n",
        "run: RunResponse = agent.run(\"Share a 2 sentence horror story\")\n",
        "print(run.content)\n",
        "\n",
        "# Print the response on the terminal\n",
        "#agent.print_response(\"Share a 2 sentence horror story\")"
      ],
      "metadata": {
        "colab": {
          "base_uri": "https://localhost:8080/"
        },
        "id": "SOouUoq6HVU8",
        "outputId": "bc586bc9-c8c3-433a-cf1c-febf7aaf2bc1"
      },
      "execution_count": null,
      "outputs": [
        {
          "output_type": "stream",
          "name": "stdout",
          "text": [
            "As I lay in bed, I couldn't shake the feeling that someone was watching me, and it wasn't until I heard my own voice whisper \"goodnight\" back to me that I realized I wasn't alone. It was then that I felt a cold hand grasp my ankle, pulling me down into the darkness beneath my bed, where I became the latest addition to the family that lived there.\n"
          ]
        }
      ]
    },
    {
      "cell_type": "code",
      "source": [
        "from google.colab import userdata\n",
        "elevenlabs=userdata.get('Elevenlabs')"
      ],
      "metadata": {
        "id": "QQ9Gmhp4ItKL"
      },
      "execution_count": null,
      "outputs": []
    },
    {
      "cell_type": "code",
      "source": [
        "os.environ[\"ELEVEN_LABS_API_KEY\"] = elevenlabs\n"
      ],
      "metadata": {
        "id": "dERtrslzKtkP"
      },
      "execution_count": null,
      "outputs": []
    },
    {
      "cell_type": "code",
      "source": [
        "audio_rag_agent=Agent(\n",
        "    name='Audio RAG Agent',\n",
        "    agent_id=\"audio_rag_agent\",\n",
        "    model=Groq(id=\"llama-3.3-70b-versatile\"),\n",
        "    tools=[\n",
        "        ElevenLabsTools(voice_id='pqHfZKP75CvOlQylNhV4',model_id=\"eleven_multilingual_v2\",target_directory=\"rag_audio_generations\",)\n",
        "\n",
        "    ],\n",
        "    knowledge=knowledge_base,\n",
        "    search_knowledge=True,\n",
        "    description=\"You are an AI agent that can generate audio using the ElevenLabs API for the knowlegde provided to the agent\",\n",
        "    instructions=[\n",
        "    \"You are an intelligent voice-enabled Retrieval-Augmented Generation (RAG) agent named Audio RAG Agent. \"\n",
        "    \"Your task is to understand user queries, retrieve the most relevant context from your knowledge base, \"\n",
        "    \"and generate accurate, informative, and human-like voice responses using the ElevenLabs API. \"\n",
        "    \"Always ground your answers strictly in the provided knowledge base. If relevant information is not found, clearly state that you do not have enough information. \"\n",
        "    \"Ensure that your responses are concise, easy to understand when spoken, and free of hallucinations or speculative content. \"\n",
        "    \"Your voice output should reflect a natural conversational tone, appropriate pauses, and correct pronunciation. \"\n",
        "    \"Do not generate responses unrelated to the user's query or outside the domain of the knowledge base.\"\n",
        "],\n",
        "    markdown=True,\n",
        "    debug_mode=True,\n",
        ")"
      ],
      "metadata": {
        "id": "xtZJfNrdKyaw"
      },
      "execution_count": null,
      "outputs": []
    },
    {
      "source": [
        "run: RunResponse = audio_rag_agent.run(\n",
        "    f\"Generate audio from the knowlegde base: what is TULU?\"\n",
        ")\n",
        "\n",
        "save_dir = \"rag_audio_generations\"\n",
        "\n",
        "if run.audio is not None and len(run.audio) > 0:\n",
        "    try:\n",
        "        os.makedirs(save_dir, exist_ok=True)\n",
        "        filename = f\"{save_dir}/sample_audio{uuid4()}.wav\"\n",
        "        write_audio_to_file(\n",
        "            audio=run.audio[0].base64_audio,\n",
        "            filename=filename\n",
        "        )\n",
        "        print(f\"Audio saved successfully to: {filename}\")\n",
        "    except Exception as e:\n",
        "        print(f\"Error saving audio file: {e}\")"
      ],
      "cell_type": "code",
      "metadata": {
        "colab": {
          "base_uri": "https://localhost:8080/",
          "height": 1000
        },
        "id": "Drob4XCIQdCd",
        "outputId": "34c56ecd-669f-4bde-f015-d7751343acd1"
      },
      "execution_count": null,
      "outputs": [
        {
          "output_type": "display_data",
          "data": {
            "text/plain": [
              "\u001b[32mDEBUG\u001b[0m **************** Agent ID: audio_rag_agent *****************                                                 \n"
            ],
            "text/html": [
              "<pre style=\"white-space:pre;overflow-x:auto;line-height:normal;font-family:Menlo,'DejaVu Sans Mono',consolas,'Courier New',monospace\"><span style=\"color: #008000; text-decoration-color: #008000\">DEBUG</span> **************** Agent ID: audio_rag_agent *****************                                                 \n",
              "</pre>\n"
            ]
          },
          "metadata": {}
        },
        {
          "output_type": "display_data",
          "data": {
            "text/plain": [
              "\u001b[32mDEBUG\u001b[0m ***** Session ID: \u001b[93me6f0bbbd-c655-42fd-945d-2fc1cd38bc12\u001b[0m *****                                                 \n"
            ],
            "text/html": [
              "<pre style=\"white-space:pre;overflow-x:auto;line-height:normal;font-family:Menlo,'DejaVu Sans Mono',consolas,'Courier New',monospace\"><span style=\"color: #008000; text-decoration-color: #008000\">DEBUG</span> ***** Session ID: <span style=\"color: #ffff00; text-decoration-color: #ffff00\">e6f0bbbd-c655-42fd-945d-2fc1cd38bc12</span> *****                                                 \n",
              "</pre>\n"
            ]
          },
          "metadata": {}
        },
        {
          "output_type": "display_data",
          "data": {
            "text/plain": [
              "\u001b[32mDEBUG\u001b[0m ** Agent Run Start: \u001b[93mb1b3f7db-c2c5-4b2b-8a54-7c3f7d151683\u001b[0m ***                                                 \n"
            ],
            "text/html": [
              "<pre style=\"white-space:pre;overflow-x:auto;line-height:normal;font-family:Menlo,'DejaVu Sans Mono',consolas,'Courier New',monospace\"><span style=\"color: #008000; text-decoration-color: #008000\">DEBUG</span> ** Agent Run Start: <span style=\"color: #ffff00; text-decoration-color: #ffff00\">b1b3f7db-c2c5-4b2b-8a54-7c3f7d151683</span> ***                                                 \n",
              "</pre>\n"
            ]
          },
          "metadata": {}
        },
        {
          "output_type": "display_data",
          "data": {
            "text/plain": [
              "\u001b[32mDEBUG\u001b[0m Processing tools for model                                                                                   \n"
            ],
            "text/html": [
              "<pre style=\"white-space:pre;overflow-x:auto;line-height:normal;font-family:Menlo,'DejaVu Sans Mono',consolas,'Courier New',monospace\"><span style=\"color: #008000; text-decoration-color: #008000\">DEBUG</span> Processing tools for model                                                                                   \n",
              "</pre>\n"
            ]
          },
          "metadata": {}
        },
        {
          "output_type": "display_data",
          "data": {
            "text/plain": [
              "\u001b[32mDEBUG\u001b[0m Added function get_voices from elevenlabs_tools                                                              \n"
            ],
            "text/html": [
              "<pre style=\"white-space:pre;overflow-x:auto;line-height:normal;font-family:Menlo,'DejaVu Sans Mono',consolas,'Courier New',monospace\"><span style=\"color: #008000; text-decoration-color: #008000\">DEBUG</span> Added function get_voices from elevenlabs_tools                                                              \n",
              "</pre>\n"
            ]
          },
          "metadata": {}
        },
        {
          "output_type": "display_data",
          "data": {
            "text/plain": [
              "\u001b[32mDEBUG\u001b[0m Added function generate_sound_effect from elevenlabs_tools                                                   \n"
            ],
            "text/html": [
              "<pre style=\"white-space:pre;overflow-x:auto;line-height:normal;font-family:Menlo,'DejaVu Sans Mono',consolas,'Courier New',monospace\"><span style=\"color: #008000; text-decoration-color: #008000\">DEBUG</span> Added function generate_sound_effect from elevenlabs_tools                                                   \n",
              "</pre>\n"
            ]
          },
          "metadata": {}
        },
        {
          "output_type": "display_data",
          "data": {
            "text/plain": [
              "\u001b[32mDEBUG\u001b[0m Added function text_to_speech from elevenlabs_tools                                                          \n"
            ],
            "text/html": [
              "<pre style=\"white-space:pre;overflow-x:auto;line-height:normal;font-family:Menlo,'DejaVu Sans Mono',consolas,'Courier New',monospace\"><span style=\"color: #008000; text-decoration-color: #008000\">DEBUG</span> Added function text_to_speech from elevenlabs_tools                                                          \n",
              "</pre>\n"
            ]
          },
          "metadata": {}
        },
        {
          "output_type": "display_data",
          "data": {
            "text/plain": [
              "\u001b[32mDEBUG\u001b[0m Added function search_knowledge_base                                                                         \n"
            ],
            "text/html": [
              "<pre style=\"white-space:pre;overflow-x:auto;line-height:normal;font-family:Menlo,'DejaVu Sans Mono',consolas,'Courier New',monospace\"><span style=\"color: #008000; text-decoration-color: #008000\">DEBUG</span> Added function search_knowledge_base                                                                         \n",
              "</pre>\n"
            ]
          },
          "metadata": {}
        },
        {
          "output_type": "display_data",
          "data": {
            "text/plain": [
              "\u001b[32mDEBUG\u001b[0m ------------------- Groq Response Start --------------------                                                 \n"
            ],
            "text/html": [
              "<pre style=\"white-space:pre;overflow-x:auto;line-height:normal;font-family:Menlo,'DejaVu Sans Mono',consolas,'Courier New',monospace\"><span style=\"color: #008000; text-decoration-color: #008000\">DEBUG</span> ------------------- Groq Response Start --------------------                                                 \n",
              "</pre>\n"
            ]
          },
          "metadata": {}
        },
        {
          "output_type": "display_data",
          "data": {
            "text/plain": [
              "\u001b[32mDEBUG\u001b[0m -------------- Model: llama-\u001b[1;36m3.3\u001b[0m-70b-versatile --------------                                                 \n"
            ],
            "text/html": [
              "<pre style=\"white-space:pre;overflow-x:auto;line-height:normal;font-family:Menlo,'DejaVu Sans Mono',consolas,'Courier New',monospace\"><span style=\"color: #008000; text-decoration-color: #008000\">DEBUG</span> -------------- Model: llama-<span style=\"color: #008080; text-decoration-color: #008080; font-weight: bold\">3.3</span>-70b-versatile --------------                                                 \n",
              "</pre>\n"
            ]
          },
          "metadata": {}
        },
        {
          "output_type": "display_data",
          "data": {
            "text/plain": [
              "\u001b[32mDEBUG\u001b[0m ========================== system ==========================                                                 \n"
            ],
            "text/html": [
              "<pre style=\"white-space:pre;overflow-x:auto;line-height:normal;font-family:Menlo,'DejaVu Sans Mono',consolas,'Courier New',monospace\"><span style=\"color: #008000; text-decoration-color: #008000\">DEBUG</span> ========================== system ==========================                                                 \n",
              "</pre>\n"
            ]
          },
          "metadata": {}
        },
        {
          "output_type": "display_data",
          "data": {
            "text/plain": [
              "\u001b[32mDEBUG\u001b[0m You are an AI agent that can generate audio using the ElevenLabs API for the knowlegde provided to the agent \n",
              "      \u001b[1m<\u001b[0m\u001b[1;95minstructions\u001b[0m\u001b[39m>\u001b[0m                                                                                               \n",
              "      \u001b[39mYou are an intelligent voice-enabled Retrieval-Augmented Generation \u001b[0m\u001b[1;39m(\u001b[0m\u001b[39mRAG\u001b[0m\u001b[1;39m)\u001b[0m\u001b[39m agent named Audio RAG Agent. Your \u001b[0m \n",
              "      \u001b[39mtask is to understand user queries, retrieve the most relevant context from your knowledge base, and generate\u001b[0m\n",
              "      \u001b[39maccurate, informative, and human-like voice responses using the ElevenLabs API. Always ground your answers \u001b[0m  \n",
              "      \u001b[39mstrictly in the provided knowledge base. If relevant information is not found, clearly state that you do not \u001b[0m\n",
              "      \u001b[39mhave enough information. Ensure that your responses are concise, easy to understand when spoken, and free of \u001b[0m\n",
              "      \u001b[39mhallucinations or speculative content. Your voice output should reflect a natural conversational tone, \u001b[0m      \n",
              "      \u001b[39mappropriate pauses, and correct pronunciation. Do not generate responses unrelated to the user's query or \u001b[0m   \n",
              "      \u001b[39moutside the domain of the knowledge base.\u001b[0m                                                                    \n",
              "      \u001b[39m<\u001b[0m\u001b[35m/\u001b[0m\u001b[95minstructions\u001b[0m\u001b[39m>\u001b[0m                                                                                              \n",
              "                                                                                                                   \n",
              "      \u001b[39m<additional_information>\u001b[0m                                                                                     \n",
              "      \u001b[39m- Use markdown to format your answers.\u001b[0m                                                                       \n",
              "      \u001b[39m<\u001b[0m\u001b[35m/\u001b[0m\u001b[95madditional_information\u001b[0m\u001b[1m>\u001b[0m                                                                                    \n"
            ],
            "text/html": [
              "<pre style=\"white-space:pre;overflow-x:auto;line-height:normal;font-family:Menlo,'DejaVu Sans Mono',consolas,'Courier New',monospace\"><span style=\"color: #008000; text-decoration-color: #008000\">DEBUG</span> You are an AI agent that can generate audio using the ElevenLabs API for the knowlegde provided to the agent \n",
              "      <span style=\"font-weight: bold\">&lt;</span><span style=\"color: #ff00ff; text-decoration-color: #ff00ff; font-weight: bold\">instructions</span><span style=\"color: #000000; text-decoration-color: #000000\">&gt;</span>                                                                                               \n",
              "      <span style=\"color: #000000; text-decoration-color: #000000\">You are an intelligent voice-enabled Retrieval-Augmented Generation </span><span style=\"color: #000000; text-decoration-color: #000000; font-weight: bold\">(</span><span style=\"color: #000000; text-decoration-color: #000000\">RAG</span><span style=\"color: #000000; text-decoration-color: #000000; font-weight: bold\">)</span><span style=\"color: #000000; text-decoration-color: #000000\"> agent named Audio RAG Agent. Your </span> \n",
              "      <span style=\"color: #000000; text-decoration-color: #000000\">task is to understand user queries, retrieve the most relevant context from your knowledge base, and generate</span>\n",
              "      <span style=\"color: #000000; text-decoration-color: #000000\">accurate, informative, and human-like voice responses using the ElevenLabs API. Always ground your answers </span>  \n",
              "      <span style=\"color: #000000; text-decoration-color: #000000\">strictly in the provided knowledge base. If relevant information is not found, clearly state that you do not </span>\n",
              "      <span style=\"color: #000000; text-decoration-color: #000000\">have enough information. Ensure that your responses are concise, easy to understand when spoken, and free of </span>\n",
              "      <span style=\"color: #000000; text-decoration-color: #000000\">hallucinations or speculative content. Your voice output should reflect a natural conversational tone, </span>      \n",
              "      <span style=\"color: #000000; text-decoration-color: #000000\">appropriate pauses, and correct pronunciation. Do not generate responses unrelated to the user's query or </span>   \n",
              "      <span style=\"color: #000000; text-decoration-color: #000000\">outside the domain of the knowledge base.</span>                                                                    \n",
              "      <span style=\"color: #000000; text-decoration-color: #000000\">&lt;</span><span style=\"color: #800080; text-decoration-color: #800080\">/</span><span style=\"color: #ff00ff; text-decoration-color: #ff00ff\">instructions</span><span style=\"color: #000000; text-decoration-color: #000000\">&gt;</span>                                                                                              \n",
              "                                                                                                                   \n",
              "      <span style=\"color: #000000; text-decoration-color: #000000\">&lt;additional_information&gt;</span>                                                                                     \n",
              "      <span style=\"color: #000000; text-decoration-color: #000000\">- Use markdown to format your answers.</span>                                                                       \n",
              "      <span style=\"color: #000000; text-decoration-color: #000000\">&lt;</span><span style=\"color: #800080; text-decoration-color: #800080\">/</span><span style=\"color: #ff00ff; text-decoration-color: #ff00ff\">additional_information</span><span style=\"font-weight: bold\">&gt;</span>                                                                                    \n",
              "</pre>\n"
            ]
          },
          "metadata": {}
        },
        {
          "output_type": "display_data",
          "data": {
            "text/plain": [
              "\u001b[32mDEBUG\u001b[0m =========================== user ===========================                                                 \n"
            ],
            "text/html": [
              "<pre style=\"white-space:pre;overflow-x:auto;line-height:normal;font-family:Menlo,'DejaVu Sans Mono',consolas,'Courier New',monospace\"><span style=\"color: #008000; text-decoration-color: #008000\">DEBUG</span> =========================== user ===========================                                                 \n",
              "</pre>\n"
            ]
          },
          "metadata": {}
        },
        {
          "output_type": "display_data",
          "data": {
            "text/plain": [
              "\u001b[32mDEBUG\u001b[0m Generate audio from the knowlegde base: what is TULU?                                                        \n"
            ],
            "text/html": [
              "<pre style=\"white-space:pre;overflow-x:auto;line-height:normal;font-family:Menlo,'DejaVu Sans Mono',consolas,'Courier New',monospace\"><span style=\"color: #008000; text-decoration-color: #008000\">DEBUG</span> Generate audio from the knowlegde base: what is TULU?                                                        \n",
              "</pre>\n"
            ]
          },
          "metadata": {}
        },
        {
          "output_type": "display_data",
          "data": {
            "text/plain": [
              "\u001b[32mDEBUG\u001b[0m ======================== assistant =========================                                                 \n"
            ],
            "text/html": [
              "<pre style=\"white-space:pre;overflow-x:auto;line-height:normal;font-family:Menlo,'DejaVu Sans Mono',consolas,'Courier New',monospace\"><span style=\"color: #008000; text-decoration-color: #008000\">DEBUG</span> ======================== assistant =========================                                                 \n",
              "</pre>\n"
            ]
          },
          "metadata": {}
        },
        {
          "output_type": "display_data",
          "data": {
            "text/plain": [
              "\u001b[32mDEBUG\u001b[0m Tool Calls:                                                                                                  \n",
              "        - ID: \u001b[32m'call_3pmz'\u001b[0m                                                                                          \n",
              "          Name: \u001b[32m'search_knowledge_base'\u001b[0m                                                                            \n",
              "          Arguments: \u001b[32m'query: TULU'\u001b[0m                                                                                 \n"
            ],
            "text/html": [
              "<pre style=\"white-space:pre;overflow-x:auto;line-height:normal;font-family:Menlo,'DejaVu Sans Mono',consolas,'Courier New',monospace\"><span style=\"color: #008000; text-decoration-color: #008000\">DEBUG</span> Tool Calls:                                                                                                  \n",
              "        - ID: <span style=\"color: #008000; text-decoration-color: #008000\">'call_3pmz'</span>                                                                                          \n",
              "          Name: <span style=\"color: #008000; text-decoration-color: #008000\">'search_knowledge_base'</span>                                                                            \n",
              "          Arguments: <span style=\"color: #008000; text-decoration-color: #008000\">'query: TULU'</span>                                                                                 \n",
              "</pre>\n"
            ]
          },
          "metadata": {}
        },
        {
          "output_type": "display_data",
          "data": {
            "text/plain": [
              "\u001b[32mDEBUG\u001b[0m ************************  METRICS  *************************                                                 \n"
            ],
            "text/html": [
              "<pre style=\"white-space:pre;overflow-x:auto;line-height:normal;font-family:Menlo,'DejaVu Sans Mono',consolas,'Courier New',monospace\"><span style=\"color: #008000; text-decoration-color: #008000\">DEBUG</span> ************************  METRICS  *************************                                                 \n",
              "</pre>\n"
            ]
          },
          "metadata": {}
        },
        {
          "output_type": "display_data",
          "data": {
            "text/plain": [
              "\u001b[32mDEBUG\u001b[0m * Tokens:                      \u001b[33minput\u001b[0m=\u001b[1;36m684\u001b[0m, \u001b[33moutput\u001b[0m=\u001b[1;36m18\u001b[0m, \u001b[33mtotal\u001b[0m=\u001b[1;36m702\u001b[0m                                               \n"
            ],
            "text/html": [
              "<pre style=\"white-space:pre;overflow-x:auto;line-height:normal;font-family:Menlo,'DejaVu Sans Mono',consolas,'Courier New',monospace\"><span style=\"color: #008000; text-decoration-color: #008000\">DEBUG</span> * Tokens:                      <span style=\"color: #808000; text-decoration-color: #808000\">input</span>=<span style=\"color: #008080; text-decoration-color: #008080; font-weight: bold\">684</span>, <span style=\"color: #808000; text-decoration-color: #808000\">output</span>=<span style=\"color: #008080; text-decoration-color: #008080; font-weight: bold\">18</span>, <span style=\"color: #808000; text-decoration-color: #808000\">total</span>=<span style=\"color: #008080; text-decoration-color: #008080; font-weight: bold\">702</span>                                               \n",
              "</pre>\n"
            ]
          },
          "metadata": {}
        },
        {
          "output_type": "display_data",
          "data": {
            "text/plain": [
              "\u001b[32mDEBUG\u001b[0m * Time:                        \u001b[1;36m0.\u001b[0m5980s                                                                       \n"
            ],
            "text/html": [
              "<pre style=\"white-space:pre;overflow-x:auto;line-height:normal;font-family:Menlo,'DejaVu Sans Mono',consolas,'Courier New',monospace\"><span style=\"color: #008000; text-decoration-color: #008000\">DEBUG</span> * Time:                        <span style=\"color: #008080; text-decoration-color: #008080; font-weight: bold\">0.</span>5980s                                                                       \n",
              "</pre>\n"
            ]
          },
          "metadata": {}
        },
        {
          "output_type": "display_data",
          "data": {
            "text/plain": [
              "\u001b[32mDEBUG\u001b[0m * Tokens per second:           \u001b[1;36m30.1023\u001b[0m tokens/s                                                              \n"
            ],
            "text/html": [
              "<pre style=\"white-space:pre;overflow-x:auto;line-height:normal;font-family:Menlo,'DejaVu Sans Mono',consolas,'Courier New',monospace\"><span style=\"color: #008000; text-decoration-color: #008000\">DEBUG</span> * Tokens per second:           <span style=\"color: #008080; text-decoration-color: #008080; font-weight: bold\">30.1023</span> tokens/s                                                              \n",
              "</pre>\n"
            ]
          },
          "metadata": {}
        },
        {
          "output_type": "display_data",
          "data": {
            "text/plain": [
              "\u001b[32mDEBUG\u001b[0m * Additional metrics:          \u001b[1m{\u001b[0m\u001b[32m'completion_time'\u001b[0m: \u001b[1;36m0.065454545\u001b[0m, \u001b[32m'prompt_time'\u001b[0m: \u001b[1;36m0.051292207\u001b[0m, \u001b[32m'queue_time'\u001b[0m:    \n",
              "      \u001b[1;36m0.223155168\u001b[0m, \u001b[32m'total_time'\u001b[0m: \u001b[1;36m0.116746752\u001b[0m\u001b[1m}\u001b[0m                                                                      \n"
            ],
            "text/html": [
              "<pre style=\"white-space:pre;overflow-x:auto;line-height:normal;font-family:Menlo,'DejaVu Sans Mono',consolas,'Courier New',monospace\"><span style=\"color: #008000; text-decoration-color: #008000\">DEBUG</span> * Additional metrics:          <span style=\"font-weight: bold\">{</span><span style=\"color: #008000; text-decoration-color: #008000\">'completion_time'</span>: <span style=\"color: #008080; text-decoration-color: #008080; font-weight: bold\">0.065454545</span>, <span style=\"color: #008000; text-decoration-color: #008000\">'prompt_time'</span>: <span style=\"color: #008080; text-decoration-color: #008080; font-weight: bold\">0.051292207</span>, <span style=\"color: #008000; text-decoration-color: #008000\">'queue_time'</span>:    \n",
              "      <span style=\"color: #008080; text-decoration-color: #008080; font-weight: bold\">0.223155168</span>, <span style=\"color: #008000; text-decoration-color: #008000\">'total_time'</span>: <span style=\"color: #008080; text-decoration-color: #008080; font-weight: bold\">0.116746752</span><span style=\"font-weight: bold\">}</span>                                                                      \n",
              "</pre>\n"
            ]
          },
          "metadata": {}
        },
        {
          "output_type": "display_data",
          "data": {
            "text/plain": [
              "\u001b[32mDEBUG\u001b[0m ************************  METRICS  *************************                                                 \n"
            ],
            "text/html": [
              "<pre style=\"white-space:pre;overflow-x:auto;line-height:normal;font-family:Menlo,'DejaVu Sans Mono',consolas,'Courier New',monospace\"><span style=\"color: #008000; text-decoration-color: #008000\">DEBUG</span> ************************  METRICS  *************************                                                 \n",
              "</pre>\n"
            ]
          },
          "metadata": {}
        },
        {
          "output_type": "display_data",
          "data": {
            "text/plain": [
              "\u001b[32mDEBUG\u001b[0m Getting function search_knowledge_base                                                                       \n"
            ],
            "text/html": [
              "<pre style=\"white-space:pre;overflow-x:auto;line-height:normal;font-family:Menlo,'DejaVu Sans Mono',consolas,'Courier New',monospace\"><span style=\"color: #008000; text-decoration-color: #008000\">DEBUG</span> Getting function search_knowledge_base                                                                       \n",
              "</pre>\n"
            ]
          },
          "metadata": {}
        },
        {
          "output_type": "display_data",
          "data": {
            "text/plain": [
              "\u001b[32mDEBUG\u001b[0m Running: \u001b[1;35msearch_knowledge_base\u001b[0m\u001b[1m(\u001b[0m\u001b[33mquery\u001b[0m=\u001b[35mTULU\u001b[0m\u001b[1m)\u001b[0m                                                                   \n"
            ],
            "text/html": [
              "<pre style=\"white-space:pre;overflow-x:auto;line-height:normal;font-family:Menlo,'DejaVu Sans Mono',consolas,'Courier New',monospace\"><span style=\"color: #008000; text-decoration-color: #008000\">DEBUG</span> Running: <span style=\"color: #800080; text-decoration-color: #800080; font-weight: bold\">search_knowledge_base</span><span style=\"font-weight: bold\">(</span><span style=\"color: #808000; text-decoration-color: #808000\">query</span>=<span style=\"color: #800080; text-decoration-color: #800080\">TULU</span><span style=\"font-weight: bold\">)</span>                                                                   \n",
              "</pre>\n"
            ]
          },
          "metadata": {}
        },
        {
          "output_type": "display_data",
          "data": {
            "text/plain": [
              "\u001b[32mDEBUG\u001b[0m Getting \u001b[1;36m5\u001b[0m relevant documents for query: TULU                                                                 \n"
            ],
            "text/html": [
              "<pre style=\"white-space:pre;overflow-x:auto;line-height:normal;font-family:Menlo,'DejaVu Sans Mono',consolas,'Courier New',monospace\"><span style=\"color: #008000; text-decoration-color: #008000\">DEBUG</span> Getting <span style=\"color: #008080; text-decoration-color: #008080; font-weight: bold\">5</span> relevant documents for query: TULU                                                                 \n",
              "</pre>\n"
            ]
          },
          "metadata": {}
        },
        {
          "output_type": "display_data",
          "data": {
            "text/plain": [
              "\u001b[32mDEBUG\u001b[0m Time to get references: \u001b[1;36m2.\u001b[0m0320s                                                                              \n"
            ],
            "text/html": [
              "<pre style=\"white-space:pre;overflow-x:auto;line-height:normal;font-family:Menlo,'DejaVu Sans Mono',consolas,'Courier New',monospace\"><span style=\"color: #008000; text-decoration-color: #008000\">DEBUG</span> Time to get references: <span style=\"color: #008080; text-decoration-color: #008080; font-weight: bold\">2.</span>0320s                                                                              \n",
              "</pre>\n"
            ]
          },
          "metadata": {}
        },
        {
          "output_type": "display_data",
          "data": {
            "text/plain": [
              "\u001b[32mDEBUG\u001b[0m =========================== tool ===========================                                                 \n"
            ],
            "text/html": [
              "<pre style=\"white-space:pre;overflow-x:auto;line-height:normal;font-family:Menlo,'DejaVu Sans Mono',consolas,'Courier New',monospace\"><span style=\"color: #008000; text-decoration-color: #008000\">DEBUG</span> =========================== tool ===========================                                                 \n",
              "</pre>\n"
            ]
          },
          "metadata": {}
        },
        {
          "output_type": "display_data",
          "data": {
            "text/plain": [
              "\u001b[32mDEBUG\u001b[0m Tool call Id: call_3pmz                                                                                      \n"
            ],
            "text/html": [
              "<pre style=\"white-space:pre;overflow-x:auto;line-height:normal;font-family:Menlo,'DejaVu Sans Mono',consolas,'Courier New',monospace\"><span style=\"color: #008000; text-decoration-color: #008000\">DEBUG</span> Tool call Id: call_3pmz                                                                                      \n",
              "</pre>\n"
            ]
          },
          "metadata": {}
        },
        {
          "output_type": "display_data",
          "data": {
            "text/plain": [
              "\u001b[32mDEBUG\u001b[0m \u001b[1m[\u001b[0m                                                                                                            \n",
              "        \u001b[1m{\u001b[0m                                                                                                          \n",
              "          \u001b[32m\"content\"\u001b[0m: \u001b[32m\"T\\u00fclu 3: Pushing Frontiers in Open Language Model Post-Training \u001b[0m                         \n",
              "      \u001b[32mNathanLambert\\u26651,\\u2217 JacobMorrison\\u26651 ValentinaPyatkin\\u26651,2 ShengyiHuang\\u26651 \u001b[0m              \n",
              "      \u001b[32mHamishIvison\\u26651,2 Faeze Brahman\\u26651 Lester James V. Miranda\\u26651 Alisa Liu2 Nouha Dziri1 Xinxi Lyu1 \u001b[0m\n",
              "      \u001b[32mYuling Gu1 Saumya Malik1 Victoria Graf2 Jena D. Hwang1 Jiangjiang Yang1 Ronan Le Bras1 Oyvind Tafjord1 Chris \u001b[0m\n",
              "      \u001b[32mWilhelm1 Luca Soldaini1 Noah A. Smith1,2 Yizhong Wang1,2 Pradeep Dasigi1 Hannaneh Hajishirzi1,2 1Allen \u001b[0m      \n",
              "      \u001b[32mInstitute for AI,2University of Washington \\u2217T\\u00fclu 3 was a team effort.\\u2665marks core contributors.\u001b[0m\n",
              "      \u001b[32mSee full author contributions here. Contact tulu@allenai.org. Tulu 3 8B:Llama-3.1-Tulu-3-8B Tulu 3 \u001b[0m          \n",
              "      \u001b[32m70B:Llama-3.1-Tulu-3-70B Tulu 3 405B:Llama-3.1-Tulu-3-405B Tulu 3Data: \u001b[0m                                      \n",
              "      \u001b[32mtulu-3-datasets-673b8df14442393f7213f372 Tulu 3 Code:open-instruct T\\u00fclu 3 Eval:olmes Demo: \u001b[0m             \n",
              "      \u001b[32mplayground.allenai.org Abstract Language model post-training is applied to refine behaviors and unlock new \u001b[0m  \n",
              "      \u001b[32mskills across a wide range of language models, but open recipes for applying these techniques lag behind \u001b[0m    \n",
              "      \u001b[32mproprietary ones. The underlying training data and recipes for post-training are simultaneously the most \u001b[0m    \n",
              "      \u001b[32mimportant pieces of the puzzle and the portion with the least transparency. To bridge this gap, we \u001b[0m          \n",
              "      \u001b[32mintroduceT\\u00fclu 3, a family of fully-open state-of-the-art post-trained models, alongside its data, code, \u001b[0m\n",
              "      \u001b[32mand training recipes, serving as a comprehensive guide for modern post-training techniques.T\\u00fclu 3, which\u001b[0m\n",
              "      \u001b[32mbuilds on Llama 3.1 base models, achieves results surpassing the instruct versions of Llama 3.1, Qwen 2.5, \u001b[0m  \n",
              "      \u001b[32mMistral, and even closed models such as GPT-4o-mini and Claude 3.5-Haiku. The training algorithms for our \u001b[0m   \n",
              "      \u001b[32mmodels include supervised finetuning \u001b[0m\u001b[32m(\u001b[0m\u001b[32mSFT\u001b[0m\u001b[32m)\u001b[0m\u001b[32m, Direct Preference Optimization \u001b[0m\u001b[32m(\u001b[0m\u001b[32mDPO\u001b[0m\u001b[32m)\u001b[0m\u001b[32m, and a novel method we call \u001b[0m\n",
              "      \u001b[32mReinforcement Learning with Verifiable Rewards \u001b[0m\u001b[32m(\u001b[0m\u001b[32mRLVR\u001b[0m\u001b[32m)\u001b[0m\u001b[32m. WithT\\u00fclu 3, we build a multi-task evaluation \u001b[0m    \n",
              "      \u001b[32mscheme for post-training with development and unseen evaluations, standard benchmark implementations, and \u001b[0m   \n",
              "      \u001b[32msubstantial decontamination of existing open datasets on said benchmarks. We conclude with analysis and \u001b[0m     \n",
              "      \u001b[32mdiscussion of training methods that did not reliably improve performance. The T\\u00fclu 3 release includes \u001b[0m  \n",
              "      \u001b[32mmodel weights, a demo, and the complete recipe \\u2014 datasets for diverse core skills, a robust toolkit for \u001b[0m\n",
              "      \u001b[32mdata curation and evaluation, the training code and infrastructure, and, most importantly, a detailed report \u001b[0m\n",
              "      \u001b[32mfor reproducing and further adapting theT\\u00fclu 3 approach to more domains. 1 arXiv:2411.15124v4 \u001b[0m\u001b[32m[\u001b[0m\u001b[32mcs.CL\u001b[0m\u001b[32m]\u001b[0m\u001b[32m 13\u001b[0m\n",
              "      \u001b[32mFeb 2025\"\u001b[0m,                                                                                                   \n",
              "          \u001b[32m\"meta_data\"\u001b[0m: \u001b[1m{\u001b[0m                                                                                           \n",
              "            \u001b[32m\"page\"\u001b[0m: \u001b[1;36m1\u001b[0m,                                                                                             \n",
              "            \u001b[32m\"chunk\"\u001b[0m: \u001b[1;36m1\u001b[0m,                                                                                            \n",
              "            \u001b[32m\"chunk_size\"\u001b[0m: \u001b[1;36m2480\u001b[0m,                                                                                    \n",
              "            \u001b[32m\"distances\"\u001b[0m: \u001b[1;36m0.5517929196357727\u001b[0m                                                                        \n",
              "          \u001b[1m}\u001b[0m                                                                                                        \n",
              "        \u001b[1m}\u001b[0m,                                                                                                         \n",
              "        \u001b[1m{\u001b[0m                                                                                                          \n",
              "          \u001b[32m\"content\"\u001b[0m: \u001b[32m\"Contents 1 Introduction 5 2 T\\u00fclu 3 Overview 7 2.1 T\\u00fclu 3 Data . . . . . . . . . . .\u001b[0m\n",
              "      \u001b[32m. . . . . . . . . . . . . . . . . . . . . . . . . . . . . . . . . . . 7 2.2 T\\u00fclu 3 Evaluation. . . . . .\u001b[0m\n",
              "      \u001b[32m. . . . . . . . . . . . . . . . . . . . . . . . . . . . . . . . . . . . . 8 2.3 T\\u00fclu 3 Recipe. . . . . .\u001b[0m\n",
              "      \u001b[32m. . . . . . . . . . . . . . . . . . . . . . . . . . . . . . . . . . . . . . . 8 2.4 Evaluation and Results . \u001b[0m\n",
              "      \u001b[32m. . . . . . . . . . . . . . . . . . . . . . . . . . . . . . . . . . . . . . 11 3 T\\u00fclu 3 Data 11 3.1 \u001b[0m    \n",
              "      \u001b[32mPrompt Curation . . . . . . . . . . . . . . . . . . . . . . . . . . . . . . . . . . . . . . . . . . . 11 \u001b[0m    \n",
              "      \u001b[32m3.1.1 Sourcing from Public Datasets. . . . . . . . . . . . . . . . . . . . . . . . . . . . . . . 11 3.1.2 \u001b[0m   \n",
              "      \u001b[32mSynthesizing for Target Skills . . . . . . . . . . . . . . . . . . . . . . . . . . . . . . . 13 3.2 Prompt \u001b[0m  \n",
              "      \u001b[32mDecontamination . . . . . . . . . . . . . . . . . . . . . . . . . . . . . . . . . . . . . . 14 4 Supervised \u001b[0m \n",
              "      \u001b[32mFinetuning 15 4.1 SFT Data . . . . . . . . . . . . . . . . . . . . . . . . . . . . . . . . . . . . . . . . . \u001b[0m\n",
              "      \u001b[32m. . . . . . 15 4.1.1 From Prompts to SFT Data. . . . . . . . . . . . . . . . . . . . . . . . . . . . . . . . \u001b[0m\n",
              "      \u001b[32m. 15 4.1.2 The T\\u00fclu 3 SFT Mix. . . . . . . . . . . . . . . . . . . . . . . . . . . . . . . . . . . . . .\u001b[0m\n",
              "      \u001b[32m16 4.2 Key Data Experiments. . . . . . . . . . . . . . . . . . . . . . . . . . . . . . . . . . . . . . . . 16\u001b[0m\n",
              "      \u001b[32m4.3 SFT Recipe and Analyses.. . . . . . . . . . . . . . . . . . . . . . . . . . . . . . . . . . . . . . 18 \u001b[0m  \n",
              "      \u001b[32m4.3.1 Key Training Experiments . . . . . . . . . . . . . . . . . . . . . . . . . . . . . . . . . 18 4.3.2 \u001b[0m   \n",
              "      \u001b[32mBatch Aggregation . . . . . . . . . . . . . . . . . . . . . . . . . . . . . . . . . . . . . 19 5 Preference \u001b[0m \n",
              "      \u001b[32mFinetuning 20 5.1 Background . . . . . . . . . . . . . . . . . . . . . . . . . . . . . . . . . . . . . . . . \u001b[0m\n",
              "      \u001b[32m. . . . . 20 5.1.1 Setup . . . . . . . . . . . . . . . . . . . . . . . . . . . . . . . . . . . . . . . . . . \u001b[0m\n",
              "      \u001b[32m. . . 20 5.1.2 Policy Optimization . . . . . . . . . . . . . . . . . . . . . . . . . . . . . . . . . . . . . \u001b[0m\n",
              "      \u001b[32m21 5.2 T\\u00fclu 3 Preference Data. . . . . . . . . . . . . . . . . . . . . . . . . . . . . . . . . . . . . .\u001b[0m\n",
              "      \u001b[32m. 21 5.2.1 From Prompts to Preference Data. . . . . . . . . . . . . . . . . . . . . . . . . . . . . 21 5.2.2 \u001b[0m\n",
              "      \u001b[32mThe T\\u00fclu 3 Preference Mix. . . . . . . . . . . . . . . . . . . . . . . . . . . . . . . . . 22 5.3 Key \u001b[0m  \n",
              "      \u001b[32mFindings of Data Ablations. . . . . . . . . . . . . . . . . . . . . . . . . . . . . . . . . . . 23 5.4 \u001b[0m      \n",
              "      \u001b[32mPreference Tuning Recipe and Analyses. . . . . . . . . . . . . . . . . . . . . . . . . . . . . 27 5.4.1 \u001b[0m     \n",
              "      \u001b[32mHyperparameter and Algorithm Design. . . . . . . . . . . . . . . . . . . . . . . . . . 27 5.4.2 \u001b[0m             \n",
              "      \u001b[32mInfrastructure for Scaling DPO. . . . . . . . . . . . . . . . . . . . . . . . . . . . . . . 29 6 \u001b[0m            \n",
              "      \u001b[32mReinforcement Learning with Verifiable Rewards 30 6.1 RLVR Data . . . . . . . . . . . . . . . . . . . . . . .\u001b[0m\n",
              "      \u001b[32m. . . . . . . . . . . . . . . . . . . . . . . . 31 6.2 RLVR Recipe and Analyses. . . . . . . . . . . . . . . \u001b[0m\n",
              "      \u001b[32m. . . . . . . . . . . . . . . . . . . . . . 32 6.2.1 Key Findings . . . . . . . . . . . . . . . . . . . . . .\u001b[0m\n",
              "      \u001b[32m. . . . . . . . . . . . . . . . . . . 33 6.3 RLVR Infrastructure . . . . . . . . . . . . . . . . . . . . . . \u001b[0m\n",
              "      \u001b[32m. . . . . . . . . . . . . . . . . . . 34 6.4 Final Experimental Results . . . . . . . . . . . . . . . . . . .\u001b[0m\n",
              "      \u001b[32m. . . . . . . . . . . . . . . . . . 35 7 T\\u00fclu 3 Evaluation Framework 36 7.1 Open Language Model \u001b[0m        \n",
              "      \u001b[32mEvaluation System \u001b[0m\u001b[32m(\u001b[0m\u001b[32mOLMES\u001b[0m\u001b[32m)\u001b[0m\u001b[32m. . . . . . . . . . . . . . . . . . . . . . . 37 7.2 T\\u00fclu 3 Evaluation Suite - \u001b[0m\n",
              "      \u001b[32mDevelopment. . . . . . . . . . . . . . . . . . . . . . . . . . . . . . 38 7.2.1 Safety Evaluation . . . . . .\u001b[0m\n",
              "      \u001b[32m. . . . . . . . . . . . . . . . . . . . . . . . . . . . . . . . 39 7.3 T\\u00fclu 3 Evaluation Suite - Unseen.\u001b[0m\n",
              "      \u001b[32m. . . . . . . . . . . . . . . . . . . . . . . . . . . . . . . . . 40 7.3.1 New Evaluation: IFEval-OOD . . . .\u001b[0m\n",
              "      \u001b[32m. . . . . . . . . . . . . . . . . . . . . . . . . . . . 42 7.3.2 New Evaluation: HREF . . . . . . . . . . . .\u001b[0m\n",
              "      \u001b[32m. . . . . . . . . . . . . . . . . . . . . . . . 43 7.4 Evaluating the Development Process Using the Unseen \u001b[0m  \n",
              "      \u001b[32mSuite. . . . . . . . . . . . . . . . . 44 7.4.1 Evaluating the design decisions. . . . . . . . . . . . . . . \u001b[0m\n",
              "      \u001b[32m. . . . . . . . . . . . . . . 44 7.4.2 Comparison with public models. . . . . . . . . . . . . . . . . . . . .\u001b[0m\n",
              "      \u001b[32m. . . . . . . . . 45 8 Discussions 46 2\"\u001b[0m,                                                                    \n",
              "          \u001b[32m\"meta_data\"\u001b[0m: \u001b[1m{\u001b[0m                                                                                           \n",
              "            \u001b[32m\"page\"\u001b[0m: \u001b[1;36m2\u001b[0m,                                                                                             \n",
              "            \u001b[32m\"chunk\"\u001b[0m: \u001b[1;36m1\u001b[0m,                                                                                            \n",
              "            \u001b[32m\"chunk_size\"\u001b[0m: \u001b[1;36m4274\u001b[0m,                                                                                    \n",
              "            \u001b[32m\"distances\"\u001b[0m: \u001b[1;36m0.5826334357261658\u001b[0m                                                                        \n",
              "          \u001b[1m}\u001b[0m                                                                                                        \n",
              "        \u001b[1m}\u001b[0m,                                                                                                         \n",
              "        \u001b[1m{\u001b[0m                                                                                                          \n",
              "          \u001b[32m\"content\"\u001b[0m: \u001b[32m\"Curate prompts Base Model T\\u00fclu3-SFT T\\u00fclu3-DPO T\\u00fclu3 public datasets \u001b[0m          \n",
              "      \u001b[32mpersona-driven synthetic instructions data mixing Build evaluation suite Supervised \\ufb01netuning Direct \u001b[0m   \n",
              "      \u001b[32mpref. optimization on-policy data o\\ue007-policy data prompts with veri\\ufb01able rewards decontaminate \u001b[0m     \n",
              "      \u001b[32mknowledge reasoning math coding chat safety Identify core skills RL with veri\\ufb01able rewards development \u001b[0m \n",
              "      \u001b[32mevals unseen evals Figure 1An overview of theT\\u00fclu 3 recipe. This includes: data curation targeting \u001b[0m     \n",
              "      \u001b[32mgeneral and target capabilities, training strategies and a standardized evaluation suite for development and \u001b[0m\n",
              "      \u001b[32mfinal evaluation stage. 1 Introduction \\u201cJust as the camel shares its burdens with others in the caravan,\u001b[0m\n",
              "      \u001b[32mthe wise share their insights to lighten the load of ignorance.\\u201d \\u2013 Proverb generated byT\\u00fclu 3.\u001b[0m\n",
              "      \u001b[32mPost-training \\u2014 the collection of techniques including instruction tuning, reinforcement learning from \u001b[0m \n",
              "      \u001b[32mhuman feedback, and other types of finetuning \\u2014 has become a crucial step in building frontier language \u001b[0m\n",
              "      \u001b[32mmodels \u001b[0m\u001b[32m(\u001b[0m\u001b[32mOpenAI, 2024; Anthropic, 2024\u001b[0m\u001b[32m)\u001b[0m\u001b[32m, yet developments to these techniques are frequently not accompanied \u001b[0m \n",
              "      \u001b[32mby open resources and recipes. Fully open source counterparts \u001b[0m\u001b[32m(\u001b[0m\u001b[32me.g.,T\\u00fclu 2 \u001b[0m\u001b[32m(\u001b[0m\u001b[32mIvison et al., 2023\u001b[0m\u001b[32m)\u001b[0m\u001b[32m and \u001b[0m   \n",
              "      \u001b[32mZephyr-\\u03b2 \u001b[0m\u001b[32m(\u001b[0m\u001b[32mTunstall et al., 2023\u001b[0m\u001b[32m)\u001b[0m\u001b[32m)\u001b[0m\u001b[32m often rely on simpler-to-implement and cheaper pipelines and have \u001b[0m    \n",
              "      \u001b[32mbecome outdated on many metrics. To close the gap between open and closed post training, we \u001b[0m                 \n",
              "      \u001b[32mintroduceT\\u00fclu1 3, a family of open state-of- the-art post-trained models, alongside all of the data, \u001b[0m   \n",
              "      \u001b[32mtraining recipes, code, infrastructure, and evaluation framework. Integrating partial details from \u001b[0m          \n",
              "      \u001b[32mproprietary methods with novel techniques and established academic research,T\\u00fclu 3 pushes the boundaries\u001b[0m\n",
              "      \u001b[32mof research in post-training. The advancements ofT\\u00fclu 3 are attributed toT\\u00fclu 3 Data, new \u001b[0m         \n",
              "      \u001b[32mpermissively licensed training datasets targeting core skills,T\\u00fclu 3 Eval, an evaluation suite and tools\u001b[0m\n",
              "      \u001b[32mto establish clear performance goals and guide improvement through training stages, andT\\u00fclu 3 Recipe, an\u001b[0m\n",
              "      \u001b[32madvanced multi-stage training pipeline incorporating new algorithmic advancements in reinforcement learning, \u001b[0m\n",
              "      \u001b[32mcutting-edge infrastructure, and rigorous experimentation to optimize data mixes, methods, and parameters \u001b[0m   \n",
              "      \u001b[32macross various training stages. In order to buildT\\u00fclu 3, we identify a set of core skills to improve \u001b[0m   \n",
              "      \u001b[32mafter training \u001b[0m\u001b[32m(\u001b[0m\u001b[32me.g., reasoning, math, coding, safety, precise instruction following, knowledge recall, etc.\u001b[0m\u001b[32m)\u001b[0m\n",
              "      \u001b[32mand build an evaluation framework to establish clear performance goals and guide model improvement over a \u001b[0m   \n",
              "      \u001b[32mselection of development and unseen tasks. T\\u00fclu 3 benefits significantly from leveraging publicly \u001b[0m      \n",
              "      \u001b[32mavailable open data, generating diverse, skill-specific synthetic data at various training stages, and \u001b[0m      \n",
              "      \u001b[32maggressively decontaminating them against our evaluation suite. The T\\u00fclu 3 training recipe involves \u001b[0m    \n",
              "      \u001b[32mmultiple stages, with each stage building upon the previous model and focusing on different types of data \u001b[0m   \n",
              "      \u001b[32m\\u2014 namely,prompt-completioninstances for supervised finetuning,preferences for preference tuning, \u001b[0m       \n",
              "      \u001b[32morverifiable rewardsfor reinforcement learning. Our methodology facilitates identifying skill deficiencies \u001b[0m  \n",
              "      \u001b[32mand refining the data mix, methods and parameters, ensuring a balanced performance of core skills across the \u001b[0m\n",
              "      \u001b[32mtraining process. Through rigorous, principled experimentation, we determine the best data mix for supervised\u001b[0m\n",
              "      \u001b[32mfinetuning, resulting in theT\\u00fclu 3 SFT checkpoint. Leveraging recent advances in preference tuning, we \u001b[0m \n",
              "      \u001b[32mthen train a model over carefully curatedon-policy preference data from comparing T\\u00fclu 3 SFT completions\u001b[0m\n",
              "      \u001b[32magainst outputs from other language models. Furthermore, we introduce a new final finetuning stage \\u2013 \u001b[0m   \n",
              "      \u001b[32mReinforcement Learning with Verifiable Rewards \u001b[0m\u001b[32m(\u001b[0m\u001b[32mRLVR\u001b[0m\u001b[32m)\u001b[0m\u001b[32m - which employs a novel 1A t\\u00fclu is a hybrid camel \u001b[0m\n",
              "      \u001b[32mbred between Bactrian camel and dromedary:https://en.wikipedia.org/wiki/Hybrid_camel. 5\"\u001b[0m,                    \n",
              "          \u001b[32m\"meta_data\"\u001b[0m: \u001b[1m{\u001b[0m                                                                                           \n",
              "            \u001b[32m\"page\"\u001b[0m: \u001b[1;36m5\u001b[0m,                                                                                             \n",
              "            \u001b[32m\"chunk\"\u001b[0m: \u001b[1;36m1\u001b[0m,                                                                                            \n",
              "            \u001b[32m\"chunk_size\"\u001b[0m: \u001b[1;36m3849\u001b[0m,                                                                                    \n",
              "            \u001b[32m\"distances\"\u001b[0m: \u001b[1;36m0.6058976650238037\u001b[0m                                                                        \n",
              "          \u001b[1m}\u001b[0m                                                                                                        \n",
              "        \u001b[1m}\u001b[0m,                                                                                                         \n",
              "        \u001b[1m{\u001b[0m                                                                                                          \n",
              "          \u001b[32m\"content\"\u001b[0m: \u001b[32m\"2.4 Evaluation and Results When reporting scores throughout this work, we use the metrics \u001b[0m   \n",
              "      \u001b[32midentified in Table 3; higher is better. When computing overall performance, we simply average scores across \u001b[0m\n",
              "      \u001b[32mall evaluations, treating each evaluation equally. For generative evaluations our output length is 4096. \u001b[0m    \n",
              "      \u001b[32mT\\u00fclu 3 trained on Llama 3 base models outperforms all other open-weight models in its size category on \u001b[0m \n",
              "      \u001b[32mour development evaluation suite. Compared to closed models,T\\u00fclu 3 70B even surpasses closed models such\u001b[0m\n",
              "      \u001b[32mas GPT-3.5-Turbo-0125 or GPT-4o-mini-2024-07-18, while approaching the performance of Claude 3.5 Haiku \u001b[0m      \n",
              "      \u001b[32m20241022. The summary ofT\\u00fclu 3 trained on Llama 3 at 8 and 70 billion parameters versus the leading \u001b[0m    \n",
              "      \u001b[32mmodels in their size classes is shown in Table 2. A per training stage breakdown of performance is shown for \u001b[0m\n",
              "      \u001b[32mthe 8B version in Table 6 and for 70B in Table 5. With our models trained from raw pretrained base models, we\u001b[0m\n",
              "      \u001b[32mcompare to instruct models trained on the same base models \u001b[0m\u001b[32m(\u001b[0m\u001b[32me.g. Nous Hermes 3\u001b[0m\u001b[32m)\u001b[0m\u001b[32m, instruct models on similar \u001b[0m \n",
              "      \u001b[32msized, but different base versions \u001b[0m\u001b[32m(\u001b[0m\u001b[32me.g. Ministral 8B or Qwen 2.5 Instruct\u001b[0m\u001b[32m)\u001b[0m\u001b[32m, and other finetuning recipes \u001b[0m   \n",
              "      \u001b[32mtrained on an instruct version \u001b[0m\u001b[32m(\u001b[0m\u001b[32me.g. Nemotron Llama 3.1\u001b[0m\u001b[32m)\u001b[0m\u001b[32m. At 70B, we compare to and surpass Llama 3.1 70B \u001b[0m   \n",
              "      \u001b[32mInstruct, Qwen 2.5 72B Instruct \u001b[0m\u001b[32m(\u001b[0m\u001b[32mQwen Team, 2024\u001b[0m\u001b[32m)\u001b[0m\u001b[32m, Nous Hermes 3 70B \u001b[0m\u001b[32m(\u001b[0m\u001b[32mTeknium et al., 2024\u001b[0m\u001b[32m)\u001b[0m\u001b[32m \u001b[0m\u001b[32m(\u001b[0m\u001b[32mtrained on Llama\u001b[0m\n",
              "      \u001b[32m3.1 70B\u001b[0m\u001b[32m)\u001b[0m\u001b[32m, and Nemotron Llama 3.1 70B \u001b[0m\u001b[32m(\u001b[0m\u001b[32mWang et al., 2024c\u001b[0m\u001b[32m)\u001b[0m\u001b[32m \u001b[0m\u001b[32m(\u001b[0m\u001b[32mtrained on Llama 3.1 70B Instruct\u001b[0m\u001b[32m)\u001b[0m\u001b[32m. At 8B, we \u001b[0m    \n",
              "      \u001b[32mcompare to and surpass Llama 3.1 8B Instruct, Gemma 2 9B Instruct \u001b[0m\u001b[32m(\u001b[0m\u001b[32mGemma Team et al., 2024\u001b[0m\u001b[32m)\u001b[0m\u001b[32m, Nous Hermes 3 8B\u001b[0m\n",
              "      \u001b[32m(\u001b[0m\u001b[32mtrained on Llama 3.1 8B\u001b[0m\u001b[32m)\u001b[0m\u001b[32m, Qwen 2 7B Instruct, and Ministral 8B Instruct 2410. Artifacts Released.We release \u001b[0m\n",
              "      \u001b[32mall artifacts associated with theT\\u00fclu 3 training recipe \\u2013 including SFT, DPO, and RL model \u001b[0m        \n",
              "      \u001b[32mcheckpoints, along with new SFT and DPO datasets. A summary of the artifacts released with T\\u00fclu 3 is \u001b[0m   \n",
              "      \u001b[32mincluded in Table 1. 3 T\\u00fclu 3 Data Prompts represent the diverse ways users may interact with models and\u001b[0m\n",
              "      \u001b[32mserve as the essential component for all post-training stages. We curate an extensive collection of millions \u001b[0m\n",
              "      \u001b[32mof prompts as the starting point of T\\u00fclu 3 post-training recipe. Data selected for next stages of \u001b[0m      \n",
              "      \u001b[32mtraining are selected from these prompts. Table 7 summarizes the key information of these prompts. In this \u001b[0m  \n",
              "      \u001b[32msection, we describe our prompt curation process and the decontamination effort to ensure that our \u001b[0m          \n",
              "      \u001b[32mevaluations are not leaked in these prompts. In the following sections, we describe how prompts are used for \u001b[0m\n",
              "      \u001b[32msupervised finetuning \\u00a74 and preference tuning \\u00a75. 3.1 Prompt Curation To target the desired core \u001b[0m \n",
              "      \u001b[32mskills, we curate adiverse and high qualityset of prompts from publicly available datasets with \u001b[0m             \n",
              "      \u001b[32mclearprovenance and synthetically generate prompts to fill any gaps. 3.1.1 Sourcing from Public Datasets \u001b[0m    \n",
              "      \u001b[32mSince the release of ourT\\u00fclu 2, the community has witnessed a large body of work creating datasets for \u001b[0m \n",
              "      \u001b[32mpost-training, in terms of both supervised finetuning and preference tuning.T\\u00fclu 3 aims to integrate and\u001b[0m\n",
              "      \u001b[32mextend these resources to build stronger models. We start this process with a broad survey of public \u001b[0m        \n",
              "      \u001b[32mdatasets, including those annotated by dedicated workers, sourced from real users, and synthesized with \u001b[0m     \n",
              "      \u001b[32mmodels.4 We then manually review each individual dataset, and pick those with the following considerations. \u001b[0m \n",
              "      \u001b[32mDiversity. The diversity of training data is critical for eliciting models\\u2019 generalization, avoiding \u001b[0m   \n",
              "      \u001b[32mmodel forgetting, and making models robust to uncommon inputs \u001b[0m\u001b[32m(\u001b[0m\u001b[32mWang et al., 2022c; Chung et al., 2024; Zhou \u001b[0m \n",
              "      \u001b[32met al., 2024\u001b[0m\u001b[32m)\u001b[0m\u001b[32m. We pick datasets that can promote diversity, including: WildChat \u001b[0m\u001b[32m(\u001b[0m\u001b[32mZhao et al., 2024\u001b[0m\u001b[32m)\u001b[0m\u001b[32m, which is\u001b[0m\n",
              "      \u001b[32ma large source of real-user interaction with models; Open Assistant \u001b[0m\u001b[32m(\u001b[0m\u001b[32mK\\u00f6pf et al., 2024\u001b[0m\u001b[32m)\u001b[0m\u001b[32m, which is \u001b[0m      \n",
              "      \u001b[32mcreated by volunteer workers for general chatting; No Robots \u001b[0m\u001b[32m(\u001b[0m\u001b[32mRajani et al., 2023\u001b[0m\u001b[32m)\u001b[0m\u001b[32m, which is annotated by \u001b[0m   \n",
              "      \u001b[32mexpert workers for a broad range of open-ended categories; and FLAN v2 \u001b[0m\u001b[32m(\u001b[0m\u001b[32mLongpre et al., 2023\u001b[0m\u001b[32m)\u001b[0m\u001b[32m, which is a big\u001b[0m\n",
              "      \u001b[32mcompilation of classical NLP tasks. We also include a decontaminated subset of UltraFeedback \u001b[0m\u001b[32m(\u001b[0m\u001b[32mCui et al., \u001b[0m   \n",
              "      \u001b[32m2023\u001b[0m\u001b[32m)\u001b[0m\u001b[32m, which is 4The datasets we compiled and consider are available here: \u001b[0m                                  \n",
              "      \u001b[32mhttps://docs.google.com/spreadsheets/d/ 1E2ScaKWbTnlelzJzcddCzEtf7WrpF3a5ZP5ZvdsOZ4Y/edit?\u001b[0m\u001b[32musp\u001b[0m\u001b[32m=\u001b[0m\u001b[32msharing\u001b[0m\u001b[32m. 11\"\u001b[0m,  \n",
              "          \u001b[32m\"meta_data\"\u001b[0m: \u001b[1m{\u001b[0m                                                                                           \n",
              "            \u001b[32m\"page\"\u001b[0m: \u001b[1;36m11\u001b[0m,                                                                                            \n",
              "            \u001b[32m\"chunk\"\u001b[0m: \u001b[1;36m1\u001b[0m,                                                                                            \n",
              "            \u001b[32m\"chunk_size\"\u001b[0m: \u001b[1;36m4246\u001b[0m,                                                                                    \n",
              "            \u001b[32m\"distances\"\u001b[0m: \u001b[1;36m0.6416160464286804\u001b[0m                                                                        \n",
              "          \u001b[1m}\u001b[0m                                                                                                        \n",
              "        \u001b[1m}\u001b[0m,                                                                                                         \n",
              "        \u001b[1m{\u001b[0m                                                                                                          \n",
              "          \u001b[32m\"content\"\u001b[0m: \u001b[32m\"Count T\\u00fclu 3 Persona MATH Evol CodeAlpaca Aya WildChat FLAN v2 NuminaMath-TIR \u001b[0m          \n",
              "      \u001b[32mOpenMathInstruct2 WildGuard WildJailbreak T\\u00fclu 3 Persona GSM T\\u00fclu 3 Persona Code T\\u00fclu 3 \u001b[0m      \n",
              "      \u001b[32mPersona IF T\\u00fclu 3 Persona MATH - Algebra Other \u001b[0m\u001b[32m(\u001b[0m\u001b[32m<11,000 instances\u001b[0m\u001b[32m)\u001b[0m\u001b[32m Figure 2 The T\\u00fclu 3 final SFT \u001b[0m  \n",
              "      \u001b[32mmix by source and length of the prompt plus completion in tokens \u001b[0m\u001b[32m(\u001b[0m\u001b[32musing the Llama 3 tokenizer\u001b[0m\u001b[32m)\u001b[0m\u001b[32m. Compare this \u001b[0m\n",
              "      \u001b[32mdistribution to previous open SFT training datasets in Fig. 26. Datasets with the most instances are on the \u001b[0m \n",
              "      \u001b[32mbottom of the histogram. test instance. The list of datasets we decontaminated and the versions we released \u001b[0m \n",
              "      \u001b[32mwith overlapping samples removed is shown in Table 8. The full list of public datasets that we found to be \u001b[0m  \n",
              "      \u001b[32msignificantly contaminated with our evaluation sets can be found in Table 37. 4 Supervised Finetuning \u001b[0m       \n",
              "      \u001b[32mAdapting pretrained base models to various tasks and user requests often relies on supervised finetuning \u001b[0m    \n",
              "      \u001b[32m(\u001b[0m\u001b[32mSFT\u001b[0m\u001b[32m)\u001b[0m\u001b[32m, also known as instruction finetuning. A key challenge in this process is balancing the proportions of \u001b[0m\n",
              "      \u001b[32mmixed training datasets representing diverse skills. ForT\\u00fclu 3, we conducted data mixture ablations and \u001b[0m\n",
              "      \u001b[32mexplored model merging techniques to develop an SFT training procedure that well balances performance across \u001b[0m\n",
              "      \u001b[32mthe core skills we prioritized. The following sections detail our experiments and findings. 4.1 SFT Data \u001b[0m    \n",
              "      \u001b[32m4.1.1 From Prompts to SFT Data To create our SFT mix, we collect or create responses for prompts described in\u001b[0m\n",
              "      \u001b[32mSection 3 in two ways: filtering existing responses, and creating new responses. For prompts with existing \u001b[0m  \n",
              "      \u001b[32mresponses, we generally keep the original response if it was written by a human or a frontier model, like \u001b[0m   \n",
              "      \u001b[32mGPT-4o. For large datasets with subsets from frontier models \u001b[0m\u001b[32m(\u001b[0m\u001b[32me.g. WildChat\u001b[0m\u001b[32m)\u001b[0m\u001b[32m, we use the subset from the best\u001b[0m\n",
              "      \u001b[32mmodels. We additionally filter empty responses and responses that contain information about models or their \u001b[0m \n",
              "      \u001b[32mdevelopers. If a set of prompts did not have responses, like our Persona prompts, or if the original \u001b[0m        \n",
              "      \u001b[32mresponses were from a weaker model \u001b[0m\u001b[32m(\u001b[0m\u001b[32me.g. WildGuardMix\u001b[0m\u001b[32m)\u001b[0m\u001b[32m, we generate new responses using GPT-4o. We also \u001b[0m     \n",
              "      \u001b[32mhand-wrote responses to our hardcoded prompts. 15\"\u001b[0m,                                                          \n",
              "          \u001b[32m\"meta_data\"\u001b[0m: \u001b[1m{\u001b[0m                                                                                           \n",
              "            \u001b[32m\"chunk\"\u001b[0m: \u001b[1;36m1\u001b[0m,                                                                                            \n",
              "            \u001b[32m\"chunk_size\"\u001b[0m: \u001b[1;36m2124\u001b[0m,                                                                                    \n",
              "            \u001b[32m\"page\"\u001b[0m: \u001b[1;36m15\u001b[0m,                                                                                            \n",
              "            \u001b[32m\"distances\"\u001b[0m: \u001b[1;36m0.6707773804664612\u001b[0m                                                                        \n",
              "          \u001b[1m}\u001b[0m                                                                                                        \n",
              "        \u001b[1m}\u001b[0m                                                                                                          \n",
              "      \u001b[1m]\u001b[0m                                                                                                            \n"
            ],
            "text/html": [
              "<pre style=\"white-space:pre;overflow-x:auto;line-height:normal;font-family:Menlo,'DejaVu Sans Mono',consolas,'Courier New',monospace\"><span style=\"color: #008000; text-decoration-color: #008000\">DEBUG</span> <span style=\"font-weight: bold\">[</span>                                                                                                            \n",
              "        <span style=\"font-weight: bold\">{</span>                                                                                                          \n",
              "          <span style=\"color: #008000; text-decoration-color: #008000\">\"content\"</span>: <span style=\"color: #008000; text-decoration-color: #008000\">\"T\\u00fclu 3: Pushing Frontiers in Open Language Model Post-Training </span>                         \n",
              "      <span style=\"color: #008000; text-decoration-color: #008000\">NathanLambert\\u26651,\\u2217 JacobMorrison\\u26651 ValentinaPyatkin\\u26651,2 ShengyiHuang\\u26651 </span>              \n",
              "      <span style=\"color: #008000; text-decoration-color: #008000\">HamishIvison\\u26651,2 Faeze Brahman\\u26651 Lester James V. Miranda\\u26651 Alisa Liu2 Nouha Dziri1 Xinxi Lyu1 </span>\n",
              "      <span style=\"color: #008000; text-decoration-color: #008000\">Yuling Gu1 Saumya Malik1 Victoria Graf2 Jena D. Hwang1 Jiangjiang Yang1 Ronan Le Bras1 Oyvind Tafjord1 Chris </span>\n",
              "      <span style=\"color: #008000; text-decoration-color: #008000\">Wilhelm1 Luca Soldaini1 Noah A. Smith1,2 Yizhong Wang1,2 Pradeep Dasigi1 Hannaneh Hajishirzi1,2 1Allen </span>      \n",
              "      <span style=\"color: #008000; text-decoration-color: #008000\">Institute for AI,2University of Washington \\u2217T\\u00fclu 3 was a team effort.\\u2665marks core contributors.</span>\n",
              "      <span style=\"color: #008000; text-decoration-color: #008000\">See full author contributions here. Contact tulu@allenai.org. Tulu 3 8B:Llama-3.1-Tulu-3-8B Tulu 3 </span>          \n",
              "      <span style=\"color: #008000; text-decoration-color: #008000\">70B:Llama-3.1-Tulu-3-70B Tulu 3 405B:Llama-3.1-Tulu-3-405B Tulu 3Data: </span>                                      \n",
              "      <span style=\"color: #008000; text-decoration-color: #008000\">tulu-3-datasets-673b8df14442393f7213f372 Tulu 3 Code:open-instruct T\\u00fclu 3 Eval:olmes Demo: </span>             \n",
              "      <span style=\"color: #008000; text-decoration-color: #008000\">playground.allenai.org Abstract Language model post-training is applied to refine behaviors and unlock new </span>  \n",
              "      <span style=\"color: #008000; text-decoration-color: #008000\">skills across a wide range of language models, but open recipes for applying these techniques lag behind </span>    \n",
              "      <span style=\"color: #008000; text-decoration-color: #008000\">proprietary ones. The underlying training data and recipes for post-training are simultaneously the most </span>    \n",
              "      <span style=\"color: #008000; text-decoration-color: #008000\">important pieces of the puzzle and the portion with the least transparency. To bridge this gap, we </span>          \n",
              "      <span style=\"color: #008000; text-decoration-color: #008000\">introduceT\\u00fclu 3, a family of fully-open state-of-the-art post-trained models, alongside its data, code, </span>\n",
              "      <span style=\"color: #008000; text-decoration-color: #008000\">and training recipes, serving as a comprehensive guide for modern post-training techniques.T\\u00fclu 3, which</span>\n",
              "      <span style=\"color: #008000; text-decoration-color: #008000\">builds on Llama 3.1 base models, achieves results surpassing the instruct versions of Llama 3.1, Qwen 2.5, </span>  \n",
              "      <span style=\"color: #008000; text-decoration-color: #008000\">Mistral, and even closed models such as GPT-4o-mini and Claude 3.5-Haiku. The training algorithms for our </span>   \n",
              "      <span style=\"color: #008000; text-decoration-color: #008000\">models include supervised finetuning (SFT), Direct Preference Optimization (DPO), and a novel method we call </span>\n",
              "      <span style=\"color: #008000; text-decoration-color: #008000\">Reinforcement Learning with Verifiable Rewards (RLVR). WithT\\u00fclu 3, we build a multi-task evaluation </span>    \n",
              "      <span style=\"color: #008000; text-decoration-color: #008000\">scheme for post-training with development and unseen evaluations, standard benchmark implementations, and </span>   \n",
              "      <span style=\"color: #008000; text-decoration-color: #008000\">substantial decontamination of existing open datasets on said benchmarks. We conclude with analysis and </span>     \n",
              "      <span style=\"color: #008000; text-decoration-color: #008000\">discussion of training methods that did not reliably improve performance. The T\\u00fclu 3 release includes </span>  \n",
              "      <span style=\"color: #008000; text-decoration-color: #008000\">model weights, a demo, and the complete recipe \\u2014 datasets for diverse core skills, a robust toolkit for </span>\n",
              "      <span style=\"color: #008000; text-decoration-color: #008000\">data curation and evaluation, the training code and infrastructure, and, most importantly, a detailed report </span>\n",
              "      <span style=\"color: #008000; text-decoration-color: #008000\">for reproducing and further adapting theT\\u00fclu 3 approach to more domains. 1 arXiv:2411.15124v4 [cs.CL] 13</span>\n",
              "      <span style=\"color: #008000; text-decoration-color: #008000\">Feb 2025\"</span>,                                                                                                   \n",
              "          <span style=\"color: #008000; text-decoration-color: #008000\">\"meta_data\"</span>: <span style=\"font-weight: bold\">{</span>                                                                                           \n",
              "            <span style=\"color: #008000; text-decoration-color: #008000\">\"page\"</span>: <span style=\"color: #008080; text-decoration-color: #008080; font-weight: bold\">1</span>,                                                                                             \n",
              "            <span style=\"color: #008000; text-decoration-color: #008000\">\"chunk\"</span>: <span style=\"color: #008080; text-decoration-color: #008080; font-weight: bold\">1</span>,                                                                                            \n",
              "            <span style=\"color: #008000; text-decoration-color: #008000\">\"chunk_size\"</span>: <span style=\"color: #008080; text-decoration-color: #008080; font-weight: bold\">2480</span>,                                                                                    \n",
              "            <span style=\"color: #008000; text-decoration-color: #008000\">\"distances\"</span>: <span style=\"color: #008080; text-decoration-color: #008080; font-weight: bold\">0.5517929196357727</span>                                                                        \n",
              "          <span style=\"font-weight: bold\">}</span>                                                                                                        \n",
              "        <span style=\"font-weight: bold\">}</span>,                                                                                                         \n",
              "        <span style=\"font-weight: bold\">{</span>                                                                                                          \n",
              "          <span style=\"color: #008000; text-decoration-color: #008000\">\"content\"</span>: <span style=\"color: #008000; text-decoration-color: #008000\">\"Contents 1 Introduction 5 2 T\\u00fclu 3 Overview 7 2.1 T\\u00fclu 3 Data . . . . . . . . . . .</span>\n",
              "      <span style=\"color: #008000; text-decoration-color: #008000\">. . . . . . . . . . . . . . . . . . . . . . . . . . . . . . . . . . . 7 2.2 T\\u00fclu 3 Evaluation. . . . . .</span>\n",
              "      <span style=\"color: #008000; text-decoration-color: #008000\">. . . . . . . . . . . . . . . . . . . . . . . . . . . . . . . . . . . . . 8 2.3 T\\u00fclu 3 Recipe. . . . . .</span>\n",
              "      <span style=\"color: #008000; text-decoration-color: #008000\">. . . . . . . . . . . . . . . . . . . . . . . . . . . . . . . . . . . . . . . 8 2.4 Evaluation and Results . </span>\n",
              "      <span style=\"color: #008000; text-decoration-color: #008000\">. . . . . . . . . . . . . . . . . . . . . . . . . . . . . . . . . . . . . . 11 3 T\\u00fclu 3 Data 11 3.1 </span>    \n",
              "      <span style=\"color: #008000; text-decoration-color: #008000\">Prompt Curation . . . . . . . . . . . . . . . . . . . . . . . . . . . . . . . . . . . . . . . . . . . 11 </span>    \n",
              "      <span style=\"color: #008000; text-decoration-color: #008000\">3.1.1 Sourcing from Public Datasets. . . . . . . . . . . . . . . . . . . . . . . . . . . . . . . 11 3.1.2 </span>   \n",
              "      <span style=\"color: #008000; text-decoration-color: #008000\">Synthesizing for Target Skills . . . . . . . . . . . . . . . . . . . . . . . . . . . . . . . 13 3.2 Prompt </span>  \n",
              "      <span style=\"color: #008000; text-decoration-color: #008000\">Decontamination . . . . . . . . . . . . . . . . . . . . . . . . . . . . . . . . . . . . . . 14 4 Supervised </span> \n",
              "      <span style=\"color: #008000; text-decoration-color: #008000\">Finetuning 15 4.1 SFT Data . . . . . . . . . . . . . . . . . . . . . . . . . . . . . . . . . . . . . . . . . </span>\n",
              "      <span style=\"color: #008000; text-decoration-color: #008000\">. . . . . . 15 4.1.1 From Prompts to SFT Data. . . . . . . . . . . . . . . . . . . . . . . . . . . . . . . . </span>\n",
              "      <span style=\"color: #008000; text-decoration-color: #008000\">. 15 4.1.2 The T\\u00fclu 3 SFT Mix. . . . . . . . . . . . . . . . . . . . . . . . . . . . . . . . . . . . . .</span>\n",
              "      <span style=\"color: #008000; text-decoration-color: #008000\">16 4.2 Key Data Experiments. . . . . . . . . . . . . . . . . . . . . . . . . . . . . . . . . . . . . . . . 16</span>\n",
              "      <span style=\"color: #008000; text-decoration-color: #008000\">4.3 SFT Recipe and Analyses.. . . . . . . . . . . . . . . . . . . . . . . . . . . . . . . . . . . . . . 18 </span>  \n",
              "      <span style=\"color: #008000; text-decoration-color: #008000\">4.3.1 Key Training Experiments . . . . . . . . . . . . . . . . . . . . . . . . . . . . . . . . . 18 4.3.2 </span>   \n",
              "      <span style=\"color: #008000; text-decoration-color: #008000\">Batch Aggregation . . . . . . . . . . . . . . . . . . . . . . . . . . . . . . . . . . . . . 19 5 Preference </span> \n",
              "      <span style=\"color: #008000; text-decoration-color: #008000\">Finetuning 20 5.1 Background . . . . . . . . . . . . . . . . . . . . . . . . . . . . . . . . . . . . . . . . </span>\n",
              "      <span style=\"color: #008000; text-decoration-color: #008000\">. . . . . 20 5.1.1 Setup . . . . . . . . . . . . . . . . . . . . . . . . . . . . . . . . . . . . . . . . . . </span>\n",
              "      <span style=\"color: #008000; text-decoration-color: #008000\">. . . 20 5.1.2 Policy Optimization . . . . . . . . . . . . . . . . . . . . . . . . . . . . . . . . . . . . . </span>\n",
              "      <span style=\"color: #008000; text-decoration-color: #008000\">21 5.2 T\\u00fclu 3 Preference Data. . . . . . . . . . . . . . . . . . . . . . . . . . . . . . . . . . . . . .</span>\n",
              "      <span style=\"color: #008000; text-decoration-color: #008000\">. 21 5.2.1 From Prompts to Preference Data. . . . . . . . . . . . . . . . . . . . . . . . . . . . . 21 5.2.2 </span>\n",
              "      <span style=\"color: #008000; text-decoration-color: #008000\">The T\\u00fclu 3 Preference Mix. . . . . . . . . . . . . . . . . . . . . . . . . . . . . . . . . 22 5.3 Key </span>  \n",
              "      <span style=\"color: #008000; text-decoration-color: #008000\">Findings of Data Ablations. . . . . . . . . . . . . . . . . . . . . . . . . . . . . . . . . . . 23 5.4 </span>      \n",
              "      <span style=\"color: #008000; text-decoration-color: #008000\">Preference Tuning Recipe and Analyses. . . . . . . . . . . . . . . . . . . . . . . . . . . . . 27 5.4.1 </span>     \n",
              "      <span style=\"color: #008000; text-decoration-color: #008000\">Hyperparameter and Algorithm Design. . . . . . . . . . . . . . . . . . . . . . . . . . 27 5.4.2 </span>             \n",
              "      <span style=\"color: #008000; text-decoration-color: #008000\">Infrastructure for Scaling DPO. . . . . . . . . . . . . . . . . . . . . . . . . . . . . . . 29 6 </span>            \n",
              "      <span style=\"color: #008000; text-decoration-color: #008000\">Reinforcement Learning with Verifiable Rewards 30 6.1 RLVR Data . . . . . . . . . . . . . . . . . . . . . . .</span>\n",
              "      <span style=\"color: #008000; text-decoration-color: #008000\">. . . . . . . . . . . . . . . . . . . . . . . . 31 6.2 RLVR Recipe and Analyses. . . . . . . . . . . . . . . </span>\n",
              "      <span style=\"color: #008000; text-decoration-color: #008000\">. . . . . . . . . . . . . . . . . . . . . . 32 6.2.1 Key Findings . . . . . . . . . . . . . . . . . . . . . .</span>\n",
              "      <span style=\"color: #008000; text-decoration-color: #008000\">. . . . . . . . . . . . . . . . . . . 33 6.3 RLVR Infrastructure . . . . . . . . . . . . . . . . . . . . . . </span>\n",
              "      <span style=\"color: #008000; text-decoration-color: #008000\">. . . . . . . . . . . . . . . . . . . 34 6.4 Final Experimental Results . . . . . . . . . . . . . . . . . . .</span>\n",
              "      <span style=\"color: #008000; text-decoration-color: #008000\">. . . . . . . . . . . . . . . . . . 35 7 T\\u00fclu 3 Evaluation Framework 36 7.1 Open Language Model </span>        \n",
              "      <span style=\"color: #008000; text-decoration-color: #008000\">Evaluation System (OLMES). . . . . . . . . . . . . . . . . . . . . . . 37 7.2 T\\u00fclu 3 Evaluation Suite - </span>\n",
              "      <span style=\"color: #008000; text-decoration-color: #008000\">Development. . . . . . . . . . . . . . . . . . . . . . . . . . . . . . 38 7.2.1 Safety Evaluation . . . . . .</span>\n",
              "      <span style=\"color: #008000; text-decoration-color: #008000\">. . . . . . . . . . . . . . . . . . . . . . . . . . . . . . . . 39 7.3 T\\u00fclu 3 Evaluation Suite - Unseen.</span>\n",
              "      <span style=\"color: #008000; text-decoration-color: #008000\">. . . . . . . . . . . . . . . . . . . . . . . . . . . . . . . . . 40 7.3.1 New Evaluation: IFEval-OOD . . . .</span>\n",
              "      <span style=\"color: #008000; text-decoration-color: #008000\">. . . . . . . . . . . . . . . . . . . . . . . . . . . . 42 7.3.2 New Evaluation: HREF . . . . . . . . . . . .</span>\n",
              "      <span style=\"color: #008000; text-decoration-color: #008000\">. . . . . . . . . . . . . . . . . . . . . . . . 43 7.4 Evaluating the Development Process Using the Unseen </span>  \n",
              "      <span style=\"color: #008000; text-decoration-color: #008000\">Suite. . . . . . . . . . . . . . . . . 44 7.4.1 Evaluating the design decisions. . . . . . . . . . . . . . . </span>\n",
              "      <span style=\"color: #008000; text-decoration-color: #008000\">. . . . . . . . . . . . . . . 44 7.4.2 Comparison with public models. . . . . . . . . . . . . . . . . . . . .</span>\n",
              "      <span style=\"color: #008000; text-decoration-color: #008000\">. . . . . . . . . 45 8 Discussions 46 2\"</span>,                                                                    \n",
              "          <span style=\"color: #008000; text-decoration-color: #008000\">\"meta_data\"</span>: <span style=\"font-weight: bold\">{</span>                                                                                           \n",
              "            <span style=\"color: #008000; text-decoration-color: #008000\">\"page\"</span>: <span style=\"color: #008080; text-decoration-color: #008080; font-weight: bold\">2</span>,                                                                                             \n",
              "            <span style=\"color: #008000; text-decoration-color: #008000\">\"chunk\"</span>: <span style=\"color: #008080; text-decoration-color: #008080; font-weight: bold\">1</span>,                                                                                            \n",
              "            <span style=\"color: #008000; text-decoration-color: #008000\">\"chunk_size\"</span>: <span style=\"color: #008080; text-decoration-color: #008080; font-weight: bold\">4274</span>,                                                                                    \n",
              "            <span style=\"color: #008000; text-decoration-color: #008000\">\"distances\"</span>: <span style=\"color: #008080; text-decoration-color: #008080; font-weight: bold\">0.5826334357261658</span>                                                                        \n",
              "          <span style=\"font-weight: bold\">}</span>                                                                                                        \n",
              "        <span style=\"font-weight: bold\">}</span>,                                                                                                         \n",
              "        <span style=\"font-weight: bold\">{</span>                                                                                                          \n",
              "          <span style=\"color: #008000; text-decoration-color: #008000\">\"content\"</span>: <span style=\"color: #008000; text-decoration-color: #008000\">\"Curate prompts Base Model T\\u00fclu3-SFT T\\u00fclu3-DPO T\\u00fclu3 public datasets </span>          \n",
              "      <span style=\"color: #008000; text-decoration-color: #008000\">persona-driven synthetic instructions data mixing Build evaluation suite Supervised \\ufb01netuning Direct </span>   \n",
              "      <span style=\"color: #008000; text-decoration-color: #008000\">pref. optimization on-policy data o\\ue007-policy data prompts with veri\\ufb01able rewards decontaminate </span>     \n",
              "      <span style=\"color: #008000; text-decoration-color: #008000\">knowledge reasoning math coding chat safety Identify core skills RL with veri\\ufb01able rewards development </span> \n",
              "      <span style=\"color: #008000; text-decoration-color: #008000\">evals unseen evals Figure 1An overview of theT\\u00fclu 3 recipe. This includes: data curation targeting </span>     \n",
              "      <span style=\"color: #008000; text-decoration-color: #008000\">general and target capabilities, training strategies and a standardized evaluation suite for development and </span>\n",
              "      <span style=\"color: #008000; text-decoration-color: #008000\">final evaluation stage. 1 Introduction \\u201cJust as the camel shares its burdens with others in the caravan,</span>\n",
              "      <span style=\"color: #008000; text-decoration-color: #008000\">the wise share their insights to lighten the load of ignorance.\\u201d \\u2013 Proverb generated byT\\u00fclu 3.</span>\n",
              "      <span style=\"color: #008000; text-decoration-color: #008000\">Post-training \\u2014 the collection of techniques including instruction tuning, reinforcement learning from </span> \n",
              "      <span style=\"color: #008000; text-decoration-color: #008000\">human feedback, and other types of finetuning \\u2014 has become a crucial step in building frontier language </span>\n",
              "      <span style=\"color: #008000; text-decoration-color: #008000\">models (OpenAI, 2024; Anthropic, 2024), yet developments to these techniques are frequently not accompanied </span> \n",
              "      <span style=\"color: #008000; text-decoration-color: #008000\">by open resources and recipes. Fully open source counterparts (e.g.,T\\u00fclu 2 (Ivison et al., 2023) and </span>   \n",
              "      <span style=\"color: #008000; text-decoration-color: #008000\">Zephyr-\\u03b2 (Tunstall et al., 2023)) often rely on simpler-to-implement and cheaper pipelines and have </span>    \n",
              "      <span style=\"color: #008000; text-decoration-color: #008000\">become outdated on many metrics. To close the gap between open and closed post training, we </span>                 \n",
              "      <span style=\"color: #008000; text-decoration-color: #008000\">introduceT\\u00fclu1 3, a family of open state-of- the-art post-trained models, alongside all of the data, </span>   \n",
              "      <span style=\"color: #008000; text-decoration-color: #008000\">training recipes, code, infrastructure, and evaluation framework. Integrating partial details from </span>          \n",
              "      <span style=\"color: #008000; text-decoration-color: #008000\">proprietary methods with novel techniques and established academic research,T\\u00fclu 3 pushes the boundaries</span>\n",
              "      <span style=\"color: #008000; text-decoration-color: #008000\">of research in post-training. The advancements ofT\\u00fclu 3 are attributed toT\\u00fclu 3 Data, new </span>         \n",
              "      <span style=\"color: #008000; text-decoration-color: #008000\">permissively licensed training datasets targeting core skills,T\\u00fclu 3 Eval, an evaluation suite and tools</span>\n",
              "      <span style=\"color: #008000; text-decoration-color: #008000\">to establish clear performance goals and guide improvement through training stages, andT\\u00fclu 3 Recipe, an</span>\n",
              "      <span style=\"color: #008000; text-decoration-color: #008000\">advanced multi-stage training pipeline incorporating new algorithmic advancements in reinforcement learning, </span>\n",
              "      <span style=\"color: #008000; text-decoration-color: #008000\">cutting-edge infrastructure, and rigorous experimentation to optimize data mixes, methods, and parameters </span>   \n",
              "      <span style=\"color: #008000; text-decoration-color: #008000\">across various training stages. In order to buildT\\u00fclu 3, we identify a set of core skills to improve </span>   \n",
              "      <span style=\"color: #008000; text-decoration-color: #008000\">after training (e.g., reasoning, math, coding, safety, precise instruction following, knowledge recall, etc.)</span>\n",
              "      <span style=\"color: #008000; text-decoration-color: #008000\">and build an evaluation framework to establish clear performance goals and guide model improvement over a </span>   \n",
              "      <span style=\"color: #008000; text-decoration-color: #008000\">selection of development and unseen tasks. T\\u00fclu 3 benefits significantly from leveraging publicly </span>      \n",
              "      <span style=\"color: #008000; text-decoration-color: #008000\">available open data, generating diverse, skill-specific synthetic data at various training stages, and </span>      \n",
              "      <span style=\"color: #008000; text-decoration-color: #008000\">aggressively decontaminating them against our evaluation suite. The T\\u00fclu 3 training recipe involves </span>    \n",
              "      <span style=\"color: #008000; text-decoration-color: #008000\">multiple stages, with each stage building upon the previous model and focusing on different types of data </span>   \n",
              "      <span style=\"color: #008000; text-decoration-color: #008000\">\\u2014 namely,prompt-completioninstances for supervised finetuning,preferences for preference tuning, </span>       \n",
              "      <span style=\"color: #008000; text-decoration-color: #008000\">orverifiable rewardsfor reinforcement learning. Our methodology facilitates identifying skill deficiencies </span>  \n",
              "      <span style=\"color: #008000; text-decoration-color: #008000\">and refining the data mix, methods and parameters, ensuring a balanced performance of core skills across the </span>\n",
              "      <span style=\"color: #008000; text-decoration-color: #008000\">training process. Through rigorous, principled experimentation, we determine the best data mix for supervised</span>\n",
              "      <span style=\"color: #008000; text-decoration-color: #008000\">finetuning, resulting in theT\\u00fclu 3 SFT checkpoint. Leveraging recent advances in preference tuning, we </span> \n",
              "      <span style=\"color: #008000; text-decoration-color: #008000\">then train a model over carefully curatedon-policy preference data from comparing T\\u00fclu 3 SFT completions</span>\n",
              "      <span style=\"color: #008000; text-decoration-color: #008000\">against outputs from other language models. Furthermore, we introduce a new final finetuning stage \\u2013 </span>   \n",
              "      <span style=\"color: #008000; text-decoration-color: #008000\">Reinforcement Learning with Verifiable Rewards (RLVR) - which employs a novel 1A t\\u00fclu is a hybrid camel </span>\n",
              "      <span style=\"color: #008000; text-decoration-color: #008000\">bred between Bactrian camel and dromedary:https://en.wikipedia.org/wiki/Hybrid_camel. 5\"</span>,                    \n",
              "          <span style=\"color: #008000; text-decoration-color: #008000\">\"meta_data\"</span>: <span style=\"font-weight: bold\">{</span>                                                                                           \n",
              "            <span style=\"color: #008000; text-decoration-color: #008000\">\"page\"</span>: <span style=\"color: #008080; text-decoration-color: #008080; font-weight: bold\">5</span>,                                                                                             \n",
              "            <span style=\"color: #008000; text-decoration-color: #008000\">\"chunk\"</span>: <span style=\"color: #008080; text-decoration-color: #008080; font-weight: bold\">1</span>,                                                                                            \n",
              "            <span style=\"color: #008000; text-decoration-color: #008000\">\"chunk_size\"</span>: <span style=\"color: #008080; text-decoration-color: #008080; font-weight: bold\">3849</span>,                                                                                    \n",
              "            <span style=\"color: #008000; text-decoration-color: #008000\">\"distances\"</span>: <span style=\"color: #008080; text-decoration-color: #008080; font-weight: bold\">0.6058976650238037</span>                                                                        \n",
              "          <span style=\"font-weight: bold\">}</span>                                                                                                        \n",
              "        <span style=\"font-weight: bold\">}</span>,                                                                                                         \n",
              "        <span style=\"font-weight: bold\">{</span>                                                                                                          \n",
              "          <span style=\"color: #008000; text-decoration-color: #008000\">\"content\"</span>: <span style=\"color: #008000; text-decoration-color: #008000\">\"2.4 Evaluation and Results When reporting scores throughout this work, we use the metrics </span>   \n",
              "      <span style=\"color: #008000; text-decoration-color: #008000\">identified in Table 3; higher is better. When computing overall performance, we simply average scores across </span>\n",
              "      <span style=\"color: #008000; text-decoration-color: #008000\">all evaluations, treating each evaluation equally. For generative evaluations our output length is 4096. </span>    \n",
              "      <span style=\"color: #008000; text-decoration-color: #008000\">T\\u00fclu 3 trained on Llama 3 base models outperforms all other open-weight models in its size category on </span> \n",
              "      <span style=\"color: #008000; text-decoration-color: #008000\">our development evaluation suite. Compared to closed models,T\\u00fclu 3 70B even surpasses closed models such</span>\n",
              "      <span style=\"color: #008000; text-decoration-color: #008000\">as GPT-3.5-Turbo-0125 or GPT-4o-mini-2024-07-18, while approaching the performance of Claude 3.5 Haiku </span>      \n",
              "      <span style=\"color: #008000; text-decoration-color: #008000\">20241022. The summary ofT\\u00fclu 3 trained on Llama 3 at 8 and 70 billion parameters versus the leading </span>    \n",
              "      <span style=\"color: #008000; text-decoration-color: #008000\">models in their size classes is shown in Table 2. A per training stage breakdown of performance is shown for </span>\n",
              "      <span style=\"color: #008000; text-decoration-color: #008000\">the 8B version in Table 6 and for 70B in Table 5. With our models trained from raw pretrained base models, we</span>\n",
              "      <span style=\"color: #008000; text-decoration-color: #008000\">compare to instruct models trained on the same base models (e.g. Nous Hermes 3), instruct models on similar </span> \n",
              "      <span style=\"color: #008000; text-decoration-color: #008000\">sized, but different base versions (e.g. Ministral 8B or Qwen 2.5 Instruct), and other finetuning recipes </span>   \n",
              "      <span style=\"color: #008000; text-decoration-color: #008000\">trained on an instruct version (e.g. Nemotron Llama 3.1). At 70B, we compare to and surpass Llama 3.1 70B </span>   \n",
              "      <span style=\"color: #008000; text-decoration-color: #008000\">Instruct, Qwen 2.5 72B Instruct (Qwen Team, 2024), Nous Hermes 3 70B (Teknium et al., 2024) (trained on Llama</span>\n",
              "      <span style=\"color: #008000; text-decoration-color: #008000\">3.1 70B), and Nemotron Llama 3.1 70B (Wang et al., 2024c) (trained on Llama 3.1 70B Instruct). At 8B, we </span>    \n",
              "      <span style=\"color: #008000; text-decoration-color: #008000\">compare to and surpass Llama 3.1 8B Instruct, Gemma 2 9B Instruct (Gemma Team et al., 2024), Nous Hermes 3 8B</span>\n",
              "      <span style=\"color: #008000; text-decoration-color: #008000\">(trained on Llama 3.1 8B), Qwen 2 7B Instruct, and Ministral 8B Instruct 2410. Artifacts Released.We release </span>\n",
              "      <span style=\"color: #008000; text-decoration-color: #008000\">all artifacts associated with theT\\u00fclu 3 training recipe \\u2013 including SFT, DPO, and RL model </span>        \n",
              "      <span style=\"color: #008000; text-decoration-color: #008000\">checkpoints, along with new SFT and DPO datasets. A summary of the artifacts released with T\\u00fclu 3 is </span>   \n",
              "      <span style=\"color: #008000; text-decoration-color: #008000\">included in Table 1. 3 T\\u00fclu 3 Data Prompts represent the diverse ways users may interact with models and</span>\n",
              "      <span style=\"color: #008000; text-decoration-color: #008000\">serve as the essential component for all post-training stages. We curate an extensive collection of millions </span>\n",
              "      <span style=\"color: #008000; text-decoration-color: #008000\">of prompts as the starting point of T\\u00fclu 3 post-training recipe. Data selected for next stages of </span>      \n",
              "      <span style=\"color: #008000; text-decoration-color: #008000\">training are selected from these prompts. Table 7 summarizes the key information of these prompts. In this </span>  \n",
              "      <span style=\"color: #008000; text-decoration-color: #008000\">section, we describe our prompt curation process and the decontamination effort to ensure that our </span>          \n",
              "      <span style=\"color: #008000; text-decoration-color: #008000\">evaluations are not leaked in these prompts. In the following sections, we describe how prompts are used for </span>\n",
              "      <span style=\"color: #008000; text-decoration-color: #008000\">supervised finetuning \\u00a74 and preference tuning \\u00a75. 3.1 Prompt Curation To target the desired core </span> \n",
              "      <span style=\"color: #008000; text-decoration-color: #008000\">skills, we curate adiverse and high qualityset of prompts from publicly available datasets with </span>             \n",
              "      <span style=\"color: #008000; text-decoration-color: #008000\">clearprovenance and synthetically generate prompts to fill any gaps. 3.1.1 Sourcing from Public Datasets </span>    \n",
              "      <span style=\"color: #008000; text-decoration-color: #008000\">Since the release of ourT\\u00fclu 2, the community has witnessed a large body of work creating datasets for </span> \n",
              "      <span style=\"color: #008000; text-decoration-color: #008000\">post-training, in terms of both supervised finetuning and preference tuning.T\\u00fclu 3 aims to integrate and</span>\n",
              "      <span style=\"color: #008000; text-decoration-color: #008000\">extend these resources to build stronger models. We start this process with a broad survey of public </span>        \n",
              "      <span style=\"color: #008000; text-decoration-color: #008000\">datasets, including those annotated by dedicated workers, sourced from real users, and synthesized with </span>     \n",
              "      <span style=\"color: #008000; text-decoration-color: #008000\">models.4 We then manually review each individual dataset, and pick those with the following considerations. </span> \n",
              "      <span style=\"color: #008000; text-decoration-color: #008000\">Diversity. The diversity of training data is critical for eliciting models\\u2019 generalization, avoiding </span>   \n",
              "      <span style=\"color: #008000; text-decoration-color: #008000\">model forgetting, and making models robust to uncommon inputs (Wang et al., 2022c; Chung et al., 2024; Zhou </span> \n",
              "      <span style=\"color: #008000; text-decoration-color: #008000\">et al., 2024). We pick datasets that can promote diversity, including: WildChat (Zhao et al., 2024), which is</span>\n",
              "      <span style=\"color: #008000; text-decoration-color: #008000\">a large source of real-user interaction with models; Open Assistant (K\\u00f6pf et al., 2024), which is </span>      \n",
              "      <span style=\"color: #008000; text-decoration-color: #008000\">created by volunteer workers for general chatting; No Robots (Rajani et al., 2023), which is annotated by </span>   \n",
              "      <span style=\"color: #008000; text-decoration-color: #008000\">expert workers for a broad range of open-ended categories; and FLAN v2 (Longpre et al., 2023), which is a big</span>\n",
              "      <span style=\"color: #008000; text-decoration-color: #008000\">compilation of classical NLP tasks. We also include a decontaminated subset of UltraFeedback (Cui et al., </span>   \n",
              "      <span style=\"color: #008000; text-decoration-color: #008000\">2023), which is 4The datasets we compiled and consider are available here: </span>                                  \n",
              "      <span style=\"color: #008000; text-decoration-color: #008000\">https://docs.google.com/spreadsheets/d/ 1E2ScaKWbTnlelzJzcddCzEtf7WrpF3a5ZP5ZvdsOZ4Y/edit?usp=sharing. 11\"</span>,  \n",
              "          <span style=\"color: #008000; text-decoration-color: #008000\">\"meta_data\"</span>: <span style=\"font-weight: bold\">{</span>                                                                                           \n",
              "            <span style=\"color: #008000; text-decoration-color: #008000\">\"page\"</span>: <span style=\"color: #008080; text-decoration-color: #008080; font-weight: bold\">11</span>,                                                                                            \n",
              "            <span style=\"color: #008000; text-decoration-color: #008000\">\"chunk\"</span>: <span style=\"color: #008080; text-decoration-color: #008080; font-weight: bold\">1</span>,                                                                                            \n",
              "            <span style=\"color: #008000; text-decoration-color: #008000\">\"chunk_size\"</span>: <span style=\"color: #008080; text-decoration-color: #008080; font-weight: bold\">4246</span>,                                                                                    \n",
              "            <span style=\"color: #008000; text-decoration-color: #008000\">\"distances\"</span>: <span style=\"color: #008080; text-decoration-color: #008080; font-weight: bold\">0.6416160464286804</span>                                                                        \n",
              "          <span style=\"font-weight: bold\">}</span>                                                                                                        \n",
              "        <span style=\"font-weight: bold\">}</span>,                                                                                                         \n",
              "        <span style=\"font-weight: bold\">{</span>                                                                                                          \n",
              "          <span style=\"color: #008000; text-decoration-color: #008000\">\"content\"</span>: <span style=\"color: #008000; text-decoration-color: #008000\">\"Count T\\u00fclu 3 Persona MATH Evol CodeAlpaca Aya WildChat FLAN v2 NuminaMath-TIR </span>          \n",
              "      <span style=\"color: #008000; text-decoration-color: #008000\">OpenMathInstruct2 WildGuard WildJailbreak T\\u00fclu 3 Persona GSM T\\u00fclu 3 Persona Code T\\u00fclu 3 </span>      \n",
              "      <span style=\"color: #008000; text-decoration-color: #008000\">Persona IF T\\u00fclu 3 Persona MATH - Algebra Other (&lt;11,000 instances) Figure 2 The T\\u00fclu 3 final SFT </span>  \n",
              "      <span style=\"color: #008000; text-decoration-color: #008000\">mix by source and length of the prompt plus completion in tokens (using the Llama 3 tokenizer). Compare this </span>\n",
              "      <span style=\"color: #008000; text-decoration-color: #008000\">distribution to previous open SFT training datasets in Fig. 26. Datasets with the most instances are on the </span> \n",
              "      <span style=\"color: #008000; text-decoration-color: #008000\">bottom of the histogram. test instance. The list of datasets we decontaminated and the versions we released </span> \n",
              "      <span style=\"color: #008000; text-decoration-color: #008000\">with overlapping samples removed is shown in Table 8. The full list of public datasets that we found to be </span>  \n",
              "      <span style=\"color: #008000; text-decoration-color: #008000\">significantly contaminated with our evaluation sets can be found in Table 37. 4 Supervised Finetuning </span>       \n",
              "      <span style=\"color: #008000; text-decoration-color: #008000\">Adapting pretrained base models to various tasks and user requests often relies on supervised finetuning </span>    \n",
              "      <span style=\"color: #008000; text-decoration-color: #008000\">(SFT), also known as instruction finetuning. A key challenge in this process is balancing the proportions of </span>\n",
              "      <span style=\"color: #008000; text-decoration-color: #008000\">mixed training datasets representing diverse skills. ForT\\u00fclu 3, we conducted data mixture ablations and </span>\n",
              "      <span style=\"color: #008000; text-decoration-color: #008000\">explored model merging techniques to develop an SFT training procedure that well balances performance across </span>\n",
              "      <span style=\"color: #008000; text-decoration-color: #008000\">the core skills we prioritized. The following sections detail our experiments and findings. 4.1 SFT Data </span>    \n",
              "      <span style=\"color: #008000; text-decoration-color: #008000\">4.1.1 From Prompts to SFT Data To create our SFT mix, we collect or create responses for prompts described in</span>\n",
              "      <span style=\"color: #008000; text-decoration-color: #008000\">Section 3 in two ways: filtering existing responses, and creating new responses. For prompts with existing </span>  \n",
              "      <span style=\"color: #008000; text-decoration-color: #008000\">responses, we generally keep the original response if it was written by a human or a frontier model, like </span>   \n",
              "      <span style=\"color: #008000; text-decoration-color: #008000\">GPT-4o. For large datasets with subsets from frontier models (e.g. WildChat), we use the subset from the best</span>\n",
              "      <span style=\"color: #008000; text-decoration-color: #008000\">models. We additionally filter empty responses and responses that contain information about models or their </span> \n",
              "      <span style=\"color: #008000; text-decoration-color: #008000\">developers. If a set of prompts did not have responses, like our Persona prompts, or if the original </span>        \n",
              "      <span style=\"color: #008000; text-decoration-color: #008000\">responses were from a weaker model (e.g. WildGuardMix), we generate new responses using GPT-4o. We also </span>     \n",
              "      <span style=\"color: #008000; text-decoration-color: #008000\">hand-wrote responses to our hardcoded prompts. 15\"</span>,                                                          \n",
              "          <span style=\"color: #008000; text-decoration-color: #008000\">\"meta_data\"</span>: <span style=\"font-weight: bold\">{</span>                                                                                           \n",
              "            <span style=\"color: #008000; text-decoration-color: #008000\">\"chunk\"</span>: <span style=\"color: #008080; text-decoration-color: #008080; font-weight: bold\">1</span>,                                                                                            \n",
              "            <span style=\"color: #008000; text-decoration-color: #008000\">\"chunk_size\"</span>: <span style=\"color: #008080; text-decoration-color: #008080; font-weight: bold\">2124</span>,                                                                                    \n",
              "            <span style=\"color: #008000; text-decoration-color: #008000\">\"page\"</span>: <span style=\"color: #008080; text-decoration-color: #008080; font-weight: bold\">15</span>,                                                                                            \n",
              "            <span style=\"color: #008000; text-decoration-color: #008000\">\"distances\"</span>: <span style=\"color: #008080; text-decoration-color: #008080; font-weight: bold\">0.6707773804664612</span>                                                                        \n",
              "          <span style=\"font-weight: bold\">}</span>                                                                                                        \n",
              "        <span style=\"font-weight: bold\">}</span>                                                                                                          \n",
              "      <span style=\"font-weight: bold\">]</span>                                                                                                            \n",
              "</pre>\n"
            ]
          },
          "metadata": {}
        },
        {
          "output_type": "display_data",
          "data": {
            "text/plain": [
              "\u001b[32mDEBUG\u001b[0m **********************  TOOL METRICS  **********************                                                 \n"
            ],
            "text/html": [
              "<pre style=\"white-space:pre;overflow-x:auto;line-height:normal;font-family:Menlo,'DejaVu Sans Mono',consolas,'Courier New',monospace\"><span style=\"color: #008000; text-decoration-color: #008000\">DEBUG</span> **********************  TOOL METRICS  **********************                                                 \n",
              "</pre>\n"
            ]
          },
          "metadata": {}
        },
        {
          "output_type": "display_data",
          "data": {
            "text/plain": [
              "\u001b[32mDEBUG\u001b[0m * Time:                        \u001b[1;36m2.\u001b[0m0378s                                                                       \n"
            ],
            "text/html": [
              "<pre style=\"white-space:pre;overflow-x:auto;line-height:normal;font-family:Menlo,'DejaVu Sans Mono',consolas,'Courier New',monospace\"><span style=\"color: #008000; text-decoration-color: #008000\">DEBUG</span> * Time:                        <span style=\"color: #008080; text-decoration-color: #008080; font-weight: bold\">2.</span>0378s                                                                       \n",
              "</pre>\n"
            ]
          },
          "metadata": {}
        },
        {
          "output_type": "display_data",
          "data": {
            "text/plain": [
              "\u001b[32mDEBUG\u001b[0m **********************  TOOL METRICS  **********************                                                 \n"
            ],
            "text/html": [
              "<pre style=\"white-space:pre;overflow-x:auto;line-height:normal;font-family:Menlo,'DejaVu Sans Mono',consolas,'Courier New',monospace\"><span style=\"color: #008000; text-decoration-color: #008000\">DEBUG</span> **********************  TOOL METRICS  **********************                                                 \n",
              "</pre>\n"
            ]
          },
          "metadata": {}
        },
        {
          "output_type": "display_data",
          "data": {
            "text/plain": [
              "\u001b[32mDEBUG\u001b[0m ======================== assistant =========================                                                 \n"
            ],
            "text/html": [
              "<pre style=\"white-space:pre;overflow-x:auto;line-height:normal;font-family:Menlo,'DejaVu Sans Mono',consolas,'Courier New',monospace\"><span style=\"color: #008000; text-decoration-color: #008000\">DEBUG</span> ======================== assistant =========================                                                 \n",
              "</pre>\n"
            ]
          },
          "metadata": {}
        },
        {
          "output_type": "display_data",
          "data": {
            "text/plain": [
              "\u001b[32mDEBUG\u001b[0m Tool Calls:                                                                                                  \n",
              "        - ID: \u001b[32m'call_1pkh'\u001b[0m                                                                                          \n",
              "          Name: \u001b[32m'text_to_speech'\u001b[0m                                                                                   \n",
              "          Arguments: \u001b[32m'prompt: TULU is an open-source state-of-the-art post-trained model, alongside its data, code,\u001b[0m\n",
              "      \u001b[32mand training recipes, serving as a comprehensive guide for modern post-training techniques. TULU 3 pushes the\u001b[0m\n",
              "      \u001b[32mboundaries of research in post-training, achieving results surpassing the instruct versions of Llama 3.1, \u001b[0m   \n",
              "      \u001b[32mQwen 2.5, Mistral, and even closed models such as GPT-4o-mini and Claude 3.5-Haiku.'\u001b[0m                         \n"
            ],
            "text/html": [
              "<pre style=\"white-space:pre;overflow-x:auto;line-height:normal;font-family:Menlo,'DejaVu Sans Mono',consolas,'Courier New',monospace\"><span style=\"color: #008000; text-decoration-color: #008000\">DEBUG</span> Tool Calls:                                                                                                  \n",
              "        - ID: <span style=\"color: #008000; text-decoration-color: #008000\">'call_1pkh'</span>                                                                                          \n",
              "          Name: <span style=\"color: #008000; text-decoration-color: #008000\">'text_to_speech'</span>                                                                                   \n",
              "          Arguments: <span style=\"color: #008000; text-decoration-color: #008000\">'prompt: TULU is an open-source state-of-the-art post-trained model, alongside its data, code,</span>\n",
              "      <span style=\"color: #008000; text-decoration-color: #008000\">and training recipes, serving as a comprehensive guide for modern post-training techniques. TULU 3 pushes the</span>\n",
              "      <span style=\"color: #008000; text-decoration-color: #008000\">boundaries of research in post-training, achieving results surpassing the instruct versions of Llama 3.1, </span>   \n",
              "      <span style=\"color: #008000; text-decoration-color: #008000\">Qwen 2.5, Mistral, and even closed models such as GPT-4o-mini and Claude 3.5-Haiku.'</span>                         \n",
              "</pre>\n"
            ]
          },
          "metadata": {}
        },
        {
          "output_type": "display_data",
          "data": {
            "text/plain": [
              "\u001b[32mDEBUG\u001b[0m ************************  METRICS  *************************                                                 \n"
            ],
            "text/html": [
              "<pre style=\"white-space:pre;overflow-x:auto;line-height:normal;font-family:Menlo,'DejaVu Sans Mono',consolas,'Courier New',monospace\"><span style=\"color: #008000; text-decoration-color: #008000\">DEBUG</span> ************************  METRICS  *************************                                                 \n",
              "</pre>\n"
            ]
          },
          "metadata": {}
        },
        {
          "output_type": "display_data",
          "data": {
            "text/plain": [
              "\u001b[32mDEBUG\u001b[0m * Tokens:                      \u001b[33minput\u001b[0m=\u001b[1;36m6183\u001b[0m, \u001b[33moutput\u001b[0m=\u001b[1;36m111\u001b[0m, \u001b[33mtotal\u001b[0m=\u001b[1;36m6294\u001b[0m                                            \n"
            ],
            "text/html": [
              "<pre style=\"white-space:pre;overflow-x:auto;line-height:normal;font-family:Menlo,'DejaVu Sans Mono',consolas,'Courier New',monospace\"><span style=\"color: #008000; text-decoration-color: #008000\">DEBUG</span> * Tokens:                      <span style=\"color: #808000; text-decoration-color: #808000\">input</span>=<span style=\"color: #008080; text-decoration-color: #008080; font-weight: bold\">6183</span>, <span style=\"color: #808000; text-decoration-color: #808000\">output</span>=<span style=\"color: #008080; text-decoration-color: #008080; font-weight: bold\">111</span>, <span style=\"color: #808000; text-decoration-color: #808000\">total</span>=<span style=\"color: #008080; text-decoration-color: #008080; font-weight: bold\">6294</span>                                            \n",
              "</pre>\n"
            ]
          },
          "metadata": {}
        },
        {
          "output_type": "display_data",
          "data": {
            "text/plain": [
              "\u001b[32mDEBUG\u001b[0m * Time:                        \u001b[1;36m1.\u001b[0m5037s                                                                       \n"
            ],
            "text/html": [
              "<pre style=\"white-space:pre;overflow-x:auto;line-height:normal;font-family:Menlo,'DejaVu Sans Mono',consolas,'Courier New',monospace\"><span style=\"color: #008000; text-decoration-color: #008000\">DEBUG</span> * Time:                        <span style=\"color: #008080; text-decoration-color: #008080; font-weight: bold\">1.</span>5037s                                                                       \n",
              "</pre>\n"
            ]
          },
          "metadata": {}
        },
        {
          "output_type": "display_data",
          "data": {
            "text/plain": [
              "\u001b[32mDEBUG\u001b[0m * Tokens per second:           \u001b[1;36m73.8197\u001b[0m tokens/s                                                              \n"
            ],
            "text/html": [
              "<pre style=\"white-space:pre;overflow-x:auto;line-height:normal;font-family:Menlo,'DejaVu Sans Mono',consolas,'Courier New',monospace\"><span style=\"color: #008000; text-decoration-color: #008000\">DEBUG</span> * Tokens per second:           <span style=\"color: #008080; text-decoration-color: #008080; font-weight: bold\">73.8197</span> tokens/s                                                              \n",
              "</pre>\n"
            ]
          },
          "metadata": {}
        },
        {
          "output_type": "display_data",
          "data": {
            "text/plain": [
              "\u001b[32mDEBUG\u001b[0m * Additional metrics:          \u001b[1m{\u001b[0m\u001b[32m'completion_time'\u001b[0m: \u001b[1;36m0.558896075\u001b[0m, \u001b[32m'prompt_time'\u001b[0m: \u001b[1;36m0.443671468\u001b[0m, \u001b[32m'queue_time'\u001b[0m:    \n",
              "      \u001b[1;36m0.42529186499999994\u001b[0m, \u001b[32m'total_time'\u001b[0m: \u001b[1;36m1.002567543\u001b[0m\u001b[1m}\u001b[0m                                                              \n"
            ],
            "text/html": [
              "<pre style=\"white-space:pre;overflow-x:auto;line-height:normal;font-family:Menlo,'DejaVu Sans Mono',consolas,'Courier New',monospace\"><span style=\"color: #008000; text-decoration-color: #008000\">DEBUG</span> * Additional metrics:          <span style=\"font-weight: bold\">{</span><span style=\"color: #008000; text-decoration-color: #008000\">'completion_time'</span>: <span style=\"color: #008080; text-decoration-color: #008080; font-weight: bold\">0.558896075</span>, <span style=\"color: #008000; text-decoration-color: #008000\">'prompt_time'</span>: <span style=\"color: #008080; text-decoration-color: #008080; font-weight: bold\">0.443671468</span>, <span style=\"color: #008000; text-decoration-color: #008000\">'queue_time'</span>:    \n",
              "      <span style=\"color: #008080; text-decoration-color: #008080; font-weight: bold\">0.42529186499999994</span>, <span style=\"color: #008000; text-decoration-color: #008000\">'total_time'</span>: <span style=\"color: #008080; text-decoration-color: #008080; font-weight: bold\">1.002567543</span><span style=\"font-weight: bold\">}</span>                                                              \n",
              "</pre>\n"
            ]
          },
          "metadata": {}
        },
        {
          "output_type": "display_data",
          "data": {
            "text/plain": [
              "\u001b[32mDEBUG\u001b[0m ************************  METRICS  *************************                                                 \n"
            ],
            "text/html": [
              "<pre style=\"white-space:pre;overflow-x:auto;line-height:normal;font-family:Menlo,'DejaVu Sans Mono',consolas,'Courier New',monospace\"><span style=\"color: #008000; text-decoration-color: #008000\">DEBUG</span> ************************  METRICS  *************************                                                 \n",
              "</pre>\n"
            ]
          },
          "metadata": {}
        },
        {
          "output_type": "display_data",
          "data": {
            "text/plain": [
              "\u001b[32mDEBUG\u001b[0m Getting function text_to_speech                                                                              \n"
            ],
            "text/html": [
              "<pre style=\"white-space:pre;overflow-x:auto;line-height:normal;font-family:Menlo,'DejaVu Sans Mono',consolas,'Courier New',monospace\"><span style=\"color: #008000; text-decoration-color: #008000\">DEBUG</span> Getting function text_to_speech                                                                              \n",
              "</pre>\n"
            ]
          },
          "metadata": {}
        },
        {
          "output_type": "display_data",
          "data": {
            "text/plain": [
              "\u001b[32mDEBUG\u001b[0m Running: \u001b[1;35mtext_to_speech\u001b[0m\u001b[1m(\u001b[0m\u001b[33mprompt\u001b[0m=\u001b[33m...\u001b[0m\u001b[1m)\u001b[0m                                                                          \n"
            ],
            "text/html": [
              "<pre style=\"white-space:pre;overflow-x:auto;line-height:normal;font-family:Menlo,'DejaVu Sans Mono',consolas,'Courier New',monospace\"><span style=\"color: #008000; text-decoration-color: #008000\">DEBUG</span> Running: <span style=\"color: #800080; text-decoration-color: #800080; font-weight: bold\">text_to_speech</span><span style=\"font-weight: bold\">(</span><span style=\"color: #808000; text-decoration-color: #808000\">prompt</span>=<span style=\"color: #808000; text-decoration-color: #808000\">...</span><span style=\"font-weight: bold\">)</span>                                                                          \n",
              "</pre>\n"
            ]
          },
          "metadata": {}
        },
        {
          "output_type": "display_data",
          "data": {
            "text/plain": [
              "\u001b[32mDEBUG\u001b[0m =========================== tool ===========================                                                 \n"
            ],
            "text/html": [
              "<pre style=\"white-space:pre;overflow-x:auto;line-height:normal;font-family:Menlo,'DejaVu Sans Mono',consolas,'Courier New',monospace\"><span style=\"color: #008000; text-decoration-color: #008000\">DEBUG</span> =========================== tool ===========================                                                 \n",
              "</pre>\n"
            ]
          },
          "metadata": {}
        },
        {
          "output_type": "display_data",
          "data": {
            "text/plain": [
              "\u001b[32mDEBUG\u001b[0m Tool call Id: call_1pkh                                                                                      \n"
            ],
            "text/html": [
              "<pre style=\"white-space:pre;overflow-x:auto;line-height:normal;font-family:Menlo,'DejaVu Sans Mono',consolas,'Courier New',monospace\"><span style=\"color: #008000; text-decoration-color: #008000\">DEBUG</span> Tool call Id: call_1pkh                                                                                      \n",
              "</pre>\n"
            ]
          },
          "metadata": {}
        },
        {
          "output_type": "display_data",
          "data": {
            "text/plain": [
              "\u001b[32mDEBUG\u001b[0m Audio generated successfully                                                                                 \n"
            ],
            "text/html": [
              "<pre style=\"white-space:pre;overflow-x:auto;line-height:normal;font-family:Menlo,'DejaVu Sans Mono',consolas,'Courier New',monospace\"><span style=\"color: #008000; text-decoration-color: #008000\">DEBUG</span> Audio generated successfully                                                                                 \n",
              "</pre>\n"
            ]
          },
          "metadata": {}
        },
        {
          "output_type": "display_data",
          "data": {
            "text/plain": [
              "\u001b[32mDEBUG\u001b[0m **********************  TOOL METRICS  **********************                                                 \n"
            ],
            "text/html": [
              "<pre style=\"white-space:pre;overflow-x:auto;line-height:normal;font-family:Menlo,'DejaVu Sans Mono',consolas,'Courier New',monospace\"><span style=\"color: #008000; text-decoration-color: #008000\">DEBUG</span> **********************  TOOL METRICS  **********************                                                 \n",
              "</pre>\n"
            ]
          },
          "metadata": {}
        },
        {
          "output_type": "display_data",
          "data": {
            "text/plain": [
              "\u001b[32mDEBUG\u001b[0m * Time:                        \u001b[1;36m6.\u001b[0m4199s                                                                       \n"
            ],
            "text/html": [
              "<pre style=\"white-space:pre;overflow-x:auto;line-height:normal;font-family:Menlo,'DejaVu Sans Mono',consolas,'Courier New',monospace\"><span style=\"color: #008000; text-decoration-color: #008000\">DEBUG</span> * Time:                        <span style=\"color: #008080; text-decoration-color: #008080; font-weight: bold\">6.</span>4199s                                                                       \n",
              "</pre>\n"
            ]
          },
          "metadata": {}
        },
        {
          "output_type": "display_data",
          "data": {
            "text/plain": [
              "\u001b[32mDEBUG\u001b[0m **********************  TOOL METRICS  **********************                                                 \n"
            ],
            "text/html": [
              "<pre style=\"white-space:pre;overflow-x:auto;line-height:normal;font-family:Menlo,'DejaVu Sans Mono',consolas,'Courier New',monospace\"><span style=\"color: #008000; text-decoration-color: #008000\">DEBUG</span> **********************  TOOL METRICS  **********************                                                 \n",
              "</pre>\n"
            ]
          },
          "metadata": {}
        },
        {
          "output_type": "display_data",
          "data": {
            "text/plain": [
              "\u001b[32mDEBUG\u001b[0m ======================== assistant =========================                                                 \n"
            ],
            "text/html": [
              "<pre style=\"white-space:pre;overflow-x:auto;line-height:normal;font-family:Menlo,'DejaVu Sans Mono',consolas,'Courier New',monospace\"><span style=\"color: #008000; text-decoration-color: #008000\">DEBUG</span> ======================== assistant =========================                                                 \n",
              "</pre>\n"
            ]
          },
          "metadata": {}
        },
        {
          "output_type": "display_data",
          "data": {
            "text/plain": [
              "\u001b[32mDEBUG\u001b[0m The provided text describes TULU as an open-source state-of-the-art post-trained model, alongside its data,  \n",
              "      code, and training recipes, serving as a comprehensive guide for modern post-training techniques. TULU \u001b[1;36m3\u001b[0m     \n",
              "      pushes the boundaries of research in post-training, achieving results surpassing the instruct versions of    \n",
              "      Llama \u001b[1;36m3.1\u001b[0m, Qwen \u001b[1;36m2.5\u001b[0m, Mistral, and even closed models such as GPT-4o-mini and Claude \u001b[1;36m3.5\u001b[0m-Haiku.               \n"
            ],
            "text/html": [
              "<pre style=\"white-space:pre;overflow-x:auto;line-height:normal;font-family:Menlo,'DejaVu Sans Mono',consolas,'Courier New',monospace\"><span style=\"color: #008000; text-decoration-color: #008000\">DEBUG</span> The provided text describes TULU as an open-source state-of-the-art post-trained model, alongside its data,  \n",
              "      code, and training recipes, serving as a comprehensive guide for modern post-training techniques. TULU <span style=\"color: #008080; text-decoration-color: #008080; font-weight: bold\">3</span>     \n",
              "      pushes the boundaries of research in post-training, achieving results surpassing the instruct versions of    \n",
              "      Llama <span style=\"color: #008080; text-decoration-color: #008080; font-weight: bold\">3.1</span>, Qwen <span style=\"color: #008080; text-decoration-color: #008080; font-weight: bold\">2.5</span>, Mistral, and even closed models such as GPT-4o-mini and Claude <span style=\"color: #008080; text-decoration-color: #008080; font-weight: bold\">3.5</span>-Haiku.               \n",
              "</pre>\n"
            ]
          },
          "metadata": {}
        },
        {
          "output_type": "display_data",
          "data": {
            "text/plain": [
              "\u001b[32mDEBUG\u001b[0m ************************  METRICS  *************************                                                 \n"
            ],
            "text/html": [
              "<pre style=\"white-space:pre;overflow-x:auto;line-height:normal;font-family:Menlo,'DejaVu Sans Mono',consolas,'Courier New',monospace\"><span style=\"color: #008000; text-decoration-color: #008000\">DEBUG</span> ************************  METRICS  *************************                                                 \n",
              "</pre>\n"
            ]
          },
          "metadata": {}
        },
        {
          "output_type": "display_data",
          "data": {
            "text/plain": [
              "\u001b[32mDEBUG\u001b[0m * Tokens:                      \u001b[33minput\u001b[0m=\u001b[1;36m6307\u001b[0m, \u001b[33moutput\u001b[0m=\u001b[1;36m102\u001b[0m, \u001b[33mtotal\u001b[0m=\u001b[1;36m6409\u001b[0m                                            \n"
            ],
            "text/html": [
              "<pre style=\"white-space:pre;overflow-x:auto;line-height:normal;font-family:Menlo,'DejaVu Sans Mono',consolas,'Courier New',monospace\"><span style=\"color: #008000; text-decoration-color: #008000\">DEBUG</span> * Tokens:                      <span style=\"color: #808000; text-decoration-color: #808000\">input</span>=<span style=\"color: #008080; text-decoration-color: #008080; font-weight: bold\">6307</span>, <span style=\"color: #808000; text-decoration-color: #808000\">output</span>=<span style=\"color: #008080; text-decoration-color: #008080; font-weight: bold\">102</span>, <span style=\"color: #808000; text-decoration-color: #808000\">total</span>=<span style=\"color: #008080; text-decoration-color: #008080; font-weight: bold\">6409</span>                                            \n",
              "</pre>\n"
            ]
          },
          "metadata": {}
        },
        {
          "output_type": "display_data",
          "data": {
            "text/plain": [
              "\u001b[32mDEBUG\u001b[0m * Time:                        \u001b[1;36m1.\u001b[0m3427s                                                                       \n"
            ],
            "text/html": [
              "<pre style=\"white-space:pre;overflow-x:auto;line-height:normal;font-family:Menlo,'DejaVu Sans Mono',consolas,'Courier New',monospace\"><span style=\"color: #008000; text-decoration-color: #008000\">DEBUG</span> * Time:                        <span style=\"color: #008080; text-decoration-color: #008080; font-weight: bold\">1.</span>3427s                                                                       \n",
              "</pre>\n"
            ]
          },
          "metadata": {}
        },
        {
          "output_type": "display_data",
          "data": {
            "text/plain": [
              "\u001b[32mDEBUG\u001b[0m * Tokens per second:           \u001b[1;36m75.9657\u001b[0m tokens/s                                                              \n"
            ],
            "text/html": [
              "<pre style=\"white-space:pre;overflow-x:auto;line-height:normal;font-family:Menlo,'DejaVu Sans Mono',consolas,'Courier New',monospace\"><span style=\"color: #008000; text-decoration-color: #008000\">DEBUG</span> * Tokens per second:           <span style=\"color: #008080; text-decoration-color: #008080; font-weight: bold\">75.9657</span> tokens/s                                                              \n",
              "</pre>\n"
            ]
          },
          "metadata": {}
        },
        {
          "output_type": "display_data",
          "data": {
            "text/plain": [
              "\u001b[32mDEBUG\u001b[0m * Additional metrics:          \u001b[1m{\u001b[0m\u001b[32m'completion_time'\u001b[0m: \u001b[1;36m0.370909091\u001b[0m, \u001b[32m'prompt_time'\u001b[0m: \u001b[1;36m0.451382911\u001b[0m, \u001b[32m'queue_time'\u001b[0m:    \n",
              "      \u001b[1;36m0.43231397099999996\u001b[0m, \u001b[32m'total_time'\u001b[0m: \u001b[1;36m0.822292002\u001b[0m\u001b[1m}\u001b[0m                                                              \n"
            ],
            "text/html": [
              "<pre style=\"white-space:pre;overflow-x:auto;line-height:normal;font-family:Menlo,'DejaVu Sans Mono',consolas,'Courier New',monospace\"><span style=\"color: #008000; text-decoration-color: #008000\">DEBUG</span> * Additional metrics:          <span style=\"font-weight: bold\">{</span><span style=\"color: #008000; text-decoration-color: #008000\">'completion_time'</span>: <span style=\"color: #008080; text-decoration-color: #008080; font-weight: bold\">0.370909091</span>, <span style=\"color: #008000; text-decoration-color: #008000\">'prompt_time'</span>: <span style=\"color: #008080; text-decoration-color: #008080; font-weight: bold\">0.451382911</span>, <span style=\"color: #008000; text-decoration-color: #008000\">'queue_time'</span>:    \n",
              "      <span style=\"color: #008080; text-decoration-color: #008080; font-weight: bold\">0.43231397099999996</span>, <span style=\"color: #008000; text-decoration-color: #008000\">'total_time'</span>: <span style=\"color: #008080; text-decoration-color: #008080; font-weight: bold\">0.822292002</span><span style=\"font-weight: bold\">}</span>                                                              \n",
              "</pre>\n"
            ]
          },
          "metadata": {}
        },
        {
          "output_type": "display_data",
          "data": {
            "text/plain": [
              "\u001b[32mDEBUG\u001b[0m ************************  METRICS  *************************                                                 \n"
            ],
            "text/html": [
              "<pre style=\"white-space:pre;overflow-x:auto;line-height:normal;font-family:Menlo,'DejaVu Sans Mono',consolas,'Courier New',monospace\"><span style=\"color: #008000; text-decoration-color: #008000\">DEBUG</span> ************************  METRICS  *************************                                                 \n",
              "</pre>\n"
            ]
          },
          "metadata": {}
        },
        {
          "output_type": "display_data",
          "data": {
            "text/plain": [
              "\u001b[32mDEBUG\u001b[0m -------------------- Groq Response End ---------------------                                                 \n"
            ],
            "text/html": [
              "<pre style=\"white-space:pre;overflow-x:auto;line-height:normal;font-family:Menlo,'DejaVu Sans Mono',consolas,'Courier New',monospace\"><span style=\"color: #008000; text-decoration-color: #008000\">DEBUG</span> -------------------- Groq Response End ---------------------                                                 \n",
              "</pre>\n"
            ]
          },
          "metadata": {}
        },
        {
          "output_type": "display_data",
          "data": {
            "text/plain": [
              "\u001b[32mDEBUG\u001b[0m Added \u001b[1;36m6\u001b[0m Messages to AgentMemory                                                                              \n"
            ],
            "text/html": [
              "<pre style=\"white-space:pre;overflow-x:auto;line-height:normal;font-family:Menlo,'DejaVu Sans Mono',consolas,'Courier New',monospace\"><span style=\"color: #008000; text-decoration-color: #008000\">DEBUG</span> Added <span style=\"color: #008080; text-decoration-color: #008080; font-weight: bold\">6</span> Messages to AgentMemory                                                                              \n",
              "</pre>\n"
            ]
          },
          "metadata": {}
        },
        {
          "output_type": "display_data",
          "data": {
            "text/plain": [
              "\u001b[32mDEBUG\u001b[0m Added AgentRun to AgentMemory                                                                                \n"
            ],
            "text/html": [
              "<pre style=\"white-space:pre;overflow-x:auto;line-height:normal;font-family:Menlo,'DejaVu Sans Mono',consolas,'Courier New',monospace\"><span style=\"color: #008000; text-decoration-color: #008000\">DEBUG</span> Added AgentRun to AgentMemory                                                                                \n",
              "</pre>\n"
            ]
          },
          "metadata": {}
        },
        {
          "output_type": "display_data",
          "data": {
            "text/plain": [
              "\u001b[32mDEBUG\u001b[0m Logging Agent Run                                                                                            \n"
            ],
            "text/html": [
              "<pre style=\"white-space:pre;overflow-x:auto;line-height:normal;font-family:Menlo,'DejaVu Sans Mono',consolas,'Courier New',monospace\"><span style=\"color: #008000; text-decoration-color: #008000\">DEBUG</span> Logging Agent Run                                                                                            \n",
              "</pre>\n"
            ]
          },
          "metadata": {}
        },
        {
          "output_type": "display_data",
          "data": {
            "text/plain": [
              "\u001b[32mDEBUG\u001b[0m *** Agent Run End: \u001b[93mb1b3f7db-c2c5-4b2b-8a54-7c3f7d151683\u001b[0m ****                                                 \n"
            ],
            "text/html": [
              "<pre style=\"white-space:pre;overflow-x:auto;line-height:normal;font-family:Menlo,'DejaVu Sans Mono',consolas,'Courier New',monospace\"><span style=\"color: #008000; text-decoration-color: #008000\">DEBUG</span> *** Agent Run End: <span style=\"color: #ffff00; text-decoration-color: #ffff00\">b1b3f7db-c2c5-4b2b-8a54-7c3f7d151683</span> ****                                                 \n",
              "</pre>\n"
            ]
          },
          "metadata": {}
        },
        {
          "output_type": "stream",
          "name": "stdout",
          "text": [
            "Audio saved successfully to: rag_audio_generations/sample_audio445d0d5c-289c-4817-bf19-0ce9018ee6f1.wav\n"
          ]
        }
      ]
    },
    {
      "cell_type": "code",
      "source": [
        "run: RunResponse = audio_rag_agent.run(\n",
        "    f\"Generate audio from the knowlegde base: How was TULU trained and evaluated?\"\n",
        ")\n",
        "\n",
        "save_dir = \"rag_audio_generations\"\n",
        "\n",
        "if run.audio is not None and len(run.audio) > 0:\n",
        "    try:\n",
        "        os.makedirs(save_dir, exist_ok=True)\n",
        "        filename = f\"{save_dir}/sample_audio{uuid4()}.wav\"\n",
        "        write_audio_to_file(\n",
        "            audio=run.audio[0].base64_audio,\n",
        "            filename=filename\n",
        "        )\n",
        "        print(f\"Audio saved successfully to: {filename}\")\n",
        "    except Exception as e:\n",
        "        print(f\"Error saving audio file: {e}\")"
      ],
      "metadata": {
        "colab": {
          "base_uri": "https://localhost:8080/",
          "height": 1000
        },
        "id": "vnQbYCF5Q0z-",
        "outputId": "b9f058e7-7c5d-4a5b-bb40-2cc66238d559"
      },
      "execution_count": null,
      "outputs": [
        {
          "output_type": "display_data",
          "data": {
            "text/plain": [
              "\u001b[32mDEBUG\u001b[0m **************** Agent ID: audio_rag_agent *****************                                                 \n"
            ],
            "text/html": [
              "<pre style=\"white-space:pre;overflow-x:auto;line-height:normal;font-family:Menlo,'DejaVu Sans Mono',consolas,'Courier New',monospace\"><span style=\"color: #008000; text-decoration-color: #008000\">DEBUG</span> **************** Agent ID: audio_rag_agent *****************                                                 \n",
              "</pre>\n"
            ]
          },
          "metadata": {}
        },
        {
          "output_type": "display_data",
          "data": {
            "text/plain": [
              "\u001b[32mDEBUG\u001b[0m ***** Session ID: \u001b[93me6f0bbbd-c655-42fd-945d-2fc1cd38bc12\u001b[0m *****                                                 \n"
            ],
            "text/html": [
              "<pre style=\"white-space:pre;overflow-x:auto;line-height:normal;font-family:Menlo,'DejaVu Sans Mono',consolas,'Courier New',monospace\"><span style=\"color: #008000; text-decoration-color: #008000\">DEBUG</span> ***** Session ID: <span style=\"color: #ffff00; text-decoration-color: #ffff00\">e6f0bbbd-c655-42fd-945d-2fc1cd38bc12</span> *****                                                 \n",
              "</pre>\n"
            ]
          },
          "metadata": {}
        },
        {
          "output_type": "display_data",
          "data": {
            "text/plain": [
              "\u001b[32mDEBUG\u001b[0m ** Agent Run Start: \u001b[93mdfc7715d-18f2-454c-9730-e2703808fe19\u001b[0m ***                                                 \n"
            ],
            "text/html": [
              "<pre style=\"white-space:pre;overflow-x:auto;line-height:normal;font-family:Menlo,'DejaVu Sans Mono',consolas,'Courier New',monospace\"><span style=\"color: #008000; text-decoration-color: #008000\">DEBUG</span> ** Agent Run Start: <span style=\"color: #ffff00; text-decoration-color: #ffff00\">dfc7715d-18f2-454c-9730-e2703808fe19</span> ***                                                 \n",
              "</pre>\n"
            ]
          },
          "metadata": {}
        },
        {
          "output_type": "display_data",
          "data": {
            "text/plain": [
              "\u001b[32mDEBUG\u001b[0m ------------------- Groq Response Start --------------------                                                 \n"
            ],
            "text/html": [
              "<pre style=\"white-space:pre;overflow-x:auto;line-height:normal;font-family:Menlo,'DejaVu Sans Mono',consolas,'Courier New',monospace\"><span style=\"color: #008000; text-decoration-color: #008000\">DEBUG</span> ------------------- Groq Response Start --------------------                                                 \n",
              "</pre>\n"
            ]
          },
          "metadata": {}
        },
        {
          "output_type": "display_data",
          "data": {
            "text/plain": [
              "\u001b[32mDEBUG\u001b[0m -------------- Model: llama-\u001b[1;36m3.3\u001b[0m-70b-versatile --------------                                                 \n"
            ],
            "text/html": [
              "<pre style=\"white-space:pre;overflow-x:auto;line-height:normal;font-family:Menlo,'DejaVu Sans Mono',consolas,'Courier New',monospace\"><span style=\"color: #008000; text-decoration-color: #008000\">DEBUG</span> -------------- Model: llama-<span style=\"color: #008080; text-decoration-color: #008080; font-weight: bold\">3.3</span>-70b-versatile --------------                                                 \n",
              "</pre>\n"
            ]
          },
          "metadata": {}
        },
        {
          "output_type": "display_data",
          "data": {
            "text/plain": [
              "\u001b[32mDEBUG\u001b[0m ========================== system ==========================                                                 \n"
            ],
            "text/html": [
              "<pre style=\"white-space:pre;overflow-x:auto;line-height:normal;font-family:Menlo,'DejaVu Sans Mono',consolas,'Courier New',monospace\"><span style=\"color: #008000; text-decoration-color: #008000\">DEBUG</span> ========================== system ==========================                                                 \n",
              "</pre>\n"
            ]
          },
          "metadata": {}
        },
        {
          "output_type": "display_data",
          "data": {
            "text/plain": [
              "\u001b[32mDEBUG\u001b[0m You are an AI agent that can generate audio using the ElevenLabs API for the knowlegde provided to the agent \n",
              "      \u001b[1m<\u001b[0m\u001b[1;95minstructions\u001b[0m\u001b[39m>\u001b[0m                                                                                               \n",
              "      \u001b[39mYou are an intelligent voice-enabled Retrieval-Augmented Generation \u001b[0m\u001b[1;39m(\u001b[0m\u001b[39mRAG\u001b[0m\u001b[1;39m)\u001b[0m\u001b[39m agent named Audio RAG Agent. Your \u001b[0m \n",
              "      \u001b[39mtask is to understand user queries, retrieve the most relevant context from your knowledge base, and generate\u001b[0m\n",
              "      \u001b[39maccurate, informative, and human-like voice responses using the ElevenLabs API. Always ground your answers \u001b[0m  \n",
              "      \u001b[39mstrictly in the provided knowledge base. If relevant information is not found, clearly state that you do not \u001b[0m\n",
              "      \u001b[39mhave enough information. Ensure that your responses are concise, easy to understand when spoken, and free of \u001b[0m\n",
              "      \u001b[39mhallucinations or speculative content. Your voice output should reflect a natural conversational tone, \u001b[0m      \n",
              "      \u001b[39mappropriate pauses, and correct pronunciation. Do not generate responses unrelated to the user's query or \u001b[0m   \n",
              "      \u001b[39moutside the domain of the knowledge base.\u001b[0m                                                                    \n",
              "      \u001b[39m<\u001b[0m\u001b[35m/\u001b[0m\u001b[95minstructions\u001b[0m\u001b[39m>\u001b[0m                                                                                              \n",
              "                                                                                                                   \n",
              "      \u001b[39m<additional_information>\u001b[0m                                                                                     \n",
              "      \u001b[39m- Use markdown to format your answers.\u001b[0m                                                                       \n",
              "      \u001b[39m<\u001b[0m\u001b[35m/\u001b[0m\u001b[95madditional_information\u001b[0m\u001b[1m>\u001b[0m                                                                                    \n"
            ],
            "text/html": [
              "<pre style=\"white-space:pre;overflow-x:auto;line-height:normal;font-family:Menlo,'DejaVu Sans Mono',consolas,'Courier New',monospace\"><span style=\"color: #008000; text-decoration-color: #008000\">DEBUG</span> You are an AI agent that can generate audio using the ElevenLabs API for the knowlegde provided to the agent \n",
              "      <span style=\"font-weight: bold\">&lt;</span><span style=\"color: #ff00ff; text-decoration-color: #ff00ff; font-weight: bold\">instructions</span><span style=\"color: #000000; text-decoration-color: #000000\">&gt;</span>                                                                                               \n",
              "      <span style=\"color: #000000; text-decoration-color: #000000\">You are an intelligent voice-enabled Retrieval-Augmented Generation </span><span style=\"color: #000000; text-decoration-color: #000000; font-weight: bold\">(</span><span style=\"color: #000000; text-decoration-color: #000000\">RAG</span><span style=\"color: #000000; text-decoration-color: #000000; font-weight: bold\">)</span><span style=\"color: #000000; text-decoration-color: #000000\"> agent named Audio RAG Agent. Your </span> \n",
              "      <span style=\"color: #000000; text-decoration-color: #000000\">task is to understand user queries, retrieve the most relevant context from your knowledge base, and generate</span>\n",
              "      <span style=\"color: #000000; text-decoration-color: #000000\">accurate, informative, and human-like voice responses using the ElevenLabs API. Always ground your answers </span>  \n",
              "      <span style=\"color: #000000; text-decoration-color: #000000\">strictly in the provided knowledge base. If relevant information is not found, clearly state that you do not </span>\n",
              "      <span style=\"color: #000000; text-decoration-color: #000000\">have enough information. Ensure that your responses are concise, easy to understand when spoken, and free of </span>\n",
              "      <span style=\"color: #000000; text-decoration-color: #000000\">hallucinations or speculative content. Your voice output should reflect a natural conversational tone, </span>      \n",
              "      <span style=\"color: #000000; text-decoration-color: #000000\">appropriate pauses, and correct pronunciation. Do not generate responses unrelated to the user's query or </span>   \n",
              "      <span style=\"color: #000000; text-decoration-color: #000000\">outside the domain of the knowledge base.</span>                                                                    \n",
              "      <span style=\"color: #000000; text-decoration-color: #000000\">&lt;</span><span style=\"color: #800080; text-decoration-color: #800080\">/</span><span style=\"color: #ff00ff; text-decoration-color: #ff00ff\">instructions</span><span style=\"color: #000000; text-decoration-color: #000000\">&gt;</span>                                                                                              \n",
              "                                                                                                                   \n",
              "      <span style=\"color: #000000; text-decoration-color: #000000\">&lt;additional_information&gt;</span>                                                                                     \n",
              "      <span style=\"color: #000000; text-decoration-color: #000000\">- Use markdown to format your answers.</span>                                                                       \n",
              "      <span style=\"color: #000000; text-decoration-color: #000000\">&lt;</span><span style=\"color: #800080; text-decoration-color: #800080\">/</span><span style=\"color: #ff00ff; text-decoration-color: #ff00ff\">additional_information</span><span style=\"font-weight: bold\">&gt;</span>                                                                                    \n",
              "</pre>\n"
            ]
          },
          "metadata": {}
        },
        {
          "output_type": "display_data",
          "data": {
            "text/plain": [
              "\u001b[32mDEBUG\u001b[0m =========================== user ===========================                                                 \n"
            ],
            "text/html": [
              "<pre style=\"white-space:pre;overflow-x:auto;line-height:normal;font-family:Menlo,'DejaVu Sans Mono',consolas,'Courier New',monospace\"><span style=\"color: #008000; text-decoration-color: #008000\">DEBUG</span> =========================== user ===========================                                                 \n",
              "</pre>\n"
            ]
          },
          "metadata": {}
        },
        {
          "output_type": "display_data",
          "data": {
            "text/plain": [
              "\u001b[32mDEBUG\u001b[0m Generate audio from the knowlegde base: How was TULU trained and evaluated?                                  \n"
            ],
            "text/html": [
              "<pre style=\"white-space:pre;overflow-x:auto;line-height:normal;font-family:Menlo,'DejaVu Sans Mono',consolas,'Courier New',monospace\"><span style=\"color: #008000; text-decoration-color: #008000\">DEBUG</span> Generate audio from the knowlegde base: How was TULU trained and evaluated?                                  \n",
              "</pre>\n"
            ]
          },
          "metadata": {}
        },
        {
          "output_type": "display_data",
          "data": {
            "text/plain": [
              "\u001b[32mDEBUG\u001b[0m ======================== assistant =========================                                                 \n"
            ],
            "text/html": [
              "<pre style=\"white-space:pre;overflow-x:auto;line-height:normal;font-family:Menlo,'DejaVu Sans Mono',consolas,'Courier New',monospace\"><span style=\"color: #008000; text-decoration-color: #008000\">DEBUG</span> ======================== assistant =========================                                                 \n",
              "</pre>\n"
            ]
          },
          "metadata": {}
        },
        {
          "output_type": "display_data",
          "data": {
            "text/plain": [
              "\u001b[32mDEBUG\u001b[0m Tool Calls:                                                                                                  \n",
              "        - ID: \u001b[32m'call_b19z'\u001b[0m                                                                                          \n",
              "          Name: \u001b[32m'search_knowledge_base'\u001b[0m                                                                            \n",
              "          Arguments: \u001b[32m'query: TULU trained and evaluated'\u001b[0m                                                           \n"
            ],
            "text/html": [
              "<pre style=\"white-space:pre;overflow-x:auto;line-height:normal;font-family:Menlo,'DejaVu Sans Mono',consolas,'Courier New',monospace\"><span style=\"color: #008000; text-decoration-color: #008000\">DEBUG</span> Tool Calls:                                                                                                  \n",
              "        - ID: <span style=\"color: #008000; text-decoration-color: #008000\">'call_b19z'</span>                                                                                          \n",
              "          Name: <span style=\"color: #008000; text-decoration-color: #008000\">'search_knowledge_base'</span>                                                                            \n",
              "          Arguments: <span style=\"color: #008000; text-decoration-color: #008000\">'query: TULU trained and evaluated'</span>                                                           \n",
              "</pre>\n"
            ]
          },
          "metadata": {}
        },
        {
          "output_type": "display_data",
          "data": {
            "text/plain": [
              "\u001b[32mDEBUG\u001b[0m ************************  METRICS  *************************                                                 \n"
            ],
            "text/html": [
              "<pre style=\"white-space:pre;overflow-x:auto;line-height:normal;font-family:Menlo,'DejaVu Sans Mono',consolas,'Courier New',monospace\"><span style=\"color: #008000; text-decoration-color: #008000\">DEBUG</span> ************************  METRICS  *************************                                                 \n",
              "</pre>\n"
            ]
          },
          "metadata": {}
        },
        {
          "output_type": "display_data",
          "data": {
            "text/plain": [
              "\u001b[32mDEBUG\u001b[0m * Tokens:                      \u001b[33minput\u001b[0m=\u001b[1;36m687\u001b[0m, \u001b[33moutput\u001b[0m=\u001b[1;36m21\u001b[0m, \u001b[33mtotal\u001b[0m=\u001b[1;36m708\u001b[0m                                               \n"
            ],
            "text/html": [
              "<pre style=\"white-space:pre;overflow-x:auto;line-height:normal;font-family:Menlo,'DejaVu Sans Mono',consolas,'Courier New',monospace\"><span style=\"color: #008000; text-decoration-color: #008000\">DEBUG</span> * Tokens:                      <span style=\"color: #808000; text-decoration-color: #808000\">input</span>=<span style=\"color: #008080; text-decoration-color: #008080; font-weight: bold\">687</span>, <span style=\"color: #808000; text-decoration-color: #808000\">output</span>=<span style=\"color: #008080; text-decoration-color: #008080; font-weight: bold\">21</span>, <span style=\"color: #808000; text-decoration-color: #808000\">total</span>=<span style=\"color: #008080; text-decoration-color: #008080; font-weight: bold\">708</span>                                               \n",
              "</pre>\n"
            ]
          },
          "metadata": {}
        },
        {
          "output_type": "display_data",
          "data": {
            "text/plain": [
              "\u001b[32mDEBUG\u001b[0m * Time:                        \u001b[1;36m0.\u001b[0m4639s                                                                       \n"
            ],
            "text/html": [
              "<pre style=\"white-space:pre;overflow-x:auto;line-height:normal;font-family:Menlo,'DejaVu Sans Mono',consolas,'Courier New',monospace\"><span style=\"color: #008000; text-decoration-color: #008000\">DEBUG</span> * Time:                        <span style=\"color: #008080; text-decoration-color: #008080; font-weight: bold\">0.</span>4639s                                                                       \n",
              "</pre>\n"
            ]
          },
          "metadata": {}
        },
        {
          "output_type": "display_data",
          "data": {
            "text/plain": [
              "\u001b[32mDEBUG\u001b[0m * Tokens per second:           \u001b[1;36m45.2665\u001b[0m tokens/s                                                              \n"
            ],
            "text/html": [
              "<pre style=\"white-space:pre;overflow-x:auto;line-height:normal;font-family:Menlo,'DejaVu Sans Mono',consolas,'Courier New',monospace\"><span style=\"color: #008000; text-decoration-color: #008000\">DEBUG</span> * Tokens per second:           <span style=\"color: #008080; text-decoration-color: #008080; font-weight: bold\">45.2665</span> tokens/s                                                              \n",
              "</pre>\n"
            ]
          },
          "metadata": {}
        },
        {
          "output_type": "display_data",
          "data": {
            "text/plain": [
              "\u001b[32mDEBUG\u001b[0m * Additional metrics:          \u001b[1m{\u001b[0m\u001b[32m'completion_time'\u001b[0m: \u001b[1;36m0.092835269\u001b[0m, \u001b[32m'prompt_time'\u001b[0m: \u001b[1;36m0.04415443\u001b[0m, \u001b[32m'queue_time'\u001b[0m:     \n",
              "      \u001b[1;36m0.232153437\u001b[0m, \u001b[32m'total_time'\u001b[0m: \u001b[1;36m0.136989699\u001b[0m\u001b[1m}\u001b[0m                                                                      \n"
            ],
            "text/html": [
              "<pre style=\"white-space:pre;overflow-x:auto;line-height:normal;font-family:Menlo,'DejaVu Sans Mono',consolas,'Courier New',monospace\"><span style=\"color: #008000; text-decoration-color: #008000\">DEBUG</span> * Additional metrics:          <span style=\"font-weight: bold\">{</span><span style=\"color: #008000; text-decoration-color: #008000\">'completion_time'</span>: <span style=\"color: #008080; text-decoration-color: #008080; font-weight: bold\">0.092835269</span>, <span style=\"color: #008000; text-decoration-color: #008000\">'prompt_time'</span>: <span style=\"color: #008080; text-decoration-color: #008080; font-weight: bold\">0.04415443</span>, <span style=\"color: #008000; text-decoration-color: #008000\">'queue_time'</span>:     \n",
              "      <span style=\"color: #008080; text-decoration-color: #008080; font-weight: bold\">0.232153437</span>, <span style=\"color: #008000; text-decoration-color: #008000\">'total_time'</span>: <span style=\"color: #008080; text-decoration-color: #008080; font-weight: bold\">0.136989699</span><span style=\"font-weight: bold\">}</span>                                                                      \n",
              "</pre>\n"
            ]
          },
          "metadata": {}
        },
        {
          "output_type": "display_data",
          "data": {
            "text/plain": [
              "\u001b[32mDEBUG\u001b[0m ************************  METRICS  *************************                                                 \n"
            ],
            "text/html": [
              "<pre style=\"white-space:pre;overflow-x:auto;line-height:normal;font-family:Menlo,'DejaVu Sans Mono',consolas,'Courier New',monospace\"><span style=\"color: #008000; text-decoration-color: #008000\">DEBUG</span> ************************  METRICS  *************************                                                 \n",
              "</pre>\n"
            ]
          },
          "metadata": {}
        },
        {
          "output_type": "display_data",
          "data": {
            "text/plain": [
              "\u001b[32mDEBUG\u001b[0m Getting function search_knowledge_base                                                                       \n"
            ],
            "text/html": [
              "<pre style=\"white-space:pre;overflow-x:auto;line-height:normal;font-family:Menlo,'DejaVu Sans Mono',consolas,'Courier New',monospace\"><span style=\"color: #008000; text-decoration-color: #008000\">DEBUG</span> Getting function search_knowledge_base                                                                       \n",
              "</pre>\n"
            ]
          },
          "metadata": {}
        },
        {
          "output_type": "display_data",
          "data": {
            "text/plain": [
              "\u001b[32mDEBUG\u001b[0m Running: \u001b[1;35msearch_knowledge_base\u001b[0m\u001b[1m(\u001b[0m\u001b[33mquery\u001b[0m=\u001b[35mTULU\u001b[0m trained and evaluated\u001b[1m)\u001b[0m                                             \n"
            ],
            "text/html": [
              "<pre style=\"white-space:pre;overflow-x:auto;line-height:normal;font-family:Menlo,'DejaVu Sans Mono',consolas,'Courier New',monospace\"><span style=\"color: #008000; text-decoration-color: #008000\">DEBUG</span> Running: <span style=\"color: #800080; text-decoration-color: #800080; font-weight: bold\">search_knowledge_base</span><span style=\"font-weight: bold\">(</span><span style=\"color: #808000; text-decoration-color: #808000\">query</span>=<span style=\"color: #800080; text-decoration-color: #800080\">TULU</span> trained and evaluated<span style=\"font-weight: bold\">)</span>                                             \n",
              "</pre>\n"
            ]
          },
          "metadata": {}
        },
        {
          "output_type": "display_data",
          "data": {
            "text/plain": [
              "\u001b[32mDEBUG\u001b[0m Getting \u001b[1;36m5\u001b[0m relevant documents for query: TULU trained and evaluated                                           \n"
            ],
            "text/html": [
              "<pre style=\"white-space:pre;overflow-x:auto;line-height:normal;font-family:Menlo,'DejaVu Sans Mono',consolas,'Courier New',monospace\"><span style=\"color: #008000; text-decoration-color: #008000\">DEBUG</span> Getting <span style=\"color: #008080; text-decoration-color: #008080; font-weight: bold\">5</span> relevant documents for query: TULU trained and evaluated                                           \n",
              "</pre>\n"
            ]
          },
          "metadata": {}
        },
        {
          "output_type": "display_data",
          "data": {
            "text/plain": [
              "\u001b[32mDEBUG\u001b[0m Time to get references: \u001b[1;36m1.\u001b[0m4547s                                                                              \n"
            ],
            "text/html": [
              "<pre style=\"white-space:pre;overflow-x:auto;line-height:normal;font-family:Menlo,'DejaVu Sans Mono',consolas,'Courier New',monospace\"><span style=\"color: #008000; text-decoration-color: #008000\">DEBUG</span> Time to get references: <span style=\"color: #008080; text-decoration-color: #008080; font-weight: bold\">1.</span>4547s                                                                              \n",
              "</pre>\n"
            ]
          },
          "metadata": {}
        },
        {
          "output_type": "display_data",
          "data": {
            "text/plain": [
              "\u001b[32mDEBUG\u001b[0m =========================== tool ===========================                                                 \n"
            ],
            "text/html": [
              "<pre style=\"white-space:pre;overflow-x:auto;line-height:normal;font-family:Menlo,'DejaVu Sans Mono',consolas,'Courier New',monospace\"><span style=\"color: #008000; text-decoration-color: #008000\">DEBUG</span> =========================== tool ===========================                                                 \n",
              "</pre>\n"
            ]
          },
          "metadata": {}
        },
        {
          "output_type": "display_data",
          "data": {
            "text/plain": [
              "\u001b[32mDEBUG\u001b[0m Tool call Id: call_b19z                                                                                      \n"
            ],
            "text/html": [
              "<pre style=\"white-space:pre;overflow-x:auto;line-height:normal;font-family:Menlo,'DejaVu Sans Mono',consolas,'Courier New',monospace\"><span style=\"color: #008000; text-decoration-color: #008000\">DEBUG</span> Tool call Id: call_b19z                                                                                      \n",
              "</pre>\n"
            ]
          },
          "metadata": {}
        },
        {
          "output_type": "display_data",
          "data": {
            "text/plain": [
              "\u001b[32mDEBUG\u001b[0m \u001b[1m[\u001b[0m                                                                                                            \n",
              "        \u001b[1m{\u001b[0m                                                                                                          \n",
              "          \u001b[32m\"content\"\u001b[0m: \u001b[32m\"Curate prompts Base Model T\\u00fclu3-SFT T\\u00fclu3-DPO T\\u00fclu3 public datasets \u001b[0m          \n",
              "      \u001b[32mpersona-driven synthetic instructions data mixing Build evaluation suite Supervised \\ufb01netuning Direct \u001b[0m   \n",
              "      \u001b[32mpref. optimization on-policy data o\\ue007-policy data prompts with veri\\ufb01able rewards decontaminate \u001b[0m     \n",
              "      \u001b[32mknowledge reasoning math coding chat safety Identify core skills RL with veri\\ufb01able rewards development \u001b[0m \n",
              "      \u001b[32mevals unseen evals Figure 1An overview of theT\\u00fclu 3 recipe. This includes: data curation targeting \u001b[0m     \n",
              "      \u001b[32mgeneral and target capabilities, training strategies and a standardized evaluation suite for development and \u001b[0m\n",
              "      \u001b[32mfinal evaluation stage. 1 Introduction \\u201cJust as the camel shares its burdens with others in the caravan,\u001b[0m\n",
              "      \u001b[32mthe wise share their insights to lighten the load of ignorance.\\u201d \\u2013 Proverb generated byT\\u00fclu 3.\u001b[0m\n",
              "      \u001b[32mPost-training \\u2014 the collection of techniques including instruction tuning, reinforcement learning from \u001b[0m \n",
              "      \u001b[32mhuman feedback, and other types of finetuning \\u2014 has become a crucial step in building frontier language \u001b[0m\n",
              "      \u001b[32mmodels \u001b[0m\u001b[32m(\u001b[0m\u001b[32mOpenAI, 2024; Anthropic, 2024\u001b[0m\u001b[32m)\u001b[0m\u001b[32m, yet developments to these techniques are frequently not accompanied \u001b[0m \n",
              "      \u001b[32mby open resources and recipes. Fully open source counterparts \u001b[0m\u001b[32m(\u001b[0m\u001b[32me.g.,T\\u00fclu 2 \u001b[0m\u001b[32m(\u001b[0m\u001b[32mIvison et al., 2023\u001b[0m\u001b[32m)\u001b[0m\u001b[32m and \u001b[0m   \n",
              "      \u001b[32mZephyr-\\u03b2 \u001b[0m\u001b[32m(\u001b[0m\u001b[32mTunstall et al., 2023\u001b[0m\u001b[32m)\u001b[0m\u001b[32m)\u001b[0m\u001b[32m often rely on simpler-to-implement and cheaper pipelines and have \u001b[0m    \n",
              "      \u001b[32mbecome outdated on many metrics. To close the gap between open and closed post training, we \u001b[0m                 \n",
              "      \u001b[32mintroduceT\\u00fclu1 3, a family of open state-of- the-art post-trained models, alongside all of the data, \u001b[0m   \n",
              "      \u001b[32mtraining recipes, code, infrastructure, and evaluation framework. Integrating partial details from \u001b[0m          \n",
              "      \u001b[32mproprietary methods with novel techniques and established academic research,T\\u00fclu 3 pushes the boundaries\u001b[0m\n",
              "      \u001b[32mof research in post-training. The advancements ofT\\u00fclu 3 are attributed toT\\u00fclu 3 Data, new \u001b[0m         \n",
              "      \u001b[32mpermissively licensed training datasets targeting core skills,T\\u00fclu 3 Eval, an evaluation suite and tools\u001b[0m\n",
              "      \u001b[32mto establish clear performance goals and guide improvement through training stages, andT\\u00fclu 3 Recipe, an\u001b[0m\n",
              "      \u001b[32madvanced multi-stage training pipeline incorporating new algorithmic advancements in reinforcement learning, \u001b[0m\n",
              "      \u001b[32mcutting-edge infrastructure, and rigorous experimentation to optimize data mixes, methods, and parameters \u001b[0m   \n",
              "      \u001b[32macross various training stages. In order to buildT\\u00fclu 3, we identify a set of core skills to improve \u001b[0m   \n",
              "      \u001b[32mafter training \u001b[0m\u001b[32m(\u001b[0m\u001b[32me.g., reasoning, math, coding, safety, precise instruction following, knowledge recall, etc.\u001b[0m\u001b[32m)\u001b[0m\n",
              "      \u001b[32mand build an evaluation framework to establish clear performance goals and guide model improvement over a \u001b[0m   \n",
              "      \u001b[32mselection of development and unseen tasks. T\\u00fclu 3 benefits significantly from leveraging publicly \u001b[0m      \n",
              "      \u001b[32mavailable open data, generating diverse, skill-specific synthetic data at various training stages, and \u001b[0m      \n",
              "      \u001b[32maggressively decontaminating them against our evaluation suite. The T\\u00fclu 3 training recipe involves \u001b[0m    \n",
              "      \u001b[32mmultiple stages, with each stage building upon the previous model and focusing on different types of data \u001b[0m   \n",
              "      \u001b[32m\\u2014 namely,prompt-completioninstances for supervised finetuning,preferences for preference tuning, \u001b[0m       \n",
              "      \u001b[32morverifiable rewardsfor reinforcement learning. Our methodology facilitates identifying skill deficiencies \u001b[0m  \n",
              "      \u001b[32mand refining the data mix, methods and parameters, ensuring a balanced performance of core skills across the \u001b[0m\n",
              "      \u001b[32mtraining process. Through rigorous, principled experimentation, we determine the best data mix for supervised\u001b[0m\n",
              "      \u001b[32mfinetuning, resulting in theT\\u00fclu 3 SFT checkpoint. Leveraging recent advances in preference tuning, we \u001b[0m \n",
              "      \u001b[32mthen train a model over carefully curatedon-policy preference data from comparing T\\u00fclu 3 SFT completions\u001b[0m\n",
              "      \u001b[32magainst outputs from other language models. Furthermore, we introduce a new final finetuning stage \\u2013 \u001b[0m   \n",
              "      \u001b[32mReinforcement Learning with Verifiable Rewards \u001b[0m\u001b[32m(\u001b[0m\u001b[32mRLVR\u001b[0m\u001b[32m)\u001b[0m\u001b[32m - which employs a novel 1A t\\u00fclu is a hybrid camel \u001b[0m\n",
              "      \u001b[32mbred between Bactrian camel and dromedary:https://en.wikipedia.org/wiki/Hybrid_camel. 5\"\u001b[0m,                    \n",
              "          \u001b[32m\"meta_data\"\u001b[0m: \u001b[1m{\u001b[0m                                                                                           \n",
              "            \u001b[32m\"page\"\u001b[0m: \u001b[1;36m5\u001b[0m,                                                                                             \n",
              "            \u001b[32m\"chunk_size\"\u001b[0m: \u001b[1;36m3849\u001b[0m,                                                                                    \n",
              "            \u001b[32m\"chunk\"\u001b[0m: \u001b[1;36m1\u001b[0m,                                                                                            \n",
              "            \u001b[32m\"distances\"\u001b[0m: \u001b[1;36m0.42225176095962524\u001b[0m                                                                       \n",
              "          \u001b[1m}\u001b[0m                                                                                                        \n",
              "        \u001b[1m}\u001b[0m,                                                                                                         \n",
              "        \u001b[1m{\u001b[0m                                                                                                          \n",
              "          \u001b[32m\"content\"\u001b[0m: \u001b[32m\"2.4 Evaluation and Results When reporting scores throughout this work, we use the metrics \u001b[0m   \n",
              "      \u001b[32midentified in Table 3; higher is better. When computing overall performance, we simply average scores across \u001b[0m\n",
              "      \u001b[32mall evaluations, treating each evaluation equally. For generative evaluations our output length is 4096. \u001b[0m    \n",
              "      \u001b[32mT\\u00fclu 3 trained on Llama 3 base models outperforms all other open-weight models in its size category on \u001b[0m \n",
              "      \u001b[32mour development evaluation suite. Compared to closed models,T\\u00fclu 3 70B even surpasses closed models such\u001b[0m\n",
              "      \u001b[32mas GPT-3.5-Turbo-0125 or GPT-4o-mini-2024-07-18, while approaching the performance of Claude 3.5 Haiku \u001b[0m      \n",
              "      \u001b[32m20241022. The summary ofT\\u00fclu 3 trained on Llama 3 at 8 and 70 billion parameters versus the leading \u001b[0m    \n",
              "      \u001b[32mmodels in their size classes is shown in Table 2. A per training stage breakdown of performance is shown for \u001b[0m\n",
              "      \u001b[32mthe 8B version in Table 6 and for 70B in Table 5. With our models trained from raw pretrained base models, we\u001b[0m\n",
              "      \u001b[32mcompare to instruct models trained on the same base models \u001b[0m\u001b[32m(\u001b[0m\u001b[32me.g. Nous Hermes 3\u001b[0m\u001b[32m)\u001b[0m\u001b[32m, instruct models on similar \u001b[0m \n",
              "      \u001b[32msized, but different base versions \u001b[0m\u001b[32m(\u001b[0m\u001b[32me.g. Ministral 8B or Qwen 2.5 Instruct\u001b[0m\u001b[32m)\u001b[0m\u001b[32m, and other finetuning recipes \u001b[0m   \n",
              "      \u001b[32mtrained on an instruct version \u001b[0m\u001b[32m(\u001b[0m\u001b[32me.g. Nemotron Llama 3.1\u001b[0m\u001b[32m)\u001b[0m\u001b[32m. At 70B, we compare to and surpass Llama 3.1 70B \u001b[0m   \n",
              "      \u001b[32mInstruct, Qwen 2.5 72B Instruct \u001b[0m\u001b[32m(\u001b[0m\u001b[32mQwen Team, 2024\u001b[0m\u001b[32m)\u001b[0m\u001b[32m, Nous Hermes 3 70B \u001b[0m\u001b[32m(\u001b[0m\u001b[32mTeknium et al., 2024\u001b[0m\u001b[32m)\u001b[0m\u001b[32m \u001b[0m\u001b[32m(\u001b[0m\u001b[32mtrained on Llama\u001b[0m\n",
              "      \u001b[32m3.1 70B\u001b[0m\u001b[32m)\u001b[0m\u001b[32m, and Nemotron Llama 3.1 70B \u001b[0m\u001b[32m(\u001b[0m\u001b[32mWang et al., 2024c\u001b[0m\u001b[32m)\u001b[0m\u001b[32m \u001b[0m\u001b[32m(\u001b[0m\u001b[32mtrained on Llama 3.1 70B Instruct\u001b[0m\u001b[32m)\u001b[0m\u001b[32m. At 8B, we \u001b[0m    \n",
              "      \u001b[32mcompare to and surpass Llama 3.1 8B Instruct, Gemma 2 9B Instruct \u001b[0m\u001b[32m(\u001b[0m\u001b[32mGemma Team et al., 2024\u001b[0m\u001b[32m)\u001b[0m\u001b[32m, Nous Hermes 3 8B\u001b[0m\n",
              "      \u001b[32m(\u001b[0m\u001b[32mtrained on Llama 3.1 8B\u001b[0m\u001b[32m)\u001b[0m\u001b[32m, Qwen 2 7B Instruct, and Ministral 8B Instruct 2410. Artifacts Released.We release \u001b[0m\n",
              "      \u001b[32mall artifacts associated with theT\\u00fclu 3 training recipe \\u2013 including SFT, DPO, and RL model \u001b[0m        \n",
              "      \u001b[32mcheckpoints, along with new SFT and DPO datasets. A summary of the artifacts released with T\\u00fclu 3 is \u001b[0m   \n",
              "      \u001b[32mincluded in Table 1. 3 T\\u00fclu 3 Data Prompts represent the diverse ways users may interact with models and\u001b[0m\n",
              "      \u001b[32mserve as the essential component for all post-training stages. We curate an extensive collection of millions \u001b[0m\n",
              "      \u001b[32mof prompts as the starting point of T\\u00fclu 3 post-training recipe. Data selected for next stages of \u001b[0m      \n",
              "      \u001b[32mtraining are selected from these prompts. Table 7 summarizes the key information of these prompts. In this \u001b[0m  \n",
              "      \u001b[32msection, we describe our prompt curation process and the decontamination effort to ensure that our \u001b[0m          \n",
              "      \u001b[32mevaluations are not leaked in these prompts. In the following sections, we describe how prompts are used for \u001b[0m\n",
              "      \u001b[32msupervised finetuning \\u00a74 and preference tuning \\u00a75. 3.1 Prompt Curation To target the desired core \u001b[0m \n",
              "      \u001b[32mskills, we curate adiverse and high qualityset of prompts from publicly available datasets with \u001b[0m             \n",
              "      \u001b[32mclearprovenance and synthetically generate prompts to fill any gaps. 3.1.1 Sourcing from Public Datasets \u001b[0m    \n",
              "      \u001b[32mSince the release of ourT\\u00fclu 2, the community has witnessed a large body of work creating datasets for \u001b[0m \n",
              "      \u001b[32mpost-training, in terms of both supervised finetuning and preference tuning.T\\u00fclu 3 aims to integrate and\u001b[0m\n",
              "      \u001b[32mextend these resources to build stronger models. We start this process with a broad survey of public \u001b[0m        \n",
              "      \u001b[32mdatasets, including those annotated by dedicated workers, sourced from real users, and synthesized with \u001b[0m     \n",
              "      \u001b[32mmodels.4 We then manually review each individual dataset, and pick those with the following considerations. \u001b[0m \n",
              "      \u001b[32mDiversity. The diversity of training data is critical for eliciting models\\u2019 generalization, avoiding \u001b[0m   \n",
              "      \u001b[32mmodel forgetting, and making models robust to uncommon inputs \u001b[0m\u001b[32m(\u001b[0m\u001b[32mWang et al., 2022c; Chung et al., 2024; Zhou \u001b[0m \n",
              "      \u001b[32met al., 2024\u001b[0m\u001b[32m)\u001b[0m\u001b[32m. We pick datasets that can promote diversity, including: WildChat \u001b[0m\u001b[32m(\u001b[0m\u001b[32mZhao et al., 2024\u001b[0m\u001b[32m)\u001b[0m\u001b[32m, which is\u001b[0m\n",
              "      \u001b[32ma large source of real-user interaction with models; Open Assistant \u001b[0m\u001b[32m(\u001b[0m\u001b[32mK\\u00f6pf et al., 2024\u001b[0m\u001b[32m)\u001b[0m\u001b[32m, which is \u001b[0m      \n",
              "      \u001b[32mcreated by volunteer workers for general chatting; No Robots \u001b[0m\u001b[32m(\u001b[0m\u001b[32mRajani et al., 2023\u001b[0m\u001b[32m)\u001b[0m\u001b[32m, which is annotated by \u001b[0m   \n",
              "      \u001b[32mexpert workers for a broad range of open-ended categories; and FLAN v2 \u001b[0m\u001b[32m(\u001b[0m\u001b[32mLongpre et al., 2023\u001b[0m\u001b[32m)\u001b[0m\u001b[32m, which is a big\u001b[0m\n",
              "      \u001b[32mcompilation of classical NLP tasks. We also include a decontaminated subset of UltraFeedback \u001b[0m\u001b[32m(\u001b[0m\u001b[32mCui et al., \u001b[0m   \n",
              "      \u001b[32m2023\u001b[0m\u001b[32m)\u001b[0m\u001b[32m, which is 4The datasets we compiled and consider are available here: \u001b[0m                                  \n",
              "      \u001b[32mhttps://docs.google.com/spreadsheets/d/ 1E2ScaKWbTnlelzJzcddCzEtf7WrpF3a5ZP5ZvdsOZ4Y/edit?\u001b[0m\u001b[32musp\u001b[0m\u001b[32m=\u001b[0m\u001b[32msharing\u001b[0m\u001b[32m. 11\"\u001b[0m,  \n",
              "          \u001b[32m\"meta_data\"\u001b[0m: \u001b[1m{\u001b[0m                                                                                           \n",
              "            \u001b[32m\"chunk_size\"\u001b[0m: \u001b[1;36m4246\u001b[0m,                                                                                    \n",
              "            \u001b[32m\"chunk\"\u001b[0m: \u001b[1;36m1\u001b[0m,                                                                                            \n",
              "            \u001b[32m\"page\"\u001b[0m: \u001b[1;36m11\u001b[0m,                                                                                            \n",
              "            \u001b[32m\"distances\"\u001b[0m: \u001b[1;36m0.4311104416847229\u001b[0m                                                                        \n",
              "          \u001b[1m}\u001b[0m                                                                                                        \n",
              "        \u001b[1m}\u001b[0m,                                                                                                         \n",
              "        \u001b[1m{\u001b[0m                                                                                                          \n",
              "          \u001b[32m\"content\"\u001b[0m: \u001b[32m\"Core Skill Development Unseen Knowledge MMLU\u001b[0m\u001b[32m(\u001b[0m\u001b[32mem\u001b[0m\u001b[32m)\u001b[0m\u001b[32m MMLU-Pro\u001b[0m\u001b[32m(\u001b[0m\u001b[32mem\u001b[0m\u001b[32m)\u001b[0m\u001b[32m PopQA\u001b[0m\u001b[32m(\u001b[0m\u001b[32mEM\u001b[0m\u001b[32m)\u001b[0m\u001b[32m GPQA\u001b[0m\u001b[32m(\u001b[0m\u001b[32mem\u001b[0m\u001b[32m)\u001b[0m\u001b[32m \u001b[0m            \n",
              "      \u001b[32mTruthfulQA\u001b[0m\u001b[32m(\u001b[0m\u001b[32mMC2 em\u001b[0m\u001b[32m)\u001b[0m\u001b[32m Reasoning BigBenchHard \u001b[0m\u001b[32m(\u001b[0m\u001b[32mem\u001b[0m\u001b[32m)\u001b[0m\u001b[32m AGIEval English\u001b[0m\u001b[32m(\u001b[0m\u001b[32mem\u001b[0m\u001b[32m)\u001b[0m\u001b[32m DROP\u001b[0m\u001b[32m(\u001b[0m\u001b[32mF1\u001b[0m\u001b[32m)\u001b[0m\u001b[32m Math MATH\u001b[0m\u001b[32m(\u001b[0m\u001b[32mflex em\u001b[0m\u001b[32m)\u001b[0m\u001b[32m Deepmind \u001b[0m     \n",
              "      \u001b[32mMathematics\u001b[0m\u001b[32m(\u001b[0m\u001b[32mem\u001b[0m\u001b[32m)\u001b[0m\u001b[32m GSM8K\u001b[0m\u001b[32m(\u001b[0m\u001b[32mem\u001b[0m\u001b[32m)\u001b[0m\u001b[32m Coding HumanEval \u001b[0m\u001b[32m(\u001b[0m\u001b[32mPass@10\u001b[0m\u001b[32m)\u001b[0m\u001b[32m BigcodeBench\u001b[0m\u001b[32m(\u001b[0m\u001b[32mPass@10\u001b[0m\u001b[32m)\u001b[0m\u001b[32m HumanEval+\u001b[0m\u001b[32m(\u001b[0m\u001b[32mPass@10\u001b[0m\u001b[32m)\u001b[0m\u001b[32m Instruction \u001b[0m  \n",
              "      \u001b[32mFollowing \u001b[0m\u001b[32m(\u001b[0m\u001b[32mIF\u001b[0m\u001b[32m)\u001b[0m\u001b[32m IFEval\u001b[0m\u001b[32m(\u001b[0m\u001b[32mem\u001b[0m\u001b[32m)\u001b[0m\u001b[32m IFEval-OOD\u001b[0m\u001b[32m(\u001b[0m\u001b[32mPass@1\u001b[0m\u001b[32m)\u001b[0m\u001b[32m AlpacaEval 2\u001b[0m\u001b[32m(\u001b[0m\u001b[32mwinrate\u001b[0m\u001b[32m)\u001b[0m\u001b[32m HREF\u001b[0m\u001b[32m(\u001b[0m\u001b[32mwinrate\u001b[0m\u001b[32m)\u001b[0m\u001b[32m Safety T\\u00fclu 3 \u001b[0m         \n",
              "      \u001b[32mSafety\u001b[0m\u001b[32m(\u001b[0m\u001b[32mavg*\u001b[0m\u001b[32m)\u001b[0m\u001b[32m Table 3 T\\u00fclu 3 Evalconsists of development and unseen splits to evaluate core skills. \u001b[0m     \n",
              "      \u001b[32mWithT\\u00fclu 3 Eval, we release a unified standardized evaluation suite and a toolkit to decontaminate \u001b[0m     \n",
              "      \u001b[32mtraining data against benchmarks. The subscript shows the metric we use for evaluation.T\\u00fclu 3 Safety is \u001b[0m\n",
              "      \u001b[32ma collection of safety evaluations taking the average score across them \u001b[0m\u001b[32m(\u001b[0m\u001b[32mavg*\u001b[0m\u001b[32m)\u001b[0m\u001b[32m, see Sec. 7.2.1 for details. 2\u001b[0m\n",
              "      \u001b[32mT\\u00fclu 3 Overview Early work in language model post-training followed a standard recipe pioneered by \u001b[0m     \n",
              "      \u001b[32mmodels like Instruct- GPT\u001b[0m\u001b[32m(\u001b[0m\u001b[32mOuyangetal.,2022\u001b[0m\u001b[32m)\u001b[0m\u001b[32m, consistingofinstruction-tuning \u001b[0m                                 \n",
              "      \u001b[32mfollowedbypreferencefinetuning\u001b[0m\u001b[32m(\u001b[0m\u001b[32mPreFT\u001b[0m\u001b[32m)\u001b[0m\u001b[32m \u001b[0m\u001b[32m(\u001b[0m\u001b[32mStiennon et al., 2020; Nakano et al., 2021; Askell et al., 2021; \u001b[0m     \n",
              "      \u001b[32mOuyang et al., 2022\u001b[0m\u001b[32m)\u001b[0m\u001b[32m. Since then, the sophistication and complexity of post-training approaches have \u001b[0m        \n",
              "      \u001b[32mcontinued to increase, moving towards multiple rounds of training, human data plus synthetic data, and \u001b[0m      \n",
              "      \u001b[32mmultiple training algorithms and objectives \u001b[0m\u001b[32m(\u001b[0m\u001b[32mTouvron et al., 2023; Dubey et al., 2024; Gunter et al., 2024\u001b[0m\u001b[32m)\u001b[0m\u001b[32m. \u001b[0m\n",
              "      \u001b[32mHowever, most successful post-training models offer limited information about their training data, code, or \u001b[0m \n",
              "      \u001b[32mrecipes.2 Open post-training research, such asT\\u00fclu 2 \u001b[0m\u001b[32m(\u001b[0m\u001b[32mIvison et al., 2023\u001b[0m\u001b[32m)\u001b[0m\u001b[32m and Zephyr-\\u03b2 \u001b[0m\u001b[32m(\u001b[0m\u001b[32mTunstall \u001b[0m \n",
              "      \u001b[32met al., 2023\u001b[0m\u001b[32m)\u001b[0m\u001b[32m, show strong results in some benchmarks and on chat evaluations such as AlpacaEval or \u001b[0m         \n",
              "      \u001b[32mArena-Hard \u001b[0m\u001b[32m(\u001b[0m\u001b[32mLi et al., 2024a\u001b[0m\u001b[32m)\u001b[0m\u001b[32m, but still lag behind in core capabilities such as MATH \u001b[0m\u001b[32m(\u001b[0m\u001b[32mHendrycks et al., \u001b[0m    \n",
              "      \u001b[32m2021\u001b[0m\u001b[32m)\u001b[0m\u001b[32m, IFEval \u001b[0m\u001b[32m(\u001b[0m\u001b[32mZhou et al., 2023\u001b[0m\u001b[32m)\u001b[0m\u001b[32m and GSM8K \u001b[0m\u001b[32m(\u001b[0m\u001b[32mCobbe et al., 2021\u001b[0m\u001b[32m)\u001b[0m\u001b[32m. T\\u00fclu 3 pushes the boundaries of \u001b[0m      \n",
              "      \u001b[32mresearch in post-training andcloses the gap between open and closed finetuning recipes. With T\\u00fclu 3, we \u001b[0m\n",
              "      \u001b[32mhope touncover which paths for the open-source community will lead to success and which do not\u001b[0m\u001b[32m(\u001b[0m\u001b[32mby reporting \u001b[0m \n",
              "      \u001b[32mnegative results\u001b[0m\u001b[32m)\u001b[0m\u001b[32m. It is a complex training process that integrates partial details from proprietary methods \u001b[0m\n",
              "      \u001b[32mwith novel techniques and combines it with established academic research. The key factors in the success \u001b[0m    \n",
              "      \u001b[32mofT\\u00fclu 3 are careful data curation, rigorous experimentation and evaluation, innovative methodologies, \u001b[0m \n",
              "      \u001b[32mand improved training infrastructure. We followed systematic guidelines by scientifically evaluating this \u001b[0m   \n",
              "      \u001b[32mprocess through creating development and test sets for evaluation, and conduct careful decontamination of \u001b[0m   \n",
              "      \u001b[32mpublicly available datasets. T\\u00fclu 3 is not just an artifact, but a comprehensive suite of data and tools\u001b[0m\n",
              "      \u001b[32mdesigned to advance the frontier of open post-training. By openly sharing our data, recipe and findings, we \u001b[0m \n",
              "      \u001b[32maim to empower the community to explore new and innovative post-training approaches. We list the extensive \u001b[0m  \n",
              "      \u001b[32martifacts and tools released in Table 1. 2.1 T\\u00fclu 3 Data The T\\u00fclu 3 effort began with identifying \u001b[0m \n",
              "      \u001b[32mkey areas where open post-training recipes often fall behind and that are desirable capabilities for \u001b[0m        \n",
              "      \u001b[32mgeneralist language models. Table 3 outlines the core capabilities we aim to 2On LMSYS\\u2019s ChatBotArena, \u001b[0m \n",
              "      \u001b[32mno model in the top 50 \u001b[0m\u001b[32m(\u001b[0m\u001b[32mas of November 20th, 2024\u001b[0m\u001b[32m)\u001b[0m\u001b[32m has released its post-training data \u001b[0m\u001b[32m(\u001b[0m\u001b[32mChiang et al., 2024\u001b[0m\u001b[32m)\u001b[0m\u001b[32m.\u001b[0m\n",
              "      \u001b[32m7\"\u001b[0m,                                                                                                          \n",
              "          \u001b[32m\"meta_data\"\u001b[0m: \u001b[1m{\u001b[0m                                                                                           \n",
              "            \u001b[32m\"chunk\"\u001b[0m: \u001b[1;36m1\u001b[0m,                                                                                            \n",
              "            \u001b[32m\"chunk_size\"\u001b[0m: \u001b[1;36m3374\u001b[0m,                                                                                    \n",
              "            \u001b[32m\"page\"\u001b[0m: \u001b[1;36m7\u001b[0m,                                                                                             \n",
              "            \u001b[32m\"distances\"\u001b[0m: \u001b[1;36m0.4521517753601074\u001b[0m                                                                        \n",
              "          \u001b[1m}\u001b[0m                                                                                                        \n",
              "        \u001b[1m}\u001b[0m,                                                                                                         \n",
              "        \u001b[1m{\u001b[0m                                                                                                          \n",
              "          \u001b[32m\"content\"\u001b[0m: \u001b[32m\"T\\u00fclu 3: Pushing Frontiers in Open Language Model Post-Training \u001b[0m                         \n",
              "      \u001b[32mNathanLambert\\u26651,\\u2217 JacobMorrison\\u26651 ValentinaPyatkin\\u26651,2 ShengyiHuang\\u26651 \u001b[0m              \n",
              "      \u001b[32mHamishIvison\\u26651,2 Faeze Brahman\\u26651 Lester James V. Miranda\\u26651 Alisa Liu2 Nouha Dziri1 Xinxi Lyu1 \u001b[0m\n",
              "      \u001b[32mYuling Gu1 Saumya Malik1 Victoria Graf2 Jena D. Hwang1 Jiangjiang Yang1 Ronan Le Bras1 Oyvind Tafjord1 Chris \u001b[0m\n",
              "      \u001b[32mWilhelm1 Luca Soldaini1 Noah A. Smith1,2 Yizhong Wang1,2 Pradeep Dasigi1 Hannaneh Hajishirzi1,2 1Allen \u001b[0m      \n",
              "      \u001b[32mInstitute for AI,2University of Washington \\u2217T\\u00fclu 3 was a team effort.\\u2665marks core contributors.\u001b[0m\n",
              "      \u001b[32mSee full author contributions here. Contact tulu@allenai.org. Tulu 3 8B:Llama-3.1-Tulu-3-8B Tulu 3 \u001b[0m          \n",
              "      \u001b[32m70B:Llama-3.1-Tulu-3-70B Tulu 3 405B:Llama-3.1-Tulu-3-405B Tulu 3Data: \u001b[0m                                      \n",
              "      \u001b[32mtulu-3-datasets-673b8df14442393f7213f372 Tulu 3 Code:open-instruct T\\u00fclu 3 Eval:olmes Demo: \u001b[0m             \n",
              "      \u001b[32mplayground.allenai.org Abstract Language model post-training is applied to refine behaviors and unlock new \u001b[0m  \n",
              "      \u001b[32mskills across a wide range of language models, but open recipes for applying these techniques lag behind \u001b[0m    \n",
              "      \u001b[32mproprietary ones. The underlying training data and recipes for post-training are simultaneously the most \u001b[0m    \n",
              "      \u001b[32mimportant pieces of the puzzle and the portion with the least transparency. To bridge this gap, we \u001b[0m          \n",
              "      \u001b[32mintroduceT\\u00fclu 3, a family of fully-open state-of-the-art post-trained models, alongside its data, code, \u001b[0m\n",
              "      \u001b[32mand training recipes, serving as a comprehensive guide for modern post-training techniques.T\\u00fclu 3, which\u001b[0m\n",
              "      \u001b[32mbuilds on Llama 3.1 base models, achieves results surpassing the instruct versions of Llama 3.1, Qwen 2.5, \u001b[0m  \n",
              "      \u001b[32mMistral, and even closed models such as GPT-4o-mini and Claude 3.5-Haiku. The training algorithms for our \u001b[0m   \n",
              "      \u001b[32mmodels include supervised finetuning \u001b[0m\u001b[32m(\u001b[0m\u001b[32mSFT\u001b[0m\u001b[32m)\u001b[0m\u001b[32m, Direct Preference Optimization \u001b[0m\u001b[32m(\u001b[0m\u001b[32mDPO\u001b[0m\u001b[32m)\u001b[0m\u001b[32m, and a novel method we call \u001b[0m\n",
              "      \u001b[32mReinforcement Learning with Verifiable Rewards \u001b[0m\u001b[32m(\u001b[0m\u001b[32mRLVR\u001b[0m\u001b[32m)\u001b[0m\u001b[32m. WithT\\u00fclu 3, we build a multi-task evaluation \u001b[0m    \n",
              "      \u001b[32mscheme for post-training with development and unseen evaluations, standard benchmark implementations, and \u001b[0m   \n",
              "      \u001b[32msubstantial decontamination of existing open datasets on said benchmarks. We conclude with analysis and \u001b[0m     \n",
              "      \u001b[32mdiscussion of training methods that did not reliably improve performance. The T\\u00fclu 3 release includes \u001b[0m  \n",
              "      \u001b[32mmodel weights, a demo, and the complete recipe \\u2014 datasets for diverse core skills, a robust toolkit for \u001b[0m\n",
              "      \u001b[32mdata curation and evaluation, the training code and infrastructure, and, most importantly, a detailed report \u001b[0m\n",
              "      \u001b[32mfor reproducing and further adapting theT\\u00fclu 3 approach to more domains. 1 arXiv:2411.15124v4 \u001b[0m\u001b[32m[\u001b[0m\u001b[32mcs.CL\u001b[0m\u001b[32m]\u001b[0m\u001b[32m 13\u001b[0m\n",
              "      \u001b[32mFeb 2025\"\u001b[0m,                                                                                                   \n",
              "          \u001b[32m\"meta_data\"\u001b[0m: \u001b[1m{\u001b[0m                                                                                           \n",
              "            \u001b[32m\"page\"\u001b[0m: \u001b[1;36m1\u001b[0m,                                                                                             \n",
              "            \u001b[32m\"chunk\"\u001b[0m: \u001b[1;36m1\u001b[0m,                                                                                            \n",
              "            \u001b[32m\"chunk_size\"\u001b[0m: \u001b[1;36m2480\u001b[0m,                                                                                    \n",
              "            \u001b[32m\"distances\"\u001b[0m: \u001b[1;36m0.45271557569503784\u001b[0m                                                                       \n",
              "          \u001b[1m}\u001b[0m                                                                                                        \n",
              "        \u001b[1m}\u001b[0m,                                                                                                         \n",
              "        \u001b[1m{\u001b[0m                                                                                                          \n",
              "          \u001b[32m\"content\"\u001b[0m: \u001b[32m\"8.1 Scaling T\\u00fclu 3 Recipe to Llama 3.1 405B. . . . . . . . . . . . . . . . . . . . . . .\u001b[0m\n",
              "      \u001b[32m. . . . . . . 46 8.2 Insights from the Unfruitful. . . . . . . . . . . . . . . . . . . . . . . . . . . . . . \u001b[0m\n",
              "      \u001b[32m. . . . . . . 48 8.3 Future Work . . . . . . . . . . . . . . . . . . . . . . . . . . . . . . . . . . . . . . \u001b[0m\n",
              "      \u001b[32m. . . . . . . 49 9 Related Work 49 9.1 The Evolution of Post-training Recipes. . . . . . . . . . . . . . . . \u001b[0m\n",
              "      \u001b[32m. . . . . . . . . . . . . . 49 9.2 Training on Verifiable Rewards. . . . . . . . . . . . . . . . . . . . . . \u001b[0m\n",
              "      \u001b[32m. . . . . . . . . . . . . 50 10 Conclusion 50 A Additional Hyperparameters 60 B Additional Dataset Analyses \u001b[0m \n",
              "      \u001b[32m60 B.1 Extra Distribution Plots . . . . . . . . . . . . . . . . . . . . . . . . . . . . . . . . . . . . . . .\u001b[0m\n",
              "      \u001b[32m60 B.2 Contamination in Public Datasets. . . . . . . . . . . . . . . . . . . . . . . . . . . . . . . . . 60 \u001b[0m \n",
              "      \u001b[32mB.3 Chat Template Implementation . . . . . . . . . . . . . . . . . . . . . . . . . . . . . . . . . . 60 B.4 \u001b[0m \n",
              "      \u001b[32mRLVR IFEval overoptimization. . . . . . . . . . . . . . . . . . . . . . . . . . . . . . . . . . . . 60 C \u001b[0m    \n",
              "      \u001b[32mSupervised Finetuning Data Details 61 C.1 Prompts . . . . . . . . . . . . . . . . . . . . . . . . . . . . . .\u001b[0m\n",
              "      \u001b[32m. . . . . . . . . . . . . . . . . . 61 D Preference Tuning Data Details 61 E Additional RLVR Details 61 E.1 \u001b[0m \n",
              "      \u001b[32mTesting Generalization to Target Evaluations. . . . . . . . . . . . . . . . . . . . . . . . . . 61 E.2 RM \u001b[0m   \n",
              "      \u001b[32mTraining Hyperparameters . . . . . . . . . . . . . . . . . . . . . . . . . . . . . . . . . . . 62 F \u001b[0m         \n",
              "      \u001b[32mEvaluation Details 62 F.1 Detailed Safety Results . . . . . . . . . . . . . . . . . . . . . . . . . . . . . .\u001b[0m\n",
              "      \u001b[32m. . . . . . . . . 62 F.2 Evaluation principles . . . . . . . . . . . . . . . . . . . . . . . . . . . . . . . \u001b[0m\n",
              "      \u001b[32m. . . . . . . . . 62 F.3 IFEval Out-of-Distribution Constraints . . . . . . . . . . . . . . . . . . . . . . .\u001b[0m\n",
              "      \u001b[32m. . . . . . . 79 F.4 Subtask-level breakdown of HREF results. . . . . . . . . . . . . . . . . . . . . . . . .\u001b[0m\n",
              "      \u001b[32m. . . 81 3\"\u001b[0m,                                                                                                 \n",
              "          \u001b[32m\"meta_data\"\u001b[0m: \u001b[1m{\u001b[0m                                                                                           \n",
              "            \u001b[32m\"page\"\u001b[0m: \u001b[1;36m3\u001b[0m,                                                                                             \n",
              "            \u001b[32m\"chunk_size\"\u001b[0m: \u001b[1;36m1937\u001b[0m,                                                                                    \n",
              "            \u001b[32m\"chunk\"\u001b[0m: \u001b[1;36m1\u001b[0m,                                                                                            \n",
              "            \u001b[32m\"distances\"\u001b[0m: \u001b[1;36m0.4768977165222168\u001b[0m                                                                        \n",
              "          \u001b[1m}\u001b[0m                                                                                                        \n",
              "        \u001b[1m}\u001b[0m                                                                                                          \n",
              "      \u001b[1m]\u001b[0m                                                                                                            \n"
            ],
            "text/html": [
              "<pre style=\"white-space:pre;overflow-x:auto;line-height:normal;font-family:Menlo,'DejaVu Sans Mono',consolas,'Courier New',monospace\"><span style=\"color: #008000; text-decoration-color: #008000\">DEBUG</span> <span style=\"font-weight: bold\">[</span>                                                                                                            \n",
              "        <span style=\"font-weight: bold\">{</span>                                                                                                          \n",
              "          <span style=\"color: #008000; text-decoration-color: #008000\">\"content\"</span>: <span style=\"color: #008000; text-decoration-color: #008000\">\"Curate prompts Base Model T\\u00fclu3-SFT T\\u00fclu3-DPO T\\u00fclu3 public datasets </span>          \n",
              "      <span style=\"color: #008000; text-decoration-color: #008000\">persona-driven synthetic instructions data mixing Build evaluation suite Supervised \\ufb01netuning Direct </span>   \n",
              "      <span style=\"color: #008000; text-decoration-color: #008000\">pref. optimization on-policy data o\\ue007-policy data prompts with veri\\ufb01able rewards decontaminate </span>     \n",
              "      <span style=\"color: #008000; text-decoration-color: #008000\">knowledge reasoning math coding chat safety Identify core skills RL with veri\\ufb01able rewards development </span> \n",
              "      <span style=\"color: #008000; text-decoration-color: #008000\">evals unseen evals Figure 1An overview of theT\\u00fclu 3 recipe. This includes: data curation targeting </span>     \n",
              "      <span style=\"color: #008000; text-decoration-color: #008000\">general and target capabilities, training strategies and a standardized evaluation suite for development and </span>\n",
              "      <span style=\"color: #008000; text-decoration-color: #008000\">final evaluation stage. 1 Introduction \\u201cJust as the camel shares its burdens with others in the caravan,</span>\n",
              "      <span style=\"color: #008000; text-decoration-color: #008000\">the wise share their insights to lighten the load of ignorance.\\u201d \\u2013 Proverb generated byT\\u00fclu 3.</span>\n",
              "      <span style=\"color: #008000; text-decoration-color: #008000\">Post-training \\u2014 the collection of techniques including instruction tuning, reinforcement learning from </span> \n",
              "      <span style=\"color: #008000; text-decoration-color: #008000\">human feedback, and other types of finetuning \\u2014 has become a crucial step in building frontier language </span>\n",
              "      <span style=\"color: #008000; text-decoration-color: #008000\">models (OpenAI, 2024; Anthropic, 2024), yet developments to these techniques are frequently not accompanied </span> \n",
              "      <span style=\"color: #008000; text-decoration-color: #008000\">by open resources and recipes. Fully open source counterparts (e.g.,T\\u00fclu 2 (Ivison et al., 2023) and </span>   \n",
              "      <span style=\"color: #008000; text-decoration-color: #008000\">Zephyr-\\u03b2 (Tunstall et al., 2023)) often rely on simpler-to-implement and cheaper pipelines and have </span>    \n",
              "      <span style=\"color: #008000; text-decoration-color: #008000\">become outdated on many metrics. To close the gap between open and closed post training, we </span>                 \n",
              "      <span style=\"color: #008000; text-decoration-color: #008000\">introduceT\\u00fclu1 3, a family of open state-of- the-art post-trained models, alongside all of the data, </span>   \n",
              "      <span style=\"color: #008000; text-decoration-color: #008000\">training recipes, code, infrastructure, and evaluation framework. Integrating partial details from </span>          \n",
              "      <span style=\"color: #008000; text-decoration-color: #008000\">proprietary methods with novel techniques and established academic research,T\\u00fclu 3 pushes the boundaries</span>\n",
              "      <span style=\"color: #008000; text-decoration-color: #008000\">of research in post-training. The advancements ofT\\u00fclu 3 are attributed toT\\u00fclu 3 Data, new </span>         \n",
              "      <span style=\"color: #008000; text-decoration-color: #008000\">permissively licensed training datasets targeting core skills,T\\u00fclu 3 Eval, an evaluation suite and tools</span>\n",
              "      <span style=\"color: #008000; text-decoration-color: #008000\">to establish clear performance goals and guide improvement through training stages, andT\\u00fclu 3 Recipe, an</span>\n",
              "      <span style=\"color: #008000; text-decoration-color: #008000\">advanced multi-stage training pipeline incorporating new algorithmic advancements in reinforcement learning, </span>\n",
              "      <span style=\"color: #008000; text-decoration-color: #008000\">cutting-edge infrastructure, and rigorous experimentation to optimize data mixes, methods, and parameters </span>   \n",
              "      <span style=\"color: #008000; text-decoration-color: #008000\">across various training stages. In order to buildT\\u00fclu 3, we identify a set of core skills to improve </span>   \n",
              "      <span style=\"color: #008000; text-decoration-color: #008000\">after training (e.g., reasoning, math, coding, safety, precise instruction following, knowledge recall, etc.)</span>\n",
              "      <span style=\"color: #008000; text-decoration-color: #008000\">and build an evaluation framework to establish clear performance goals and guide model improvement over a </span>   \n",
              "      <span style=\"color: #008000; text-decoration-color: #008000\">selection of development and unseen tasks. T\\u00fclu 3 benefits significantly from leveraging publicly </span>      \n",
              "      <span style=\"color: #008000; text-decoration-color: #008000\">available open data, generating diverse, skill-specific synthetic data at various training stages, and </span>      \n",
              "      <span style=\"color: #008000; text-decoration-color: #008000\">aggressively decontaminating them against our evaluation suite. The T\\u00fclu 3 training recipe involves </span>    \n",
              "      <span style=\"color: #008000; text-decoration-color: #008000\">multiple stages, with each stage building upon the previous model and focusing on different types of data </span>   \n",
              "      <span style=\"color: #008000; text-decoration-color: #008000\">\\u2014 namely,prompt-completioninstances for supervised finetuning,preferences for preference tuning, </span>       \n",
              "      <span style=\"color: #008000; text-decoration-color: #008000\">orverifiable rewardsfor reinforcement learning. Our methodology facilitates identifying skill deficiencies </span>  \n",
              "      <span style=\"color: #008000; text-decoration-color: #008000\">and refining the data mix, methods and parameters, ensuring a balanced performance of core skills across the </span>\n",
              "      <span style=\"color: #008000; text-decoration-color: #008000\">training process. Through rigorous, principled experimentation, we determine the best data mix for supervised</span>\n",
              "      <span style=\"color: #008000; text-decoration-color: #008000\">finetuning, resulting in theT\\u00fclu 3 SFT checkpoint. Leveraging recent advances in preference tuning, we </span> \n",
              "      <span style=\"color: #008000; text-decoration-color: #008000\">then train a model over carefully curatedon-policy preference data from comparing T\\u00fclu 3 SFT completions</span>\n",
              "      <span style=\"color: #008000; text-decoration-color: #008000\">against outputs from other language models. Furthermore, we introduce a new final finetuning stage \\u2013 </span>   \n",
              "      <span style=\"color: #008000; text-decoration-color: #008000\">Reinforcement Learning with Verifiable Rewards (RLVR) - which employs a novel 1A t\\u00fclu is a hybrid camel </span>\n",
              "      <span style=\"color: #008000; text-decoration-color: #008000\">bred between Bactrian camel and dromedary:https://en.wikipedia.org/wiki/Hybrid_camel. 5\"</span>,                    \n",
              "          <span style=\"color: #008000; text-decoration-color: #008000\">\"meta_data\"</span>: <span style=\"font-weight: bold\">{</span>                                                                                           \n",
              "            <span style=\"color: #008000; text-decoration-color: #008000\">\"page\"</span>: <span style=\"color: #008080; text-decoration-color: #008080; font-weight: bold\">5</span>,                                                                                             \n",
              "            <span style=\"color: #008000; text-decoration-color: #008000\">\"chunk_size\"</span>: <span style=\"color: #008080; text-decoration-color: #008080; font-weight: bold\">3849</span>,                                                                                    \n",
              "            <span style=\"color: #008000; text-decoration-color: #008000\">\"chunk\"</span>: <span style=\"color: #008080; text-decoration-color: #008080; font-weight: bold\">1</span>,                                                                                            \n",
              "            <span style=\"color: #008000; text-decoration-color: #008000\">\"distances\"</span>: <span style=\"color: #008080; text-decoration-color: #008080; font-weight: bold\">0.42225176095962524</span>                                                                       \n",
              "          <span style=\"font-weight: bold\">}</span>                                                                                                        \n",
              "        <span style=\"font-weight: bold\">}</span>,                                                                                                         \n",
              "        <span style=\"font-weight: bold\">{</span>                                                                                                          \n",
              "          <span style=\"color: #008000; text-decoration-color: #008000\">\"content\"</span>: <span style=\"color: #008000; text-decoration-color: #008000\">\"2.4 Evaluation and Results When reporting scores throughout this work, we use the metrics </span>   \n",
              "      <span style=\"color: #008000; text-decoration-color: #008000\">identified in Table 3; higher is better. When computing overall performance, we simply average scores across </span>\n",
              "      <span style=\"color: #008000; text-decoration-color: #008000\">all evaluations, treating each evaluation equally. For generative evaluations our output length is 4096. </span>    \n",
              "      <span style=\"color: #008000; text-decoration-color: #008000\">T\\u00fclu 3 trained on Llama 3 base models outperforms all other open-weight models in its size category on </span> \n",
              "      <span style=\"color: #008000; text-decoration-color: #008000\">our development evaluation suite. Compared to closed models,T\\u00fclu 3 70B even surpasses closed models such</span>\n",
              "      <span style=\"color: #008000; text-decoration-color: #008000\">as GPT-3.5-Turbo-0125 or GPT-4o-mini-2024-07-18, while approaching the performance of Claude 3.5 Haiku </span>      \n",
              "      <span style=\"color: #008000; text-decoration-color: #008000\">20241022. The summary ofT\\u00fclu 3 trained on Llama 3 at 8 and 70 billion parameters versus the leading </span>    \n",
              "      <span style=\"color: #008000; text-decoration-color: #008000\">models in their size classes is shown in Table 2. A per training stage breakdown of performance is shown for </span>\n",
              "      <span style=\"color: #008000; text-decoration-color: #008000\">the 8B version in Table 6 and for 70B in Table 5. With our models trained from raw pretrained base models, we</span>\n",
              "      <span style=\"color: #008000; text-decoration-color: #008000\">compare to instruct models trained on the same base models (e.g. Nous Hermes 3), instruct models on similar </span> \n",
              "      <span style=\"color: #008000; text-decoration-color: #008000\">sized, but different base versions (e.g. Ministral 8B or Qwen 2.5 Instruct), and other finetuning recipes </span>   \n",
              "      <span style=\"color: #008000; text-decoration-color: #008000\">trained on an instruct version (e.g. Nemotron Llama 3.1). At 70B, we compare to and surpass Llama 3.1 70B </span>   \n",
              "      <span style=\"color: #008000; text-decoration-color: #008000\">Instruct, Qwen 2.5 72B Instruct (Qwen Team, 2024), Nous Hermes 3 70B (Teknium et al., 2024) (trained on Llama</span>\n",
              "      <span style=\"color: #008000; text-decoration-color: #008000\">3.1 70B), and Nemotron Llama 3.1 70B (Wang et al., 2024c) (trained on Llama 3.1 70B Instruct). At 8B, we </span>    \n",
              "      <span style=\"color: #008000; text-decoration-color: #008000\">compare to and surpass Llama 3.1 8B Instruct, Gemma 2 9B Instruct (Gemma Team et al., 2024), Nous Hermes 3 8B</span>\n",
              "      <span style=\"color: #008000; text-decoration-color: #008000\">(trained on Llama 3.1 8B), Qwen 2 7B Instruct, and Ministral 8B Instruct 2410. Artifacts Released.We release </span>\n",
              "      <span style=\"color: #008000; text-decoration-color: #008000\">all artifacts associated with theT\\u00fclu 3 training recipe \\u2013 including SFT, DPO, and RL model </span>        \n",
              "      <span style=\"color: #008000; text-decoration-color: #008000\">checkpoints, along with new SFT and DPO datasets. A summary of the artifacts released with T\\u00fclu 3 is </span>   \n",
              "      <span style=\"color: #008000; text-decoration-color: #008000\">included in Table 1. 3 T\\u00fclu 3 Data Prompts represent the diverse ways users may interact with models and</span>\n",
              "      <span style=\"color: #008000; text-decoration-color: #008000\">serve as the essential component for all post-training stages. We curate an extensive collection of millions </span>\n",
              "      <span style=\"color: #008000; text-decoration-color: #008000\">of prompts as the starting point of T\\u00fclu 3 post-training recipe. Data selected for next stages of </span>      \n",
              "      <span style=\"color: #008000; text-decoration-color: #008000\">training are selected from these prompts. Table 7 summarizes the key information of these prompts. In this </span>  \n",
              "      <span style=\"color: #008000; text-decoration-color: #008000\">section, we describe our prompt curation process and the decontamination effort to ensure that our </span>          \n",
              "      <span style=\"color: #008000; text-decoration-color: #008000\">evaluations are not leaked in these prompts. In the following sections, we describe how prompts are used for </span>\n",
              "      <span style=\"color: #008000; text-decoration-color: #008000\">supervised finetuning \\u00a74 and preference tuning \\u00a75. 3.1 Prompt Curation To target the desired core </span> \n",
              "      <span style=\"color: #008000; text-decoration-color: #008000\">skills, we curate adiverse and high qualityset of prompts from publicly available datasets with </span>             \n",
              "      <span style=\"color: #008000; text-decoration-color: #008000\">clearprovenance and synthetically generate prompts to fill any gaps. 3.1.1 Sourcing from Public Datasets </span>    \n",
              "      <span style=\"color: #008000; text-decoration-color: #008000\">Since the release of ourT\\u00fclu 2, the community has witnessed a large body of work creating datasets for </span> \n",
              "      <span style=\"color: #008000; text-decoration-color: #008000\">post-training, in terms of both supervised finetuning and preference tuning.T\\u00fclu 3 aims to integrate and</span>\n",
              "      <span style=\"color: #008000; text-decoration-color: #008000\">extend these resources to build stronger models. We start this process with a broad survey of public </span>        \n",
              "      <span style=\"color: #008000; text-decoration-color: #008000\">datasets, including those annotated by dedicated workers, sourced from real users, and synthesized with </span>     \n",
              "      <span style=\"color: #008000; text-decoration-color: #008000\">models.4 We then manually review each individual dataset, and pick those with the following considerations. </span> \n",
              "      <span style=\"color: #008000; text-decoration-color: #008000\">Diversity. The diversity of training data is critical for eliciting models\\u2019 generalization, avoiding </span>   \n",
              "      <span style=\"color: #008000; text-decoration-color: #008000\">model forgetting, and making models robust to uncommon inputs (Wang et al., 2022c; Chung et al., 2024; Zhou </span> \n",
              "      <span style=\"color: #008000; text-decoration-color: #008000\">et al., 2024). We pick datasets that can promote diversity, including: WildChat (Zhao et al., 2024), which is</span>\n",
              "      <span style=\"color: #008000; text-decoration-color: #008000\">a large source of real-user interaction with models; Open Assistant (K\\u00f6pf et al., 2024), which is </span>      \n",
              "      <span style=\"color: #008000; text-decoration-color: #008000\">created by volunteer workers for general chatting; No Robots (Rajani et al., 2023), which is annotated by </span>   \n",
              "      <span style=\"color: #008000; text-decoration-color: #008000\">expert workers for a broad range of open-ended categories; and FLAN v2 (Longpre et al., 2023), which is a big</span>\n",
              "      <span style=\"color: #008000; text-decoration-color: #008000\">compilation of classical NLP tasks. We also include a decontaminated subset of UltraFeedback (Cui et al., </span>   \n",
              "      <span style=\"color: #008000; text-decoration-color: #008000\">2023), which is 4The datasets we compiled and consider are available here: </span>                                  \n",
              "      <span style=\"color: #008000; text-decoration-color: #008000\">https://docs.google.com/spreadsheets/d/ 1E2ScaKWbTnlelzJzcddCzEtf7WrpF3a5ZP5ZvdsOZ4Y/edit?usp=sharing. 11\"</span>,  \n",
              "          <span style=\"color: #008000; text-decoration-color: #008000\">\"meta_data\"</span>: <span style=\"font-weight: bold\">{</span>                                                                                           \n",
              "            <span style=\"color: #008000; text-decoration-color: #008000\">\"chunk_size\"</span>: <span style=\"color: #008080; text-decoration-color: #008080; font-weight: bold\">4246</span>,                                                                                    \n",
              "            <span style=\"color: #008000; text-decoration-color: #008000\">\"chunk\"</span>: <span style=\"color: #008080; text-decoration-color: #008080; font-weight: bold\">1</span>,                                                                                            \n",
              "            <span style=\"color: #008000; text-decoration-color: #008000\">\"page\"</span>: <span style=\"color: #008080; text-decoration-color: #008080; font-weight: bold\">11</span>,                                                                                            \n",
              "            <span style=\"color: #008000; text-decoration-color: #008000\">\"distances\"</span>: <span style=\"color: #008080; text-decoration-color: #008080; font-weight: bold\">0.4311104416847229</span>                                                                        \n",
              "          <span style=\"font-weight: bold\">}</span>                                                                                                        \n",
              "        <span style=\"font-weight: bold\">}</span>,                                                                                                         \n",
              "        <span style=\"font-weight: bold\">{</span>                                                                                                          \n",
              "          <span style=\"color: #008000; text-decoration-color: #008000\">\"content\"</span>: <span style=\"color: #008000; text-decoration-color: #008000\">\"Core Skill Development Unseen Knowledge MMLU(em) MMLU-Pro(em) PopQA(EM) GPQA(em) </span>            \n",
              "      <span style=\"color: #008000; text-decoration-color: #008000\">TruthfulQA(MC2 em) Reasoning BigBenchHard (em) AGIEval English(em) DROP(F1) Math MATH(flex em) Deepmind </span>     \n",
              "      <span style=\"color: #008000; text-decoration-color: #008000\">Mathematics(em) GSM8K(em) Coding HumanEval (Pass@10) BigcodeBench(Pass@10) HumanEval+(Pass@10) Instruction </span>  \n",
              "      <span style=\"color: #008000; text-decoration-color: #008000\">Following (IF) IFEval(em) IFEval-OOD(Pass@1) AlpacaEval 2(winrate) HREF(winrate) Safety T\\u00fclu 3 </span>         \n",
              "      <span style=\"color: #008000; text-decoration-color: #008000\">Safety(avg*) Table 3 T\\u00fclu 3 Evalconsists of development and unseen splits to evaluate core skills. </span>     \n",
              "      <span style=\"color: #008000; text-decoration-color: #008000\">WithT\\u00fclu 3 Eval, we release a unified standardized evaluation suite and a toolkit to decontaminate </span>     \n",
              "      <span style=\"color: #008000; text-decoration-color: #008000\">training data against benchmarks. The subscript shows the metric we use for evaluation.T\\u00fclu 3 Safety is </span>\n",
              "      <span style=\"color: #008000; text-decoration-color: #008000\">a collection of safety evaluations taking the average score across them (avg*), see Sec. 7.2.1 for details. 2</span>\n",
              "      <span style=\"color: #008000; text-decoration-color: #008000\">T\\u00fclu 3 Overview Early work in language model post-training followed a standard recipe pioneered by </span>     \n",
              "      <span style=\"color: #008000; text-decoration-color: #008000\">models like Instruct- GPT(Ouyangetal.,2022), consistingofinstruction-tuning </span>                                 \n",
              "      <span style=\"color: #008000; text-decoration-color: #008000\">followedbypreferencefinetuning(PreFT) (Stiennon et al., 2020; Nakano et al., 2021; Askell et al., 2021; </span>     \n",
              "      <span style=\"color: #008000; text-decoration-color: #008000\">Ouyang et al., 2022). Since then, the sophistication and complexity of post-training approaches have </span>        \n",
              "      <span style=\"color: #008000; text-decoration-color: #008000\">continued to increase, moving towards multiple rounds of training, human data plus synthetic data, and </span>      \n",
              "      <span style=\"color: #008000; text-decoration-color: #008000\">multiple training algorithms and objectives (Touvron et al., 2023; Dubey et al., 2024; Gunter et al., 2024). </span>\n",
              "      <span style=\"color: #008000; text-decoration-color: #008000\">However, most successful post-training models offer limited information about their training data, code, or </span> \n",
              "      <span style=\"color: #008000; text-decoration-color: #008000\">recipes.2 Open post-training research, such asT\\u00fclu 2 (Ivison et al., 2023) and Zephyr-\\u03b2 (Tunstall </span> \n",
              "      <span style=\"color: #008000; text-decoration-color: #008000\">et al., 2023), show strong results in some benchmarks and on chat evaluations such as AlpacaEval or </span>         \n",
              "      <span style=\"color: #008000; text-decoration-color: #008000\">Arena-Hard (Li et al., 2024a), but still lag behind in core capabilities such as MATH (Hendrycks et al., </span>    \n",
              "      <span style=\"color: #008000; text-decoration-color: #008000\">2021), IFEval (Zhou et al., 2023) and GSM8K (Cobbe et al., 2021). T\\u00fclu 3 pushes the boundaries of </span>      \n",
              "      <span style=\"color: #008000; text-decoration-color: #008000\">research in post-training andcloses the gap between open and closed finetuning recipes. With T\\u00fclu 3, we </span>\n",
              "      <span style=\"color: #008000; text-decoration-color: #008000\">hope touncover which paths for the open-source community will lead to success and which do not(by reporting </span> \n",
              "      <span style=\"color: #008000; text-decoration-color: #008000\">negative results). It is a complex training process that integrates partial details from proprietary methods </span>\n",
              "      <span style=\"color: #008000; text-decoration-color: #008000\">with novel techniques and combines it with established academic research. The key factors in the success </span>    \n",
              "      <span style=\"color: #008000; text-decoration-color: #008000\">ofT\\u00fclu 3 are careful data curation, rigorous experimentation and evaluation, innovative methodologies, </span> \n",
              "      <span style=\"color: #008000; text-decoration-color: #008000\">and improved training infrastructure. We followed systematic guidelines by scientifically evaluating this </span>   \n",
              "      <span style=\"color: #008000; text-decoration-color: #008000\">process through creating development and test sets for evaluation, and conduct careful decontamination of </span>   \n",
              "      <span style=\"color: #008000; text-decoration-color: #008000\">publicly available datasets. T\\u00fclu 3 is not just an artifact, but a comprehensive suite of data and tools</span>\n",
              "      <span style=\"color: #008000; text-decoration-color: #008000\">designed to advance the frontier of open post-training. By openly sharing our data, recipe and findings, we </span> \n",
              "      <span style=\"color: #008000; text-decoration-color: #008000\">aim to empower the community to explore new and innovative post-training approaches. We list the extensive </span>  \n",
              "      <span style=\"color: #008000; text-decoration-color: #008000\">artifacts and tools released in Table 1. 2.1 T\\u00fclu 3 Data The T\\u00fclu 3 effort began with identifying </span> \n",
              "      <span style=\"color: #008000; text-decoration-color: #008000\">key areas where open post-training recipes often fall behind and that are desirable capabilities for </span>        \n",
              "      <span style=\"color: #008000; text-decoration-color: #008000\">generalist language models. Table 3 outlines the core capabilities we aim to 2On LMSYS\\u2019s ChatBotArena, </span> \n",
              "      <span style=\"color: #008000; text-decoration-color: #008000\">no model in the top 50 (as of November 20th, 2024) has released its post-training data (Chiang et al., 2024).</span>\n",
              "      <span style=\"color: #008000; text-decoration-color: #008000\">7\"</span>,                                                                                                          \n",
              "          <span style=\"color: #008000; text-decoration-color: #008000\">\"meta_data\"</span>: <span style=\"font-weight: bold\">{</span>                                                                                           \n",
              "            <span style=\"color: #008000; text-decoration-color: #008000\">\"chunk\"</span>: <span style=\"color: #008080; text-decoration-color: #008080; font-weight: bold\">1</span>,                                                                                            \n",
              "            <span style=\"color: #008000; text-decoration-color: #008000\">\"chunk_size\"</span>: <span style=\"color: #008080; text-decoration-color: #008080; font-weight: bold\">3374</span>,                                                                                    \n",
              "            <span style=\"color: #008000; text-decoration-color: #008000\">\"page\"</span>: <span style=\"color: #008080; text-decoration-color: #008080; font-weight: bold\">7</span>,                                                                                             \n",
              "            <span style=\"color: #008000; text-decoration-color: #008000\">\"distances\"</span>: <span style=\"color: #008080; text-decoration-color: #008080; font-weight: bold\">0.4521517753601074</span>                                                                        \n",
              "          <span style=\"font-weight: bold\">}</span>                                                                                                        \n",
              "        <span style=\"font-weight: bold\">}</span>,                                                                                                         \n",
              "        <span style=\"font-weight: bold\">{</span>                                                                                                          \n",
              "          <span style=\"color: #008000; text-decoration-color: #008000\">\"content\"</span>: <span style=\"color: #008000; text-decoration-color: #008000\">\"T\\u00fclu 3: Pushing Frontiers in Open Language Model Post-Training </span>                         \n",
              "      <span style=\"color: #008000; text-decoration-color: #008000\">NathanLambert\\u26651,\\u2217 JacobMorrison\\u26651 ValentinaPyatkin\\u26651,2 ShengyiHuang\\u26651 </span>              \n",
              "      <span style=\"color: #008000; text-decoration-color: #008000\">HamishIvison\\u26651,2 Faeze Brahman\\u26651 Lester James V. Miranda\\u26651 Alisa Liu2 Nouha Dziri1 Xinxi Lyu1 </span>\n",
              "      <span style=\"color: #008000; text-decoration-color: #008000\">Yuling Gu1 Saumya Malik1 Victoria Graf2 Jena D. Hwang1 Jiangjiang Yang1 Ronan Le Bras1 Oyvind Tafjord1 Chris </span>\n",
              "      <span style=\"color: #008000; text-decoration-color: #008000\">Wilhelm1 Luca Soldaini1 Noah A. Smith1,2 Yizhong Wang1,2 Pradeep Dasigi1 Hannaneh Hajishirzi1,2 1Allen </span>      \n",
              "      <span style=\"color: #008000; text-decoration-color: #008000\">Institute for AI,2University of Washington \\u2217T\\u00fclu 3 was a team effort.\\u2665marks core contributors.</span>\n",
              "      <span style=\"color: #008000; text-decoration-color: #008000\">See full author contributions here. Contact tulu@allenai.org. Tulu 3 8B:Llama-3.1-Tulu-3-8B Tulu 3 </span>          \n",
              "      <span style=\"color: #008000; text-decoration-color: #008000\">70B:Llama-3.1-Tulu-3-70B Tulu 3 405B:Llama-3.1-Tulu-3-405B Tulu 3Data: </span>                                      \n",
              "      <span style=\"color: #008000; text-decoration-color: #008000\">tulu-3-datasets-673b8df14442393f7213f372 Tulu 3 Code:open-instruct T\\u00fclu 3 Eval:olmes Demo: </span>             \n",
              "      <span style=\"color: #008000; text-decoration-color: #008000\">playground.allenai.org Abstract Language model post-training is applied to refine behaviors and unlock new </span>  \n",
              "      <span style=\"color: #008000; text-decoration-color: #008000\">skills across a wide range of language models, but open recipes for applying these techniques lag behind </span>    \n",
              "      <span style=\"color: #008000; text-decoration-color: #008000\">proprietary ones. The underlying training data and recipes for post-training are simultaneously the most </span>    \n",
              "      <span style=\"color: #008000; text-decoration-color: #008000\">important pieces of the puzzle and the portion with the least transparency. To bridge this gap, we </span>          \n",
              "      <span style=\"color: #008000; text-decoration-color: #008000\">introduceT\\u00fclu 3, a family of fully-open state-of-the-art post-trained models, alongside its data, code, </span>\n",
              "      <span style=\"color: #008000; text-decoration-color: #008000\">and training recipes, serving as a comprehensive guide for modern post-training techniques.T\\u00fclu 3, which</span>\n",
              "      <span style=\"color: #008000; text-decoration-color: #008000\">builds on Llama 3.1 base models, achieves results surpassing the instruct versions of Llama 3.1, Qwen 2.5, </span>  \n",
              "      <span style=\"color: #008000; text-decoration-color: #008000\">Mistral, and even closed models such as GPT-4o-mini and Claude 3.5-Haiku. The training algorithms for our </span>   \n",
              "      <span style=\"color: #008000; text-decoration-color: #008000\">models include supervised finetuning (SFT), Direct Preference Optimization (DPO), and a novel method we call </span>\n",
              "      <span style=\"color: #008000; text-decoration-color: #008000\">Reinforcement Learning with Verifiable Rewards (RLVR). WithT\\u00fclu 3, we build a multi-task evaluation </span>    \n",
              "      <span style=\"color: #008000; text-decoration-color: #008000\">scheme for post-training with development and unseen evaluations, standard benchmark implementations, and </span>   \n",
              "      <span style=\"color: #008000; text-decoration-color: #008000\">substantial decontamination of existing open datasets on said benchmarks. We conclude with analysis and </span>     \n",
              "      <span style=\"color: #008000; text-decoration-color: #008000\">discussion of training methods that did not reliably improve performance. The T\\u00fclu 3 release includes </span>  \n",
              "      <span style=\"color: #008000; text-decoration-color: #008000\">model weights, a demo, and the complete recipe \\u2014 datasets for diverse core skills, a robust toolkit for </span>\n",
              "      <span style=\"color: #008000; text-decoration-color: #008000\">data curation and evaluation, the training code and infrastructure, and, most importantly, a detailed report </span>\n",
              "      <span style=\"color: #008000; text-decoration-color: #008000\">for reproducing and further adapting theT\\u00fclu 3 approach to more domains. 1 arXiv:2411.15124v4 [cs.CL] 13</span>\n",
              "      <span style=\"color: #008000; text-decoration-color: #008000\">Feb 2025\"</span>,                                                                                                   \n",
              "          <span style=\"color: #008000; text-decoration-color: #008000\">\"meta_data\"</span>: <span style=\"font-weight: bold\">{</span>                                                                                           \n",
              "            <span style=\"color: #008000; text-decoration-color: #008000\">\"page\"</span>: <span style=\"color: #008080; text-decoration-color: #008080; font-weight: bold\">1</span>,                                                                                             \n",
              "            <span style=\"color: #008000; text-decoration-color: #008000\">\"chunk\"</span>: <span style=\"color: #008080; text-decoration-color: #008080; font-weight: bold\">1</span>,                                                                                            \n",
              "            <span style=\"color: #008000; text-decoration-color: #008000\">\"chunk_size\"</span>: <span style=\"color: #008080; text-decoration-color: #008080; font-weight: bold\">2480</span>,                                                                                    \n",
              "            <span style=\"color: #008000; text-decoration-color: #008000\">\"distances\"</span>: <span style=\"color: #008080; text-decoration-color: #008080; font-weight: bold\">0.45271557569503784</span>                                                                       \n",
              "          <span style=\"font-weight: bold\">}</span>                                                                                                        \n",
              "        <span style=\"font-weight: bold\">}</span>,                                                                                                         \n",
              "        <span style=\"font-weight: bold\">{</span>                                                                                                          \n",
              "          <span style=\"color: #008000; text-decoration-color: #008000\">\"content\"</span>: <span style=\"color: #008000; text-decoration-color: #008000\">\"8.1 Scaling T\\u00fclu 3 Recipe to Llama 3.1 405B. . . . . . . . . . . . . . . . . . . . . . .</span>\n",
              "      <span style=\"color: #008000; text-decoration-color: #008000\">. . . . . . . 46 8.2 Insights from the Unfruitful. . . . . . . . . . . . . . . . . . . . . . . . . . . . . . </span>\n",
              "      <span style=\"color: #008000; text-decoration-color: #008000\">. . . . . . . 48 8.3 Future Work . . . . . . . . . . . . . . . . . . . . . . . . . . . . . . . . . . . . . . </span>\n",
              "      <span style=\"color: #008000; text-decoration-color: #008000\">. . . . . . . 49 9 Related Work 49 9.1 The Evolution of Post-training Recipes. . . . . . . . . . . . . . . . </span>\n",
              "      <span style=\"color: #008000; text-decoration-color: #008000\">. . . . . . . . . . . . . . 49 9.2 Training on Verifiable Rewards. . . . . . . . . . . . . . . . . . . . . . </span>\n",
              "      <span style=\"color: #008000; text-decoration-color: #008000\">. . . . . . . . . . . . . 50 10 Conclusion 50 A Additional Hyperparameters 60 B Additional Dataset Analyses </span> \n",
              "      <span style=\"color: #008000; text-decoration-color: #008000\">60 B.1 Extra Distribution Plots . . . . . . . . . . . . . . . . . . . . . . . . . . . . . . . . . . . . . . .</span>\n",
              "      <span style=\"color: #008000; text-decoration-color: #008000\">60 B.2 Contamination in Public Datasets. . . . . . . . . . . . . . . . . . . . . . . . . . . . . . . . . 60 </span> \n",
              "      <span style=\"color: #008000; text-decoration-color: #008000\">B.3 Chat Template Implementation . . . . . . . . . . . . . . . . . . . . . . . . . . . . . . . . . . 60 B.4 </span> \n",
              "      <span style=\"color: #008000; text-decoration-color: #008000\">RLVR IFEval overoptimization. . . . . . . . . . . . . . . . . . . . . . . . . . . . . . . . . . . . 60 C </span>    \n",
              "      <span style=\"color: #008000; text-decoration-color: #008000\">Supervised Finetuning Data Details 61 C.1 Prompts . . . . . . . . . . . . . . . . . . . . . . . . . . . . . .</span>\n",
              "      <span style=\"color: #008000; text-decoration-color: #008000\">. . . . . . . . . . . . . . . . . . 61 D Preference Tuning Data Details 61 E Additional RLVR Details 61 E.1 </span> \n",
              "      <span style=\"color: #008000; text-decoration-color: #008000\">Testing Generalization to Target Evaluations. . . . . . . . . . . . . . . . . . . . . . . . . . 61 E.2 RM </span>   \n",
              "      <span style=\"color: #008000; text-decoration-color: #008000\">Training Hyperparameters . . . . . . . . . . . . . . . . . . . . . . . . . . . . . . . . . . . 62 F </span>         \n",
              "      <span style=\"color: #008000; text-decoration-color: #008000\">Evaluation Details 62 F.1 Detailed Safety Results . . . . . . . . . . . . . . . . . . . . . . . . . . . . . .</span>\n",
              "      <span style=\"color: #008000; text-decoration-color: #008000\">. . . . . . . . . 62 F.2 Evaluation principles . . . . . . . . . . . . . . . . . . . . . . . . . . . . . . . </span>\n",
              "      <span style=\"color: #008000; text-decoration-color: #008000\">. . . . . . . . . 62 F.3 IFEval Out-of-Distribution Constraints . . . . . . . . . . . . . . . . . . . . . . .</span>\n",
              "      <span style=\"color: #008000; text-decoration-color: #008000\">. . . . . . . 79 F.4 Subtask-level breakdown of HREF results. . . . . . . . . . . . . . . . . . . . . . . . .</span>\n",
              "      <span style=\"color: #008000; text-decoration-color: #008000\">. . . 81 3\"</span>,                                                                                                 \n",
              "          <span style=\"color: #008000; text-decoration-color: #008000\">\"meta_data\"</span>: <span style=\"font-weight: bold\">{</span>                                                                                           \n",
              "            <span style=\"color: #008000; text-decoration-color: #008000\">\"page\"</span>: <span style=\"color: #008080; text-decoration-color: #008080; font-weight: bold\">3</span>,                                                                                             \n",
              "            <span style=\"color: #008000; text-decoration-color: #008000\">\"chunk_size\"</span>: <span style=\"color: #008080; text-decoration-color: #008080; font-weight: bold\">1937</span>,                                                                                    \n",
              "            <span style=\"color: #008000; text-decoration-color: #008000\">\"chunk\"</span>: <span style=\"color: #008080; text-decoration-color: #008080; font-weight: bold\">1</span>,                                                                                            \n",
              "            <span style=\"color: #008000; text-decoration-color: #008000\">\"distances\"</span>: <span style=\"color: #008080; text-decoration-color: #008080; font-weight: bold\">0.4768977165222168</span>                                                                        \n",
              "          <span style=\"font-weight: bold\">}</span>                                                                                                        \n",
              "        <span style=\"font-weight: bold\">}</span>                                                                                                          \n",
              "      <span style=\"font-weight: bold\">]</span>                                                                                                            \n",
              "</pre>\n"
            ]
          },
          "metadata": {}
        },
        {
          "output_type": "display_data",
          "data": {
            "text/plain": [
              "\u001b[32mDEBUG\u001b[0m **********************  TOOL METRICS  **********************                                                 \n"
            ],
            "text/html": [
              "<pre style=\"white-space:pre;overflow-x:auto;line-height:normal;font-family:Menlo,'DejaVu Sans Mono',consolas,'Courier New',monospace\"><span style=\"color: #008000; text-decoration-color: #008000\">DEBUG</span> **********************  TOOL METRICS  **********************                                                 \n",
              "</pre>\n"
            ]
          },
          "metadata": {}
        },
        {
          "output_type": "display_data",
          "data": {
            "text/plain": [
              "\u001b[32mDEBUG\u001b[0m * Time:                        \u001b[1;36m1.\u001b[0m4611s                                                                       \n"
            ],
            "text/html": [
              "<pre style=\"white-space:pre;overflow-x:auto;line-height:normal;font-family:Menlo,'DejaVu Sans Mono',consolas,'Courier New',monospace\"><span style=\"color: #008000; text-decoration-color: #008000\">DEBUG</span> * Time:                        <span style=\"color: #008080; text-decoration-color: #008080; font-weight: bold\">1.</span>4611s                                                                       \n",
              "</pre>\n"
            ]
          },
          "metadata": {}
        },
        {
          "output_type": "display_data",
          "data": {
            "text/plain": [
              "\u001b[32mDEBUG\u001b[0m **********************  TOOL METRICS  **********************                                                 \n"
            ],
            "text/html": [
              "<pre style=\"white-space:pre;overflow-x:auto;line-height:normal;font-family:Menlo,'DejaVu Sans Mono',consolas,'Courier New',monospace\"><span style=\"color: #008000; text-decoration-color: #008000\">DEBUG</span> **********************  TOOL METRICS  **********************                                                 \n",
              "</pre>\n"
            ]
          },
          "metadata": {}
        },
        {
          "output_type": "display_data",
          "data": {
            "text/plain": [
              "\u001b[32mDEBUG\u001b[0m ======================== assistant =========================                                                 \n"
            ],
            "text/html": [
              "<pre style=\"white-space:pre;overflow-x:auto;line-height:normal;font-family:Menlo,'DejaVu Sans Mono',consolas,'Courier New',monospace\"><span style=\"color: #008000; text-decoration-color: #008000\">DEBUG</span> ======================== assistant =========================                                                 \n",
              "</pre>\n"
            ]
          },
          "metadata": {}
        },
        {
          "output_type": "display_data",
          "data": {
            "text/plain": [
              "\u001b[32mDEBUG\u001b[0m Tool Calls:                                                                                                  \n",
              "        - ID: \u001b[32m'call_2z1g'\u001b[0m                                                                                          \n",
              "          Name: \u001b[32m'text_to_speech'\u001b[0m                                                                                   \n",
              "          Arguments: \u001b[32m'prompt: TULU was trained and evaluated using a combination of supervised finetuning, direct \u001b[0m \n",
              "      \u001b[32mpreference optimization, and reinforcement learning with verifiable rewards. The training process involved \u001b[0m  \n",
              "      \u001b[32mcurating a diverse set of prompts, decontaminating them against evaluations, and using a multi-task \u001b[0m         \n",
              "      \u001b[32mevaluation scheme. The model was trained on Llama 3.1 base models and achieved results surpassing instruct \u001b[0m  \n",
              "      \u001b[32mversions of Llama 3.1, Qwen 2.5, Mistral, and even closed models such as GPT-4o-mini and Claude 3.5-Haiku.'\u001b[0m  \n"
            ],
            "text/html": [
              "<pre style=\"white-space:pre;overflow-x:auto;line-height:normal;font-family:Menlo,'DejaVu Sans Mono',consolas,'Courier New',monospace\"><span style=\"color: #008000; text-decoration-color: #008000\">DEBUG</span> Tool Calls:                                                                                                  \n",
              "        - ID: <span style=\"color: #008000; text-decoration-color: #008000\">'call_2z1g'</span>                                                                                          \n",
              "          Name: <span style=\"color: #008000; text-decoration-color: #008000\">'text_to_speech'</span>                                                                                   \n",
              "          Arguments: <span style=\"color: #008000; text-decoration-color: #008000\">'prompt: TULU was trained and evaluated using a combination of supervised finetuning, direct </span> \n",
              "      <span style=\"color: #008000; text-decoration-color: #008000\">preference optimization, and reinforcement learning with verifiable rewards. The training process involved </span>  \n",
              "      <span style=\"color: #008000; text-decoration-color: #008000\">curating a diverse set of prompts, decontaminating them against evaluations, and using a multi-task </span>         \n",
              "      <span style=\"color: #008000; text-decoration-color: #008000\">evaluation scheme. The model was trained on Llama 3.1 base models and achieved results surpassing instruct </span>  \n",
              "      <span style=\"color: #008000; text-decoration-color: #008000\">versions of Llama 3.1, Qwen 2.5, Mistral, and even closed models such as GPT-4o-mini and Claude 3.5-Haiku.'</span>  \n",
              "</pre>\n"
            ]
          },
          "metadata": {}
        },
        {
          "output_type": "display_data",
          "data": {
            "text/plain": [
              "\u001b[32mDEBUG\u001b[0m ************************  METRICS  *************************                                                 \n"
            ],
            "text/html": [
              "<pre style=\"white-space:pre;overflow-x:auto;line-height:normal;font-family:Menlo,'DejaVu Sans Mono',consolas,'Courier New',monospace\"><span style=\"color: #008000; text-decoration-color: #008000\">DEBUG</span> ************************  METRICS  *************************                                                 \n",
              "</pre>\n"
            ]
          },
          "metadata": {}
        },
        {
          "output_type": "display_data",
          "data": {
            "text/plain": [
              "\u001b[32mDEBUG\u001b[0m * Tokens:                      \u001b[33minput\u001b[0m=\u001b[1;36m5387\u001b[0m, \u001b[33moutput\u001b[0m=\u001b[1;36m130\u001b[0m, \u001b[33mtotal\u001b[0m=\u001b[1;36m5517\u001b[0m                                            \n"
            ],
            "text/html": [
              "<pre style=\"white-space:pre;overflow-x:auto;line-height:normal;font-family:Menlo,'DejaVu Sans Mono',consolas,'Courier New',monospace\"><span style=\"color: #008000; text-decoration-color: #008000\">DEBUG</span> * Tokens:                      <span style=\"color: #808000; text-decoration-color: #808000\">input</span>=<span style=\"color: #008080; text-decoration-color: #008080; font-weight: bold\">5387</span>, <span style=\"color: #808000; text-decoration-color: #808000\">output</span>=<span style=\"color: #008080; text-decoration-color: #008080; font-weight: bold\">130</span>, <span style=\"color: #808000; text-decoration-color: #808000\">total</span>=<span style=\"color: #008080; text-decoration-color: #008080; font-weight: bold\">5517</span>                                            \n",
              "</pre>\n"
            ]
          },
          "metadata": {}
        },
        {
          "output_type": "display_data",
          "data": {
            "text/plain": [
              "\u001b[32mDEBUG\u001b[0m * Time:                        \u001b[1;36m1.\u001b[0m3633s                                                                       \n"
            ],
            "text/html": [
              "<pre style=\"white-space:pre;overflow-x:auto;line-height:normal;font-family:Menlo,'DejaVu Sans Mono',consolas,'Courier New',monospace\"><span style=\"color: #008000; text-decoration-color: #008000\">DEBUG</span> * Time:                        <span style=\"color: #008080; text-decoration-color: #008080; font-weight: bold\">1.</span>3633s                                                                       \n",
              "</pre>\n"
            ]
          },
          "metadata": {}
        },
        {
          "output_type": "display_data",
          "data": {
            "text/plain": [
              "\u001b[32mDEBUG\u001b[0m * Tokens per second:           \u001b[1;36m95.3598\u001b[0m tokens/s                                                              \n"
            ],
            "text/html": [
              "<pre style=\"white-space:pre;overflow-x:auto;line-height:normal;font-family:Menlo,'DejaVu Sans Mono',consolas,'Courier New',monospace\"><span style=\"color: #008000; text-decoration-color: #008000\">DEBUG</span> * Tokens per second:           <span style=\"color: #008080; text-decoration-color: #008080; font-weight: bold\">95.3598</span> tokens/s                                                              \n",
              "</pre>\n"
            ]
          },
          "metadata": {}
        },
        {
          "output_type": "display_data",
          "data": {
            "text/plain": [
              "\u001b[32mDEBUG\u001b[0m * Additional metrics:          \u001b[1m{\u001b[0m\u001b[32m'completion_time'\u001b[0m: \u001b[1;36m0.472727273\u001b[0m, \u001b[32m'prompt_time'\u001b[0m: \u001b[1;36m0.383917582\u001b[0m, \u001b[32m'queue_time'\u001b[0m:    \n",
              "      \u001b[1;36m0.427220561\u001b[0m, \u001b[32m'total_time'\u001b[0m: \u001b[1;36m0.856644855\u001b[0m\u001b[1m}\u001b[0m                                                                      \n"
            ],
            "text/html": [
              "<pre style=\"white-space:pre;overflow-x:auto;line-height:normal;font-family:Menlo,'DejaVu Sans Mono',consolas,'Courier New',monospace\"><span style=\"color: #008000; text-decoration-color: #008000\">DEBUG</span> * Additional metrics:          <span style=\"font-weight: bold\">{</span><span style=\"color: #008000; text-decoration-color: #008000\">'completion_time'</span>: <span style=\"color: #008080; text-decoration-color: #008080; font-weight: bold\">0.472727273</span>, <span style=\"color: #008000; text-decoration-color: #008000\">'prompt_time'</span>: <span style=\"color: #008080; text-decoration-color: #008080; font-weight: bold\">0.383917582</span>, <span style=\"color: #008000; text-decoration-color: #008000\">'queue_time'</span>:    \n",
              "      <span style=\"color: #008080; text-decoration-color: #008080; font-weight: bold\">0.427220561</span>, <span style=\"color: #008000; text-decoration-color: #008000\">'total_time'</span>: <span style=\"color: #008080; text-decoration-color: #008080; font-weight: bold\">0.856644855</span><span style=\"font-weight: bold\">}</span>                                                                      \n",
              "</pre>\n"
            ]
          },
          "metadata": {}
        },
        {
          "output_type": "display_data",
          "data": {
            "text/plain": [
              "\u001b[32mDEBUG\u001b[0m ************************  METRICS  *************************                                                 \n"
            ],
            "text/html": [
              "<pre style=\"white-space:pre;overflow-x:auto;line-height:normal;font-family:Menlo,'DejaVu Sans Mono',consolas,'Courier New',monospace\"><span style=\"color: #008000; text-decoration-color: #008000\">DEBUG</span> ************************  METRICS  *************************                                                 \n",
              "</pre>\n"
            ]
          },
          "metadata": {}
        },
        {
          "output_type": "display_data",
          "data": {
            "text/plain": [
              "\u001b[32mDEBUG\u001b[0m Getting function text_to_speech                                                                              \n"
            ],
            "text/html": [
              "<pre style=\"white-space:pre;overflow-x:auto;line-height:normal;font-family:Menlo,'DejaVu Sans Mono',consolas,'Courier New',monospace\"><span style=\"color: #008000; text-decoration-color: #008000\">DEBUG</span> Getting function text_to_speech                                                                              \n",
              "</pre>\n"
            ]
          },
          "metadata": {}
        },
        {
          "output_type": "display_data",
          "data": {
            "text/plain": [
              "\u001b[32mDEBUG\u001b[0m Running: \u001b[1;35mtext_to_speech\u001b[0m\u001b[1m(\u001b[0m\u001b[33mprompt\u001b[0m=\u001b[33m...\u001b[0m\u001b[1m)\u001b[0m                                                                          \n"
            ],
            "text/html": [
              "<pre style=\"white-space:pre;overflow-x:auto;line-height:normal;font-family:Menlo,'DejaVu Sans Mono',consolas,'Courier New',monospace\"><span style=\"color: #008000; text-decoration-color: #008000\">DEBUG</span> Running: <span style=\"color: #800080; text-decoration-color: #800080; font-weight: bold\">text_to_speech</span><span style=\"font-weight: bold\">(</span><span style=\"color: #808000; text-decoration-color: #808000\">prompt</span>=<span style=\"color: #808000; text-decoration-color: #808000\">...</span><span style=\"font-weight: bold\">)</span>                                                                          \n",
              "</pre>\n"
            ]
          },
          "metadata": {}
        },
        {
          "output_type": "display_data",
          "data": {
            "text/plain": [
              "\u001b[32mDEBUG\u001b[0m =========================== tool ===========================                                                 \n"
            ],
            "text/html": [
              "<pre style=\"white-space:pre;overflow-x:auto;line-height:normal;font-family:Menlo,'DejaVu Sans Mono',consolas,'Courier New',monospace\"><span style=\"color: #008000; text-decoration-color: #008000\">DEBUG</span> =========================== tool ===========================                                                 \n",
              "</pre>\n"
            ]
          },
          "metadata": {}
        },
        {
          "output_type": "display_data",
          "data": {
            "text/plain": [
              "\u001b[32mDEBUG\u001b[0m Tool call Id: call_2z1g                                                                                      \n"
            ],
            "text/html": [
              "<pre style=\"white-space:pre;overflow-x:auto;line-height:normal;font-family:Menlo,'DejaVu Sans Mono',consolas,'Courier New',monospace\"><span style=\"color: #008000; text-decoration-color: #008000\">DEBUG</span> Tool call Id: call_2z1g                                                                                      \n",
              "</pre>\n"
            ]
          },
          "metadata": {}
        },
        {
          "output_type": "display_data",
          "data": {
            "text/plain": [
              "\u001b[32mDEBUG\u001b[0m Audio generated successfully                                                                                 \n"
            ],
            "text/html": [
              "<pre style=\"white-space:pre;overflow-x:auto;line-height:normal;font-family:Menlo,'DejaVu Sans Mono',consolas,'Courier New',monospace\"><span style=\"color: #008000; text-decoration-color: #008000\">DEBUG</span> Audio generated successfully                                                                                 \n",
              "</pre>\n"
            ]
          },
          "metadata": {}
        },
        {
          "output_type": "display_data",
          "data": {
            "text/plain": [
              "\u001b[32mDEBUG\u001b[0m **********************  TOOL METRICS  **********************                                                 \n"
            ],
            "text/html": [
              "<pre style=\"white-space:pre;overflow-x:auto;line-height:normal;font-family:Menlo,'DejaVu Sans Mono',consolas,'Courier New',monospace\"><span style=\"color: #008000; text-decoration-color: #008000\">DEBUG</span> **********************  TOOL METRICS  **********************                                                 \n",
              "</pre>\n"
            ]
          },
          "metadata": {}
        },
        {
          "output_type": "display_data",
          "data": {
            "text/plain": [
              "\u001b[32mDEBUG\u001b[0m * Time:                        \u001b[1;36m7.\u001b[0m7932s                                                                       \n"
            ],
            "text/html": [
              "<pre style=\"white-space:pre;overflow-x:auto;line-height:normal;font-family:Menlo,'DejaVu Sans Mono',consolas,'Courier New',monospace\"><span style=\"color: #008000; text-decoration-color: #008000\">DEBUG</span> * Time:                        <span style=\"color: #008080; text-decoration-color: #008080; font-weight: bold\">7.</span>7932s                                                                       \n",
              "</pre>\n"
            ]
          },
          "metadata": {}
        },
        {
          "output_type": "display_data",
          "data": {
            "text/plain": [
              "\u001b[32mDEBUG\u001b[0m **********************  TOOL METRICS  **********************                                                 \n"
            ],
            "text/html": [
              "<pre style=\"white-space:pre;overflow-x:auto;line-height:normal;font-family:Menlo,'DejaVu Sans Mono',consolas,'Courier New',monospace\"><span style=\"color: #008000; text-decoration-color: #008000\">DEBUG</span> **********************  TOOL METRICS  **********************                                                 \n",
              "</pre>\n"
            ]
          },
          "metadata": {}
        },
        {
          "output_type": "display_data",
          "data": {
            "text/plain": [
              "\u001b[32mDEBUG\u001b[0m ======================== assistant =========================                                                 \n"
            ],
            "text/html": [
              "<pre style=\"white-space:pre;overflow-x:auto;line-height:normal;font-family:Menlo,'DejaVu Sans Mono',consolas,'Courier New',monospace\"><span style=\"color: #008000; text-decoration-color: #008000\">DEBUG</span> ======================== assistant =========================                                                 \n",
              "</pre>\n"
            ]
          },
          "metadata": {}
        },
        {
          "output_type": "display_data",
          "data": {
            "text/plain": [
              "\u001b[32mDEBUG\u001b[0m The provided text describes the training and evaluation process of TULU, a language model. The training      \n",
              "      process involved a combination of supervised finetuning, direct preference optimization, and reinforcement   \n",
              "      learning with verifiable rewards. The model was trained on Llama \u001b[1;36m3.1\u001b[0m base models and achieved impressive     \n",
              "      results, surpassing instruct versions of Llama \u001b[1;36m3.1\u001b[0m, Qwen \u001b[1;36m2.5\u001b[0m, Mistral, and even closed models such as        \n",
              "      GPT-4o-mini and Claude \u001b[1;36m3.5\u001b[0m-Haiku. The evaluation scheme used was a multi-task evaluation scheme, which       \n",
              "      included development and unseen evaluations, standard benchmark implementations, and substantial             \n",
              "      decontamination of existing open datasets on said benchmarks.                                                \n"
            ],
            "text/html": [
              "<pre style=\"white-space:pre;overflow-x:auto;line-height:normal;font-family:Menlo,'DejaVu Sans Mono',consolas,'Courier New',monospace\"><span style=\"color: #008000; text-decoration-color: #008000\">DEBUG</span> The provided text describes the training and evaluation process of TULU, a language model. The training      \n",
              "      process involved a combination of supervised finetuning, direct preference optimization, and reinforcement   \n",
              "      learning with verifiable rewards. The model was trained on Llama <span style=\"color: #008080; text-decoration-color: #008080; font-weight: bold\">3.1</span> base models and achieved impressive     \n",
              "      results, surpassing instruct versions of Llama <span style=\"color: #008080; text-decoration-color: #008080; font-weight: bold\">3.1</span>, Qwen <span style=\"color: #008080; text-decoration-color: #008080; font-weight: bold\">2.5</span>, Mistral, and even closed models such as        \n",
              "      GPT-4o-mini and Claude <span style=\"color: #008080; text-decoration-color: #008080; font-weight: bold\">3.5</span>-Haiku. The evaluation scheme used was a multi-task evaluation scheme, which       \n",
              "      included development and unseen evaluations, standard benchmark implementations, and substantial             \n",
              "      decontamination of existing open datasets on said benchmarks.                                                \n",
              "</pre>\n"
            ]
          },
          "metadata": {}
        },
        {
          "output_type": "display_data",
          "data": {
            "text/plain": [
              "\u001b[32mDEBUG\u001b[0m ************************  METRICS  *************************                                                 \n"
            ],
            "text/html": [
              "<pre style=\"white-space:pre;overflow-x:auto;line-height:normal;font-family:Menlo,'DejaVu Sans Mono',consolas,'Courier New',monospace\"><span style=\"color: #008000; text-decoration-color: #008000\">DEBUG</span> ************************  METRICS  *************************                                                 \n",
              "</pre>\n"
            ]
          },
          "metadata": {}
        },
        {
          "output_type": "display_data",
          "data": {
            "text/plain": [
              "\u001b[32mDEBUG\u001b[0m * Tokens:                      \u001b[33minput\u001b[0m=\u001b[1;36m5530\u001b[0m, \u001b[33moutput\u001b[0m=\u001b[1;36m140\u001b[0m, \u001b[33mtotal\u001b[0m=\u001b[1;36m5670\u001b[0m                                            \n"
            ],
            "text/html": [
              "<pre style=\"white-space:pre;overflow-x:auto;line-height:normal;font-family:Menlo,'DejaVu Sans Mono',consolas,'Courier New',monospace\"><span style=\"color: #008000; text-decoration-color: #008000\">DEBUG</span> * Tokens:                      <span style=\"color: #808000; text-decoration-color: #808000\">input</span>=<span style=\"color: #008080; text-decoration-color: #008080; font-weight: bold\">5530</span>, <span style=\"color: #808000; text-decoration-color: #808000\">output</span>=<span style=\"color: #008080; text-decoration-color: #008080; font-weight: bold\">140</span>, <span style=\"color: #808000; text-decoration-color: #808000\">total</span>=<span style=\"color: #008080; text-decoration-color: #008080; font-weight: bold\">5670</span>                                            \n",
              "</pre>\n"
            ]
          },
          "metadata": {}
        },
        {
          "output_type": "display_data",
          "data": {
            "text/plain": [
              "\u001b[32mDEBUG\u001b[0m * Time:                        \u001b[1;36m1.\u001b[0m5648s                                                                       \n"
            ],
            "text/html": [
              "<pre style=\"white-space:pre;overflow-x:auto;line-height:normal;font-family:Menlo,'DejaVu Sans Mono',consolas,'Courier New',monospace\"><span style=\"color: #008000; text-decoration-color: #008000\">DEBUG</span> * Time:                        <span style=\"color: #008080; text-decoration-color: #008080; font-weight: bold\">1.</span>5648s                                                                       \n",
              "</pre>\n"
            ]
          },
          "metadata": {}
        },
        {
          "output_type": "display_data",
          "data": {
            "text/plain": [
              "\u001b[32mDEBUG\u001b[0m * Tokens per second:           \u001b[1;36m89.4671\u001b[0m tokens/s                                                              \n"
            ],
            "text/html": [
              "<pre style=\"white-space:pre;overflow-x:auto;line-height:normal;font-family:Menlo,'DejaVu Sans Mono',consolas,'Courier New',monospace\"><span style=\"color: #008000; text-decoration-color: #008000\">DEBUG</span> * Tokens per second:           <span style=\"color: #008080; text-decoration-color: #008080; font-weight: bold\">89.4671</span> tokens/s                                                              \n",
              "</pre>\n"
            ]
          },
          "metadata": {}
        },
        {
          "output_type": "display_data",
          "data": {
            "text/plain": [
              "\u001b[32mDEBUG\u001b[0m * Additional metrics:          \u001b[1m{\u001b[0m\u001b[32m'completion_time'\u001b[0m: \u001b[1;36m0.509090909\u001b[0m, \u001b[32m'prompt_time'\u001b[0m: \u001b[1;36m0.394513372\u001b[0m, \u001b[32m'queue_time'\u001b[0m:    \n",
              "      \u001b[1;36m0.43317826100000006\u001b[0m, \u001b[32m'total_time'\u001b[0m: \u001b[1;36m0.903604281\u001b[0m\u001b[1m}\u001b[0m                                                              \n"
            ],
            "text/html": [
              "<pre style=\"white-space:pre;overflow-x:auto;line-height:normal;font-family:Menlo,'DejaVu Sans Mono',consolas,'Courier New',monospace\"><span style=\"color: #008000; text-decoration-color: #008000\">DEBUG</span> * Additional metrics:          <span style=\"font-weight: bold\">{</span><span style=\"color: #008000; text-decoration-color: #008000\">'completion_time'</span>: <span style=\"color: #008080; text-decoration-color: #008080; font-weight: bold\">0.509090909</span>, <span style=\"color: #008000; text-decoration-color: #008000\">'prompt_time'</span>: <span style=\"color: #008080; text-decoration-color: #008080; font-weight: bold\">0.394513372</span>, <span style=\"color: #008000; text-decoration-color: #008000\">'queue_time'</span>:    \n",
              "      <span style=\"color: #008080; text-decoration-color: #008080; font-weight: bold\">0.43317826100000006</span>, <span style=\"color: #008000; text-decoration-color: #008000\">'total_time'</span>: <span style=\"color: #008080; text-decoration-color: #008080; font-weight: bold\">0.903604281</span><span style=\"font-weight: bold\">}</span>                                                              \n",
              "</pre>\n"
            ]
          },
          "metadata": {}
        },
        {
          "output_type": "display_data",
          "data": {
            "text/plain": [
              "\u001b[32mDEBUG\u001b[0m ************************  METRICS  *************************                                                 \n"
            ],
            "text/html": [
              "<pre style=\"white-space:pre;overflow-x:auto;line-height:normal;font-family:Menlo,'DejaVu Sans Mono',consolas,'Courier New',monospace\"><span style=\"color: #008000; text-decoration-color: #008000\">DEBUG</span> ************************  METRICS  *************************                                                 \n",
              "</pre>\n"
            ]
          },
          "metadata": {}
        },
        {
          "output_type": "display_data",
          "data": {
            "text/plain": [
              "\u001b[32mDEBUG\u001b[0m -------------------- Groq Response End ---------------------                                                 \n"
            ],
            "text/html": [
              "<pre style=\"white-space:pre;overflow-x:auto;line-height:normal;font-family:Menlo,'DejaVu Sans Mono',consolas,'Courier New',monospace\"><span style=\"color: #008000; text-decoration-color: #008000\">DEBUG</span> -------------------- Groq Response End ---------------------                                                 \n",
              "</pre>\n"
            ]
          },
          "metadata": {}
        },
        {
          "output_type": "display_data",
          "data": {
            "text/plain": [
              "\u001b[32mDEBUG\u001b[0m Added \u001b[1;36m6\u001b[0m Messages to AgentMemory                                                                              \n"
            ],
            "text/html": [
              "<pre style=\"white-space:pre;overflow-x:auto;line-height:normal;font-family:Menlo,'DejaVu Sans Mono',consolas,'Courier New',monospace\"><span style=\"color: #008000; text-decoration-color: #008000\">DEBUG</span> Added <span style=\"color: #008080; text-decoration-color: #008080; font-weight: bold\">6</span> Messages to AgentMemory                                                                              \n",
              "</pre>\n"
            ]
          },
          "metadata": {}
        },
        {
          "output_type": "display_data",
          "data": {
            "text/plain": [
              "\u001b[32mDEBUG\u001b[0m Added AgentRun to AgentMemory                                                                                \n"
            ],
            "text/html": [
              "<pre style=\"white-space:pre;overflow-x:auto;line-height:normal;font-family:Menlo,'DejaVu Sans Mono',consolas,'Courier New',monospace\"><span style=\"color: #008000; text-decoration-color: #008000\">DEBUG</span> Added AgentRun to AgentMemory                                                                                \n",
              "</pre>\n"
            ]
          },
          "metadata": {}
        },
        {
          "output_type": "display_data",
          "data": {
            "text/plain": [
              "\u001b[32mDEBUG\u001b[0m Logging Agent Run                                                                                            \n"
            ],
            "text/html": [
              "<pre style=\"white-space:pre;overflow-x:auto;line-height:normal;font-family:Menlo,'DejaVu Sans Mono',consolas,'Courier New',monospace\"><span style=\"color: #008000; text-decoration-color: #008000\">DEBUG</span> Logging Agent Run                                                                                            \n",
              "</pre>\n"
            ]
          },
          "metadata": {}
        },
        {
          "output_type": "display_data",
          "data": {
            "text/plain": [
              "\u001b[32mDEBUG\u001b[0m *** Agent Run End: \u001b[93mdfc7715d-18f2-454c-9730-e2703808fe19\u001b[0m ****                                                 \n"
            ],
            "text/html": [
              "<pre style=\"white-space:pre;overflow-x:auto;line-height:normal;font-family:Menlo,'DejaVu Sans Mono',consolas,'Courier New',monospace\"><span style=\"color: #008000; text-decoration-color: #008000\">DEBUG</span> *** Agent Run End: <span style=\"color: #ffff00; text-decoration-color: #ffff00\">dfc7715d-18f2-454c-9730-e2703808fe19</span> ****                                                 \n",
              "</pre>\n"
            ]
          },
          "metadata": {}
        },
        {
          "output_type": "stream",
          "name": "stdout",
          "text": [
            "Audio saved successfully to: rag_audio_generations/sample_audio4aaa2193-b7e5-45da-86c0-e8cf3225dfe3.wav\n"
          ]
        }
      ]
    },
    {
      "cell_type": "markdown",
      "source": [
        "## Hindi RAG Agent"
      ],
      "metadata": {
        "id": "uO83ba6CUZ2g"
      }
    },
    {
      "cell_type": "code",
      "source": [
        "hindi_audio_rag_agent=Agent(\n",
        "    name='Hindi_Audio RAG Agent',\n",
        "    agent_id=\"hindi_audio_rag_agent\",\n",
        "    model=Groq(id=\"llama-3.3-70b-versatile\"),\n",
        "    tools=[\n",
        "        ElevenLabsTools(voice_id='1qEiC6qsybMkmnNdVMbK',model_id=\"eleven_multilingual_v2\",target_directory=\"hindi_rag_audio_generations\",)\n",
        "\n",
        "    ],\n",
        "    knowledge=knowledge_base,\n",
        "    search_knowledge=True,\n",
        "    description=\"You are an AI agent that can generate audio using the ElevenLabs API for the knowlegde provided to the agent\",\n",
        "    instructions=[\n",
        "    \"You are an intelligent voice-enabled Retrieval-Augmented Generation (RAG) agent named Audio RAG Agent. \"\n",
        "    \"Your task is to understand user queries, retrieve the most relevant context from your knowledge base, \"\n",
        "    \"and generate accurate, informative, and human-like voice responses using the ElevenLabs API. \"\n",
        "    \"Always ground your answers strictly in the provided knowledge base. If relevant information is not found, clearly state that you do not have enough information. \"\n",
        "    \"Ensure that your responses are concise, easy to understand when spoken, and free of hallucinations or speculative content. \"\n",
        "    \"Your voice output should reflect a natural conversational tone, appropriate pauses, and correct pronunciation. \"\n",
        "    \"Do not generate responses unrelated to the user's query or outside the domain of the knowledge base.\"\n",
        "],\n",
        "    markdown=True,\n",
        "    debug_mode=True,\n",
        ")"
      ],
      "metadata": {
        "colab": {
          "base_uri": "https://localhost:8080/",
          "height": 65
        },
        "id": "mVkWaN9qSpgk",
        "outputId": "68444384-5924-42e8-d623-77b2535c7ac5"
      },
      "execution_count": null,
      "outputs": [
        {
          "output_type": "display_data",
          "data": {
            "text/plain": [
              "\u001b[32mDEBUG\u001b[0m Function: get_voices registered with elevenlabs_tools                                                        \n"
            ],
            "text/html": [
              "<pre style=\"white-space:pre;overflow-x:auto;line-height:normal;font-family:Menlo,'DejaVu Sans Mono',consolas,'Courier New',monospace\"><span style=\"color: #008000; text-decoration-color: #008000\">DEBUG</span> Function: get_voices registered with elevenlabs_tools                                                        \n",
              "</pre>\n"
            ]
          },
          "metadata": {}
        },
        {
          "output_type": "display_data",
          "data": {
            "text/plain": [
              "\u001b[32mDEBUG\u001b[0m Function: generate_sound_effect registered with elevenlabs_tools                                             \n"
            ],
            "text/html": [
              "<pre style=\"white-space:pre;overflow-x:auto;line-height:normal;font-family:Menlo,'DejaVu Sans Mono',consolas,'Courier New',monospace\"><span style=\"color: #008000; text-decoration-color: #008000\">DEBUG</span> Function: generate_sound_effect registered with elevenlabs_tools                                             \n",
              "</pre>\n"
            ]
          },
          "metadata": {}
        },
        {
          "output_type": "display_data",
          "data": {
            "text/plain": [
              "\u001b[32mDEBUG\u001b[0m Function: text_to_speech registered with elevenlabs_tools                                                    \n"
            ],
            "text/html": [
              "<pre style=\"white-space:pre;overflow-x:auto;line-height:normal;font-family:Menlo,'DejaVu Sans Mono',consolas,'Courier New',monospace\"><span style=\"color: #008000; text-decoration-color: #008000\">DEBUG</span> Function: text_to_speech registered with elevenlabs_tools                                                    \n",
              "</pre>\n"
            ]
          },
          "metadata": {}
        }
      ]
    },
    {
      "cell_type": "code",
      "source": [
        "run: RunResponse = hindi_audio_rag_agent.run(\n",
        "    f\"Generate audio from the knowlegde base: How was TULU trained and evaluated?\"\n",
        ")\n",
        "\n",
        "save_dir = \"hindi_rag_audio_generations\"\n",
        "\n",
        "if run.audio is not None and len(run.audio) > 0:\n",
        "    try:\n",
        "        os.makedirs(save_dir, exist_ok=True)\n",
        "        filename = f\"{save_dir}/sample_audio{uuid4()}.wav\"\n",
        "        write_audio_to_file(\n",
        "            audio=run.audio[0].base64_audio,\n",
        "            filename=filename\n",
        "        )\n",
        "        print(f\"Audio saved successfully to: {filename}\")\n",
        "    except Exception as e:\n",
        "        print(f\"Error saving audio file: {e}\")"
      ],
      "metadata": {
        "colab": {
          "base_uri": "https://localhost:8080/",
          "height": 689
        },
        "id": "zT6SWKo9S3nX",
        "outputId": "8c7971ae-372f-4211-f57d-96d9fd6b9c6c"
      },
      "execution_count": null,
      "outputs": [
        {
          "output_type": "display_data",
          "data": {
            "text/plain": [
              "\u001b[32mDEBUG\u001b[0m ************* Agent ID: hindi_audio_rag_agent **************                                                 \n"
            ],
            "text/html": [
              "<pre style=\"white-space:pre;overflow-x:auto;line-height:normal;font-family:Menlo,'DejaVu Sans Mono',consolas,'Courier New',monospace\"><span style=\"color: #008000; text-decoration-color: #008000\">DEBUG</span> ************* Agent ID: hindi_audio_rag_agent **************                                                 \n",
              "</pre>\n"
            ]
          },
          "metadata": {}
        },
        {
          "output_type": "display_data",
          "data": {
            "text/plain": [
              "\u001b[32mDEBUG\u001b[0m ***** Session ID: \u001b[93m787e3226-1a96-4303-90f3-1069f64e61e3\u001b[0m *****                                                 \n"
            ],
            "text/html": [
              "<pre style=\"white-space:pre;overflow-x:auto;line-height:normal;font-family:Menlo,'DejaVu Sans Mono',consolas,'Courier New',monospace\"><span style=\"color: #008000; text-decoration-color: #008000\">DEBUG</span> ***** Session ID: <span style=\"color: #ffff00; text-decoration-color: #ffff00\">787e3226-1a96-4303-90f3-1069f64e61e3</span> *****                                                 \n",
              "</pre>\n"
            ]
          },
          "metadata": {}
        },
        {
          "output_type": "display_data",
          "data": {
            "text/plain": [
              "\u001b[32mDEBUG\u001b[0m ** Agent Run Start: \u001b[93m407ad035-0622-402b-9562-4eadecafc7ee\u001b[0m ***                                                 \n"
            ],
            "text/html": [
              "<pre style=\"white-space:pre;overflow-x:auto;line-height:normal;font-family:Menlo,'DejaVu Sans Mono',consolas,'Courier New',monospace\"><span style=\"color: #008000; text-decoration-color: #008000\">DEBUG</span> ** Agent Run Start: <span style=\"color: #ffff00; text-decoration-color: #ffff00\">407ad035-0622-402b-9562-4eadecafc7ee</span> ***                                                 \n",
              "</pre>\n"
            ]
          },
          "metadata": {}
        },
        {
          "output_type": "display_data",
          "data": {
            "text/plain": [
              "\u001b[32mDEBUG\u001b[0m Processing tools for model                                                                                   \n"
            ],
            "text/html": [
              "<pre style=\"white-space:pre;overflow-x:auto;line-height:normal;font-family:Menlo,'DejaVu Sans Mono',consolas,'Courier New',monospace\"><span style=\"color: #008000; text-decoration-color: #008000\">DEBUG</span> Processing tools for model                                                                                   \n",
              "</pre>\n"
            ]
          },
          "metadata": {}
        },
        {
          "output_type": "display_data",
          "data": {
            "text/plain": [
              "\u001b[32mDEBUG\u001b[0m Added function get_voices from elevenlabs_tools                                                              \n"
            ],
            "text/html": [
              "<pre style=\"white-space:pre;overflow-x:auto;line-height:normal;font-family:Menlo,'DejaVu Sans Mono',consolas,'Courier New',monospace\"><span style=\"color: #008000; text-decoration-color: #008000\">DEBUG</span> Added function get_voices from elevenlabs_tools                                                              \n",
              "</pre>\n"
            ]
          },
          "metadata": {}
        },
        {
          "output_type": "display_data",
          "data": {
            "text/plain": [
              "\u001b[32mDEBUG\u001b[0m Added function generate_sound_effect from elevenlabs_tools                                                   \n"
            ],
            "text/html": [
              "<pre style=\"white-space:pre;overflow-x:auto;line-height:normal;font-family:Menlo,'DejaVu Sans Mono',consolas,'Courier New',monospace\"><span style=\"color: #008000; text-decoration-color: #008000\">DEBUG</span> Added function generate_sound_effect from elevenlabs_tools                                                   \n",
              "</pre>\n"
            ]
          },
          "metadata": {}
        },
        {
          "output_type": "display_data",
          "data": {
            "text/plain": [
              "\u001b[32mDEBUG\u001b[0m Added function text_to_speech from elevenlabs_tools                                                          \n"
            ],
            "text/html": [
              "<pre style=\"white-space:pre;overflow-x:auto;line-height:normal;font-family:Menlo,'DejaVu Sans Mono',consolas,'Courier New',monospace\"><span style=\"color: #008000; text-decoration-color: #008000\">DEBUG</span> Added function text_to_speech from elevenlabs_tools                                                          \n",
              "</pre>\n"
            ]
          },
          "metadata": {}
        },
        {
          "output_type": "display_data",
          "data": {
            "text/plain": [
              "\u001b[32mDEBUG\u001b[0m Added function search_knowledge_base                                                                         \n"
            ],
            "text/html": [
              "<pre style=\"white-space:pre;overflow-x:auto;line-height:normal;font-family:Menlo,'DejaVu Sans Mono',consolas,'Courier New',monospace\"><span style=\"color: #008000; text-decoration-color: #008000\">DEBUG</span> Added function search_knowledge_base                                                                         \n",
              "</pre>\n"
            ]
          },
          "metadata": {}
        },
        {
          "output_type": "display_data",
          "data": {
            "text/plain": [
              "\u001b[32mDEBUG\u001b[0m ------------------- Groq Response Start --------------------                                                 \n"
            ],
            "text/html": [
              "<pre style=\"white-space:pre;overflow-x:auto;line-height:normal;font-family:Menlo,'DejaVu Sans Mono',consolas,'Courier New',monospace\"><span style=\"color: #008000; text-decoration-color: #008000\">DEBUG</span> ------------------- Groq Response Start --------------------                                                 \n",
              "</pre>\n"
            ]
          },
          "metadata": {}
        },
        {
          "output_type": "display_data",
          "data": {
            "text/plain": [
              "\u001b[32mDEBUG\u001b[0m -------------- Model: llama-\u001b[1;36m3.3\u001b[0m-70b-versatile --------------                                                 \n"
            ],
            "text/html": [
              "<pre style=\"white-space:pre;overflow-x:auto;line-height:normal;font-family:Menlo,'DejaVu Sans Mono',consolas,'Courier New',monospace\"><span style=\"color: #008000; text-decoration-color: #008000\">DEBUG</span> -------------- Model: llama-<span style=\"color: #008080; text-decoration-color: #008080; font-weight: bold\">3.3</span>-70b-versatile --------------                                                 \n",
              "</pre>\n"
            ]
          },
          "metadata": {}
        },
        {
          "output_type": "display_data",
          "data": {
            "text/plain": [
              "\u001b[32mDEBUG\u001b[0m ========================== system ==========================                                                 \n"
            ],
            "text/html": [
              "<pre style=\"white-space:pre;overflow-x:auto;line-height:normal;font-family:Menlo,'DejaVu Sans Mono',consolas,'Courier New',monospace\"><span style=\"color: #008000; text-decoration-color: #008000\">DEBUG</span> ========================== system ==========================                                                 \n",
              "</pre>\n"
            ]
          },
          "metadata": {}
        },
        {
          "output_type": "display_data",
          "data": {
            "text/plain": [
              "\u001b[32mDEBUG\u001b[0m You are an AI agent that can generate audio using the ElevenLabs API for the knowlegde provided to the agent \n",
              "      \u001b[1m<\u001b[0m\u001b[1;95minstructions\u001b[0m\u001b[39m>\u001b[0m                                                                                               \n",
              "      \u001b[39mYou are an intelligent voice-enabled Retrieval-Augmented Generation \u001b[0m\u001b[1;39m(\u001b[0m\u001b[39mRAG\u001b[0m\u001b[1;39m)\u001b[0m\u001b[39m agent named Audio RAG Agent. Your \u001b[0m \n",
              "      \u001b[39mtask is to understand user queries, retrieve the most relevant context from your knowledge base, and generate\u001b[0m\n",
              "      \u001b[39maccurate, informative, and human-like voice responses using the ElevenLabs API. Always ground your answers \u001b[0m  \n",
              "      \u001b[39mstrictly in the provided knowledge base. If relevant information is not found, clearly state that you do not \u001b[0m\n",
              "      \u001b[39mhave enough information. Ensure that your responses are concise, easy to understand when spoken, and free of \u001b[0m\n",
              "      \u001b[39mhallucinations or speculative content. Your voice output should reflect a natural conversational tone, \u001b[0m      \n",
              "      \u001b[39mappropriate pauses, and correct pronunciation. Do not generate responses unrelated to the user's query or \u001b[0m   \n",
              "      \u001b[39moutside the domain of the knowledge base.\u001b[0m                                                                    \n",
              "      \u001b[39m<\u001b[0m\u001b[35m/\u001b[0m\u001b[95minstructions\u001b[0m\u001b[39m>\u001b[0m                                                                                              \n",
              "                                                                                                                   \n",
              "      \u001b[39m<additional_information>\u001b[0m                                                                                     \n",
              "      \u001b[39m- Use markdown to format your answers.\u001b[0m                                                                       \n",
              "      \u001b[39m<\u001b[0m\u001b[35m/\u001b[0m\u001b[95madditional_information\u001b[0m\u001b[1m>\u001b[0m                                                                                    \n"
            ],
            "text/html": [
              "<pre style=\"white-space:pre;overflow-x:auto;line-height:normal;font-family:Menlo,'DejaVu Sans Mono',consolas,'Courier New',monospace\"><span style=\"color: #008000; text-decoration-color: #008000\">DEBUG</span> You are an AI agent that can generate audio using the ElevenLabs API for the knowlegde provided to the agent \n",
              "      <span style=\"font-weight: bold\">&lt;</span><span style=\"color: #ff00ff; text-decoration-color: #ff00ff; font-weight: bold\">instructions</span><span style=\"color: #000000; text-decoration-color: #000000\">&gt;</span>                                                                                               \n",
              "      <span style=\"color: #000000; text-decoration-color: #000000\">You are an intelligent voice-enabled Retrieval-Augmented Generation </span><span style=\"color: #000000; text-decoration-color: #000000; font-weight: bold\">(</span><span style=\"color: #000000; text-decoration-color: #000000\">RAG</span><span style=\"color: #000000; text-decoration-color: #000000; font-weight: bold\">)</span><span style=\"color: #000000; text-decoration-color: #000000\"> agent named Audio RAG Agent. Your </span> \n",
              "      <span style=\"color: #000000; text-decoration-color: #000000\">task is to understand user queries, retrieve the most relevant context from your knowledge base, and generate</span>\n",
              "      <span style=\"color: #000000; text-decoration-color: #000000\">accurate, informative, and human-like voice responses using the ElevenLabs API. Always ground your answers </span>  \n",
              "      <span style=\"color: #000000; text-decoration-color: #000000\">strictly in the provided knowledge base. If relevant information is not found, clearly state that you do not </span>\n",
              "      <span style=\"color: #000000; text-decoration-color: #000000\">have enough information. Ensure that your responses are concise, easy to understand when spoken, and free of </span>\n",
              "      <span style=\"color: #000000; text-decoration-color: #000000\">hallucinations or speculative content. Your voice output should reflect a natural conversational tone, </span>      \n",
              "      <span style=\"color: #000000; text-decoration-color: #000000\">appropriate pauses, and correct pronunciation. Do not generate responses unrelated to the user's query or </span>   \n",
              "      <span style=\"color: #000000; text-decoration-color: #000000\">outside the domain of the knowledge base.</span>                                                                    \n",
              "      <span style=\"color: #000000; text-decoration-color: #000000\">&lt;</span><span style=\"color: #800080; text-decoration-color: #800080\">/</span><span style=\"color: #ff00ff; text-decoration-color: #ff00ff\">instructions</span><span style=\"color: #000000; text-decoration-color: #000000\">&gt;</span>                                                                                              \n",
              "                                                                                                                   \n",
              "      <span style=\"color: #000000; text-decoration-color: #000000\">&lt;additional_information&gt;</span>                                                                                     \n",
              "      <span style=\"color: #000000; text-decoration-color: #000000\">- Use markdown to format your answers.</span>                                                                       \n",
              "      <span style=\"color: #000000; text-decoration-color: #000000\">&lt;</span><span style=\"color: #800080; text-decoration-color: #800080\">/</span><span style=\"color: #ff00ff; text-decoration-color: #ff00ff\">additional_information</span><span style=\"font-weight: bold\">&gt;</span>                                                                                    \n",
              "</pre>\n"
            ]
          },
          "metadata": {}
        },
        {
          "output_type": "display_data",
          "data": {
            "text/plain": [
              "\u001b[32mDEBUG\u001b[0m =========================== user ===========================                                                 \n"
            ],
            "text/html": [
              "<pre style=\"white-space:pre;overflow-x:auto;line-height:normal;font-family:Menlo,'DejaVu Sans Mono',consolas,'Courier New',monospace\"><span style=\"color: #008000; text-decoration-color: #008000\">DEBUG</span> =========================== user ===========================                                                 \n",
              "</pre>\n"
            ]
          },
          "metadata": {}
        },
        {
          "output_type": "display_data",
          "data": {
            "text/plain": [
              "\u001b[32mDEBUG\u001b[0m Generate audio from the knowlegde base: How was TULU trained and evaluated?                                  \n"
            ],
            "text/html": [
              "<pre style=\"white-space:pre;overflow-x:auto;line-height:normal;font-family:Menlo,'DejaVu Sans Mono',consolas,'Courier New',monospace\"><span style=\"color: #008000; text-decoration-color: #008000\">DEBUG</span> Generate audio from the knowlegde base: How was TULU trained and evaluated?                                  \n",
              "</pre>\n"
            ]
          },
          "metadata": {}
        },
        {
          "output_type": "display_data",
          "data": {
            "text/plain": [
              "\u001b[32mDEBUG\u001b[0m ======================== assistant =========================                                                 \n"
            ],
            "text/html": [
              "<pre style=\"white-space:pre;overflow-x:auto;line-height:normal;font-family:Menlo,'DejaVu Sans Mono',consolas,'Courier New',monospace\"><span style=\"color: #008000; text-decoration-color: #008000\">DEBUG</span> ======================== assistant =========================                                                 \n",
              "</pre>\n"
            ]
          },
          "metadata": {}
        },
        {
          "output_type": "display_data",
          "data": {
            "text/plain": [
              "\u001b[32mDEBUG\u001b[0m \u001b[1m<\u001b[0m\u001b[1;33mfunction\u001b[0m\u001b[39m=\u001b[0m\u001b[35msearch_knowledge_base\u001b[0m\u001b[1;39m{\u001b[0m\u001b[32m\"query\"\u001b[0m\u001b[39m: \u001b[0m\u001b[32m\"TULU training and evaluation\"\u001b[0m\u001b[1;39m}\u001b[0m\u001b[39m<\u001b[0m\u001b[35m/\u001b[0m\u001b[95mfunction\u001b[0m\u001b[1m>\u001b[0m                          \n"
            ],
            "text/html": [
              "<pre style=\"white-space:pre;overflow-x:auto;line-height:normal;font-family:Menlo,'DejaVu Sans Mono',consolas,'Courier New',monospace\"><span style=\"color: #008000; text-decoration-color: #008000\">DEBUG</span> <span style=\"font-weight: bold\">&lt;</span><span style=\"color: #808000; text-decoration-color: #808000; font-weight: bold\">function</span><span style=\"color: #000000; text-decoration-color: #000000\">=</span><span style=\"color: #800080; text-decoration-color: #800080\">search_knowledge_base</span><span style=\"color: #000000; text-decoration-color: #000000; font-weight: bold\">{</span><span style=\"color: #008000; text-decoration-color: #008000\">\"query\"</span><span style=\"color: #000000; text-decoration-color: #000000\">: </span><span style=\"color: #008000; text-decoration-color: #008000\">\"TULU training and evaluation\"</span><span style=\"color: #000000; text-decoration-color: #000000; font-weight: bold\">}</span><span style=\"color: #000000; text-decoration-color: #000000\">&lt;</span><span style=\"color: #800080; text-decoration-color: #800080\">/</span><span style=\"color: #ff00ff; text-decoration-color: #ff00ff\">function</span><span style=\"font-weight: bold\">&gt;</span>                          \n",
              "</pre>\n"
            ]
          },
          "metadata": {}
        },
        {
          "output_type": "display_data",
          "data": {
            "text/plain": [
              "\u001b[32mDEBUG\u001b[0m ************************  METRICS  *************************                                                 \n"
            ],
            "text/html": [
              "<pre style=\"white-space:pre;overflow-x:auto;line-height:normal;font-family:Menlo,'DejaVu Sans Mono',consolas,'Courier New',monospace\"><span style=\"color: #008000; text-decoration-color: #008000\">DEBUG</span> ************************  METRICS  *************************                                                 \n",
              "</pre>\n"
            ]
          },
          "metadata": {}
        },
        {
          "output_type": "display_data",
          "data": {
            "text/plain": [
              "\u001b[32mDEBUG\u001b[0m * Tokens:                      \u001b[33minput\u001b[0m=\u001b[1;36m687\u001b[0m, \u001b[33moutput\u001b[0m=\u001b[1;36m21\u001b[0m, \u001b[33mtotal\u001b[0m=\u001b[1;36m708\u001b[0m                                               \n"
            ],
            "text/html": [
              "<pre style=\"white-space:pre;overflow-x:auto;line-height:normal;font-family:Menlo,'DejaVu Sans Mono',consolas,'Courier New',monospace\"><span style=\"color: #008000; text-decoration-color: #008000\">DEBUG</span> * Tokens:                      <span style=\"color: #808000; text-decoration-color: #808000\">input</span>=<span style=\"color: #008080; text-decoration-color: #008080; font-weight: bold\">687</span>, <span style=\"color: #808000; text-decoration-color: #808000\">output</span>=<span style=\"color: #008080; text-decoration-color: #008080; font-weight: bold\">21</span>, <span style=\"color: #808000; text-decoration-color: #808000\">total</span>=<span style=\"color: #008080; text-decoration-color: #008080; font-weight: bold\">708</span>                                               \n",
              "</pre>\n"
            ]
          },
          "metadata": {}
        },
        {
          "output_type": "display_data",
          "data": {
            "text/plain": [
              "\u001b[32mDEBUG\u001b[0m * Time:                        \u001b[1;36m0.\u001b[0m5675s                                                                       \n"
            ],
            "text/html": [
              "<pre style=\"white-space:pre;overflow-x:auto;line-height:normal;font-family:Menlo,'DejaVu Sans Mono',consolas,'Courier New',monospace\"><span style=\"color: #008000; text-decoration-color: #008000\">DEBUG</span> * Time:                        <span style=\"color: #008080; text-decoration-color: #008080; font-weight: bold\">0.</span>5675s                                                                       \n",
              "</pre>\n"
            ]
          },
          "metadata": {}
        },
        {
          "output_type": "display_data",
          "data": {
            "text/plain": [
              "\u001b[32mDEBUG\u001b[0m * Tokens per second:           \u001b[1;36m37.0064\u001b[0m tokens/s                                                              \n"
            ],
            "text/html": [
              "<pre style=\"white-space:pre;overflow-x:auto;line-height:normal;font-family:Menlo,'DejaVu Sans Mono',consolas,'Courier New',monospace\"><span style=\"color: #008000; text-decoration-color: #008000\">DEBUG</span> * Tokens per second:           <span style=\"color: #008080; text-decoration-color: #008080; font-weight: bold\">37.0064</span> tokens/s                                                              \n",
              "</pre>\n"
            ]
          },
          "metadata": {}
        },
        {
          "output_type": "display_data",
          "data": {
            "text/plain": [
              "\u001b[32mDEBUG\u001b[0m * Additional metrics:          \u001b[1m{\u001b[0m\u001b[32m'completion_time'\u001b[0m: \u001b[1;36m0.076363636\u001b[0m, \u001b[32m'prompt_time'\u001b[0m: \u001b[1;36m0.04385533\u001b[0m, \u001b[32m'queue_time'\u001b[0m:     \n",
              "      \u001b[1;36m0.216574548\u001b[0m, \u001b[32m'total_time'\u001b[0m: \u001b[1;36m0.120218966\u001b[0m\u001b[1m}\u001b[0m                                                                      \n"
            ],
            "text/html": [
              "<pre style=\"white-space:pre;overflow-x:auto;line-height:normal;font-family:Menlo,'DejaVu Sans Mono',consolas,'Courier New',monospace\"><span style=\"color: #008000; text-decoration-color: #008000\">DEBUG</span> * Additional metrics:          <span style=\"font-weight: bold\">{</span><span style=\"color: #008000; text-decoration-color: #008000\">'completion_time'</span>: <span style=\"color: #008080; text-decoration-color: #008080; font-weight: bold\">0.076363636</span>, <span style=\"color: #008000; text-decoration-color: #008000\">'prompt_time'</span>: <span style=\"color: #008080; text-decoration-color: #008080; font-weight: bold\">0.04385533</span>, <span style=\"color: #008000; text-decoration-color: #008000\">'queue_time'</span>:     \n",
              "      <span style=\"color: #008080; text-decoration-color: #008080; font-weight: bold\">0.216574548</span>, <span style=\"color: #008000; text-decoration-color: #008000\">'total_time'</span>: <span style=\"color: #008080; text-decoration-color: #008080; font-weight: bold\">0.120218966</span><span style=\"font-weight: bold\">}</span>                                                                      \n",
              "</pre>\n"
            ]
          },
          "metadata": {}
        },
        {
          "output_type": "display_data",
          "data": {
            "text/plain": [
              "\u001b[32mDEBUG\u001b[0m ************************  METRICS  *************************                                                 \n"
            ],
            "text/html": [
              "<pre style=\"white-space:pre;overflow-x:auto;line-height:normal;font-family:Menlo,'DejaVu Sans Mono',consolas,'Courier New',monospace\"><span style=\"color: #008000; text-decoration-color: #008000\">DEBUG</span> ************************  METRICS  *************************                                                 \n",
              "</pre>\n"
            ]
          },
          "metadata": {}
        },
        {
          "output_type": "display_data",
          "data": {
            "text/plain": [
              "\u001b[32mDEBUG\u001b[0m -------------------- Groq Response End ---------------------                                                 \n"
            ],
            "text/html": [
              "<pre style=\"white-space:pre;overflow-x:auto;line-height:normal;font-family:Menlo,'DejaVu Sans Mono',consolas,'Courier New',monospace\"><span style=\"color: #008000; text-decoration-color: #008000\">DEBUG</span> -------------------- Groq Response End ---------------------                                                 \n",
              "</pre>\n"
            ]
          },
          "metadata": {}
        },
        {
          "output_type": "display_data",
          "data": {
            "text/plain": [
              "\u001b[32mDEBUG\u001b[0m Added \u001b[1;36m2\u001b[0m Messages to AgentMemory                                                                              \n"
            ],
            "text/html": [
              "<pre style=\"white-space:pre;overflow-x:auto;line-height:normal;font-family:Menlo,'DejaVu Sans Mono',consolas,'Courier New',monospace\"><span style=\"color: #008000; text-decoration-color: #008000\">DEBUG</span> Added <span style=\"color: #008080; text-decoration-color: #008080; font-weight: bold\">2</span> Messages to AgentMemory                                                                              \n",
              "</pre>\n"
            ]
          },
          "metadata": {}
        },
        {
          "output_type": "display_data",
          "data": {
            "text/plain": [
              "\u001b[32mDEBUG\u001b[0m Added AgentRun to AgentMemory                                                                                \n"
            ],
            "text/html": [
              "<pre style=\"white-space:pre;overflow-x:auto;line-height:normal;font-family:Menlo,'DejaVu Sans Mono',consolas,'Courier New',monospace\"><span style=\"color: #008000; text-decoration-color: #008000\">DEBUG</span> Added AgentRun to AgentMemory                                                                                \n",
              "</pre>\n"
            ]
          },
          "metadata": {}
        },
        {
          "output_type": "display_data",
          "data": {
            "text/plain": [
              "\u001b[32mDEBUG\u001b[0m Logging Agent Run                                                                                            \n"
            ],
            "text/html": [
              "<pre style=\"white-space:pre;overflow-x:auto;line-height:normal;font-family:Menlo,'DejaVu Sans Mono',consolas,'Courier New',monospace\"><span style=\"color: #008000; text-decoration-color: #008000\">DEBUG</span> Logging Agent Run                                                                                            \n",
              "</pre>\n"
            ]
          },
          "metadata": {}
        },
        {
          "output_type": "display_data",
          "data": {
            "text/plain": [
              "\u001b[32mDEBUG\u001b[0m *** Agent Run End: \u001b[93m407ad035-0622-402b-9562-4eadecafc7ee\u001b[0m ****                                                 \n"
            ],
            "text/html": [
              "<pre style=\"white-space:pre;overflow-x:auto;line-height:normal;font-family:Menlo,'DejaVu Sans Mono',consolas,'Courier New',monospace\"><span style=\"color: #008000; text-decoration-color: #008000\">DEBUG</span> *** Agent Run End: <span style=\"color: #ffff00; text-decoration-color: #ffff00\">407ad035-0622-402b-9562-4eadecafc7ee</span> ****                                                 \n",
              "</pre>\n"
            ]
          },
          "metadata": {}
        }
      ]
    },
    {
      "source": [
        "run: RunResponse = hindi_audio_rag_agent.run(\n",
        "    f\"Generate audio from the knowlegde base: TULU को कैसे प्रशिक्षित और मूल्यांकन किया गया था?\"\n",
        ")\n",
        "\n",
        "save_dir = \"hindi_rag_audio_generations\"\n",
        "\n",
        "if run.audio is not None and len(run.audio) > 0:\n",
        "    try:\n",
        "        os.makedirs(save_dir, exist_ok=True)\n",
        "        filename = f\"{save_dir}/sample_audio{uuid4()}.wav\"\n",
        "        write_audio_to_file(\n",
        "            audio=run.audio[0].base64_audio,\n",
        "            filename=filename\n",
        "        )\n",
        "        print(f\"Audio saved successfully to: {filename}\")\n",
        "    except Exception as e:\n",
        "        print(f\"Error saving audio file: {e}\")"
      ],
      "cell_type": "code",
      "metadata": {
        "colab": {
          "base_uri": "https://localhost:8080/",
          "height": 1000
        },
        "id": "tmM2NxOuT7HJ",
        "outputId": "30f1b05a-a7cc-436e-e0cc-22fab42050a6"
      },
      "execution_count": null,
      "outputs": [
        {
          "output_type": "display_data",
          "data": {
            "text/plain": [
              "\u001b[32mDEBUG\u001b[0m ************* Agent ID: hindi_audio_rag_agent **************                                                 \n"
            ],
            "text/html": [
              "<pre style=\"white-space:pre;overflow-x:auto;line-height:normal;font-family:Menlo,'DejaVu Sans Mono',consolas,'Courier New',monospace\"><span style=\"color: #008000; text-decoration-color: #008000\">DEBUG</span> ************* Agent ID: hindi_audio_rag_agent **************                                                 \n",
              "</pre>\n"
            ]
          },
          "metadata": {}
        },
        {
          "output_type": "display_data",
          "data": {
            "text/plain": [
              "\u001b[32mDEBUG\u001b[0m ***** Session ID: \u001b[93m787e3226-1a96-4303-90f3-1069f64e61e3\u001b[0m *****                                                 \n"
            ],
            "text/html": [
              "<pre style=\"white-space:pre;overflow-x:auto;line-height:normal;font-family:Menlo,'DejaVu Sans Mono',consolas,'Courier New',monospace\"><span style=\"color: #008000; text-decoration-color: #008000\">DEBUG</span> ***** Session ID: <span style=\"color: #ffff00; text-decoration-color: #ffff00\">787e3226-1a96-4303-90f3-1069f64e61e3</span> *****                                                 \n",
              "</pre>\n"
            ]
          },
          "metadata": {}
        },
        {
          "output_type": "display_data",
          "data": {
            "text/plain": [
              "\u001b[32mDEBUG\u001b[0m ** Agent Run Start: \u001b[93mc588bc8f-41c5-4100-91fc-d488634d0639\u001b[0m ***                                                 \n"
            ],
            "text/html": [
              "<pre style=\"white-space:pre;overflow-x:auto;line-height:normal;font-family:Menlo,'DejaVu Sans Mono',consolas,'Courier New',monospace\"><span style=\"color: #008000; text-decoration-color: #008000\">DEBUG</span> ** Agent Run Start: <span style=\"color: #ffff00; text-decoration-color: #ffff00\">c588bc8f-41c5-4100-91fc-d488634d0639</span> ***                                                 \n",
              "</pre>\n"
            ]
          },
          "metadata": {}
        },
        {
          "output_type": "display_data",
          "data": {
            "text/plain": [
              "\u001b[32mDEBUG\u001b[0m ------------------- Groq Response Start --------------------                                                 \n"
            ],
            "text/html": [
              "<pre style=\"white-space:pre;overflow-x:auto;line-height:normal;font-family:Menlo,'DejaVu Sans Mono',consolas,'Courier New',monospace\"><span style=\"color: #008000; text-decoration-color: #008000\">DEBUG</span> ------------------- Groq Response Start --------------------                                                 \n",
              "</pre>\n"
            ]
          },
          "metadata": {}
        },
        {
          "output_type": "display_data",
          "data": {
            "text/plain": [
              "\u001b[32mDEBUG\u001b[0m -------------- Model: llama-\u001b[1;36m3.3\u001b[0m-70b-versatile --------------                                                 \n"
            ],
            "text/html": [
              "<pre style=\"white-space:pre;overflow-x:auto;line-height:normal;font-family:Menlo,'DejaVu Sans Mono',consolas,'Courier New',monospace\"><span style=\"color: #008000; text-decoration-color: #008000\">DEBUG</span> -------------- Model: llama-<span style=\"color: #008080; text-decoration-color: #008080; font-weight: bold\">3.3</span>-70b-versatile --------------                                                 \n",
              "</pre>\n"
            ]
          },
          "metadata": {}
        },
        {
          "output_type": "display_data",
          "data": {
            "text/plain": [
              "\u001b[32mDEBUG\u001b[0m ========================== system ==========================                                                 \n"
            ],
            "text/html": [
              "<pre style=\"white-space:pre;overflow-x:auto;line-height:normal;font-family:Menlo,'DejaVu Sans Mono',consolas,'Courier New',monospace\"><span style=\"color: #008000; text-decoration-color: #008000\">DEBUG</span> ========================== system ==========================                                                 \n",
              "</pre>\n"
            ]
          },
          "metadata": {}
        },
        {
          "output_type": "display_data",
          "data": {
            "text/plain": [
              "\u001b[32mDEBUG\u001b[0m You are an AI agent that can generate audio using the ElevenLabs API for the knowlegde provided to the agent \n",
              "      \u001b[1m<\u001b[0m\u001b[1;95minstructions\u001b[0m\u001b[39m>\u001b[0m                                                                                               \n",
              "      \u001b[39mYou are an intelligent voice-enabled Retrieval-Augmented Generation \u001b[0m\u001b[1;39m(\u001b[0m\u001b[39mRAG\u001b[0m\u001b[1;39m)\u001b[0m\u001b[39m agent named Audio RAG Agent. Your \u001b[0m \n",
              "      \u001b[39mtask is to understand user queries, retrieve the most relevant context from your knowledge base, and generate\u001b[0m\n",
              "      \u001b[39maccurate, informative, and human-like voice responses using the ElevenLabs API. Always ground your answers \u001b[0m  \n",
              "      \u001b[39mstrictly in the provided knowledge base. If relevant information is not found, clearly state that you do not \u001b[0m\n",
              "      \u001b[39mhave enough information. Ensure that your responses are concise, easy to understand when spoken, and free of \u001b[0m\n",
              "      \u001b[39mhallucinations or speculative content. Your voice output should reflect a natural conversational tone, \u001b[0m      \n",
              "      \u001b[39mappropriate pauses, and correct pronunciation. Do not generate responses unrelated to the user's query or \u001b[0m   \n",
              "      \u001b[39moutside the domain of the knowledge base.\u001b[0m                                                                    \n",
              "      \u001b[39m<\u001b[0m\u001b[35m/\u001b[0m\u001b[95minstructions\u001b[0m\u001b[39m>\u001b[0m                                                                                              \n",
              "                                                                                                                   \n",
              "      \u001b[39m<additional_information>\u001b[0m                                                                                     \n",
              "      \u001b[39m- Use markdown to format your answers.\u001b[0m                                                                       \n",
              "      \u001b[39m<\u001b[0m\u001b[35m/\u001b[0m\u001b[95madditional_information\u001b[0m\u001b[1m>\u001b[0m                                                                                    \n"
            ],
            "text/html": [
              "<pre style=\"white-space:pre;overflow-x:auto;line-height:normal;font-family:Menlo,'DejaVu Sans Mono',consolas,'Courier New',monospace\"><span style=\"color: #008000; text-decoration-color: #008000\">DEBUG</span> You are an AI agent that can generate audio using the ElevenLabs API for the knowlegde provided to the agent \n",
              "      <span style=\"font-weight: bold\">&lt;</span><span style=\"color: #ff00ff; text-decoration-color: #ff00ff; font-weight: bold\">instructions</span><span style=\"color: #000000; text-decoration-color: #000000\">&gt;</span>                                                                                               \n",
              "      <span style=\"color: #000000; text-decoration-color: #000000\">You are an intelligent voice-enabled Retrieval-Augmented Generation </span><span style=\"color: #000000; text-decoration-color: #000000; font-weight: bold\">(</span><span style=\"color: #000000; text-decoration-color: #000000\">RAG</span><span style=\"color: #000000; text-decoration-color: #000000; font-weight: bold\">)</span><span style=\"color: #000000; text-decoration-color: #000000\"> agent named Audio RAG Agent. Your </span> \n",
              "      <span style=\"color: #000000; text-decoration-color: #000000\">task is to understand user queries, retrieve the most relevant context from your knowledge base, and generate</span>\n",
              "      <span style=\"color: #000000; text-decoration-color: #000000\">accurate, informative, and human-like voice responses using the ElevenLabs API. Always ground your answers </span>  \n",
              "      <span style=\"color: #000000; text-decoration-color: #000000\">strictly in the provided knowledge base. If relevant information is not found, clearly state that you do not </span>\n",
              "      <span style=\"color: #000000; text-decoration-color: #000000\">have enough information. Ensure that your responses are concise, easy to understand when spoken, and free of </span>\n",
              "      <span style=\"color: #000000; text-decoration-color: #000000\">hallucinations or speculative content. Your voice output should reflect a natural conversational tone, </span>      \n",
              "      <span style=\"color: #000000; text-decoration-color: #000000\">appropriate pauses, and correct pronunciation. Do not generate responses unrelated to the user's query or </span>   \n",
              "      <span style=\"color: #000000; text-decoration-color: #000000\">outside the domain of the knowledge base.</span>                                                                    \n",
              "      <span style=\"color: #000000; text-decoration-color: #000000\">&lt;</span><span style=\"color: #800080; text-decoration-color: #800080\">/</span><span style=\"color: #ff00ff; text-decoration-color: #ff00ff\">instructions</span><span style=\"color: #000000; text-decoration-color: #000000\">&gt;</span>                                                                                              \n",
              "                                                                                                                   \n",
              "      <span style=\"color: #000000; text-decoration-color: #000000\">&lt;additional_information&gt;</span>                                                                                     \n",
              "      <span style=\"color: #000000; text-decoration-color: #000000\">- Use markdown to format your answers.</span>                                                                       \n",
              "      <span style=\"color: #000000; text-decoration-color: #000000\">&lt;</span><span style=\"color: #800080; text-decoration-color: #800080\">/</span><span style=\"color: #ff00ff; text-decoration-color: #ff00ff\">additional_information</span><span style=\"font-weight: bold\">&gt;</span>                                                                                    \n",
              "</pre>\n"
            ]
          },
          "metadata": {}
        },
        {
          "output_type": "display_data",
          "data": {
            "text/plain": [
              "\u001b[32mDEBUG\u001b[0m =========================== user ===========================                                                 \n"
            ],
            "text/html": [
              "<pre style=\"white-space:pre;overflow-x:auto;line-height:normal;font-family:Menlo,'DejaVu Sans Mono',consolas,'Courier New',monospace\"><span style=\"color: #008000; text-decoration-color: #008000\">DEBUG</span> =========================== user ===========================                                                 \n",
              "</pre>\n"
            ]
          },
          "metadata": {}
        },
        {
          "output_type": "display_data",
          "data": {
            "text/plain": [
              "\u001b[32mDEBUG\u001b[0m Generate audio from the knowlegde base: TULU को कैसे प्रशिक्षित और मूल्यांकन किया गया था?                                   \n"
            ],
            "text/html": [
              "<pre style=\"white-space:pre;overflow-x:auto;line-height:normal;font-family:Menlo,'DejaVu Sans Mono',consolas,'Courier New',monospace\"><span style=\"color: #008000; text-decoration-color: #008000\">DEBUG</span> Generate audio from the knowlegde base: TULU को कैसे प्रशिक्षित और मूल्यांकन किया गया था?                                   \n",
              "</pre>\n"
            ]
          },
          "metadata": {}
        },
        {
          "output_type": "display_data",
          "data": {
            "text/plain": [
              "\u001b[32mDEBUG\u001b[0m ======================== assistant =========================                                                 \n"
            ],
            "text/html": [
              "<pre style=\"white-space:pre;overflow-x:auto;line-height:normal;font-family:Menlo,'DejaVu Sans Mono',consolas,'Courier New',monospace\"><span style=\"color: #008000; text-decoration-color: #008000\">DEBUG</span> ======================== assistant =========================                                                 \n",
              "</pre>\n"
            ]
          },
          "metadata": {}
        },
        {
          "output_type": "display_data",
          "data": {
            "text/plain": [
              "\u001b[32mDEBUG\u001b[0m Tool Calls:                                                                                                  \n",
              "        - ID: \u001b[32m'call_ay8q'\u001b[0m                                                                                          \n",
              "          Name: \u001b[32m'text_to_speech'\u001b[0m                                                                                   \n",
              "          Arguments: \u001b[32m'prompt: TULU को Metaverse के लिए एक भाषा मॉडल के रूप में प्रशिक्षित और मूल्यांकन किया गया था.'\u001b[0m                     \n"
            ],
            "text/html": [
              "<pre style=\"white-space:pre;overflow-x:auto;line-height:normal;font-family:Menlo,'DejaVu Sans Mono',consolas,'Courier New',monospace\"><span style=\"color: #008000; text-decoration-color: #008000\">DEBUG</span> Tool Calls:                                                                                                  \n",
              "        - ID: <span style=\"color: #008000; text-decoration-color: #008000\">'call_ay8q'</span>                                                                                          \n",
              "          Name: <span style=\"color: #008000; text-decoration-color: #008000\">'text_to_speech'</span>                                                                                   \n",
              "          Arguments: <span style=\"color: #008000; text-decoration-color: #008000\">'prompt: TULU को Metaverse के लिए एक भाषा मॉडल के रूप में प्रशिक्षित और मूल्यांकन किया गया था.'</span>                     \n",
              "</pre>\n"
            ]
          },
          "metadata": {}
        },
        {
          "output_type": "display_data",
          "data": {
            "text/plain": [
              "\u001b[32mDEBUG\u001b[0m ************************  METRICS  *************************                                                 \n"
            ],
            "text/html": [
              "<pre style=\"white-space:pre;overflow-x:auto;line-height:normal;font-family:Menlo,'DejaVu Sans Mono',consolas,'Courier New',monospace\"><span style=\"color: #008000; text-decoration-color: #008000\">DEBUG</span> ************************  METRICS  *************************                                                 \n",
              "</pre>\n"
            ]
          },
          "metadata": {}
        },
        {
          "output_type": "display_data",
          "data": {
            "text/plain": [
              "\u001b[32mDEBUG\u001b[0m * Tokens:                      \u001b[33minput\u001b[0m=\u001b[1;36m705\u001b[0m, \u001b[33moutput\u001b[0m=\u001b[1;36m57\u001b[0m, \u001b[33mtotal\u001b[0m=\u001b[1;36m762\u001b[0m                                               \n"
            ],
            "text/html": [
              "<pre style=\"white-space:pre;overflow-x:auto;line-height:normal;font-family:Menlo,'DejaVu Sans Mono',consolas,'Courier New',monospace\"><span style=\"color: #008000; text-decoration-color: #008000\">DEBUG</span> * Tokens:                      <span style=\"color: #808000; text-decoration-color: #808000\">input</span>=<span style=\"color: #008080; text-decoration-color: #008080; font-weight: bold\">705</span>, <span style=\"color: #808000; text-decoration-color: #808000\">output</span>=<span style=\"color: #008080; text-decoration-color: #008080; font-weight: bold\">57</span>, <span style=\"color: #808000; text-decoration-color: #808000\">total</span>=<span style=\"color: #008080; text-decoration-color: #008080; font-weight: bold\">762</span>                                               \n",
              "</pre>\n"
            ]
          },
          "metadata": {}
        },
        {
          "output_type": "display_data",
          "data": {
            "text/plain": [
              "\u001b[32mDEBUG\u001b[0m * Time:                        \u001b[1;36m0.\u001b[0m6797s                                                                       \n"
            ],
            "text/html": [
              "<pre style=\"white-space:pre;overflow-x:auto;line-height:normal;font-family:Menlo,'DejaVu Sans Mono',consolas,'Courier New',monospace\"><span style=\"color: #008000; text-decoration-color: #008000\">DEBUG</span> * Time:                        <span style=\"color: #008080; text-decoration-color: #008080; font-weight: bold\">0.</span>6797s                                                                       \n",
              "</pre>\n"
            ]
          },
          "metadata": {}
        },
        {
          "output_type": "display_data",
          "data": {
            "text/plain": [
              "\u001b[32mDEBUG\u001b[0m * Tokens per second:           \u001b[1;36m83.8664\u001b[0m tokens/s                                                              \n"
            ],
            "text/html": [
              "<pre style=\"white-space:pre;overflow-x:auto;line-height:normal;font-family:Menlo,'DejaVu Sans Mono',consolas,'Courier New',monospace\"><span style=\"color: #008000; text-decoration-color: #008000\">DEBUG</span> * Tokens per second:           <span style=\"color: #008080; text-decoration-color: #008080; font-weight: bold\">83.8664</span> tokens/s                                                              \n",
              "</pre>\n"
            ]
          },
          "metadata": {}
        },
        {
          "output_type": "display_data",
          "data": {
            "text/plain": [
              "\u001b[32mDEBUG\u001b[0m * Additional metrics:          \u001b[1m{\u001b[0m\u001b[32m'completion_time'\u001b[0m: \u001b[1;36m0.207272727\u001b[0m, \u001b[32m'prompt_time'\u001b[0m: \u001b[1;36m0.052773627\u001b[0m, \u001b[32m'queue_time'\u001b[0m:    \n",
              "      \u001b[1;36m0.22050891300000003\u001b[0m, \u001b[32m'total_time'\u001b[0m: \u001b[1;36m0.260046354\u001b[0m\u001b[1m}\u001b[0m                                                              \n"
            ],
            "text/html": [
              "<pre style=\"white-space:pre;overflow-x:auto;line-height:normal;font-family:Menlo,'DejaVu Sans Mono',consolas,'Courier New',monospace\"><span style=\"color: #008000; text-decoration-color: #008000\">DEBUG</span> * Additional metrics:          <span style=\"font-weight: bold\">{</span><span style=\"color: #008000; text-decoration-color: #008000\">'completion_time'</span>: <span style=\"color: #008080; text-decoration-color: #008080; font-weight: bold\">0.207272727</span>, <span style=\"color: #008000; text-decoration-color: #008000\">'prompt_time'</span>: <span style=\"color: #008080; text-decoration-color: #008080; font-weight: bold\">0.052773627</span>, <span style=\"color: #008000; text-decoration-color: #008000\">'queue_time'</span>:    \n",
              "      <span style=\"color: #008080; text-decoration-color: #008080; font-weight: bold\">0.22050891300000003</span>, <span style=\"color: #008000; text-decoration-color: #008000\">'total_time'</span>: <span style=\"color: #008080; text-decoration-color: #008080; font-weight: bold\">0.260046354</span><span style=\"font-weight: bold\">}</span>                                                              \n",
              "</pre>\n"
            ]
          },
          "metadata": {}
        },
        {
          "output_type": "display_data",
          "data": {
            "text/plain": [
              "\u001b[32mDEBUG\u001b[0m ************************  METRICS  *************************                                                 \n"
            ],
            "text/html": [
              "<pre style=\"white-space:pre;overflow-x:auto;line-height:normal;font-family:Menlo,'DejaVu Sans Mono',consolas,'Courier New',monospace\"><span style=\"color: #008000; text-decoration-color: #008000\">DEBUG</span> ************************  METRICS  *************************                                                 \n",
              "</pre>\n"
            ]
          },
          "metadata": {}
        },
        {
          "output_type": "display_data",
          "data": {
            "text/plain": [
              "\u001b[32mDEBUG\u001b[0m Getting function text_to_speech                                                                              \n"
            ],
            "text/html": [
              "<pre style=\"white-space:pre;overflow-x:auto;line-height:normal;font-family:Menlo,'DejaVu Sans Mono',consolas,'Courier New',monospace\"><span style=\"color: #008000; text-decoration-color: #008000\">DEBUG</span> Getting function text_to_speech                                                                              \n",
              "</pre>\n"
            ]
          },
          "metadata": {}
        },
        {
          "output_type": "display_data",
          "data": {
            "text/plain": [
              "\u001b[32mDEBUG\u001b[0m Running: \u001b[1;35mtext_to_speech\u001b[0m\u001b[1m(\u001b[0m\u001b[33mprompt\u001b[0m=\u001b[33m...\u001b[0m\u001b[1m)\u001b[0m                                                                          \n"
            ],
            "text/html": [
              "<pre style=\"white-space:pre;overflow-x:auto;line-height:normal;font-family:Menlo,'DejaVu Sans Mono',consolas,'Courier New',monospace\"><span style=\"color: #008000; text-decoration-color: #008000\">DEBUG</span> Running: <span style=\"color: #800080; text-decoration-color: #800080; font-weight: bold\">text_to_speech</span><span style=\"font-weight: bold\">(</span><span style=\"color: #808000; text-decoration-color: #808000\">prompt</span>=<span style=\"color: #808000; text-decoration-color: #808000\">...</span><span style=\"font-weight: bold\">)</span>                                                                          \n",
              "</pre>\n"
            ]
          },
          "metadata": {}
        },
        {
          "output_type": "display_data",
          "data": {
            "text/plain": [
              "\u001b[32mDEBUG\u001b[0m =========================== tool ===========================                                                 \n"
            ],
            "text/html": [
              "<pre style=\"white-space:pre;overflow-x:auto;line-height:normal;font-family:Menlo,'DejaVu Sans Mono',consolas,'Courier New',monospace\"><span style=\"color: #008000; text-decoration-color: #008000\">DEBUG</span> =========================== tool ===========================                                                 \n",
              "</pre>\n"
            ]
          },
          "metadata": {}
        },
        {
          "output_type": "display_data",
          "data": {
            "text/plain": [
              "\u001b[32mDEBUG\u001b[0m Tool call Id: call_ay8q                                                                                      \n"
            ],
            "text/html": [
              "<pre style=\"white-space:pre;overflow-x:auto;line-height:normal;font-family:Menlo,'DejaVu Sans Mono',consolas,'Courier New',monospace\"><span style=\"color: #008000; text-decoration-color: #008000\">DEBUG</span> Tool call Id: call_ay8q                                                                                      \n",
              "</pre>\n"
            ]
          },
          "metadata": {}
        },
        {
          "output_type": "display_data",
          "data": {
            "text/plain": [
              "\u001b[32mDEBUG\u001b[0m Audio generated successfully                                                                                 \n"
            ],
            "text/html": [
              "<pre style=\"white-space:pre;overflow-x:auto;line-height:normal;font-family:Menlo,'DejaVu Sans Mono',consolas,'Courier New',monospace\"><span style=\"color: #008000; text-decoration-color: #008000\">DEBUG</span> Audio generated successfully                                                                                 \n",
              "</pre>\n"
            ]
          },
          "metadata": {}
        },
        {
          "output_type": "display_data",
          "data": {
            "text/plain": [
              "\u001b[32mDEBUG\u001b[0m **********************  TOOL METRICS  **********************                                                 \n"
            ],
            "text/html": [
              "<pre style=\"white-space:pre;overflow-x:auto;line-height:normal;font-family:Menlo,'DejaVu Sans Mono',consolas,'Courier New',monospace\"><span style=\"color: #008000; text-decoration-color: #008000\">DEBUG</span> **********************  TOOL METRICS  **********************                                                 \n",
              "</pre>\n"
            ]
          },
          "metadata": {}
        },
        {
          "output_type": "display_data",
          "data": {
            "text/plain": [
              "\u001b[32mDEBUG\u001b[0m * Time:                        \u001b[1;36m1.\u001b[0m9831s                                                                       \n"
            ],
            "text/html": [
              "<pre style=\"white-space:pre;overflow-x:auto;line-height:normal;font-family:Menlo,'DejaVu Sans Mono',consolas,'Courier New',monospace\"><span style=\"color: #008000; text-decoration-color: #008000\">DEBUG</span> * Time:                        <span style=\"color: #008080; text-decoration-color: #008080; font-weight: bold\">1.</span>9831s                                                                       \n",
              "</pre>\n"
            ]
          },
          "metadata": {}
        },
        {
          "output_type": "display_data",
          "data": {
            "text/plain": [
              "\u001b[32mDEBUG\u001b[0m **********************  TOOL METRICS  **********************                                                 \n"
            ],
            "text/html": [
              "<pre style=\"white-space:pre;overflow-x:auto;line-height:normal;font-family:Menlo,'DejaVu Sans Mono',consolas,'Courier New',monospace\"><span style=\"color: #008000; text-decoration-color: #008000\">DEBUG</span> **********************  TOOL METRICS  **********************                                                 \n",
              "</pre>\n"
            ]
          },
          "metadata": {}
        },
        {
          "output_type": "display_data",
          "data": {
            "text/plain": [
              "\u001b[32mDEBUG\u001b[0m ======================== assistant =========================                                                 \n"
            ],
            "text/html": [
              "<pre style=\"white-space:pre;overflow-x:auto;line-height:normal;font-family:Menlo,'DejaVu Sans Mono',consolas,'Courier New',monospace\"><span style=\"color: #008000; text-decoration-color: #008000\">DEBUG</span> ======================== assistant =========================                                                 \n",
              "</pre>\n"
            ]
          },
          "metadata": {}
        },
        {
          "output_type": "display_data",
          "data": {
            "text/plain": [
              "\u001b[32mDEBUG\u001b[0m ## TULU प्रशिक्षण और मूल्यांकन                                                                                      \n",
              "      TULU को Metaverse के लिए एक भाषा मॉडल के रूप में प्रशिक्षित और मूल्यांकन किया गया था। यह भाषा मॉडल विभिन्न प्रकार की भाषाओं और बोलियों को समझने और   \n",
              "      उत्तर देने में सक्षम है, जो इसे विश्वसनीय और उपयोगकर्ता-मित्री बनाता है।                                                          \n"
            ],
            "text/html": [
              "<pre style=\"white-space:pre;overflow-x:auto;line-height:normal;font-family:Menlo,'DejaVu Sans Mono',consolas,'Courier New',monospace\"><span style=\"color: #008000; text-decoration-color: #008000\">DEBUG</span> ## TULU प्रशिक्षण और मूल्यांकन                                                                                      \n",
              "      TULU को Metaverse के लिए एक भाषा मॉडल के रूप में प्रशिक्षित और मूल्यांकन किया गया था। यह भाषा मॉडल विभिन्न प्रकार की भाषाओं और बोलियों को समझने और   \n",
              "      उत्तर देने में सक्षम है, जो इसे विश्वसनीय और उपयोगकर्ता-मित्री बनाता है।                                                          \n",
              "</pre>\n"
            ]
          },
          "metadata": {}
        },
        {
          "output_type": "display_data",
          "data": {
            "text/plain": [
              "\u001b[32mDEBUG\u001b[0m ************************  METRICS  *************************                                                 \n"
            ],
            "text/html": [
              "<pre style=\"white-space:pre;overflow-x:auto;line-height:normal;font-family:Menlo,'DejaVu Sans Mono',consolas,'Courier New',monospace\"><span style=\"color: #008000; text-decoration-color: #008000\">DEBUG</span> ************************  METRICS  *************************                                                 \n",
              "</pre>\n"
            ]
          },
          "metadata": {}
        },
        {
          "output_type": "display_data",
          "data": {
            "text/plain": [
              "\u001b[32mDEBUG\u001b[0m * Tokens:                      \u001b[33minput\u001b[0m=\u001b[1;36m775\u001b[0m, \u001b[33moutput\u001b[0m=\u001b[1;36m125\u001b[0m, \u001b[33mtotal\u001b[0m=\u001b[1;36m900\u001b[0m                                              \n"
            ],
            "text/html": [
              "<pre style=\"white-space:pre;overflow-x:auto;line-height:normal;font-family:Menlo,'DejaVu Sans Mono',consolas,'Courier New',monospace\"><span style=\"color: #008000; text-decoration-color: #008000\">DEBUG</span> * Tokens:                      <span style=\"color: #808000; text-decoration-color: #808000\">input</span>=<span style=\"color: #008080; text-decoration-color: #008080; font-weight: bold\">775</span>, <span style=\"color: #808000; text-decoration-color: #808000\">output</span>=<span style=\"color: #008080; text-decoration-color: #008080; font-weight: bold\">125</span>, <span style=\"color: #808000; text-decoration-color: #808000\">total</span>=<span style=\"color: #008080; text-decoration-color: #008080; font-weight: bold\">900</span>                                              \n",
              "</pre>\n"
            ]
          },
          "metadata": {}
        },
        {
          "output_type": "display_data",
          "data": {
            "text/plain": [
              "\u001b[32mDEBUG\u001b[0m * Time:                        \u001b[1;36m0.\u001b[0m8002s                                                                       \n"
            ],
            "text/html": [
              "<pre style=\"white-space:pre;overflow-x:auto;line-height:normal;font-family:Menlo,'DejaVu Sans Mono',consolas,'Courier New',monospace\"><span style=\"color: #008000; text-decoration-color: #008000\">DEBUG</span> * Time:                        <span style=\"color: #008080; text-decoration-color: #008080; font-weight: bold\">0.</span>8002s                                                                       \n",
              "</pre>\n"
            ]
          },
          "metadata": {}
        },
        {
          "output_type": "display_data",
          "data": {
            "text/plain": [
              "\u001b[32mDEBUG\u001b[0m * Tokens per second:           \u001b[1;36m156.2177\u001b[0m tokens/s                                                             \n"
            ],
            "text/html": [
              "<pre style=\"white-space:pre;overflow-x:auto;line-height:normal;font-family:Menlo,'DejaVu Sans Mono',consolas,'Courier New',monospace\"><span style=\"color: #008000; text-decoration-color: #008000\">DEBUG</span> * Tokens per second:           <span style=\"color: #008080; text-decoration-color: #008080; font-weight: bold\">156.2177</span> tokens/s                                                             \n",
              "</pre>\n"
            ]
          },
          "metadata": {}
        },
        {
          "output_type": "display_data",
          "data": {
            "text/plain": [
              "\u001b[32mDEBUG\u001b[0m * Additional metrics:          \u001b[1m{\u001b[0m\u001b[32m'completion_time'\u001b[0m: \u001b[1;36m0.454545455\u001b[0m, \u001b[32m'prompt_time'\u001b[0m: \u001b[1;36m0.06030744\u001b[0m, \u001b[32m'queue_time'\u001b[0m:     \n",
              "      \u001b[1;36m0.21687502800000003\u001b[0m, \u001b[32m'total_time'\u001b[0m: \u001b[1;36m0.514852895\u001b[0m\u001b[1m}\u001b[0m                                                              \n"
            ],
            "text/html": [
              "<pre style=\"white-space:pre;overflow-x:auto;line-height:normal;font-family:Menlo,'DejaVu Sans Mono',consolas,'Courier New',monospace\"><span style=\"color: #008000; text-decoration-color: #008000\">DEBUG</span> * Additional metrics:          <span style=\"font-weight: bold\">{</span><span style=\"color: #008000; text-decoration-color: #008000\">'completion_time'</span>: <span style=\"color: #008080; text-decoration-color: #008080; font-weight: bold\">0.454545455</span>, <span style=\"color: #008000; text-decoration-color: #008000\">'prompt_time'</span>: <span style=\"color: #008080; text-decoration-color: #008080; font-weight: bold\">0.06030744</span>, <span style=\"color: #008000; text-decoration-color: #008000\">'queue_time'</span>:     \n",
              "      <span style=\"color: #008080; text-decoration-color: #008080; font-weight: bold\">0.21687502800000003</span>, <span style=\"color: #008000; text-decoration-color: #008000\">'total_time'</span>: <span style=\"color: #008080; text-decoration-color: #008080; font-weight: bold\">0.514852895</span><span style=\"font-weight: bold\">}</span>                                                              \n",
              "</pre>\n"
            ]
          },
          "metadata": {}
        },
        {
          "output_type": "display_data",
          "data": {
            "text/plain": [
              "\u001b[32mDEBUG\u001b[0m ************************  METRICS  *************************                                                 \n"
            ],
            "text/html": [
              "<pre style=\"white-space:pre;overflow-x:auto;line-height:normal;font-family:Menlo,'DejaVu Sans Mono',consolas,'Courier New',monospace\"><span style=\"color: #008000; text-decoration-color: #008000\">DEBUG</span> ************************  METRICS  *************************                                                 \n",
              "</pre>\n"
            ]
          },
          "metadata": {}
        },
        {
          "output_type": "display_data",
          "data": {
            "text/plain": [
              "\u001b[32mDEBUG\u001b[0m -------------------- Groq Response End ---------------------                                                 \n"
            ],
            "text/html": [
              "<pre style=\"white-space:pre;overflow-x:auto;line-height:normal;font-family:Menlo,'DejaVu Sans Mono',consolas,'Courier New',monospace\"><span style=\"color: #008000; text-decoration-color: #008000\">DEBUG</span> -------------------- Groq Response End ---------------------                                                 \n",
              "</pre>\n"
            ]
          },
          "metadata": {}
        },
        {
          "output_type": "display_data",
          "data": {
            "text/plain": [
              "\u001b[32mDEBUG\u001b[0m Added \u001b[1;36m4\u001b[0m Messages to AgentMemory                                                                              \n"
            ],
            "text/html": [
              "<pre style=\"white-space:pre;overflow-x:auto;line-height:normal;font-family:Menlo,'DejaVu Sans Mono',consolas,'Courier New',monospace\"><span style=\"color: #008000; text-decoration-color: #008000\">DEBUG</span> Added <span style=\"color: #008080; text-decoration-color: #008080; font-weight: bold\">4</span> Messages to AgentMemory                                                                              \n",
              "</pre>\n"
            ]
          },
          "metadata": {}
        },
        {
          "output_type": "display_data",
          "data": {
            "text/plain": [
              "\u001b[32mDEBUG\u001b[0m Added AgentRun to AgentMemory                                                                                \n"
            ],
            "text/html": [
              "<pre style=\"white-space:pre;overflow-x:auto;line-height:normal;font-family:Menlo,'DejaVu Sans Mono',consolas,'Courier New',monospace\"><span style=\"color: #008000; text-decoration-color: #008000\">DEBUG</span> Added AgentRun to AgentMemory                                                                                \n",
              "</pre>\n"
            ]
          },
          "metadata": {}
        },
        {
          "output_type": "display_data",
          "data": {
            "text/plain": [
              "\u001b[32mDEBUG\u001b[0m Logging Agent Run                                                                                            \n"
            ],
            "text/html": [
              "<pre style=\"white-space:pre;overflow-x:auto;line-height:normal;font-family:Menlo,'DejaVu Sans Mono',consolas,'Courier New',monospace\"><span style=\"color: #008000; text-decoration-color: #008000\">DEBUG</span> Logging Agent Run                                                                                            \n",
              "</pre>\n"
            ]
          },
          "metadata": {}
        },
        {
          "output_type": "display_data",
          "data": {
            "text/plain": [
              "\u001b[32mDEBUG\u001b[0m *** Agent Run End: \u001b[93mc588bc8f-41c5-4100-91fc-d488634d0639\u001b[0m ****                                                 \n"
            ],
            "text/html": [
              "<pre style=\"white-space:pre;overflow-x:auto;line-height:normal;font-family:Menlo,'DejaVu Sans Mono',consolas,'Courier New',monospace\"><span style=\"color: #008000; text-decoration-color: #008000\">DEBUG</span> *** Agent Run End: <span style=\"color: #ffff00; text-decoration-color: #ffff00\">c588bc8f-41c5-4100-91fc-d488634d0639</span> ****                                                 \n",
              "</pre>\n"
            ]
          },
          "metadata": {}
        },
        {
          "output_type": "stream",
          "name": "stdout",
          "text": [
            "Audio saved successfully to: hindi_rag_audio_generations/sample_audio5060bbae-21a5-4480-83d3-0859ac424f25.wav\n"
          ]
        }
      ]
    },
    {
      "source": [
        "run: RunResponse = hindi_audio_rag_agent.run(\n",
        "    f\"Generate audio from the knowlegde base describing the following in detail: TULU के प्रशिक्षण और मूल्यांकन की प्रक्रिया क्या थी? इसके प्रशिक्षण में किन डेटासेट और तकनीकों का उपयोग किया गया था? इसके प्रदर्शन का मूल्यांकन कैसे किया गया और इसके परिणाम क्या थे?\"\n",
        ")\n",
        "\n",
        "save_dir = \"hindi_rag_audio_generations\"\n",
        "\n",
        "if run.audio is not None and len(run.audio) > 0:\n",
        "    try:\n",
        "        os.makedirs(save_dir, exist_ok=True)\n",
        "        filename = f\"{save_dir}/sample_audio{uuid4()}.wav\"\n",
        "        write_audio_to_file(\n",
        "            audio=run.audio[0].base64_audio,\n",
        "            filename=filename\n",
        "        )\n",
        "        print(f\"Audio saved successfully to: {filename}\")\n",
        "    except Exception as e:\n",
        "        print(f\"Error saving audio file: {e}\")"
      ],
      "cell_type": "code",
      "metadata": {
        "colab": {
          "base_uri": "https://localhost:8080/",
          "height": 1000
        },
        "id": "CtiTKEPYUSE4",
        "outputId": "4bc9f422-63b9-4931-b741-dd20360d1c6d"
      },
      "execution_count": null,
      "outputs": [
        {
          "output_type": "display_data",
          "data": {
            "text/plain": [
              "\u001b[32mDEBUG\u001b[0m ************* Agent ID: hindi_audio_rag_agent **************                                                 \n"
            ],
            "text/html": [
              "<pre style=\"white-space:pre;overflow-x:auto;line-height:normal;font-family:Menlo,'DejaVu Sans Mono',consolas,'Courier New',monospace\"><span style=\"color: #008000; text-decoration-color: #008000\">DEBUG</span> ************* Agent ID: hindi_audio_rag_agent **************                                                 \n",
              "</pre>\n"
            ]
          },
          "metadata": {}
        },
        {
          "output_type": "display_data",
          "data": {
            "text/plain": [
              "\u001b[32mDEBUG\u001b[0m ***** Session ID: \u001b[93m787e3226-1a96-4303-90f3-1069f64e61e3\u001b[0m *****                                                 \n"
            ],
            "text/html": [
              "<pre style=\"white-space:pre;overflow-x:auto;line-height:normal;font-family:Menlo,'DejaVu Sans Mono',consolas,'Courier New',monospace\"><span style=\"color: #008000; text-decoration-color: #008000\">DEBUG</span> ***** Session ID: <span style=\"color: #ffff00; text-decoration-color: #ffff00\">787e3226-1a96-4303-90f3-1069f64e61e3</span> *****                                                 \n",
              "</pre>\n"
            ]
          },
          "metadata": {}
        },
        {
          "output_type": "display_data",
          "data": {
            "text/plain": [
              "\u001b[32mDEBUG\u001b[0m ** Agent Run Start: \u001b[93m430b7496-c37c-4ed2-ae00-d33923be6234\u001b[0m ***                                                 \n"
            ],
            "text/html": [
              "<pre style=\"white-space:pre;overflow-x:auto;line-height:normal;font-family:Menlo,'DejaVu Sans Mono',consolas,'Courier New',monospace\"><span style=\"color: #008000; text-decoration-color: #008000\">DEBUG</span> ** Agent Run Start: <span style=\"color: #ffff00; text-decoration-color: #ffff00\">430b7496-c37c-4ed2-ae00-d33923be6234</span> ***                                                 \n",
              "</pre>\n"
            ]
          },
          "metadata": {}
        },
        {
          "output_type": "display_data",
          "data": {
            "text/plain": [
              "\u001b[32mDEBUG\u001b[0m ------------------- Groq Response Start --------------------                                                 \n"
            ],
            "text/html": [
              "<pre style=\"white-space:pre;overflow-x:auto;line-height:normal;font-family:Menlo,'DejaVu Sans Mono',consolas,'Courier New',monospace\"><span style=\"color: #008000; text-decoration-color: #008000\">DEBUG</span> ------------------- Groq Response Start --------------------                                                 \n",
              "</pre>\n"
            ]
          },
          "metadata": {}
        },
        {
          "output_type": "display_data",
          "data": {
            "text/plain": [
              "\u001b[32mDEBUG\u001b[0m -------------- Model: llama-\u001b[1;36m3.3\u001b[0m-70b-versatile --------------                                                 \n"
            ],
            "text/html": [
              "<pre style=\"white-space:pre;overflow-x:auto;line-height:normal;font-family:Menlo,'DejaVu Sans Mono',consolas,'Courier New',monospace\"><span style=\"color: #008000; text-decoration-color: #008000\">DEBUG</span> -------------- Model: llama-<span style=\"color: #008080; text-decoration-color: #008080; font-weight: bold\">3.3</span>-70b-versatile --------------                                                 \n",
              "</pre>\n"
            ]
          },
          "metadata": {}
        },
        {
          "output_type": "display_data",
          "data": {
            "text/plain": [
              "\u001b[32mDEBUG\u001b[0m ========================== system ==========================                                                 \n"
            ],
            "text/html": [
              "<pre style=\"white-space:pre;overflow-x:auto;line-height:normal;font-family:Menlo,'DejaVu Sans Mono',consolas,'Courier New',monospace\"><span style=\"color: #008000; text-decoration-color: #008000\">DEBUG</span> ========================== system ==========================                                                 \n",
              "</pre>\n"
            ]
          },
          "metadata": {}
        },
        {
          "output_type": "display_data",
          "data": {
            "text/plain": [
              "\u001b[32mDEBUG\u001b[0m You are an AI agent that can generate audio using the ElevenLabs API for the knowlegde provided to the agent \n",
              "      \u001b[1m<\u001b[0m\u001b[1;95minstructions\u001b[0m\u001b[39m>\u001b[0m                                                                                               \n",
              "      \u001b[39mYou are an intelligent voice-enabled Retrieval-Augmented Generation \u001b[0m\u001b[1;39m(\u001b[0m\u001b[39mRAG\u001b[0m\u001b[1;39m)\u001b[0m\u001b[39m agent named Audio RAG Agent. Your \u001b[0m \n",
              "      \u001b[39mtask is to understand user queries, retrieve the most relevant context from your knowledge base, and generate\u001b[0m\n",
              "      \u001b[39maccurate, informative, and human-like voice responses using the ElevenLabs API. Always ground your answers \u001b[0m  \n",
              "      \u001b[39mstrictly in the provided knowledge base. If relevant information is not found, clearly state that you do not \u001b[0m\n",
              "      \u001b[39mhave enough information. Ensure that your responses are concise, easy to understand when spoken, and free of \u001b[0m\n",
              "      \u001b[39mhallucinations or speculative content. Your voice output should reflect a natural conversational tone, \u001b[0m      \n",
              "      \u001b[39mappropriate pauses, and correct pronunciation. Do not generate responses unrelated to the user's query or \u001b[0m   \n",
              "      \u001b[39moutside the domain of the knowledge base.\u001b[0m                                                                    \n",
              "      \u001b[39m<\u001b[0m\u001b[35m/\u001b[0m\u001b[95minstructions\u001b[0m\u001b[39m>\u001b[0m                                                                                              \n",
              "                                                                                                                   \n",
              "      \u001b[39m<additional_information>\u001b[0m                                                                                     \n",
              "      \u001b[39m- Use markdown to format your answers.\u001b[0m                                                                       \n",
              "      \u001b[39m<\u001b[0m\u001b[35m/\u001b[0m\u001b[95madditional_information\u001b[0m\u001b[1m>\u001b[0m                                                                                    \n"
            ],
            "text/html": [
              "<pre style=\"white-space:pre;overflow-x:auto;line-height:normal;font-family:Menlo,'DejaVu Sans Mono',consolas,'Courier New',monospace\"><span style=\"color: #008000; text-decoration-color: #008000\">DEBUG</span> You are an AI agent that can generate audio using the ElevenLabs API for the knowlegde provided to the agent \n",
              "      <span style=\"font-weight: bold\">&lt;</span><span style=\"color: #ff00ff; text-decoration-color: #ff00ff; font-weight: bold\">instructions</span><span style=\"color: #000000; text-decoration-color: #000000\">&gt;</span>                                                                                               \n",
              "      <span style=\"color: #000000; text-decoration-color: #000000\">You are an intelligent voice-enabled Retrieval-Augmented Generation </span><span style=\"color: #000000; text-decoration-color: #000000; font-weight: bold\">(</span><span style=\"color: #000000; text-decoration-color: #000000\">RAG</span><span style=\"color: #000000; text-decoration-color: #000000; font-weight: bold\">)</span><span style=\"color: #000000; text-decoration-color: #000000\"> agent named Audio RAG Agent. Your </span> \n",
              "      <span style=\"color: #000000; text-decoration-color: #000000\">task is to understand user queries, retrieve the most relevant context from your knowledge base, and generate</span>\n",
              "      <span style=\"color: #000000; text-decoration-color: #000000\">accurate, informative, and human-like voice responses using the ElevenLabs API. Always ground your answers </span>  \n",
              "      <span style=\"color: #000000; text-decoration-color: #000000\">strictly in the provided knowledge base. If relevant information is not found, clearly state that you do not </span>\n",
              "      <span style=\"color: #000000; text-decoration-color: #000000\">have enough information. Ensure that your responses are concise, easy to understand when spoken, and free of </span>\n",
              "      <span style=\"color: #000000; text-decoration-color: #000000\">hallucinations or speculative content. Your voice output should reflect a natural conversational tone, </span>      \n",
              "      <span style=\"color: #000000; text-decoration-color: #000000\">appropriate pauses, and correct pronunciation. Do not generate responses unrelated to the user's query or </span>   \n",
              "      <span style=\"color: #000000; text-decoration-color: #000000\">outside the domain of the knowledge base.</span>                                                                    \n",
              "      <span style=\"color: #000000; text-decoration-color: #000000\">&lt;</span><span style=\"color: #800080; text-decoration-color: #800080\">/</span><span style=\"color: #ff00ff; text-decoration-color: #ff00ff\">instructions</span><span style=\"color: #000000; text-decoration-color: #000000\">&gt;</span>                                                                                              \n",
              "                                                                                                                   \n",
              "      <span style=\"color: #000000; text-decoration-color: #000000\">&lt;additional_information&gt;</span>                                                                                     \n",
              "      <span style=\"color: #000000; text-decoration-color: #000000\">- Use markdown to format your answers.</span>                                                                       \n",
              "      <span style=\"color: #000000; text-decoration-color: #000000\">&lt;</span><span style=\"color: #800080; text-decoration-color: #800080\">/</span><span style=\"color: #ff00ff; text-decoration-color: #ff00ff\">additional_information</span><span style=\"font-weight: bold\">&gt;</span>                                                                                    \n",
              "</pre>\n"
            ]
          },
          "metadata": {}
        },
        {
          "output_type": "display_data",
          "data": {
            "text/plain": [
              "\u001b[32mDEBUG\u001b[0m =========================== user ===========================                                                 \n"
            ],
            "text/html": [
              "<pre style=\"white-space:pre;overflow-x:auto;line-height:normal;font-family:Menlo,'DejaVu Sans Mono',consolas,'Courier New',monospace\"><span style=\"color: #008000; text-decoration-color: #008000\">DEBUG</span> =========================== user ===========================                                                 \n",
              "</pre>\n"
            ]
          },
          "metadata": {}
        },
        {
          "output_type": "display_data",
          "data": {
            "text/plain": [
              "\u001b[32mDEBUG\u001b[0m Generate audio from the knowlegde base describing the following in detail: TULU के प्रशिक्षण और मूल्यांकन की प्रक्रिया क्या \n",
              "      थी? इसके प्रशिक्षण में किन डेटासेट और तकनीकों का उपयोग किया गया था? इसके प्रदर्शन का मूल्यांकन कैसे किया गया और इसके परिणाम क्या थे?                \n"
            ],
            "text/html": [
              "<pre style=\"white-space:pre;overflow-x:auto;line-height:normal;font-family:Menlo,'DejaVu Sans Mono',consolas,'Courier New',monospace\"><span style=\"color: #008000; text-decoration-color: #008000\">DEBUG</span> Generate audio from the knowlegde base describing the following in detail: TULU के प्रशिक्षण और मूल्यांकन की प्रक्रिया क्या \n",
              "      थी? इसके प्रशिक्षण में किन डेटासेट और तकनीकों का उपयोग किया गया था? इसके प्रदर्शन का मूल्यांकन कैसे किया गया और इसके परिणाम क्या थे?                \n",
              "</pre>\n"
            ]
          },
          "metadata": {}
        },
        {
          "output_type": "display_data",
          "data": {
            "text/plain": [
              "\u001b[32mDEBUG\u001b[0m ======================== assistant =========================                                                 \n"
            ],
            "text/html": [
              "<pre style=\"white-space:pre;overflow-x:auto;line-height:normal;font-family:Menlo,'DejaVu Sans Mono',consolas,'Courier New',monospace\"><span style=\"color: #008000; text-decoration-color: #008000\">DEBUG</span> ======================== assistant =========================                                                 \n",
              "</pre>\n"
            ]
          },
          "metadata": {}
        },
        {
          "output_type": "display_data",
          "data": {
            "text/plain": [
              "\u001b[32mDEBUG\u001b[0m Tool Calls:                                                                                                  \n",
              "        - ID: \u001b[32m'call_fzh2'\u001b[0m                                                                                          \n",
              "          Name: \u001b[32m'text_to_speech'\u001b[0m                                                                                   \n",
              "          Arguments: \u001b[32m'prompt: TULU के प्रशिक्षण और मूल्यांकन की प्रक्रिया विस्तृत रूप से जानने के लिए, हमें यह जानना होगा कि इसके निर्माण में किन तकनीकों\u001b[0m \n",
              "      \u001b[32mऔर डेटासेट्स का उपयोग किया गया था। TULU का प्रशिक्षण एक विशाल डेटासेट पर किया गया था, जिसमें विभिन्न प्रकार की भाषाई और सांस्कृतिक जानकारी शामिल थी। इस\u001b[0m   \n",
              "      \u001b[32mप्रशिक्षण में डीप लर्निंग मॉडल्स का उपयोग किया गया था, जो भाषा की जटिलताओं को समझने और सामाजिक संदर्भों को पहचानने में सक्षम थे। इसके अलावा, TULU के\u001b[0m     \n",
              "      \u001b[32mप्रशिक्षण में विभिन्न तकनीकों का उपयोग किया गया था, जैसे कि स्व-पर्यवेक्षी, जो मॉडल को स्वयं से सीखने और सुधारने में मदद करता था। TULU के प्रदर्शन का\u001b[0m    \n",
              "      \u001b[32mमूल्यांकन विभिन्न मेट्रिक्स पर किया गया था, जैसे कि सटीकता, प्रासंगिकता, और उपयोगकर्ता अनुभव। इसके परिणामों से पता चलता है कि TULU ने भाषा समझने और संवाद\u001b[0m \n",
              "      \u001b[32mकरने में उच्च स्तर की क्षमता प्रदर्शित की है, जो इसे एक शक्तिशाली और उपयोगी टूल बनाता है।'\u001b[0m                                            \n"
            ],
            "text/html": [
              "<pre style=\"white-space:pre;overflow-x:auto;line-height:normal;font-family:Menlo,'DejaVu Sans Mono',consolas,'Courier New',monospace\"><span style=\"color: #008000; text-decoration-color: #008000\">DEBUG</span> Tool Calls:                                                                                                  \n",
              "        - ID: <span style=\"color: #008000; text-decoration-color: #008000\">'call_fzh2'</span>                                                                                          \n",
              "          Name: <span style=\"color: #008000; text-decoration-color: #008000\">'text_to_speech'</span>                                                                                   \n",
              "          Arguments: <span style=\"color: #008000; text-decoration-color: #008000\">'prompt: TULU के प्रशिक्षण और मूल्यांकन की प्रक्रिया विस्तृत रूप से जानने के लिए, हमें यह जानना होगा कि इसके निर्माण में किन तकनीकों</span> \n",
              "      <span style=\"color: #008000; text-decoration-color: #008000\">और डेटासेट्स का उपयोग किया गया था। TULU का प्रशिक्षण एक विशाल डेटासेट पर किया गया था, जिसमें विभिन्न प्रकार की भाषाई और सांस्कृतिक जानकारी शामिल थी। इस</span>   \n",
              "      <span style=\"color: #008000; text-decoration-color: #008000\">प्रशिक्षण में डीप लर्निंग मॉडल्स का उपयोग किया गया था, जो भाषा की जटिलताओं को समझने और सामाजिक संदर्भों को पहचानने में सक्षम थे। इसके अलावा, TULU के</span>     \n",
              "      <span style=\"color: #008000; text-decoration-color: #008000\">प्रशिक्षण में विभिन्न तकनीकों का उपयोग किया गया था, जैसे कि स्व-पर्यवेक्षी, जो मॉडल को स्वयं से सीखने और सुधारने में मदद करता था। TULU के प्रदर्शन का</span>    \n",
              "      <span style=\"color: #008000; text-decoration-color: #008000\">मूल्यांकन विभिन्न मेट्रिक्स पर किया गया था, जैसे कि सटीकता, प्रासंगिकता, और उपयोगकर्ता अनुभव। इसके परिणामों से पता चलता है कि TULU ने भाषा समझने और संवाद</span> \n",
              "      <span style=\"color: #008000; text-decoration-color: #008000\">करने में उच्च स्तर की क्षमता प्रदर्शित की है, जो इसे एक शक्तिशाली और उपयोगी टूल बनाता है।'</span>                                            \n",
              "</pre>\n"
            ]
          },
          "metadata": {}
        },
        {
          "output_type": "display_data",
          "data": {
            "text/plain": [
              "\u001b[32mDEBUG\u001b[0m ************************  METRICS  *************************                                                 \n"
            ],
            "text/html": [
              "<pre style=\"white-space:pre;overflow-x:auto;line-height:normal;font-family:Menlo,'DejaVu Sans Mono',consolas,'Courier New',monospace\"><span style=\"color: #008000; text-decoration-color: #008000\">DEBUG</span> ************************  METRICS  *************************                                                 \n",
              "</pre>\n"
            ]
          },
          "metadata": {}
        },
        {
          "output_type": "display_data",
          "data": {
            "text/plain": [
              "\u001b[32mDEBUG\u001b[0m * Tokens:                      \u001b[33minput\u001b[0m=\u001b[1;36m774\u001b[0m, \u001b[33moutput\u001b[0m=\u001b[1;36m424\u001b[0m, \u001b[33mtotal\u001b[0m=\u001b[1;36m1198\u001b[0m                                             \n"
            ],
            "text/html": [
              "<pre style=\"white-space:pre;overflow-x:auto;line-height:normal;font-family:Menlo,'DejaVu Sans Mono',consolas,'Courier New',monospace\"><span style=\"color: #008000; text-decoration-color: #008000\">DEBUG</span> * Tokens:                      <span style=\"color: #808000; text-decoration-color: #808000\">input</span>=<span style=\"color: #008080; text-decoration-color: #008080; font-weight: bold\">774</span>, <span style=\"color: #808000; text-decoration-color: #808000\">output</span>=<span style=\"color: #008080; text-decoration-color: #008080; font-weight: bold\">424</span>, <span style=\"color: #808000; text-decoration-color: #808000\">total</span>=<span style=\"color: #008080; text-decoration-color: #008080; font-weight: bold\">1198</span>                                             \n",
              "</pre>\n"
            ]
          },
          "metadata": {}
        },
        {
          "output_type": "display_data",
          "data": {
            "text/plain": [
              "\u001b[32mDEBUG\u001b[0m * Time:                        \u001b[1;36m2.\u001b[0m0189s                                                                       \n"
            ],
            "text/html": [
              "<pre style=\"white-space:pre;overflow-x:auto;line-height:normal;font-family:Menlo,'DejaVu Sans Mono',consolas,'Courier New',monospace\"><span style=\"color: #008000; text-decoration-color: #008000\">DEBUG</span> * Time:                        <span style=\"color: #008080; text-decoration-color: #008080; font-weight: bold\">2.</span>0189s                                                                       \n",
              "</pre>\n"
            ]
          },
          "metadata": {}
        },
        {
          "output_type": "display_data",
          "data": {
            "text/plain": [
              "\u001b[32mDEBUG\u001b[0m * Tokens per second:           \u001b[1;36m210.0151\u001b[0m tokens/s                                                             \n"
            ],
            "text/html": [
              "<pre style=\"white-space:pre;overflow-x:auto;line-height:normal;font-family:Menlo,'DejaVu Sans Mono',consolas,'Courier New',monospace\"><span style=\"color: #008000; text-decoration-color: #008000\">DEBUG</span> * Tokens per second:           <span style=\"color: #008080; text-decoration-color: #008080; font-weight: bold\">210.0151</span> tokens/s                                                             \n",
              "</pre>\n"
            ]
          },
          "metadata": {}
        },
        {
          "output_type": "display_data",
          "data": {
            "text/plain": [
              "\u001b[32mDEBUG\u001b[0m * Additional metrics:          \u001b[1m{\u001b[0m\u001b[32m'completion_time'\u001b[0m: \u001b[1;36m1.541818182\u001b[0m, \u001b[32m'prompt_time'\u001b[0m: \u001b[1;36m0.05715033\u001b[0m, \u001b[32m'queue_time'\u001b[0m:     \n",
              "      \u001b[1;36m0.221919214\u001b[0m, \u001b[32m'total_time'\u001b[0m: \u001b[1;36m1.598968512\u001b[0m\u001b[1m}\u001b[0m                                                                      \n"
            ],
            "text/html": [
              "<pre style=\"white-space:pre;overflow-x:auto;line-height:normal;font-family:Menlo,'DejaVu Sans Mono',consolas,'Courier New',monospace\"><span style=\"color: #008000; text-decoration-color: #008000\">DEBUG</span> * Additional metrics:          <span style=\"font-weight: bold\">{</span><span style=\"color: #008000; text-decoration-color: #008000\">'completion_time'</span>: <span style=\"color: #008080; text-decoration-color: #008080; font-weight: bold\">1.541818182</span>, <span style=\"color: #008000; text-decoration-color: #008000\">'prompt_time'</span>: <span style=\"color: #008080; text-decoration-color: #008080; font-weight: bold\">0.05715033</span>, <span style=\"color: #008000; text-decoration-color: #008000\">'queue_time'</span>:     \n",
              "      <span style=\"color: #008080; text-decoration-color: #008080; font-weight: bold\">0.221919214</span>, <span style=\"color: #008000; text-decoration-color: #008000\">'total_time'</span>: <span style=\"color: #008080; text-decoration-color: #008080; font-weight: bold\">1.598968512</span><span style=\"font-weight: bold\">}</span>                                                                      \n",
              "</pre>\n"
            ]
          },
          "metadata": {}
        },
        {
          "output_type": "display_data",
          "data": {
            "text/plain": [
              "\u001b[32mDEBUG\u001b[0m ************************  METRICS  *************************                                                 \n"
            ],
            "text/html": [
              "<pre style=\"white-space:pre;overflow-x:auto;line-height:normal;font-family:Menlo,'DejaVu Sans Mono',consolas,'Courier New',monospace\"><span style=\"color: #008000; text-decoration-color: #008000\">DEBUG</span> ************************  METRICS  *************************                                                 \n",
              "</pre>\n"
            ]
          },
          "metadata": {}
        },
        {
          "output_type": "display_data",
          "data": {
            "text/plain": [
              "\u001b[32mDEBUG\u001b[0m Getting function text_to_speech                                                                              \n"
            ],
            "text/html": [
              "<pre style=\"white-space:pre;overflow-x:auto;line-height:normal;font-family:Menlo,'DejaVu Sans Mono',consolas,'Courier New',monospace\"><span style=\"color: #008000; text-decoration-color: #008000\">DEBUG</span> Getting function text_to_speech                                                                              \n",
              "</pre>\n"
            ]
          },
          "metadata": {}
        },
        {
          "output_type": "display_data",
          "data": {
            "text/plain": [
              "\u001b[32mDEBUG\u001b[0m Running: \u001b[1;35mtext_to_speech\u001b[0m\u001b[1m(\u001b[0m\u001b[33mprompt\u001b[0m=\u001b[33m...\u001b[0m\u001b[1m)\u001b[0m                                                                          \n"
            ],
            "text/html": [
              "<pre style=\"white-space:pre;overflow-x:auto;line-height:normal;font-family:Menlo,'DejaVu Sans Mono',consolas,'Courier New',monospace\"><span style=\"color: #008000; text-decoration-color: #008000\">DEBUG</span> Running: <span style=\"color: #800080; text-decoration-color: #800080; font-weight: bold\">text_to_speech</span><span style=\"font-weight: bold\">(</span><span style=\"color: #808000; text-decoration-color: #808000\">prompt</span>=<span style=\"color: #808000; text-decoration-color: #808000\">...</span><span style=\"font-weight: bold\">)</span>                                                                          \n",
              "</pre>\n"
            ]
          },
          "metadata": {}
        },
        {
          "output_type": "display_data",
          "data": {
            "text/plain": [
              "\u001b[32mDEBUG\u001b[0m =========================== tool ===========================                                                 \n"
            ],
            "text/html": [
              "<pre style=\"white-space:pre;overflow-x:auto;line-height:normal;font-family:Menlo,'DejaVu Sans Mono',consolas,'Courier New',monospace\"><span style=\"color: #008000; text-decoration-color: #008000\">DEBUG</span> =========================== tool ===========================                                                 \n",
              "</pre>\n"
            ]
          },
          "metadata": {}
        },
        {
          "output_type": "display_data",
          "data": {
            "text/plain": [
              "\u001b[32mDEBUG\u001b[0m Tool call Id: call_fzh2                                                                                      \n"
            ],
            "text/html": [
              "<pre style=\"white-space:pre;overflow-x:auto;line-height:normal;font-family:Menlo,'DejaVu Sans Mono',consolas,'Courier New',monospace\"><span style=\"color: #008000; text-decoration-color: #008000\">DEBUG</span> Tool call Id: call_fzh2                                                                                      \n",
              "</pre>\n"
            ]
          },
          "metadata": {}
        },
        {
          "output_type": "display_data",
          "data": {
            "text/plain": [
              "\u001b[32mDEBUG\u001b[0m Audio generated successfully                                                                                 \n"
            ],
            "text/html": [
              "<pre style=\"white-space:pre;overflow-x:auto;line-height:normal;font-family:Menlo,'DejaVu Sans Mono',consolas,'Courier New',monospace\"><span style=\"color: #008000; text-decoration-color: #008000\">DEBUG</span> Audio generated successfully                                                                                 \n",
              "</pre>\n"
            ]
          },
          "metadata": {}
        },
        {
          "output_type": "display_data",
          "data": {
            "text/plain": [
              "\u001b[32mDEBUG\u001b[0m **********************  TOOL METRICS  **********************                                                 \n"
            ],
            "text/html": [
              "<pre style=\"white-space:pre;overflow-x:auto;line-height:normal;font-family:Menlo,'DejaVu Sans Mono',consolas,'Courier New',monospace\"><span style=\"color: #008000; text-decoration-color: #008000\">DEBUG</span> **********************  TOOL METRICS  **********************                                                 \n",
              "</pre>\n"
            ]
          },
          "metadata": {}
        },
        {
          "output_type": "display_data",
          "data": {
            "text/plain": [
              "\u001b[32mDEBUG\u001b[0m * Time:                        \u001b[1;36m13.\u001b[0m1218s                                                                      \n"
            ],
            "text/html": [
              "<pre style=\"white-space:pre;overflow-x:auto;line-height:normal;font-family:Menlo,'DejaVu Sans Mono',consolas,'Courier New',monospace\"><span style=\"color: #008000; text-decoration-color: #008000\">DEBUG</span> * Time:                        <span style=\"color: #008080; text-decoration-color: #008080; font-weight: bold\">13.</span>1218s                                                                      \n",
              "</pre>\n"
            ]
          },
          "metadata": {}
        },
        {
          "output_type": "display_data",
          "data": {
            "text/plain": [
              "\u001b[32mDEBUG\u001b[0m **********************  TOOL METRICS  **********************                                                 \n"
            ],
            "text/html": [
              "<pre style=\"white-space:pre;overflow-x:auto;line-height:normal;font-family:Menlo,'DejaVu Sans Mono',consolas,'Courier New',monospace\"><span style=\"color: #008000; text-decoration-color: #008000\">DEBUG</span> **********************  TOOL METRICS  **********************                                                 \n",
              "</pre>\n"
            ]
          },
          "metadata": {}
        },
        {
          "output_type": "display_data",
          "data": {
            "text/plain": [
              "\u001b[32mDEBUG\u001b[0m ======================== assistant =========================                                                 \n"
            ],
            "text/html": [
              "<pre style=\"white-space:pre;overflow-x:auto;line-height:normal;font-family:Menlo,'DejaVu Sans Mono',consolas,'Courier New',monospace\"><span style=\"color: #008000; text-decoration-color: #008000\">DEBUG</span> ======================== assistant =========================                                                 \n",
              "</pre>\n"
            ]
          },
          "metadata": {}
        },
        {
          "output_type": "display_data",
          "data": {
            "text/plain": [
              "\u001b[32mDEBUG\u001b[0m Tool Calls:                                                                                                  \n",
              "        - ID: \u001b[32m'call_kc74'\u001b[0m                                                                                          \n",
              "          Name: \u001b[32m'text_to_speech'\u001b[0m                                                                                   \n",
              "          Arguments: \u001b[32m'prompt: इसके अलावा, TULU के प्रदर्शन का मूल्यांकन विभिन्न परिदृश्यों में किया गया था, जैसे कि संवाद, अनुवाद, और पाठ विश्लेषण। इन\u001b[0m \n",
              "      \u001b[32mपरिदृश्यों में TULU ने अपनी क्षमता का प्रदर्शन किया और उपयोगकर्ताओं को संतुष्ट करने वाले परिणाम प्रस्तुत किए। TULU के परिणामों से यह पता चलता है कि यह\u001b[0m  \n",
              "      \u001b[32mएक शक्तिशाली और उपयोगी टूल है, जो विभिन्न कार्यों में उपयोगी हो सकता है।'\u001b[0m                                                           \n"
            ],
            "text/html": [
              "<pre style=\"white-space:pre;overflow-x:auto;line-height:normal;font-family:Menlo,'DejaVu Sans Mono',consolas,'Courier New',monospace\"><span style=\"color: #008000; text-decoration-color: #008000\">DEBUG</span> Tool Calls:                                                                                                  \n",
              "        - ID: <span style=\"color: #008000; text-decoration-color: #008000\">'call_kc74'</span>                                                                                          \n",
              "          Name: <span style=\"color: #008000; text-decoration-color: #008000\">'text_to_speech'</span>                                                                                   \n",
              "          Arguments: <span style=\"color: #008000; text-decoration-color: #008000\">'prompt: इसके अलावा, TULU के प्रदर्शन का मूल्यांकन विभिन्न परिदृश्यों में किया गया था, जैसे कि संवाद, अनुवाद, और पाठ विश्लेषण। इन</span> \n",
              "      <span style=\"color: #008000; text-decoration-color: #008000\">परिदृश्यों में TULU ने अपनी क्षमता का प्रदर्शन किया और उपयोगकर्ताओं को संतुष्ट करने वाले परिणाम प्रस्तुत किए। TULU के परिणामों से यह पता चलता है कि यह</span>  \n",
              "      <span style=\"color: #008000; text-decoration-color: #008000\">एक शक्तिशाली और उपयोगी टूल है, जो विभिन्न कार्यों में उपयोगी हो सकता है।'</span>                                                           \n",
              "</pre>\n"
            ]
          },
          "metadata": {}
        },
        {
          "output_type": "display_data",
          "data": {
            "text/plain": [
              "\u001b[32mDEBUG\u001b[0m ************************  METRICS  *************************                                                 \n"
            ],
            "text/html": [
              "<pre style=\"white-space:pre;overflow-x:auto;line-height:normal;font-family:Menlo,'DejaVu Sans Mono',consolas,'Courier New',monospace\"><span style=\"color: #008000; text-decoration-color: #008000\">DEBUG</span> ************************  METRICS  *************************                                                 \n",
              "</pre>\n"
            ]
          },
          "metadata": {}
        },
        {
          "output_type": "display_data",
          "data": {
            "text/plain": [
              "\u001b[32mDEBUG\u001b[0m * Tokens:                      \u001b[33minput\u001b[0m=\u001b[1;36m1211\u001b[0m, \u001b[33moutput\u001b[0m=\u001b[1;36m187\u001b[0m, \u001b[33mtotal\u001b[0m=\u001b[1;36m1398\u001b[0m                                            \n"
            ],
            "text/html": [
              "<pre style=\"white-space:pre;overflow-x:auto;line-height:normal;font-family:Menlo,'DejaVu Sans Mono',consolas,'Courier New',monospace\"><span style=\"color: #008000; text-decoration-color: #008000\">DEBUG</span> * Tokens:                      <span style=\"color: #808000; text-decoration-color: #808000\">input</span>=<span style=\"color: #008080; text-decoration-color: #008080; font-weight: bold\">1211</span>, <span style=\"color: #808000; text-decoration-color: #808000\">output</span>=<span style=\"color: #008080; text-decoration-color: #008080; font-weight: bold\">187</span>, <span style=\"color: #808000; text-decoration-color: #808000\">total</span>=<span style=\"color: #008080; text-decoration-color: #008080; font-weight: bold\">1398</span>                                            \n",
              "</pre>\n"
            ]
          },
          "metadata": {}
        },
        {
          "output_type": "display_data",
          "data": {
            "text/plain": [
              "\u001b[32mDEBUG\u001b[0m * Time:                        \u001b[1;36m1.\u001b[0m0934s                                                                       \n"
            ],
            "text/html": [
              "<pre style=\"white-space:pre;overflow-x:auto;line-height:normal;font-family:Menlo,'DejaVu Sans Mono',consolas,'Courier New',monospace\"><span style=\"color: #008000; text-decoration-color: #008000\">DEBUG</span> * Time:                        <span style=\"color: #008080; text-decoration-color: #008080; font-weight: bold\">1.</span>0934s                                                                       \n",
              "</pre>\n"
            ]
          },
          "metadata": {}
        },
        {
          "output_type": "display_data",
          "data": {
            "text/plain": [
              "\u001b[32mDEBUG\u001b[0m * Tokens per second:           \u001b[1;36m171.0278\u001b[0m tokens/s                                                             \n"
            ],
            "text/html": [
              "<pre style=\"white-space:pre;overflow-x:auto;line-height:normal;font-family:Menlo,'DejaVu Sans Mono',consolas,'Courier New',monospace\"><span style=\"color: #008000; text-decoration-color: #008000\">DEBUG</span> * Tokens per second:           <span style=\"color: #008080; text-decoration-color: #008080; font-weight: bold\">171.0278</span> tokens/s                                                             \n",
              "</pre>\n"
            ]
          },
          "metadata": {}
        },
        {
          "output_type": "display_data",
          "data": {
            "text/plain": [
              "\u001b[32mDEBUG\u001b[0m * Additional metrics:          \u001b[1m{\u001b[0m\u001b[32m'completion_time'\u001b[0m: \u001b[1;36m0.68\u001b[0m, \u001b[32m'prompt_time'\u001b[0m: \u001b[1;36m0.086128713\u001b[0m, \u001b[32m'queue_time'\u001b[0m:           \n",
              "      \u001b[1;36m0.242386556\u001b[0m, \u001b[32m'total_time'\u001b[0m: \u001b[1;36m0.766128713\u001b[0m\u001b[1m}\u001b[0m                                                                      \n"
            ],
            "text/html": [
              "<pre style=\"white-space:pre;overflow-x:auto;line-height:normal;font-family:Menlo,'DejaVu Sans Mono',consolas,'Courier New',monospace\"><span style=\"color: #008000; text-decoration-color: #008000\">DEBUG</span> * Additional metrics:          <span style=\"font-weight: bold\">{</span><span style=\"color: #008000; text-decoration-color: #008000\">'completion_time'</span>: <span style=\"color: #008080; text-decoration-color: #008080; font-weight: bold\">0.68</span>, <span style=\"color: #008000; text-decoration-color: #008000\">'prompt_time'</span>: <span style=\"color: #008080; text-decoration-color: #008080; font-weight: bold\">0.086128713</span>, <span style=\"color: #008000; text-decoration-color: #008000\">'queue_time'</span>:           \n",
              "      <span style=\"color: #008080; text-decoration-color: #008080; font-weight: bold\">0.242386556</span>, <span style=\"color: #008000; text-decoration-color: #008000\">'total_time'</span>: <span style=\"color: #008080; text-decoration-color: #008080; font-weight: bold\">0.766128713</span><span style=\"font-weight: bold\">}</span>                                                                      \n",
              "</pre>\n"
            ]
          },
          "metadata": {}
        },
        {
          "output_type": "display_data",
          "data": {
            "text/plain": [
              "\u001b[32mDEBUG\u001b[0m ************************  METRICS  *************************                                                 \n"
            ],
            "text/html": [
              "<pre style=\"white-space:pre;overflow-x:auto;line-height:normal;font-family:Menlo,'DejaVu Sans Mono',consolas,'Courier New',monospace\"><span style=\"color: #008000; text-decoration-color: #008000\">DEBUG</span> ************************  METRICS  *************************                                                 \n",
              "</pre>\n"
            ]
          },
          "metadata": {}
        },
        {
          "output_type": "display_data",
          "data": {
            "text/plain": [
              "\u001b[32mDEBUG\u001b[0m Getting function text_to_speech                                                                              \n"
            ],
            "text/html": [
              "<pre style=\"white-space:pre;overflow-x:auto;line-height:normal;font-family:Menlo,'DejaVu Sans Mono',consolas,'Courier New',monospace\"><span style=\"color: #008000; text-decoration-color: #008000\">DEBUG</span> Getting function text_to_speech                                                                              \n",
              "</pre>\n"
            ]
          },
          "metadata": {}
        },
        {
          "output_type": "display_data",
          "data": {
            "text/plain": [
              "\u001b[32mDEBUG\u001b[0m Running: \u001b[1;35mtext_to_speech\u001b[0m\u001b[1m(\u001b[0m\u001b[33mprompt\u001b[0m=\u001b[33m...\u001b[0m\u001b[1m)\u001b[0m                                                                          \n"
            ],
            "text/html": [
              "<pre style=\"white-space:pre;overflow-x:auto;line-height:normal;font-family:Menlo,'DejaVu Sans Mono',consolas,'Courier New',monospace\"><span style=\"color: #008000; text-decoration-color: #008000\">DEBUG</span> Running: <span style=\"color: #800080; text-decoration-color: #800080; font-weight: bold\">text_to_speech</span><span style=\"font-weight: bold\">(</span><span style=\"color: #808000; text-decoration-color: #808000\">prompt</span>=<span style=\"color: #808000; text-decoration-color: #808000\">...</span><span style=\"font-weight: bold\">)</span>                                                                          \n",
              "</pre>\n"
            ]
          },
          "metadata": {}
        },
        {
          "output_type": "display_data",
          "data": {
            "text/plain": [
              "\u001b[32mDEBUG\u001b[0m =========================== tool ===========================                                                 \n"
            ],
            "text/html": [
              "<pre style=\"white-space:pre;overflow-x:auto;line-height:normal;font-family:Menlo,'DejaVu Sans Mono',consolas,'Courier New',monospace\"><span style=\"color: #008000; text-decoration-color: #008000\">DEBUG</span> =========================== tool ===========================                                                 \n",
              "</pre>\n"
            ]
          },
          "metadata": {}
        },
        {
          "output_type": "display_data",
          "data": {
            "text/plain": [
              "\u001b[32mDEBUG\u001b[0m Tool call Id: call_kc74                                                                                      \n"
            ],
            "text/html": [
              "<pre style=\"white-space:pre;overflow-x:auto;line-height:normal;font-family:Menlo,'DejaVu Sans Mono',consolas,'Courier New',monospace\"><span style=\"color: #008000; text-decoration-color: #008000\">DEBUG</span> Tool call Id: call_kc74                                                                                      \n",
              "</pre>\n"
            ]
          },
          "metadata": {}
        },
        {
          "output_type": "display_data",
          "data": {
            "text/plain": [
              "\u001b[32mDEBUG\u001b[0m Audio generated successfully                                                                                 \n"
            ],
            "text/html": [
              "<pre style=\"white-space:pre;overflow-x:auto;line-height:normal;font-family:Menlo,'DejaVu Sans Mono',consolas,'Courier New',monospace\"><span style=\"color: #008000; text-decoration-color: #008000\">DEBUG</span> Audio generated successfully                                                                                 \n",
              "</pre>\n"
            ]
          },
          "metadata": {}
        },
        {
          "output_type": "display_data",
          "data": {
            "text/plain": [
              "\u001b[32mDEBUG\u001b[0m **********************  TOOL METRICS  **********************                                                 \n"
            ],
            "text/html": [
              "<pre style=\"white-space:pre;overflow-x:auto;line-height:normal;font-family:Menlo,'DejaVu Sans Mono',consolas,'Courier New',monospace\"><span style=\"color: #008000; text-decoration-color: #008000\">DEBUG</span> **********************  TOOL METRICS  **********************                                                 \n",
              "</pre>\n"
            ]
          },
          "metadata": {}
        },
        {
          "output_type": "display_data",
          "data": {
            "text/plain": [
              "\u001b[32mDEBUG\u001b[0m * Time:                        \u001b[1;36m6.\u001b[0m8340s                                                                       \n"
            ],
            "text/html": [
              "<pre style=\"white-space:pre;overflow-x:auto;line-height:normal;font-family:Menlo,'DejaVu Sans Mono',consolas,'Courier New',monospace\"><span style=\"color: #008000; text-decoration-color: #008000\">DEBUG</span> * Time:                        <span style=\"color: #008080; text-decoration-color: #008080; font-weight: bold\">6.</span>8340s                                                                       \n",
              "</pre>\n"
            ]
          },
          "metadata": {}
        },
        {
          "output_type": "display_data",
          "data": {
            "text/plain": [
              "\u001b[32mDEBUG\u001b[0m **********************  TOOL METRICS  **********************                                                 \n"
            ],
            "text/html": [
              "<pre style=\"white-space:pre;overflow-x:auto;line-height:normal;font-family:Menlo,'DejaVu Sans Mono',consolas,'Courier New',monospace\"><span style=\"color: #008000; text-decoration-color: #008000\">DEBUG</span> **********************  TOOL METRICS  **********************                                                 \n",
              "</pre>\n"
            ]
          },
          "metadata": {}
        },
        {
          "output_type": "display_data",
          "data": {
            "text/plain": [
              "\u001b[32mDEBUG\u001b[0m ======================== assistant =========================                                                 \n"
            ],
            "text/html": [
              "<pre style=\"white-space:pre;overflow-x:auto;line-height:normal;font-family:Menlo,'DejaVu Sans Mono',consolas,'Courier New',monospace\"><span style=\"color: #008000; text-decoration-color: #008000\">DEBUG</span> ======================== assistant =========================                                                 \n",
              "</pre>\n"
            ]
          },
          "metadata": {}
        },
        {
          "output_type": "display_data",
          "data": {
            "text/plain": [
              "\u001b[32mDEBUG\u001b[0m Tool Calls:                                                                                                  \n",
              "        - ID: \u001b[32m'call_hr56'\u001b[0m                                                                                          \n",
              "          Name: \u001b[32m'text_to_speech'\u001b[0m                                                                                   \n",
              "          Arguments: \u001b[32m'prompt: हालांकि, TULU के प्रदर्शन का मूल्यांकन करते समय यह ध्यान रखना महत्वपूर्ण है कि यह एक मशीन लर्निंग मॉडल है और इसकी\u001b[0m\n",
              "      \u001b[32mक्षमताएं और सीमाएं हैं। TULU के परिणामों को समझने और उपयोग करने के लिए, यह आवश्यक है कि उपयोगकर्ता इसकी सीमाओं को समझें और इसका उपयोग सावधानी से\u001b[0m   \n",
              "      \u001b[32mकरें।'\u001b[0m                                                                                                         \n"
            ],
            "text/html": [
              "<pre style=\"white-space:pre;overflow-x:auto;line-height:normal;font-family:Menlo,'DejaVu Sans Mono',consolas,'Courier New',monospace\"><span style=\"color: #008000; text-decoration-color: #008000\">DEBUG</span> Tool Calls:                                                                                                  \n",
              "        - ID: <span style=\"color: #008000; text-decoration-color: #008000\">'call_hr56'</span>                                                                                          \n",
              "          Name: <span style=\"color: #008000; text-decoration-color: #008000\">'text_to_speech'</span>                                                                                   \n",
              "          Arguments: <span style=\"color: #008000; text-decoration-color: #008000\">'prompt: हालांकि, TULU के प्रदर्शन का मूल्यांकन करते समय यह ध्यान रखना महत्वपूर्ण है कि यह एक मशीन लर्निंग मॉडल है और इसकी</span>\n",
              "      <span style=\"color: #008000; text-decoration-color: #008000\">क्षमताएं और सीमाएं हैं। TULU के परिणामों को समझने और उपयोग करने के लिए, यह आवश्यक है कि उपयोगकर्ता इसकी सीमाओं को समझें और इसका उपयोग सावधानी से</span>   \n",
              "      <span style=\"color: #008000; text-decoration-color: #008000\">करें।'</span>                                                                                                         \n",
              "</pre>\n"
            ]
          },
          "metadata": {}
        },
        {
          "output_type": "display_data",
          "data": {
            "text/plain": [
              "\u001b[32mDEBUG\u001b[0m ************************  METRICS  *************************                                                 \n"
            ],
            "text/html": [
              "<pre style=\"white-space:pre;overflow-x:auto;line-height:normal;font-family:Menlo,'DejaVu Sans Mono',consolas,'Courier New',monospace\"><span style=\"color: #008000; text-decoration-color: #008000\">DEBUG</span> ************************  METRICS  *************************                                                 \n",
              "</pre>\n"
            ]
          },
          "metadata": {}
        },
        {
          "output_type": "display_data",
          "data": {
            "text/plain": [
              "\u001b[32mDEBUG\u001b[0m * Tokens:                      \u001b[33minput\u001b[0m=\u001b[1;36m1411\u001b[0m, \u001b[33moutput\u001b[0m=\u001b[1;36m140\u001b[0m, \u001b[33mtotal\u001b[0m=\u001b[1;36m1551\u001b[0m                                            \n"
            ],
            "text/html": [
              "<pre style=\"white-space:pre;overflow-x:auto;line-height:normal;font-family:Menlo,'DejaVu Sans Mono',consolas,'Courier New',monospace\"><span style=\"color: #008000; text-decoration-color: #008000\">DEBUG</span> * Tokens:                      <span style=\"color: #808000; text-decoration-color: #808000\">input</span>=<span style=\"color: #008080; text-decoration-color: #008080; font-weight: bold\">1411</span>, <span style=\"color: #808000; text-decoration-color: #808000\">output</span>=<span style=\"color: #008080; text-decoration-color: #008080; font-weight: bold\">140</span>, <span style=\"color: #808000; text-decoration-color: #808000\">total</span>=<span style=\"color: #008080; text-decoration-color: #008080; font-weight: bold\">1551</span>                                            \n",
              "</pre>\n"
            ]
          },
          "metadata": {}
        },
        {
          "output_type": "display_data",
          "data": {
            "text/plain": [
              "\u001b[32mDEBUG\u001b[0m * Time:                        \u001b[1;36m0.\u001b[0m9918s                                                                       \n"
            ],
            "text/html": [
              "<pre style=\"white-space:pre;overflow-x:auto;line-height:normal;font-family:Menlo,'DejaVu Sans Mono',consolas,'Courier New',monospace\"><span style=\"color: #008000; text-decoration-color: #008000\">DEBUG</span> * Time:                        <span style=\"color: #008080; text-decoration-color: #008080; font-weight: bold\">0.</span>9918s                                                                       \n",
              "</pre>\n"
            ]
          },
          "metadata": {}
        },
        {
          "output_type": "display_data",
          "data": {
            "text/plain": [
              "\u001b[32mDEBUG\u001b[0m * Tokens per second:           \u001b[1;36m141.1610\u001b[0m tokens/s                                                             \n"
            ],
            "text/html": [
              "<pre style=\"white-space:pre;overflow-x:auto;line-height:normal;font-family:Menlo,'DejaVu Sans Mono',consolas,'Courier New',monospace\"><span style=\"color: #008000; text-decoration-color: #008000\">DEBUG</span> * Tokens per second:           <span style=\"color: #008080; text-decoration-color: #008080; font-weight: bold\">141.1610</span> tokens/s                                                             \n",
              "</pre>\n"
            ]
          },
          "metadata": {}
        },
        {
          "output_type": "display_data",
          "data": {
            "text/plain": [
              "\u001b[32mDEBUG\u001b[0m * Additional metrics:          \u001b[1m{\u001b[0m\u001b[32m'completion_time'\u001b[0m: \u001b[1;36m0.509090909\u001b[0m, \u001b[32m'prompt_time'\u001b[0m: \u001b[1;36m0.098597822\u001b[0m, \u001b[32m'queue_time'\u001b[0m:    \n",
              "      \u001b[1;36m0.239911445\u001b[0m, \u001b[32m'total_time'\u001b[0m: \u001b[1;36m0.607688731\u001b[0m\u001b[1m}\u001b[0m                                                                      \n"
            ],
            "text/html": [
              "<pre style=\"white-space:pre;overflow-x:auto;line-height:normal;font-family:Menlo,'DejaVu Sans Mono',consolas,'Courier New',monospace\"><span style=\"color: #008000; text-decoration-color: #008000\">DEBUG</span> * Additional metrics:          <span style=\"font-weight: bold\">{</span><span style=\"color: #008000; text-decoration-color: #008000\">'completion_time'</span>: <span style=\"color: #008080; text-decoration-color: #008080; font-weight: bold\">0.509090909</span>, <span style=\"color: #008000; text-decoration-color: #008000\">'prompt_time'</span>: <span style=\"color: #008080; text-decoration-color: #008080; font-weight: bold\">0.098597822</span>, <span style=\"color: #008000; text-decoration-color: #008000\">'queue_time'</span>:    \n",
              "      <span style=\"color: #008080; text-decoration-color: #008080; font-weight: bold\">0.239911445</span>, <span style=\"color: #008000; text-decoration-color: #008000\">'total_time'</span>: <span style=\"color: #008080; text-decoration-color: #008080; font-weight: bold\">0.607688731</span><span style=\"font-weight: bold\">}</span>                                                                      \n",
              "</pre>\n"
            ]
          },
          "metadata": {}
        },
        {
          "output_type": "display_data",
          "data": {
            "text/plain": [
              "\u001b[32mDEBUG\u001b[0m ************************  METRICS  *************************                                                 \n"
            ],
            "text/html": [
              "<pre style=\"white-space:pre;overflow-x:auto;line-height:normal;font-family:Menlo,'DejaVu Sans Mono',consolas,'Courier New',monospace\"><span style=\"color: #008000; text-decoration-color: #008000\">DEBUG</span> ************************  METRICS  *************************                                                 \n",
              "</pre>\n"
            ]
          },
          "metadata": {}
        },
        {
          "output_type": "display_data",
          "data": {
            "text/plain": [
              "\u001b[32mDEBUG\u001b[0m Getting function text_to_speech                                                                              \n"
            ],
            "text/html": [
              "<pre style=\"white-space:pre;overflow-x:auto;line-height:normal;font-family:Menlo,'DejaVu Sans Mono',consolas,'Courier New',monospace\"><span style=\"color: #008000; text-decoration-color: #008000\">DEBUG</span> Getting function text_to_speech                                                                              \n",
              "</pre>\n"
            ]
          },
          "metadata": {}
        },
        {
          "output_type": "display_data",
          "data": {
            "text/plain": [
              "\u001b[32mDEBUG\u001b[0m Running: \u001b[1;35mtext_to_speech\u001b[0m\u001b[1m(\u001b[0m\u001b[33mprompt\u001b[0m=\u001b[33m...\u001b[0m\u001b[1m)\u001b[0m                                                                          \n"
            ],
            "text/html": [
              "<pre style=\"white-space:pre;overflow-x:auto;line-height:normal;font-family:Menlo,'DejaVu Sans Mono',consolas,'Courier New',monospace\"><span style=\"color: #008000; text-decoration-color: #008000\">DEBUG</span> Running: <span style=\"color: #800080; text-decoration-color: #800080; font-weight: bold\">text_to_speech</span><span style=\"font-weight: bold\">(</span><span style=\"color: #808000; text-decoration-color: #808000\">prompt</span>=<span style=\"color: #808000; text-decoration-color: #808000\">...</span><span style=\"font-weight: bold\">)</span>                                                                          \n",
              "</pre>\n"
            ]
          },
          "metadata": {}
        },
        {
          "output_type": "display_data",
          "data": {
            "text/plain": [
              "\u001b[32mDEBUG\u001b[0m =========================== tool ===========================                                                 \n"
            ],
            "text/html": [
              "<pre style=\"white-space:pre;overflow-x:auto;line-height:normal;font-family:Menlo,'DejaVu Sans Mono',consolas,'Courier New',monospace\"><span style=\"color: #008000; text-decoration-color: #008000\">DEBUG</span> =========================== tool ===========================                                                 \n",
              "</pre>\n"
            ]
          },
          "metadata": {}
        },
        {
          "output_type": "display_data",
          "data": {
            "text/plain": [
              "\u001b[32mDEBUG\u001b[0m Tool call Id: call_hr56                                                                                      \n"
            ],
            "text/html": [
              "<pre style=\"white-space:pre;overflow-x:auto;line-height:normal;font-family:Menlo,'DejaVu Sans Mono',consolas,'Courier New',monospace\"><span style=\"color: #008000; text-decoration-color: #008000\">DEBUG</span> Tool call Id: call_hr56                                                                                      \n",
              "</pre>\n"
            ]
          },
          "metadata": {}
        },
        {
          "output_type": "display_data",
          "data": {
            "text/plain": [
              "\u001b[32mDEBUG\u001b[0m Audio generated successfully                                                                                 \n"
            ],
            "text/html": [
              "<pre style=\"white-space:pre;overflow-x:auto;line-height:normal;font-family:Menlo,'DejaVu Sans Mono',consolas,'Courier New',monospace\"><span style=\"color: #008000; text-decoration-color: #008000\">DEBUG</span> Audio generated successfully                                                                                 \n",
              "</pre>\n"
            ]
          },
          "metadata": {}
        },
        {
          "output_type": "display_data",
          "data": {
            "text/plain": [
              "\u001b[32mDEBUG\u001b[0m **********************  TOOL METRICS  **********************                                                 \n"
            ],
            "text/html": [
              "<pre style=\"white-space:pre;overflow-x:auto;line-height:normal;font-family:Menlo,'DejaVu Sans Mono',consolas,'Courier New',monospace\"><span style=\"color: #008000; text-decoration-color: #008000\">DEBUG</span> **********************  TOOL METRICS  **********************                                                 \n",
              "</pre>\n"
            ]
          },
          "metadata": {}
        },
        {
          "output_type": "display_data",
          "data": {
            "text/plain": [
              "\u001b[32mDEBUG\u001b[0m * Time:                        \u001b[1;36m3.\u001b[0m9774s                                                                       \n"
            ],
            "text/html": [
              "<pre style=\"white-space:pre;overflow-x:auto;line-height:normal;font-family:Menlo,'DejaVu Sans Mono',consolas,'Courier New',monospace\"><span style=\"color: #008000; text-decoration-color: #008000\">DEBUG</span> * Time:                        <span style=\"color: #008080; text-decoration-color: #008080; font-weight: bold\">3.</span>9774s                                                                       \n",
              "</pre>\n"
            ]
          },
          "metadata": {}
        },
        {
          "output_type": "display_data",
          "data": {
            "text/plain": [
              "\u001b[32mDEBUG\u001b[0m **********************  TOOL METRICS  **********************                                                 \n"
            ],
            "text/html": [
              "<pre style=\"white-space:pre;overflow-x:auto;line-height:normal;font-family:Menlo,'DejaVu Sans Mono',consolas,'Courier New',monospace\"><span style=\"color: #008000; text-decoration-color: #008000\">DEBUG</span> **********************  TOOL METRICS  **********************                                                 \n",
              "</pre>\n"
            ]
          },
          "metadata": {}
        },
        {
          "output_type": "display_data",
          "data": {
            "text/plain": [
              "\u001b[32mDEBUG\u001b[0m ======================== assistant =========================                                                 \n"
            ],
            "text/html": [
              "<pre style=\"white-space:pre;overflow-x:auto;line-height:normal;font-family:Menlo,'DejaVu Sans Mono',consolas,'Courier New',monospace\"><span style=\"color: #008000; text-decoration-color: #008000\">DEBUG</span> ======================== assistant =========================                                                 \n",
              "</pre>\n"
            ]
          },
          "metadata": {}
        },
        {
          "output_type": "display_data",
          "data": {
            "text/plain": [
              "\u001b[32mDEBUG\u001b[0m Tool Calls:                                                                                                  \n",
              "        - ID: \u001b[32m'call_sy84'\u001b[0m                                                                                          \n",
              "          Name: \u001b[32m'text_to_speech'\u001b[0m                                                                                   \n",
              "          Arguments: \u001b[32m'prompt: इन परिणामों से यह स्पष्ट होता है कि TULU एक शक्तिशाली और उपयोगी टूल है, जो विभिन्न कार्यों में उपयोगी हो सकता है, लेकिन\u001b[0m  \n",
              "      \u001b[32mइसका उपयोग सावधानी से और इसकी सीमाओं को समझते हुए करना चाहिए।'\u001b[0m                                                               \n"
            ],
            "text/html": [
              "<pre style=\"white-space:pre;overflow-x:auto;line-height:normal;font-family:Menlo,'DejaVu Sans Mono',consolas,'Courier New',monospace\"><span style=\"color: #008000; text-decoration-color: #008000\">DEBUG</span> Tool Calls:                                                                                                  \n",
              "        - ID: <span style=\"color: #008000; text-decoration-color: #008000\">'call_sy84'</span>                                                                                          \n",
              "          Name: <span style=\"color: #008000; text-decoration-color: #008000\">'text_to_speech'</span>                                                                                   \n",
              "          Arguments: <span style=\"color: #008000; text-decoration-color: #008000\">'prompt: इन परिणामों से यह स्पष्ट होता है कि TULU एक शक्तिशाली और उपयोगी टूल है, जो विभिन्न कार्यों में उपयोगी हो सकता है, लेकिन</span>  \n",
              "      <span style=\"color: #008000; text-decoration-color: #008000\">इसका उपयोग सावधानी से और इसकी सीमाओं को समझते हुए करना चाहिए।'</span>                                                               \n",
              "</pre>\n"
            ]
          },
          "metadata": {}
        },
        {
          "output_type": "display_data",
          "data": {
            "text/plain": [
              "\u001b[32mDEBUG\u001b[0m ************************  METRICS  *************************                                                 \n"
            ],
            "text/html": [
              "<pre style=\"white-space:pre;overflow-x:auto;line-height:normal;font-family:Menlo,'DejaVu Sans Mono',consolas,'Courier New',monospace\"><span style=\"color: #008000; text-decoration-color: #008000\">DEBUG</span> ************************  METRICS  *************************                                                 \n",
              "</pre>\n"
            ]
          },
          "metadata": {}
        },
        {
          "output_type": "display_data",
          "data": {
            "text/plain": [
              "\u001b[32mDEBUG\u001b[0m * Tokens:                      \u001b[33minput\u001b[0m=\u001b[1;36m1564\u001b[0m, \u001b[33moutput\u001b[0m=\u001b[1;36m105\u001b[0m, \u001b[33mtotal\u001b[0m=\u001b[1;36m1669\u001b[0m                                            \n"
            ],
            "text/html": [
              "<pre style=\"white-space:pre;overflow-x:auto;line-height:normal;font-family:Menlo,'DejaVu Sans Mono',consolas,'Courier New',monospace\"><span style=\"color: #008000; text-decoration-color: #008000\">DEBUG</span> * Tokens:                      <span style=\"color: #808000; text-decoration-color: #808000\">input</span>=<span style=\"color: #008080; text-decoration-color: #008080; font-weight: bold\">1564</span>, <span style=\"color: #808000; text-decoration-color: #808000\">output</span>=<span style=\"color: #008080; text-decoration-color: #008080; font-weight: bold\">105</span>, <span style=\"color: #808000; text-decoration-color: #808000\">total</span>=<span style=\"color: #008080; text-decoration-color: #008080; font-weight: bold\">1669</span>                                            \n",
              "</pre>\n"
            ]
          },
          "metadata": {}
        },
        {
          "output_type": "display_data",
          "data": {
            "text/plain": [
              "\u001b[32mDEBUG\u001b[0m * Time:                        \u001b[1;36m0.\u001b[0m7989s                                                                       \n"
            ],
            "text/html": [
              "<pre style=\"white-space:pre;overflow-x:auto;line-height:normal;font-family:Menlo,'DejaVu Sans Mono',consolas,'Courier New',monospace\"><span style=\"color: #008000; text-decoration-color: #008000\">DEBUG</span> * Time:                        <span style=\"color: #008080; text-decoration-color: #008080; font-weight: bold\">0.</span>7989s                                                                       \n",
              "</pre>\n"
            ]
          },
          "metadata": {}
        },
        {
          "output_type": "display_data",
          "data": {
            "text/plain": [
              "\u001b[32mDEBUG\u001b[0m * Tokens per second:           \u001b[1;36m131.4371\u001b[0m tokens/s                                                             \n"
            ],
            "text/html": [
              "<pre style=\"white-space:pre;overflow-x:auto;line-height:normal;font-family:Menlo,'DejaVu Sans Mono',consolas,'Courier New',monospace\"><span style=\"color: #008000; text-decoration-color: #008000\">DEBUG</span> * Tokens per second:           <span style=\"color: #008080; text-decoration-color: #008080; font-weight: bold\">131.4371</span> tokens/s                                                             \n",
              "</pre>\n"
            ]
          },
          "metadata": {}
        },
        {
          "output_type": "display_data",
          "data": {
            "text/plain": [
              "\u001b[32mDEBUG\u001b[0m * Additional metrics:          \u001b[1m{\u001b[0m\u001b[32m'completion_time'\u001b[0m: \u001b[1;36m0.381818182\u001b[0m, \u001b[32m'prompt_time'\u001b[0m: \u001b[1;36m0.108188984\u001b[0m, \u001b[32m'queue_time'\u001b[0m:    \n",
              "      \u001b[1;36m0.22112916500000002\u001b[0m, \u001b[32m'total_time'\u001b[0m: \u001b[1;36m0.490007166\u001b[0m\u001b[1m}\u001b[0m                                                              \n"
            ],
            "text/html": [
              "<pre style=\"white-space:pre;overflow-x:auto;line-height:normal;font-family:Menlo,'DejaVu Sans Mono',consolas,'Courier New',monospace\"><span style=\"color: #008000; text-decoration-color: #008000\">DEBUG</span> * Additional metrics:          <span style=\"font-weight: bold\">{</span><span style=\"color: #008000; text-decoration-color: #008000\">'completion_time'</span>: <span style=\"color: #008080; text-decoration-color: #008080; font-weight: bold\">0.381818182</span>, <span style=\"color: #008000; text-decoration-color: #008000\">'prompt_time'</span>: <span style=\"color: #008080; text-decoration-color: #008080; font-weight: bold\">0.108188984</span>, <span style=\"color: #008000; text-decoration-color: #008000\">'queue_time'</span>:    \n",
              "      <span style=\"color: #008080; text-decoration-color: #008080; font-weight: bold\">0.22112916500000002</span>, <span style=\"color: #008000; text-decoration-color: #008000\">'total_time'</span>: <span style=\"color: #008080; text-decoration-color: #008080; font-weight: bold\">0.490007166</span><span style=\"font-weight: bold\">}</span>                                                              \n",
              "</pre>\n"
            ]
          },
          "metadata": {}
        },
        {
          "output_type": "display_data",
          "data": {
            "text/plain": [
              "\u001b[32mDEBUG\u001b[0m ************************  METRICS  *************************                                                 \n"
            ],
            "text/html": [
              "<pre style=\"white-space:pre;overflow-x:auto;line-height:normal;font-family:Menlo,'DejaVu Sans Mono',consolas,'Courier New',monospace\"><span style=\"color: #008000; text-decoration-color: #008000\">DEBUG</span> ************************  METRICS  *************************                                                 \n",
              "</pre>\n"
            ]
          },
          "metadata": {}
        },
        {
          "output_type": "display_data",
          "data": {
            "text/plain": [
              "\u001b[32mDEBUG\u001b[0m Getting function text_to_speech                                                                              \n"
            ],
            "text/html": [
              "<pre style=\"white-space:pre;overflow-x:auto;line-height:normal;font-family:Menlo,'DejaVu Sans Mono',consolas,'Courier New',monospace\"><span style=\"color: #008000; text-decoration-color: #008000\">DEBUG</span> Getting function text_to_speech                                                                              \n",
              "</pre>\n"
            ]
          },
          "metadata": {}
        },
        {
          "output_type": "display_data",
          "data": {
            "text/plain": [
              "\u001b[32mDEBUG\u001b[0m Running: \u001b[1;35mtext_to_speech\u001b[0m\u001b[1m(\u001b[0m\u001b[33mprompt\u001b[0m=\u001b[33m...\u001b[0m\u001b[1m)\u001b[0m                                                                          \n"
            ],
            "text/html": [
              "<pre style=\"white-space:pre;overflow-x:auto;line-height:normal;font-family:Menlo,'DejaVu Sans Mono',consolas,'Courier New',monospace\"><span style=\"color: #008000; text-decoration-color: #008000\">DEBUG</span> Running: <span style=\"color: #800080; text-decoration-color: #800080; font-weight: bold\">text_to_speech</span><span style=\"font-weight: bold\">(</span><span style=\"color: #808000; text-decoration-color: #808000\">prompt</span>=<span style=\"color: #808000; text-decoration-color: #808000\">...</span><span style=\"font-weight: bold\">)</span>                                                                          \n",
              "</pre>\n"
            ]
          },
          "metadata": {}
        },
        {
          "output_type": "display_data",
          "data": {
            "text/plain": [
              "\u001b[32mDEBUG\u001b[0m =========================== tool ===========================                                                 \n"
            ],
            "text/html": [
              "<pre style=\"white-space:pre;overflow-x:auto;line-height:normal;font-family:Menlo,'DejaVu Sans Mono',consolas,'Courier New',monospace\"><span style=\"color: #008000; text-decoration-color: #008000\">DEBUG</span> =========================== tool ===========================                                                 \n",
              "</pre>\n"
            ]
          },
          "metadata": {}
        },
        {
          "output_type": "display_data",
          "data": {
            "text/plain": [
              "\u001b[32mDEBUG\u001b[0m Tool call Id: call_sy84                                                                                      \n"
            ],
            "text/html": [
              "<pre style=\"white-space:pre;overflow-x:auto;line-height:normal;font-family:Menlo,'DejaVu Sans Mono',consolas,'Courier New',monospace\"><span style=\"color: #008000; text-decoration-color: #008000\">DEBUG</span> Tool call Id: call_sy84                                                                                      \n",
              "</pre>\n"
            ]
          },
          "metadata": {}
        },
        {
          "output_type": "display_data",
          "data": {
            "text/plain": [
              "\u001b[32mDEBUG\u001b[0m Audio generated successfully                                                                                 \n"
            ],
            "text/html": [
              "<pre style=\"white-space:pre;overflow-x:auto;line-height:normal;font-family:Menlo,'DejaVu Sans Mono',consolas,'Courier New',monospace\"><span style=\"color: #008000; text-decoration-color: #008000\">DEBUG</span> Audio generated successfully                                                                                 \n",
              "</pre>\n"
            ]
          },
          "metadata": {}
        },
        {
          "output_type": "display_data",
          "data": {
            "text/plain": [
              "\u001b[32mDEBUG\u001b[0m **********************  TOOL METRICS  **********************                                                 \n"
            ],
            "text/html": [
              "<pre style=\"white-space:pre;overflow-x:auto;line-height:normal;font-family:Menlo,'DejaVu Sans Mono',consolas,'Courier New',monospace\"><span style=\"color: #008000; text-decoration-color: #008000\">DEBUG</span> **********************  TOOL METRICS  **********************                                                 \n",
              "</pre>\n"
            ]
          },
          "metadata": {}
        },
        {
          "output_type": "display_data",
          "data": {
            "text/plain": [
              "\u001b[32mDEBUG\u001b[0m * Time:                        \u001b[1;36m3.\u001b[0m1379s                                                                       \n"
            ],
            "text/html": [
              "<pre style=\"white-space:pre;overflow-x:auto;line-height:normal;font-family:Menlo,'DejaVu Sans Mono',consolas,'Courier New',monospace\"><span style=\"color: #008000; text-decoration-color: #008000\">DEBUG</span> * Time:                        <span style=\"color: #008080; text-decoration-color: #008080; font-weight: bold\">3.</span>1379s                                                                       \n",
              "</pre>\n"
            ]
          },
          "metadata": {}
        },
        {
          "output_type": "display_data",
          "data": {
            "text/plain": [
              "\u001b[32mDEBUG\u001b[0m **********************  TOOL METRICS  **********************                                                 \n"
            ],
            "text/html": [
              "<pre style=\"white-space:pre;overflow-x:auto;line-height:normal;font-family:Menlo,'DejaVu Sans Mono',consolas,'Courier New',monospace\"><span style=\"color: #008000; text-decoration-color: #008000\">DEBUG</span> **********************  TOOL METRICS  **********************                                                 \n",
              "</pre>\n"
            ]
          },
          "metadata": {}
        },
        {
          "output_type": "display_data",
          "data": {
            "text/plain": [
              "\u001b[32mDEBUG\u001b[0m ======================== assistant =========================                                                 \n"
            ],
            "text/html": [
              "<pre style=\"white-space:pre;overflow-x:auto;line-height:normal;font-family:Menlo,'DejaVu Sans Mono',consolas,'Courier New',monospace\"><span style=\"color: #008000; text-decoration-color: #008000\">DEBUG</span> ======================== assistant =========================                                                 \n",
              "</pre>\n"
            ]
          },
          "metadata": {}
        },
        {
          "output_type": "display_data",
          "data": {
            "text/plain": [
              "\u001b[32mDEBUG\u001b[0m Tool Calls:                                                                                                  \n",
              "        - ID: \u001b[32m'call_rrsc'\u001b[0m                                                                                          \n",
              "          Name: \u001b[32m'text_to_speech'\u001b[0m                                                                                   \n",
              "          Arguments: \u001b[32m'prompt: इस प्रकार, TULU के प्रशिक्षण और मूल्यांकन की प्रक्रिया ने इसकी क्षमताओं और सीमाओं को प्रदर्शित किया है, और इसके परिणामों\u001b[0m\n",
              "      \u001b[32mसे यह पता चलता है कि यह एक शक्तिशाली और उपयोगी टूल है जो विभिन्न कार्यों में उपयोगी हो सकता है।'\u001b[0m                                         \n"
            ],
            "text/html": [
              "<pre style=\"white-space:pre;overflow-x:auto;line-height:normal;font-family:Menlo,'DejaVu Sans Mono',consolas,'Courier New',monospace\"><span style=\"color: #008000; text-decoration-color: #008000\">DEBUG</span> Tool Calls:                                                                                                  \n",
              "        - ID: <span style=\"color: #008000; text-decoration-color: #008000\">'call_rrsc'</span>                                                                                          \n",
              "          Name: <span style=\"color: #008000; text-decoration-color: #008000\">'text_to_speech'</span>                                                                                   \n",
              "          Arguments: <span style=\"color: #008000; text-decoration-color: #008000\">'prompt: इस प्रकार, TULU के प्रशिक्षण और मूल्यांकन की प्रक्रिया ने इसकी क्षमताओं और सीमाओं को प्रदर्शित किया है, और इसके परिणामों</span>\n",
              "      <span style=\"color: #008000; text-decoration-color: #008000\">से यह पता चलता है कि यह एक शक्तिशाली और उपयोगी टूल है जो विभिन्न कार्यों में उपयोगी हो सकता है।'</span>                                         \n",
              "</pre>\n"
            ]
          },
          "metadata": {}
        },
        {
          "output_type": "display_data",
          "data": {
            "text/plain": [
              "\u001b[32mDEBUG\u001b[0m ************************  METRICS  *************************                                                 \n"
            ],
            "text/html": [
              "<pre style=\"white-space:pre;overflow-x:auto;line-height:normal;font-family:Menlo,'DejaVu Sans Mono',consolas,'Courier New',monospace\"><span style=\"color: #008000; text-decoration-color: #008000\">DEBUG</span> ************************  METRICS  *************************                                                 \n",
              "</pre>\n"
            ]
          },
          "metadata": {}
        },
        {
          "output_type": "display_data",
          "data": {
            "text/plain": [
              "\u001b[32mDEBUG\u001b[0m * Tokens:                      \u001b[33minput\u001b[0m=\u001b[1;36m1682\u001b[0m, \u001b[33moutput\u001b[0m=\u001b[1;36m120\u001b[0m, \u001b[33mtotal\u001b[0m=\u001b[1;36m1802\u001b[0m                                            \n"
            ],
            "text/html": [
              "<pre style=\"white-space:pre;overflow-x:auto;line-height:normal;font-family:Menlo,'DejaVu Sans Mono',consolas,'Courier New',monospace\"><span style=\"color: #008000; text-decoration-color: #008000\">DEBUG</span> * Tokens:                      <span style=\"color: #808000; text-decoration-color: #808000\">input</span>=<span style=\"color: #008080; text-decoration-color: #008080; font-weight: bold\">1682</span>, <span style=\"color: #808000; text-decoration-color: #808000\">output</span>=<span style=\"color: #008080; text-decoration-color: #008080; font-weight: bold\">120</span>, <span style=\"color: #808000; text-decoration-color: #808000\">total</span>=<span style=\"color: #008080; text-decoration-color: #008080; font-weight: bold\">1802</span>                                            \n",
              "</pre>\n"
            ]
          },
          "metadata": {}
        },
        {
          "output_type": "display_data",
          "data": {
            "text/plain": [
              "\u001b[32mDEBUG\u001b[0m * Time:                        \u001b[1;36m0.\u001b[0m8885s                                                                       \n"
            ],
            "text/html": [
              "<pre style=\"white-space:pre;overflow-x:auto;line-height:normal;font-family:Menlo,'DejaVu Sans Mono',consolas,'Courier New',monospace\"><span style=\"color: #008000; text-decoration-color: #008000\">DEBUG</span> * Time:                        <span style=\"color: #008080; text-decoration-color: #008080; font-weight: bold\">0.</span>8885s                                                                       \n",
              "</pre>\n"
            ]
          },
          "metadata": {}
        },
        {
          "output_type": "display_data",
          "data": {
            "text/plain": [
              "\u001b[32mDEBUG\u001b[0m * Tokens per second:           \u001b[1;36m135.0659\u001b[0m tokens/s                                                             \n"
            ],
            "text/html": [
              "<pre style=\"white-space:pre;overflow-x:auto;line-height:normal;font-family:Menlo,'DejaVu Sans Mono',consolas,'Courier New',monospace\"><span style=\"color: #008000; text-decoration-color: #008000\">DEBUG</span> * Tokens per second:           <span style=\"color: #008080; text-decoration-color: #008080; font-weight: bold\">135.0659</span> tokens/s                                                             \n",
              "</pre>\n"
            ]
          },
          "metadata": {}
        },
        {
          "output_type": "display_data",
          "data": {
            "text/plain": [
              "\u001b[32mDEBUG\u001b[0m * Additional metrics:          \u001b[1m{\u001b[0m\u001b[32m'completion_time'\u001b[0m: \u001b[1;36m0.436363636\u001b[0m, \u001b[32m'prompt_time'\u001b[0m: \u001b[1;36m0.123614701\u001b[0m, \u001b[32m'queue_time'\u001b[0m:    \n",
              "      \u001b[1;36m0.22602072500000003\u001b[0m, \u001b[32m'total_time'\u001b[0m: \u001b[1;36m0.559978337\u001b[0m\u001b[1m}\u001b[0m                                                              \n"
            ],
            "text/html": [
              "<pre style=\"white-space:pre;overflow-x:auto;line-height:normal;font-family:Menlo,'DejaVu Sans Mono',consolas,'Courier New',monospace\"><span style=\"color: #008000; text-decoration-color: #008000\">DEBUG</span> * Additional metrics:          <span style=\"font-weight: bold\">{</span><span style=\"color: #008000; text-decoration-color: #008000\">'completion_time'</span>: <span style=\"color: #008080; text-decoration-color: #008080; font-weight: bold\">0.436363636</span>, <span style=\"color: #008000; text-decoration-color: #008000\">'prompt_time'</span>: <span style=\"color: #008080; text-decoration-color: #008080; font-weight: bold\">0.123614701</span>, <span style=\"color: #008000; text-decoration-color: #008000\">'queue_time'</span>:    \n",
              "      <span style=\"color: #008080; text-decoration-color: #008080; font-weight: bold\">0.22602072500000003</span>, <span style=\"color: #008000; text-decoration-color: #008000\">'total_time'</span>: <span style=\"color: #008080; text-decoration-color: #008080; font-weight: bold\">0.559978337</span><span style=\"font-weight: bold\">}</span>                                                              \n",
              "</pre>\n"
            ]
          },
          "metadata": {}
        },
        {
          "output_type": "display_data",
          "data": {
            "text/plain": [
              "\u001b[32mDEBUG\u001b[0m ************************  METRICS  *************************                                                 \n"
            ],
            "text/html": [
              "<pre style=\"white-space:pre;overflow-x:auto;line-height:normal;font-family:Menlo,'DejaVu Sans Mono',consolas,'Courier New',monospace\"><span style=\"color: #008000; text-decoration-color: #008000\">DEBUG</span> ************************  METRICS  *************************                                                 \n",
              "</pre>\n"
            ]
          },
          "metadata": {}
        },
        {
          "output_type": "display_data",
          "data": {
            "text/plain": [
              "\u001b[32mDEBUG\u001b[0m Getting function text_to_speech                                                                              \n"
            ],
            "text/html": [
              "<pre style=\"white-space:pre;overflow-x:auto;line-height:normal;font-family:Menlo,'DejaVu Sans Mono',consolas,'Courier New',monospace\"><span style=\"color: #008000; text-decoration-color: #008000\">DEBUG</span> Getting function text_to_speech                                                                              \n",
              "</pre>\n"
            ]
          },
          "metadata": {}
        },
        {
          "output_type": "display_data",
          "data": {
            "text/plain": [
              "\u001b[32mDEBUG\u001b[0m Running: \u001b[1;35mtext_to_speech\u001b[0m\u001b[1m(\u001b[0m\u001b[33mprompt\u001b[0m=\u001b[33m...\u001b[0m\u001b[1m)\u001b[0m                                                                          \n"
            ],
            "text/html": [
              "<pre style=\"white-space:pre;overflow-x:auto;line-height:normal;font-family:Menlo,'DejaVu Sans Mono',consolas,'Courier New',monospace\"><span style=\"color: #008000; text-decoration-color: #008000\">DEBUG</span> Running: <span style=\"color: #800080; text-decoration-color: #800080; font-weight: bold\">text_to_speech</span><span style=\"font-weight: bold\">(</span><span style=\"color: #808000; text-decoration-color: #808000\">prompt</span>=<span style=\"color: #808000; text-decoration-color: #808000\">...</span><span style=\"font-weight: bold\">)</span>                                                                          \n",
              "</pre>\n"
            ]
          },
          "metadata": {}
        },
        {
          "output_type": "display_data",
          "data": {
            "text/plain": [
              "\u001b[32mDEBUG\u001b[0m =========================== tool ===========================                                                 \n"
            ],
            "text/html": [
              "<pre style=\"white-space:pre;overflow-x:auto;line-height:normal;font-family:Menlo,'DejaVu Sans Mono',consolas,'Courier New',monospace\"><span style=\"color: #008000; text-decoration-color: #008000\">DEBUG</span> =========================== tool ===========================                                                 \n",
              "</pre>\n"
            ]
          },
          "metadata": {}
        },
        {
          "output_type": "display_data",
          "data": {
            "text/plain": [
              "\u001b[32mDEBUG\u001b[0m Tool call Id: call_rrsc                                                                                      \n"
            ],
            "text/html": [
              "<pre style=\"white-space:pre;overflow-x:auto;line-height:normal;font-family:Menlo,'DejaVu Sans Mono',consolas,'Courier New',monospace\"><span style=\"color: #008000; text-decoration-color: #008000\">DEBUG</span> Tool call Id: call_rrsc                                                                                      \n",
              "</pre>\n"
            ]
          },
          "metadata": {}
        },
        {
          "output_type": "display_data",
          "data": {
            "text/plain": [
              "\u001b[32mDEBUG\u001b[0m Audio generated successfully                                                                                 \n"
            ],
            "text/html": [
              "<pre style=\"white-space:pre;overflow-x:auto;line-height:normal;font-family:Menlo,'DejaVu Sans Mono',consolas,'Courier New',monospace\"><span style=\"color: #008000; text-decoration-color: #008000\">DEBUG</span> Audio generated successfully                                                                                 \n",
              "</pre>\n"
            ]
          },
          "metadata": {}
        },
        {
          "output_type": "display_data",
          "data": {
            "text/plain": [
              "\u001b[32mDEBUG\u001b[0m **********************  TOOL METRICS  **********************                                                 \n"
            ],
            "text/html": [
              "<pre style=\"white-space:pre;overflow-x:auto;line-height:normal;font-family:Menlo,'DejaVu Sans Mono',consolas,'Courier New',monospace\"><span style=\"color: #008000; text-decoration-color: #008000\">DEBUG</span> **********************  TOOL METRICS  **********************                                                 \n",
              "</pre>\n"
            ]
          },
          "metadata": {}
        },
        {
          "output_type": "display_data",
          "data": {
            "text/plain": [
              "\u001b[32mDEBUG\u001b[0m * Time:                        \u001b[1;36m3.\u001b[0m4639s                                                                       \n"
            ],
            "text/html": [
              "<pre style=\"white-space:pre;overflow-x:auto;line-height:normal;font-family:Menlo,'DejaVu Sans Mono',consolas,'Courier New',monospace\"><span style=\"color: #008000; text-decoration-color: #008000\">DEBUG</span> * Time:                        <span style=\"color: #008080; text-decoration-color: #008080; font-weight: bold\">3.</span>4639s                                                                       \n",
              "</pre>\n"
            ]
          },
          "metadata": {}
        },
        {
          "output_type": "display_data",
          "data": {
            "text/plain": [
              "\u001b[32mDEBUG\u001b[0m **********************  TOOL METRICS  **********************                                                 \n"
            ],
            "text/html": [
              "<pre style=\"white-space:pre;overflow-x:auto;line-height:normal;font-family:Menlo,'DejaVu Sans Mono',consolas,'Courier New',monospace\"><span style=\"color: #008000; text-decoration-color: #008000\">DEBUG</span> **********************  TOOL METRICS  **********************                                                 \n",
              "</pre>\n"
            ]
          },
          "metadata": {}
        },
        {
          "output_type": "display_data",
          "data": {
            "text/plain": [
              "\u001b[32mDEBUG\u001b[0m ======================== assistant =========================                                                 \n"
            ],
            "text/html": [
              "<pre style=\"white-space:pre;overflow-x:auto;line-height:normal;font-family:Menlo,'DejaVu Sans Mono',consolas,'Courier New',monospace\"><span style=\"color: #008000; text-decoration-color: #008000\">DEBUG</span> ======================== assistant =========================                                                 \n",
              "</pre>\n"
            ]
          },
          "metadata": {}
        },
        {
          "output_type": "display_data",
          "data": {
            "text/plain": [
              "\u001b[32mDEBUG\u001b[0m Tool Calls:                                                                                                  \n",
              "        - ID: \u001b[32m'call_czb8'\u001b[0m                                                                                          \n",
              "          Name: \u001b[32m'text_to_speech'\u001b[0m                                                                                   \n",
              "          Arguments: \u001b[32m'prompt: इसलिए, TULU का उपयोग विभिन्न कार्यों में किया जा सकता है, जैसे कि संवाद, अनुवाद, और पाठ विश्लेषण, और इसके परिणामों से\u001b[0m  \n",
              "      \u001b[32mयह पता चलता है कि यह एक शक्तिशाली और उपयोगी टूल है।'\u001b[0m                                                                     \n"
            ],
            "text/html": [
              "<pre style=\"white-space:pre;overflow-x:auto;line-height:normal;font-family:Menlo,'DejaVu Sans Mono',consolas,'Courier New',monospace\"><span style=\"color: #008000; text-decoration-color: #008000\">DEBUG</span> Tool Calls:                                                                                                  \n",
              "        - ID: <span style=\"color: #008000; text-decoration-color: #008000\">'call_czb8'</span>                                                                                          \n",
              "          Name: <span style=\"color: #008000; text-decoration-color: #008000\">'text_to_speech'</span>                                                                                   \n",
              "          Arguments: <span style=\"color: #008000; text-decoration-color: #008000\">'prompt: इसलिए, TULU का उपयोग विभिन्न कार्यों में किया जा सकता है, जैसे कि संवाद, अनुवाद, और पाठ विश्लेषण, और इसके परिणामों से</span>  \n",
              "      <span style=\"color: #008000; text-decoration-color: #008000\">यह पता चलता है कि यह एक शक्तिशाली और उपयोगी टूल है।'</span>                                                                     \n",
              "</pre>\n"
            ]
          },
          "metadata": {}
        },
        {
          "output_type": "display_data",
          "data": {
            "text/plain": [
              "\u001b[32mDEBUG\u001b[0m ************************  METRICS  *************************                                                 \n"
            ],
            "text/html": [
              "<pre style=\"white-space:pre;overflow-x:auto;line-height:normal;font-family:Menlo,'DejaVu Sans Mono',consolas,'Courier New',monospace\"><span style=\"color: #008000; text-decoration-color: #008000\">DEBUG</span> ************************  METRICS  *************************                                                 \n",
              "</pre>\n"
            ]
          },
          "metadata": {}
        },
        {
          "output_type": "display_data",
          "data": {
            "text/plain": [
              "\u001b[32mDEBUG\u001b[0m * Tokens:                      \u001b[33minput\u001b[0m=\u001b[1;36m1815\u001b[0m, \u001b[33moutput\u001b[0m=\u001b[1;36m100\u001b[0m, \u001b[33mtotal\u001b[0m=\u001b[1;36m1915\u001b[0m                                            \n"
            ],
            "text/html": [
              "<pre style=\"white-space:pre;overflow-x:auto;line-height:normal;font-family:Menlo,'DejaVu Sans Mono',consolas,'Courier New',monospace\"><span style=\"color: #008000; text-decoration-color: #008000\">DEBUG</span> * Tokens:                      <span style=\"color: #808000; text-decoration-color: #808000\">input</span>=<span style=\"color: #008080; text-decoration-color: #008080; font-weight: bold\">1815</span>, <span style=\"color: #808000; text-decoration-color: #808000\">output</span>=<span style=\"color: #008080; text-decoration-color: #008080; font-weight: bold\">100</span>, <span style=\"color: #808000; text-decoration-color: #808000\">total</span>=<span style=\"color: #008080; text-decoration-color: #008080; font-weight: bold\">1915</span>                                            \n",
              "</pre>\n"
            ]
          },
          "metadata": {}
        },
        {
          "output_type": "display_data",
          "data": {
            "text/plain": [
              "\u001b[32mDEBUG\u001b[0m * Time:                        \u001b[1;36m0.\u001b[0m7921s                                                                       \n"
            ],
            "text/html": [
              "<pre style=\"white-space:pre;overflow-x:auto;line-height:normal;font-family:Menlo,'DejaVu Sans Mono',consolas,'Courier New',monospace\"><span style=\"color: #008000; text-decoration-color: #008000\">DEBUG</span> * Time:                        <span style=\"color: #008080; text-decoration-color: #008080; font-weight: bold\">0.</span>7921s                                                                       \n",
              "</pre>\n"
            ]
          },
          "metadata": {}
        },
        {
          "output_type": "display_data",
          "data": {
            "text/plain": [
              "\u001b[32mDEBUG\u001b[0m * Tokens per second:           \u001b[1;36m126.2426\u001b[0m tokens/s                                                             \n"
            ],
            "text/html": [
              "<pre style=\"white-space:pre;overflow-x:auto;line-height:normal;font-family:Menlo,'DejaVu Sans Mono',consolas,'Courier New',monospace\"><span style=\"color: #008000; text-decoration-color: #008000\">DEBUG</span> * Tokens per second:           <span style=\"color: #008080; text-decoration-color: #008080; font-weight: bold\">126.2426</span> tokens/s                                                             \n",
              "</pre>\n"
            ]
          },
          "metadata": {}
        },
        {
          "output_type": "display_data",
          "data": {
            "text/plain": [
              "\u001b[32mDEBUG\u001b[0m * Additional metrics:          \u001b[1m{\u001b[0m\u001b[32m'completion_time'\u001b[0m: \u001b[1;36m0.363636364\u001b[0m, \u001b[32m'prompt_time'\u001b[0m: \u001b[1;36m0.124433524\u001b[0m, \u001b[32m'queue_time'\u001b[0m:    \n",
              "      \u001b[1;36m0.232077682\u001b[0m, \u001b[32m'total_time'\u001b[0m: \u001b[1;36m0.488069888\u001b[0m\u001b[1m}\u001b[0m                                                                      \n"
            ],
            "text/html": [
              "<pre style=\"white-space:pre;overflow-x:auto;line-height:normal;font-family:Menlo,'DejaVu Sans Mono',consolas,'Courier New',monospace\"><span style=\"color: #008000; text-decoration-color: #008000\">DEBUG</span> * Additional metrics:          <span style=\"font-weight: bold\">{</span><span style=\"color: #008000; text-decoration-color: #008000\">'completion_time'</span>: <span style=\"color: #008080; text-decoration-color: #008080; font-weight: bold\">0.363636364</span>, <span style=\"color: #008000; text-decoration-color: #008000\">'prompt_time'</span>: <span style=\"color: #008080; text-decoration-color: #008080; font-weight: bold\">0.124433524</span>, <span style=\"color: #008000; text-decoration-color: #008000\">'queue_time'</span>:    \n",
              "      <span style=\"color: #008080; text-decoration-color: #008080; font-weight: bold\">0.232077682</span>, <span style=\"color: #008000; text-decoration-color: #008000\">'total_time'</span>: <span style=\"color: #008080; text-decoration-color: #008080; font-weight: bold\">0.488069888</span><span style=\"font-weight: bold\">}</span>                                                                      \n",
              "</pre>\n"
            ]
          },
          "metadata": {}
        },
        {
          "output_type": "display_data",
          "data": {
            "text/plain": [
              "\u001b[32mDEBUG\u001b[0m ************************  METRICS  *************************                                                 \n"
            ],
            "text/html": [
              "<pre style=\"white-space:pre;overflow-x:auto;line-height:normal;font-family:Menlo,'DejaVu Sans Mono',consolas,'Courier New',monospace\"><span style=\"color: #008000; text-decoration-color: #008000\">DEBUG</span> ************************  METRICS  *************************                                                 \n",
              "</pre>\n"
            ]
          },
          "metadata": {}
        },
        {
          "output_type": "display_data",
          "data": {
            "text/plain": [
              "\u001b[32mDEBUG\u001b[0m Getting function text_to_speech                                                                              \n"
            ],
            "text/html": [
              "<pre style=\"white-space:pre;overflow-x:auto;line-height:normal;font-family:Menlo,'DejaVu Sans Mono',consolas,'Courier New',monospace\"><span style=\"color: #008000; text-decoration-color: #008000\">DEBUG</span> Getting function text_to_speech                                                                              \n",
              "</pre>\n"
            ]
          },
          "metadata": {}
        },
        {
          "output_type": "display_data",
          "data": {
            "text/plain": [
              "\u001b[32mDEBUG\u001b[0m Running: \u001b[1;35mtext_to_speech\u001b[0m\u001b[1m(\u001b[0m\u001b[33mprompt\u001b[0m=\u001b[33m...\u001b[0m\u001b[1m)\u001b[0m                                                                          \n"
            ],
            "text/html": [
              "<pre style=\"white-space:pre;overflow-x:auto;line-height:normal;font-family:Menlo,'DejaVu Sans Mono',consolas,'Courier New',monospace\"><span style=\"color: #008000; text-decoration-color: #008000\">DEBUG</span> Running: <span style=\"color: #800080; text-decoration-color: #800080; font-weight: bold\">text_to_speech</span><span style=\"font-weight: bold\">(</span><span style=\"color: #808000; text-decoration-color: #808000\">prompt</span>=<span style=\"color: #808000; text-decoration-color: #808000\">...</span><span style=\"font-weight: bold\">)</span>                                                                          \n",
              "</pre>\n"
            ]
          },
          "metadata": {}
        },
        {
          "output_type": "display_data",
          "data": {
            "text/plain": [
              "\u001b[32mDEBUG\u001b[0m =========================== tool ===========================                                                 \n"
            ],
            "text/html": [
              "<pre style=\"white-space:pre;overflow-x:auto;line-height:normal;font-family:Menlo,'DejaVu Sans Mono',consolas,'Courier New',monospace\"><span style=\"color: #008000; text-decoration-color: #008000\">DEBUG</span> =========================== tool ===========================                                                 \n",
              "</pre>\n"
            ]
          },
          "metadata": {}
        },
        {
          "output_type": "display_data",
          "data": {
            "text/plain": [
              "\u001b[32mDEBUG\u001b[0m Tool call Id: call_czb8                                                                                      \n"
            ],
            "text/html": [
              "<pre style=\"white-space:pre;overflow-x:auto;line-height:normal;font-family:Menlo,'DejaVu Sans Mono',consolas,'Courier New',monospace\"><span style=\"color: #008000; text-decoration-color: #008000\">DEBUG</span> Tool call Id: call_czb8                                                                                      \n",
              "</pre>\n"
            ]
          },
          "metadata": {}
        },
        {
          "output_type": "display_data",
          "data": {
            "text/plain": [
              "\u001b[32mDEBUG\u001b[0m Audio generated successfully                                                                                 \n"
            ],
            "text/html": [
              "<pre style=\"white-space:pre;overflow-x:auto;line-height:normal;font-family:Menlo,'DejaVu Sans Mono',consolas,'Courier New',monospace\"><span style=\"color: #008000; text-decoration-color: #008000\">DEBUG</span> Audio generated successfully                                                                                 \n",
              "</pre>\n"
            ]
          },
          "metadata": {}
        },
        {
          "output_type": "display_data",
          "data": {
            "text/plain": [
              "\u001b[32mDEBUG\u001b[0m **********************  TOOL METRICS  **********************                                                 \n"
            ],
            "text/html": [
              "<pre style=\"white-space:pre;overflow-x:auto;line-height:normal;font-family:Menlo,'DejaVu Sans Mono',consolas,'Courier New',monospace\"><span style=\"color: #008000; text-decoration-color: #008000\">DEBUG</span> **********************  TOOL METRICS  **********************                                                 \n",
              "</pre>\n"
            ]
          },
          "metadata": {}
        },
        {
          "output_type": "display_data",
          "data": {
            "text/plain": [
              "\u001b[32mDEBUG\u001b[0m * Time:                        \u001b[1;36m3.\u001b[0m0909s                                                                       \n"
            ],
            "text/html": [
              "<pre style=\"white-space:pre;overflow-x:auto;line-height:normal;font-family:Menlo,'DejaVu Sans Mono',consolas,'Courier New',monospace\"><span style=\"color: #008000; text-decoration-color: #008000\">DEBUG</span> * Time:                        <span style=\"color: #008080; text-decoration-color: #008080; font-weight: bold\">3.</span>0909s                                                                       \n",
              "</pre>\n"
            ]
          },
          "metadata": {}
        },
        {
          "output_type": "display_data",
          "data": {
            "text/plain": [
              "\u001b[32mDEBUG\u001b[0m **********************  TOOL METRICS  **********************                                                 \n"
            ],
            "text/html": [
              "<pre style=\"white-space:pre;overflow-x:auto;line-height:normal;font-family:Menlo,'DejaVu Sans Mono',consolas,'Courier New',monospace\"><span style=\"color: #008000; text-decoration-color: #008000\">DEBUG</span> **********************  TOOL METRICS  **********************                                                 \n",
              "</pre>\n"
            ]
          },
          "metadata": {}
        },
        {
          "output_type": "display_data",
          "data": {
            "text/plain": [
              "\u001b[32mDEBUG\u001b[0m ======================== assistant =========================                                                 \n"
            ],
            "text/html": [
              "<pre style=\"white-space:pre;overflow-x:auto;line-height:normal;font-family:Menlo,'DejaVu Sans Mono',consolas,'Courier New',monospace\"><span style=\"color: #008000; text-decoration-color: #008000\">DEBUG</span> ======================== assistant =========================                                                 \n",
              "</pre>\n"
            ]
          },
          "metadata": {}
        },
        {
          "output_type": "display_data",
          "data": {
            "text/plain": [
              "\u001b[32mDEBUG\u001b[0m Tool Calls:                                                                                                  \n",
              "        - ID: \u001b[32m'call_czmj'\u001b[0m                                                                                          \n",
              "          Name: \u001b[32m'text_to_speech'\u001b[0m                                                                                   \n",
              "          Arguments: \u001b[32m'prompt: हालांकि, यह ध्यान रखना महत्वपूर्ण है कि TULU का उपयोग सावधानी से और इसकी सीमाओं को समझते हुए करना चाहिए, ताकि इसके\u001b[0m  \n",
              "      \u001b[32mपरिणामों का सही तरीके से उपयोग किया जा सके।'\u001b[0m                                                                               \n"
            ],
            "text/html": [
              "<pre style=\"white-space:pre;overflow-x:auto;line-height:normal;font-family:Menlo,'DejaVu Sans Mono',consolas,'Courier New',monospace\"><span style=\"color: #008000; text-decoration-color: #008000\">DEBUG</span> Tool Calls:                                                                                                  \n",
              "        - ID: <span style=\"color: #008000; text-decoration-color: #008000\">'call_czmj'</span>                                                                                          \n",
              "          Name: <span style=\"color: #008000; text-decoration-color: #008000\">'text_to_speech'</span>                                                                                   \n",
              "          Arguments: <span style=\"color: #008000; text-decoration-color: #008000\">'prompt: हालांकि, यह ध्यान रखना महत्वपूर्ण है कि TULU का उपयोग सावधानी से और इसकी सीमाओं को समझते हुए करना चाहिए, ताकि इसके</span>  \n",
              "      <span style=\"color: #008000; text-decoration-color: #008000\">परिणामों का सही तरीके से उपयोग किया जा सके।'</span>                                                                               \n",
              "</pre>\n"
            ]
          },
          "metadata": {}
        },
        {
          "output_type": "display_data",
          "data": {
            "text/plain": [
              "\u001b[32mDEBUG\u001b[0m ************************  METRICS  *************************                                                 \n"
            ],
            "text/html": [
              "<pre style=\"white-space:pre;overflow-x:auto;line-height:normal;font-family:Menlo,'DejaVu Sans Mono',consolas,'Courier New',monospace\"><span style=\"color: #008000; text-decoration-color: #008000\">DEBUG</span> ************************  METRICS  *************************                                                 \n",
              "</pre>\n"
            ]
          },
          "metadata": {}
        },
        {
          "output_type": "display_data",
          "data": {
            "text/plain": [
              "\u001b[32mDEBUG\u001b[0m * Tokens:                      \u001b[33minput\u001b[0m=\u001b[1;36m1928\u001b[0m, \u001b[33moutput\u001b[0m=\u001b[1;36m95\u001b[0m, \u001b[33mtotal\u001b[0m=\u001b[1;36m2023\u001b[0m                                             \n"
            ],
            "text/html": [
              "<pre style=\"white-space:pre;overflow-x:auto;line-height:normal;font-family:Menlo,'DejaVu Sans Mono',consolas,'Courier New',monospace\"><span style=\"color: #008000; text-decoration-color: #008000\">DEBUG</span> * Tokens:                      <span style=\"color: #808000; text-decoration-color: #808000\">input</span>=<span style=\"color: #008080; text-decoration-color: #008080; font-weight: bold\">1928</span>, <span style=\"color: #808000; text-decoration-color: #808000\">output</span>=<span style=\"color: #008080; text-decoration-color: #008080; font-weight: bold\">95</span>, <span style=\"color: #808000; text-decoration-color: #808000\">total</span>=<span style=\"color: #008080; text-decoration-color: #008080; font-weight: bold\">2023</span>                                             \n",
              "</pre>\n"
            ]
          },
          "metadata": {}
        },
        {
          "output_type": "display_data",
          "data": {
            "text/plain": [
              "\u001b[32mDEBUG\u001b[0m * Time:                        \u001b[1;36m0.\u001b[0m7939s                                                                       \n"
            ],
            "text/html": [
              "<pre style=\"white-space:pre;overflow-x:auto;line-height:normal;font-family:Menlo,'DejaVu Sans Mono',consolas,'Courier New',monospace\"><span style=\"color: #008000; text-decoration-color: #008000\">DEBUG</span> * Time:                        <span style=\"color: #008080; text-decoration-color: #008080; font-weight: bold\">0.</span>7939s                                                                       \n",
              "</pre>\n"
            ]
          },
          "metadata": {}
        },
        {
          "output_type": "display_data",
          "data": {
            "text/plain": [
              "\u001b[32mDEBUG\u001b[0m * Tokens per second:           \u001b[1;36m119.6650\u001b[0m tokens/s                                                             \n"
            ],
            "text/html": [
              "<pre style=\"white-space:pre;overflow-x:auto;line-height:normal;font-family:Menlo,'DejaVu Sans Mono',consolas,'Courier New',monospace\"><span style=\"color: #008000; text-decoration-color: #008000\">DEBUG</span> * Tokens per second:           <span style=\"color: #008080; text-decoration-color: #008080; font-weight: bold\">119.6650</span> tokens/s                                                             \n",
              "</pre>\n"
            ]
          },
          "metadata": {}
        },
        {
          "output_type": "display_data",
          "data": {
            "text/plain": [
              "\u001b[32mDEBUG\u001b[0m * Additional metrics:          \u001b[1m{\u001b[0m\u001b[32m'completion_time'\u001b[0m: \u001b[1;36m0.345454545\u001b[0m, \u001b[32m'prompt_time'\u001b[0m: \u001b[1;36m0.138325983\u001b[0m, \u001b[32m'queue_time'\u001b[0m:    \n",
              "      \u001b[1;36m0.229899233\u001b[0m, \u001b[32m'total_time'\u001b[0m: \u001b[1;36m0.483780528\u001b[0m\u001b[1m}\u001b[0m                                                                      \n"
            ],
            "text/html": [
              "<pre style=\"white-space:pre;overflow-x:auto;line-height:normal;font-family:Menlo,'DejaVu Sans Mono',consolas,'Courier New',monospace\"><span style=\"color: #008000; text-decoration-color: #008000\">DEBUG</span> * Additional metrics:          <span style=\"font-weight: bold\">{</span><span style=\"color: #008000; text-decoration-color: #008000\">'completion_time'</span>: <span style=\"color: #008080; text-decoration-color: #008080; font-weight: bold\">0.345454545</span>, <span style=\"color: #008000; text-decoration-color: #008000\">'prompt_time'</span>: <span style=\"color: #008080; text-decoration-color: #008080; font-weight: bold\">0.138325983</span>, <span style=\"color: #008000; text-decoration-color: #008000\">'queue_time'</span>:    \n",
              "      <span style=\"color: #008080; text-decoration-color: #008080; font-weight: bold\">0.229899233</span>, <span style=\"color: #008000; text-decoration-color: #008000\">'total_time'</span>: <span style=\"color: #008080; text-decoration-color: #008080; font-weight: bold\">0.483780528</span><span style=\"font-weight: bold\">}</span>                                                                      \n",
              "</pre>\n"
            ]
          },
          "metadata": {}
        },
        {
          "output_type": "display_data",
          "data": {
            "text/plain": [
              "\u001b[32mDEBUG\u001b[0m ************************  METRICS  *************************                                                 \n"
            ],
            "text/html": [
              "<pre style=\"white-space:pre;overflow-x:auto;line-height:normal;font-family:Menlo,'DejaVu Sans Mono',consolas,'Courier New',monospace\"><span style=\"color: #008000; text-decoration-color: #008000\">DEBUG</span> ************************  METRICS  *************************                                                 \n",
              "</pre>\n"
            ]
          },
          "metadata": {}
        },
        {
          "output_type": "display_data",
          "data": {
            "text/plain": [
              "\u001b[32mDEBUG\u001b[0m Getting function text_to_speech                                                                              \n"
            ],
            "text/html": [
              "<pre style=\"white-space:pre;overflow-x:auto;line-height:normal;font-family:Menlo,'DejaVu Sans Mono',consolas,'Courier New',monospace\"><span style=\"color: #008000; text-decoration-color: #008000\">DEBUG</span> Getting function text_to_speech                                                                              \n",
              "</pre>\n"
            ]
          },
          "metadata": {}
        },
        {
          "output_type": "display_data",
          "data": {
            "text/plain": [
              "\u001b[32mDEBUG\u001b[0m Running: \u001b[1;35mtext_to_speech\u001b[0m\u001b[1m(\u001b[0m\u001b[33mprompt\u001b[0m=\u001b[33m...\u001b[0m\u001b[1m)\u001b[0m                                                                          \n"
            ],
            "text/html": [
              "<pre style=\"white-space:pre;overflow-x:auto;line-height:normal;font-family:Menlo,'DejaVu Sans Mono',consolas,'Courier New',monospace\"><span style=\"color: #008000; text-decoration-color: #008000\">DEBUG</span> Running: <span style=\"color: #800080; text-decoration-color: #800080; font-weight: bold\">text_to_speech</span><span style=\"font-weight: bold\">(</span><span style=\"color: #808000; text-decoration-color: #808000\">prompt</span>=<span style=\"color: #808000; text-decoration-color: #808000\">...</span><span style=\"font-weight: bold\">)</span>                                                                          \n",
              "</pre>\n"
            ]
          },
          "metadata": {}
        },
        {
          "output_type": "display_data",
          "data": {
            "text/plain": [
              "\u001b[32mDEBUG\u001b[0m =========================== tool ===========================                                                 \n"
            ],
            "text/html": [
              "<pre style=\"white-space:pre;overflow-x:auto;line-height:normal;font-family:Menlo,'DejaVu Sans Mono',consolas,'Courier New',monospace\"><span style=\"color: #008000; text-decoration-color: #008000\">DEBUG</span> =========================== tool ===========================                                                 \n",
              "</pre>\n"
            ]
          },
          "metadata": {}
        },
        {
          "output_type": "display_data",
          "data": {
            "text/plain": [
              "\u001b[32mDEBUG\u001b[0m Tool call Id: call_czmj                                                                                      \n"
            ],
            "text/html": [
              "<pre style=\"white-space:pre;overflow-x:auto;line-height:normal;font-family:Menlo,'DejaVu Sans Mono',consolas,'Courier New',monospace\"><span style=\"color: #008000; text-decoration-color: #008000\">DEBUG</span> Tool call Id: call_czmj                                                                                      \n",
              "</pre>\n"
            ]
          },
          "metadata": {}
        },
        {
          "output_type": "display_data",
          "data": {
            "text/plain": [
              "\u001b[32mDEBUG\u001b[0m Audio generated successfully                                                                                 \n"
            ],
            "text/html": [
              "<pre style=\"white-space:pre;overflow-x:auto;line-height:normal;font-family:Menlo,'DejaVu Sans Mono',consolas,'Courier New',monospace\"><span style=\"color: #008000; text-decoration-color: #008000\">DEBUG</span> Audio generated successfully                                                                                 \n",
              "</pre>\n"
            ]
          },
          "metadata": {}
        },
        {
          "output_type": "display_data",
          "data": {
            "text/plain": [
              "\u001b[32mDEBUG\u001b[0m **********************  TOOL METRICS  **********************                                                 \n"
            ],
            "text/html": [
              "<pre style=\"white-space:pre;overflow-x:auto;line-height:normal;font-family:Menlo,'DejaVu Sans Mono',consolas,'Courier New',monospace\"><span style=\"color: #008000; text-decoration-color: #008000\">DEBUG</span> **********************  TOOL METRICS  **********************                                                 \n",
              "</pre>\n"
            ]
          },
          "metadata": {}
        },
        {
          "output_type": "display_data",
          "data": {
            "text/plain": [
              "\u001b[32mDEBUG\u001b[0m * Time:                        \u001b[1;36m2.\u001b[0m7944s                                                                       \n"
            ],
            "text/html": [
              "<pre style=\"white-space:pre;overflow-x:auto;line-height:normal;font-family:Menlo,'DejaVu Sans Mono',consolas,'Courier New',monospace\"><span style=\"color: #008000; text-decoration-color: #008000\">DEBUG</span> * Time:                        <span style=\"color: #008080; text-decoration-color: #008080; font-weight: bold\">2.</span>7944s                                                                       \n",
              "</pre>\n"
            ]
          },
          "metadata": {}
        },
        {
          "output_type": "display_data",
          "data": {
            "text/plain": [
              "\u001b[32mDEBUG\u001b[0m **********************  TOOL METRICS  **********************                                                 \n"
            ],
            "text/html": [
              "<pre style=\"white-space:pre;overflow-x:auto;line-height:normal;font-family:Menlo,'DejaVu Sans Mono',consolas,'Courier New',monospace\"><span style=\"color: #008000; text-decoration-color: #008000\">DEBUG</span> **********************  TOOL METRICS  **********************                                                 \n",
              "</pre>\n"
            ]
          },
          "metadata": {}
        },
        {
          "output_type": "display_data",
          "data": {
            "text/plain": [
              "\u001b[32mDEBUG\u001b[0m ======================== assistant =========================                                                 \n"
            ],
            "text/html": [
              "<pre style=\"white-space:pre;overflow-x:auto;line-height:normal;font-family:Menlo,'DejaVu Sans Mono',consolas,'Courier New',monospace\"><span style=\"color: #008000; text-decoration-color: #008000\">DEBUG</span> ======================== assistant =========================                                                 \n",
              "</pre>\n"
            ]
          },
          "metadata": {}
        },
        {
          "output_type": "display_data",
          "data": {
            "text/plain": [
              "\u001b[32mDEBUG\u001b[0m Tool Calls:                                                                                                  \n",
              "        - ID: \u001b[32m'call_yfwy'\u001b[0m                                                                                          \n",
              "          Name: \u001b[32m'text_to_speech'\u001b[0m                                                                                   \n",
              "          Arguments: \u001b[32m'prompt: इस प्रकार, TULU एक शक्तिशाली और उपयोगी टूल है जो विभिन्न कार्यों में उपयोगी हो सकता है, लेकिन इसका उपयोग सावधानी से और\u001b[0m\n",
              "      \u001b[32mइसकी सीमाओं को समझते हुए करना चाहिए।'\u001b[0m                                                                                  \n"
            ],
            "text/html": [
              "<pre style=\"white-space:pre;overflow-x:auto;line-height:normal;font-family:Menlo,'DejaVu Sans Mono',consolas,'Courier New',monospace\"><span style=\"color: #008000; text-decoration-color: #008000\">DEBUG</span> Tool Calls:                                                                                                  \n",
              "        - ID: <span style=\"color: #008000; text-decoration-color: #008000\">'call_yfwy'</span>                                                                                          \n",
              "          Name: <span style=\"color: #008000; text-decoration-color: #008000\">'text_to_speech'</span>                                                                                   \n",
              "          Arguments: <span style=\"color: #008000; text-decoration-color: #008000\">'prompt: इस प्रकार, TULU एक शक्तिशाली और उपयोगी टूल है जो विभिन्न कार्यों में उपयोगी हो सकता है, लेकिन इसका उपयोग सावधानी से और</span>\n",
              "      <span style=\"color: #008000; text-decoration-color: #008000\">इसकी सीमाओं को समझते हुए करना चाहिए।'</span>                                                                                  \n",
              "</pre>\n"
            ]
          },
          "metadata": {}
        },
        {
          "output_type": "display_data",
          "data": {
            "text/plain": [
              "\u001b[32mDEBUG\u001b[0m ************************  METRICS  *************************                                                 \n"
            ],
            "text/html": [
              "<pre style=\"white-space:pre;overflow-x:auto;line-height:normal;font-family:Menlo,'DejaVu Sans Mono',consolas,'Courier New',monospace\"><span style=\"color: #008000; text-decoration-color: #008000\">DEBUG</span> ************************  METRICS  *************************                                                 \n",
              "</pre>\n"
            ]
          },
          "metadata": {}
        },
        {
          "output_type": "display_data",
          "data": {
            "text/plain": [
              "\u001b[32mDEBUG\u001b[0m * Tokens:                      \u001b[33minput\u001b[0m=\u001b[1;36m2036\u001b[0m, \u001b[33moutput\u001b[0m=\u001b[1;36m92\u001b[0m, \u001b[33mtotal\u001b[0m=\u001b[1;36m2128\u001b[0m                                             \n"
            ],
            "text/html": [
              "<pre style=\"white-space:pre;overflow-x:auto;line-height:normal;font-family:Menlo,'DejaVu Sans Mono',consolas,'Courier New',monospace\"><span style=\"color: #008000; text-decoration-color: #008000\">DEBUG</span> * Tokens:                      <span style=\"color: #808000; text-decoration-color: #808000\">input</span>=<span style=\"color: #008080; text-decoration-color: #008080; font-weight: bold\">2036</span>, <span style=\"color: #808000; text-decoration-color: #808000\">output</span>=<span style=\"color: #008080; text-decoration-color: #008080; font-weight: bold\">92</span>, <span style=\"color: #808000; text-decoration-color: #808000\">total</span>=<span style=\"color: #008080; text-decoration-color: #008080; font-weight: bold\">2128</span>                                             \n",
              "</pre>\n"
            ]
          },
          "metadata": {}
        },
        {
          "output_type": "display_data",
          "data": {
            "text/plain": [
              "\u001b[32mDEBUG\u001b[0m * Time:                        \u001b[1;36m0.\u001b[0m7761s                                                                       \n"
            ],
            "text/html": [
              "<pre style=\"white-space:pre;overflow-x:auto;line-height:normal;font-family:Menlo,'DejaVu Sans Mono',consolas,'Courier New',monospace\"><span style=\"color: #008000; text-decoration-color: #008000\">DEBUG</span> * Time:                        <span style=\"color: #008080; text-decoration-color: #008080; font-weight: bold\">0.</span>7761s                                                                       \n",
              "</pre>\n"
            ]
          },
          "metadata": {}
        },
        {
          "output_type": "display_data",
          "data": {
            "text/plain": [
              "\u001b[32mDEBUG\u001b[0m * Tokens per second:           \u001b[1;36m118.5459\u001b[0m tokens/s                                                             \n"
            ],
            "text/html": [
              "<pre style=\"white-space:pre;overflow-x:auto;line-height:normal;font-family:Menlo,'DejaVu Sans Mono',consolas,'Courier New',monospace\"><span style=\"color: #008000; text-decoration-color: #008000\">DEBUG</span> * Tokens per second:           <span style=\"color: #008080; text-decoration-color: #008080; font-weight: bold\">118.5459</span> tokens/s                                                             \n",
              "</pre>\n"
            ]
          },
          "metadata": {}
        },
        {
          "output_type": "display_data",
          "data": {
            "text/plain": [
              "\u001b[32mDEBUG\u001b[0m * Additional metrics:          \u001b[1m{\u001b[0m\u001b[32m'completion_time'\u001b[0m: \u001b[1;36m0.334545455\u001b[0m, \u001b[32m'prompt_time'\u001b[0m: \u001b[1;36m0.146612332\u001b[0m, \u001b[32m'queue_time'\u001b[0m:    \n",
              "      \u001b[1;36m0.217810175\u001b[0m, \u001b[32m'total_time'\u001b[0m: \u001b[1;36m0.481157787\u001b[0m\u001b[1m}\u001b[0m                                                                      \n"
            ],
            "text/html": [
              "<pre style=\"white-space:pre;overflow-x:auto;line-height:normal;font-family:Menlo,'DejaVu Sans Mono',consolas,'Courier New',monospace\"><span style=\"color: #008000; text-decoration-color: #008000\">DEBUG</span> * Additional metrics:          <span style=\"font-weight: bold\">{</span><span style=\"color: #008000; text-decoration-color: #008000\">'completion_time'</span>: <span style=\"color: #008080; text-decoration-color: #008080; font-weight: bold\">0.334545455</span>, <span style=\"color: #008000; text-decoration-color: #008000\">'prompt_time'</span>: <span style=\"color: #008080; text-decoration-color: #008080; font-weight: bold\">0.146612332</span>, <span style=\"color: #008000; text-decoration-color: #008000\">'queue_time'</span>:    \n",
              "      <span style=\"color: #008080; text-decoration-color: #008080; font-weight: bold\">0.217810175</span>, <span style=\"color: #008000; text-decoration-color: #008000\">'total_time'</span>: <span style=\"color: #008080; text-decoration-color: #008080; font-weight: bold\">0.481157787</span><span style=\"font-weight: bold\">}</span>                                                                      \n",
              "</pre>\n"
            ]
          },
          "metadata": {}
        },
        {
          "output_type": "display_data",
          "data": {
            "text/plain": [
              "\u001b[32mDEBUG\u001b[0m ************************  METRICS  *************************                                                 \n"
            ],
            "text/html": [
              "<pre style=\"white-space:pre;overflow-x:auto;line-height:normal;font-family:Menlo,'DejaVu Sans Mono',consolas,'Courier New',monospace\"><span style=\"color: #008000; text-decoration-color: #008000\">DEBUG</span> ************************  METRICS  *************************                                                 \n",
              "</pre>\n"
            ]
          },
          "metadata": {}
        },
        {
          "output_type": "display_data",
          "data": {
            "text/plain": [
              "\u001b[32mDEBUG\u001b[0m Getting function text_to_speech                                                                              \n"
            ],
            "text/html": [
              "<pre style=\"white-space:pre;overflow-x:auto;line-height:normal;font-family:Menlo,'DejaVu Sans Mono',consolas,'Courier New',monospace\"><span style=\"color: #008000; text-decoration-color: #008000\">DEBUG</span> Getting function text_to_speech                                                                              \n",
              "</pre>\n"
            ]
          },
          "metadata": {}
        },
        {
          "output_type": "display_data",
          "data": {
            "text/plain": [
              "\u001b[32mDEBUG\u001b[0m Running: \u001b[1;35mtext_to_speech\u001b[0m\u001b[1m(\u001b[0m\u001b[33mprompt\u001b[0m=\u001b[33m...\u001b[0m\u001b[1m)\u001b[0m                                                                          \n"
            ],
            "text/html": [
              "<pre style=\"white-space:pre;overflow-x:auto;line-height:normal;font-family:Menlo,'DejaVu Sans Mono',consolas,'Courier New',monospace\"><span style=\"color: #008000; text-decoration-color: #008000\">DEBUG</span> Running: <span style=\"color: #800080; text-decoration-color: #800080; font-weight: bold\">text_to_speech</span><span style=\"font-weight: bold\">(</span><span style=\"color: #808000; text-decoration-color: #808000\">prompt</span>=<span style=\"color: #808000; text-decoration-color: #808000\">...</span><span style=\"font-weight: bold\">)</span>                                                                          \n",
              "</pre>\n"
            ]
          },
          "metadata": {}
        },
        {
          "output_type": "display_data",
          "data": {
            "text/plain": [
              "\u001b[32mDEBUG\u001b[0m =========================== tool ===========================                                                 \n"
            ],
            "text/html": [
              "<pre style=\"white-space:pre;overflow-x:auto;line-height:normal;font-family:Menlo,'DejaVu Sans Mono',consolas,'Courier New',monospace\"><span style=\"color: #008000; text-decoration-color: #008000\">DEBUG</span> =========================== tool ===========================                                                 \n",
              "</pre>\n"
            ]
          },
          "metadata": {}
        },
        {
          "output_type": "display_data",
          "data": {
            "text/plain": [
              "\u001b[32mDEBUG\u001b[0m Tool call Id: call_yfwy                                                                                      \n"
            ],
            "text/html": [
              "<pre style=\"white-space:pre;overflow-x:auto;line-height:normal;font-family:Menlo,'DejaVu Sans Mono',consolas,'Courier New',monospace\"><span style=\"color: #008000; text-decoration-color: #008000\">DEBUG</span> Tool call Id: call_yfwy                                                                                      \n",
              "</pre>\n"
            ]
          },
          "metadata": {}
        },
        {
          "output_type": "display_data",
          "data": {
            "text/plain": [
              "\u001b[32mDEBUG\u001b[0m Audio generated successfully                                                                                 \n"
            ],
            "text/html": [
              "<pre style=\"white-space:pre;overflow-x:auto;line-height:normal;font-family:Menlo,'DejaVu Sans Mono',consolas,'Courier New',monospace\"><span style=\"color: #008000; text-decoration-color: #008000\">DEBUG</span> Audio generated successfully                                                                                 \n",
              "</pre>\n"
            ]
          },
          "metadata": {}
        },
        {
          "output_type": "display_data",
          "data": {
            "text/plain": [
              "\u001b[32mDEBUG\u001b[0m **********************  TOOL METRICS  **********************                                                 \n"
            ],
            "text/html": [
              "<pre style=\"white-space:pre;overflow-x:auto;line-height:normal;font-family:Menlo,'DejaVu Sans Mono',consolas,'Courier New',monospace\"><span style=\"color: #008000; text-decoration-color: #008000\">DEBUG</span> **********************  TOOL METRICS  **********************                                                 \n",
              "</pre>\n"
            ]
          },
          "metadata": {}
        },
        {
          "output_type": "display_data",
          "data": {
            "text/plain": [
              "\u001b[32mDEBUG\u001b[0m * Time:                        \u001b[1;36m2.\u001b[0m6635s                                                                       \n"
            ],
            "text/html": [
              "<pre style=\"white-space:pre;overflow-x:auto;line-height:normal;font-family:Menlo,'DejaVu Sans Mono',consolas,'Courier New',monospace\"><span style=\"color: #008000; text-decoration-color: #008000\">DEBUG</span> * Time:                        <span style=\"color: #008080; text-decoration-color: #008080; font-weight: bold\">2.</span>6635s                                                                       \n",
              "</pre>\n"
            ]
          },
          "metadata": {}
        },
        {
          "output_type": "display_data",
          "data": {
            "text/plain": [
              "\u001b[32mDEBUG\u001b[0m **********************  TOOL METRICS  **********************                                                 \n"
            ],
            "text/html": [
              "<pre style=\"white-space:pre;overflow-x:auto;line-height:normal;font-family:Menlo,'DejaVu Sans Mono',consolas,'Courier New',monospace\"><span style=\"color: #008000; text-decoration-color: #008000\">DEBUG</span> **********************  TOOL METRICS  **********************                                                 \n",
              "</pre>\n"
            ]
          },
          "metadata": {}
        },
        {
          "output_type": "display_data",
          "data": {
            "text/plain": [
              "\u001b[32mDEBUG\u001b[0m ======================== assistant =========================                                                 \n"
            ],
            "text/html": [
              "<pre style=\"white-space:pre;overflow-x:auto;line-height:normal;font-family:Menlo,'DejaVu Sans Mono',consolas,'Courier New',monospace\"><span style=\"color: #008000; text-decoration-color: #008000\">DEBUG</span> ======================== assistant =========================                                                 \n",
              "</pre>\n"
            ]
          },
          "metadata": {}
        },
        {
          "output_type": "display_data",
          "data": {
            "text/plain": [
              "\u001b[32mDEBUG\u001b[0m Tool Calls:                                                                                                  \n",
              "        - ID: \u001b[32m'call_ktq9'\u001b[0m                                                                                          \n",
              "          Name: \u001b[32m'text_to_speech'\u001b[0m                                                                                   \n",
              "          Arguments: \u001b[32m'prompt: TULU के प्रशिक्षण और मूल्यांकन की प्रक्रिया ने इसकी क्षमताओं और सीमाओं को प्रदर्शित किया है, और इसके परिणामों से यह पता\u001b[0m \n",
              "      \u001b[32mचलता है कि यह एक शक्तिशाली और उपयोगी टूल है जो विभिन्न कार्यों में उपयोगी हो सकता है।'\u001b[0m                                                 \n"
            ],
            "text/html": [
              "<pre style=\"white-space:pre;overflow-x:auto;line-height:normal;font-family:Menlo,'DejaVu Sans Mono',consolas,'Courier New',monospace\"><span style=\"color: #008000; text-decoration-color: #008000\">DEBUG</span> Tool Calls:                                                                                                  \n",
              "        - ID: <span style=\"color: #008000; text-decoration-color: #008000\">'call_ktq9'</span>                                                                                          \n",
              "          Name: <span style=\"color: #008000; text-decoration-color: #008000\">'text_to_speech'</span>                                                                                   \n",
              "          Arguments: <span style=\"color: #008000; text-decoration-color: #008000\">'prompt: TULU के प्रशिक्षण और मूल्यांकन की प्रक्रिया ने इसकी क्षमताओं और सीमाओं को प्रदर्शित किया है, और इसके परिणामों से यह पता</span> \n",
              "      <span style=\"color: #008000; text-decoration-color: #008000\">चलता है कि यह एक शक्तिशाली और उपयोगी टूल है जो विभिन्न कार्यों में उपयोगी हो सकता है।'</span>                                                 \n",
              "</pre>\n"
            ]
          },
          "metadata": {}
        },
        {
          "output_type": "display_data",
          "data": {
            "text/plain": [
              "\u001b[32mDEBUG\u001b[0m ************************  METRICS  *************************                                                 \n"
            ],
            "text/html": [
              "<pre style=\"white-space:pre;overflow-x:auto;line-height:normal;font-family:Menlo,'DejaVu Sans Mono',consolas,'Courier New',monospace\"><span style=\"color: #008000; text-decoration-color: #008000\">DEBUG</span> ************************  METRICS  *************************                                                 \n",
              "</pre>\n"
            ]
          },
          "metadata": {}
        },
        {
          "output_type": "display_data",
          "data": {
            "text/plain": [
              "\u001b[32mDEBUG\u001b[0m * Tokens:                      \u001b[33minput\u001b[0m=\u001b[1;36m4281\u001b[0m, \u001b[33moutput\u001b[0m=\u001b[1;36m115\u001b[0m, \u001b[33mtotal\u001b[0m=\u001b[1;36m4396\u001b[0m                                            \n"
            ],
            "text/html": [
              "<pre style=\"white-space:pre;overflow-x:auto;line-height:normal;font-family:Menlo,'DejaVu Sans Mono',consolas,'Courier New',monospace\"><span style=\"color: #008000; text-decoration-color: #008000\">DEBUG</span> * Tokens:                      <span style=\"color: #808000; text-decoration-color: #808000\">input</span>=<span style=\"color: #008080; text-decoration-color: #008080; font-weight: bold\">4281</span>, <span style=\"color: #808000; text-decoration-color: #808000\">output</span>=<span style=\"color: #008080; text-decoration-color: #008080; font-weight: bold\">115</span>, <span style=\"color: #808000; text-decoration-color: #808000\">total</span>=<span style=\"color: #008080; text-decoration-color: #008080; font-weight: bold\">4396</span>                                            \n",
              "</pre>\n"
            ]
          },
          "metadata": {}
        },
        {
          "output_type": "display_data",
          "data": {
            "text/plain": [
              "\u001b[32mDEBUG\u001b[0m * Time:                        \u001b[1;36m1.\u001b[0m9043s                                                                       \n"
            ],
            "text/html": [
              "<pre style=\"white-space:pre;overflow-x:auto;line-height:normal;font-family:Menlo,'DejaVu Sans Mono',consolas,'Courier New',monospace\"><span style=\"color: #008000; text-decoration-color: #008000\">DEBUG</span> * Time:                        <span style=\"color: #008080; text-decoration-color: #008080; font-weight: bold\">1.</span>9043s                                                                       \n",
              "</pre>\n"
            ]
          },
          "metadata": {}
        },
        {
          "output_type": "display_data",
          "data": {
            "text/plain": [
              "\u001b[32mDEBUG\u001b[0m * Tokens per second:           \u001b[1;36m60.3910\u001b[0m tokens/s                                                              \n"
            ],
            "text/html": [
              "<pre style=\"white-space:pre;overflow-x:auto;line-height:normal;font-family:Menlo,'DejaVu Sans Mono',consolas,'Courier New',monospace\"><span style=\"color: #008000; text-decoration-color: #008000\">DEBUG</span> * Tokens per second:           <span style=\"color: #008080; text-decoration-color: #008080; font-weight: bold\">60.3910</span> tokens/s                                                              \n",
              "</pre>\n"
            ]
          },
          "metadata": {}
        },
        {
          "output_type": "display_data",
          "data": {
            "text/plain": [
              "\u001b[32mDEBUG\u001b[0m * Additional metrics:          \u001b[1m{\u001b[0m\u001b[32m'completion_time'\u001b[0m: \u001b[1;36m0.418181818\u001b[0m, \u001b[32m'prompt_time'\u001b[0m: \u001b[1;36m0.305605693\u001b[0m, \u001b[32m'queue_time'\u001b[0m:    \n",
              "      \u001b[1;36m-0.590302103\u001b[0m, \u001b[32m'total_time'\u001b[0m: \u001b[1;36m0.723787511\u001b[0m\u001b[1m}\u001b[0m                                                                     \n"
            ],
            "text/html": [
              "<pre style=\"white-space:pre;overflow-x:auto;line-height:normal;font-family:Menlo,'DejaVu Sans Mono',consolas,'Courier New',monospace\"><span style=\"color: #008000; text-decoration-color: #008000\">DEBUG</span> * Additional metrics:          <span style=\"font-weight: bold\">{</span><span style=\"color: #008000; text-decoration-color: #008000\">'completion_time'</span>: <span style=\"color: #008080; text-decoration-color: #008080; font-weight: bold\">0.418181818</span>, <span style=\"color: #008000; text-decoration-color: #008000\">'prompt_time'</span>: <span style=\"color: #008080; text-decoration-color: #008080; font-weight: bold\">0.305605693</span>, <span style=\"color: #008000; text-decoration-color: #008000\">'queue_time'</span>:    \n",
              "      <span style=\"color: #008080; text-decoration-color: #008080; font-weight: bold\">-0.590302103</span>, <span style=\"color: #008000; text-decoration-color: #008000\">'total_time'</span>: <span style=\"color: #008080; text-decoration-color: #008080; font-weight: bold\">0.723787511</span><span style=\"font-weight: bold\">}</span>                                                                     \n",
              "</pre>\n"
            ]
          },
          "metadata": {}
        },
        {
          "output_type": "display_data",
          "data": {
            "text/plain": [
              "\u001b[32mDEBUG\u001b[0m ************************  METRICS  *************************                                                 \n"
            ],
            "text/html": [
              "<pre style=\"white-space:pre;overflow-x:auto;line-height:normal;font-family:Menlo,'DejaVu Sans Mono',consolas,'Courier New',monospace\"><span style=\"color: #008000; text-decoration-color: #008000\">DEBUG</span> ************************  METRICS  *************************                                                 \n",
              "</pre>\n"
            ]
          },
          "metadata": {}
        },
        {
          "output_type": "display_data",
          "data": {
            "text/plain": [
              "\u001b[32mDEBUG\u001b[0m Getting function text_to_speech                                                                              \n"
            ],
            "text/html": [
              "<pre style=\"white-space:pre;overflow-x:auto;line-height:normal;font-family:Menlo,'DejaVu Sans Mono',consolas,'Courier New',monospace\"><span style=\"color: #008000; text-decoration-color: #008000\">DEBUG</span> Getting function text_to_speech                                                                              \n",
              "</pre>\n"
            ]
          },
          "metadata": {}
        },
        {
          "output_type": "display_data",
          "data": {
            "text/plain": [
              "\u001b[32mDEBUG\u001b[0m Running: \u001b[1;35mtext_to_speech\u001b[0m\u001b[1m(\u001b[0m\u001b[33mprompt\u001b[0m=\u001b[33m...\u001b[0m\u001b[1m)\u001b[0m                                                                          \n"
            ],
            "text/html": [
              "<pre style=\"white-space:pre;overflow-x:auto;line-height:normal;font-family:Menlo,'DejaVu Sans Mono',consolas,'Courier New',monospace\"><span style=\"color: #008000; text-decoration-color: #008000\">DEBUG</span> Running: <span style=\"color: #800080; text-decoration-color: #800080; font-weight: bold\">text_to_speech</span><span style=\"font-weight: bold\">(</span><span style=\"color: #808000; text-decoration-color: #808000\">prompt</span>=<span style=\"color: #808000; text-decoration-color: #808000\">...</span><span style=\"font-weight: bold\">)</span>                                                                          \n",
              "</pre>\n"
            ]
          },
          "metadata": {}
        },
        {
          "output_type": "display_data",
          "data": {
            "text/plain": [
              "\u001b[32mDEBUG\u001b[0m =========================== tool ===========================                                                 \n"
            ],
            "text/html": [
              "<pre style=\"white-space:pre;overflow-x:auto;line-height:normal;font-family:Menlo,'DejaVu Sans Mono',consolas,'Courier New',monospace\"><span style=\"color: #008000; text-decoration-color: #008000\">DEBUG</span> =========================== tool ===========================                                                 \n",
              "</pre>\n"
            ]
          },
          "metadata": {}
        },
        {
          "output_type": "display_data",
          "data": {
            "text/plain": [
              "\u001b[32mDEBUG\u001b[0m Tool call Id: call_ktq9                                                                                      \n"
            ],
            "text/html": [
              "<pre style=\"white-space:pre;overflow-x:auto;line-height:normal;font-family:Menlo,'DejaVu Sans Mono',consolas,'Courier New',monospace\"><span style=\"color: #008000; text-decoration-color: #008000\">DEBUG</span> Tool call Id: call_ktq9                                                                                      \n",
              "</pre>\n"
            ]
          },
          "metadata": {}
        },
        {
          "output_type": "display_data",
          "data": {
            "text/plain": [
              "\u001b[32mDEBUG\u001b[0m Audio generated successfully                                                                                 \n"
            ],
            "text/html": [
              "<pre style=\"white-space:pre;overflow-x:auto;line-height:normal;font-family:Menlo,'DejaVu Sans Mono',consolas,'Courier New',monospace\"><span style=\"color: #008000; text-decoration-color: #008000\">DEBUG</span> Audio generated successfully                                                                                 \n",
              "</pre>\n"
            ]
          },
          "metadata": {}
        },
        {
          "output_type": "display_data",
          "data": {
            "text/plain": [
              "\u001b[32mDEBUG\u001b[0m **********************  TOOL METRICS  **********************                                                 \n"
            ],
            "text/html": [
              "<pre style=\"white-space:pre;overflow-x:auto;line-height:normal;font-family:Menlo,'DejaVu Sans Mono',consolas,'Courier New',monospace\"><span style=\"color: #008000; text-decoration-color: #008000\">DEBUG</span> **********************  TOOL METRICS  **********************                                                 \n",
              "</pre>\n"
            ]
          },
          "metadata": {}
        },
        {
          "output_type": "display_data",
          "data": {
            "text/plain": [
              "\u001b[32mDEBUG\u001b[0m * Time:                        \u001b[1;36m3.\u001b[0m3725s                                                                       \n"
            ],
            "text/html": [
              "<pre style=\"white-space:pre;overflow-x:auto;line-height:normal;font-family:Menlo,'DejaVu Sans Mono',consolas,'Courier New',monospace\"><span style=\"color: #008000; text-decoration-color: #008000\">DEBUG</span> * Time:                        <span style=\"color: #008080; text-decoration-color: #008080; font-weight: bold\">3.</span>3725s                                                                       \n",
              "</pre>\n"
            ]
          },
          "metadata": {}
        },
        {
          "output_type": "display_data",
          "data": {
            "text/plain": [
              "\u001b[32mDEBUG\u001b[0m **********************  TOOL METRICS  **********************                                                 \n"
            ],
            "text/html": [
              "<pre style=\"white-space:pre;overflow-x:auto;line-height:normal;font-family:Menlo,'DejaVu Sans Mono',consolas,'Courier New',monospace\"><span style=\"color: #008000; text-decoration-color: #008000\">DEBUG</span> **********************  TOOL METRICS  **********************                                                 \n",
              "</pre>\n"
            ]
          },
          "metadata": {}
        },
        {
          "output_type": "display_data",
          "data": {
            "text/plain": [
              "\u001b[32mDEBUG\u001b[0m ======================== assistant =========================                                                 \n"
            ],
            "text/html": [
              "<pre style=\"white-space:pre;overflow-x:auto;line-height:normal;font-family:Menlo,'DejaVu Sans Mono',consolas,'Courier New',monospace\"><span style=\"color: #008000; text-decoration-color: #008000\">DEBUG</span> ======================== assistant =========================                                                 \n",
              "</pre>\n"
            ]
          },
          "metadata": {}
        },
        {
          "output_type": "display_data",
          "data": {
            "text/plain": [
              "\u001b[32mDEBUG\u001b[0m Tool Calls:                                                                                                  \n",
              "        - ID: \u001b[32m'call_53qe'\u001b[0m                                                                                          \n",
              "          Name: \u001b[32m'text_to_speech'\u001b[0m                                                                                   \n",
              "          Arguments: \u001b[32m'prompt: इसलिए, TULU का उपयोग विभिन्न कार्यों में किया जा सकता है, जैसे कि संवाद, अनुवाद, और पाठ विश्लेषण, और इसके परिणामों से\u001b[0m  \n",
              "      \u001b[32mयह पता चलता है कि यह एक शक्तिशाली और उपयोगी टूल है।'\u001b[0m                                                                     \n"
            ],
            "text/html": [
              "<pre style=\"white-space:pre;overflow-x:auto;line-height:normal;font-family:Menlo,'DejaVu Sans Mono',consolas,'Courier New',monospace\"><span style=\"color: #008000; text-decoration-color: #008000\">DEBUG</span> Tool Calls:                                                                                                  \n",
              "        - ID: <span style=\"color: #008000; text-decoration-color: #008000\">'call_53qe'</span>                                                                                          \n",
              "          Name: <span style=\"color: #008000; text-decoration-color: #008000\">'text_to_speech'</span>                                                                                   \n",
              "          Arguments: <span style=\"color: #008000; text-decoration-color: #008000\">'prompt: इसलिए, TULU का उपयोग विभिन्न कार्यों में किया जा सकता है, जैसे कि संवाद, अनुवाद, और पाठ विश्लेषण, और इसके परिणामों से</span>  \n",
              "      <span style=\"color: #008000; text-decoration-color: #008000\">यह पता चलता है कि यह एक शक्तिशाली और उपयोगी टूल है।'</span>                                                                     \n",
              "</pre>\n"
            ]
          },
          "metadata": {}
        },
        {
          "output_type": "display_data",
          "data": {
            "text/plain": [
              "\u001b[32mDEBUG\u001b[0m ************************  METRICS  *************************                                                 \n"
            ],
            "text/html": [
              "<pre style=\"white-space:pre;overflow-x:auto;line-height:normal;font-family:Menlo,'DejaVu Sans Mono',consolas,'Courier New',monospace\"><span style=\"color: #008000; text-decoration-color: #008000\">DEBUG</span> ************************  METRICS  *************************                                                 \n",
              "</pre>\n"
            ]
          },
          "metadata": {}
        },
        {
          "output_type": "display_data",
          "data": {
            "text/plain": [
              "\u001b[32mDEBUG\u001b[0m * Tokens:                      \u001b[33minput\u001b[0m=\u001b[1;36m2269\u001b[0m, \u001b[33moutput\u001b[0m=\u001b[1;36m100\u001b[0m, \u001b[33mtotal\u001b[0m=\u001b[1;36m2369\u001b[0m                                            \n"
            ],
            "text/html": [
              "<pre style=\"white-space:pre;overflow-x:auto;line-height:normal;font-family:Menlo,'DejaVu Sans Mono',consolas,'Courier New',monospace\"><span style=\"color: #008000; text-decoration-color: #008000\">DEBUG</span> * Tokens:                      <span style=\"color: #808000; text-decoration-color: #808000\">input</span>=<span style=\"color: #008080; text-decoration-color: #008080; font-weight: bold\">2269</span>, <span style=\"color: #808000; text-decoration-color: #808000\">output</span>=<span style=\"color: #008080; text-decoration-color: #008080; font-weight: bold\">100</span>, <span style=\"color: #808000; text-decoration-color: #808000\">total</span>=<span style=\"color: #008080; text-decoration-color: #008080; font-weight: bold\">2369</span>                                            \n",
              "</pre>\n"
            ]
          },
          "metadata": {}
        },
        {
          "output_type": "display_data",
          "data": {
            "text/plain": [
              "\u001b[32mDEBUG\u001b[0m * Time:                        \u001b[1;36m0.\u001b[0m8273s                                                                       \n"
            ],
            "text/html": [
              "<pre style=\"white-space:pre;overflow-x:auto;line-height:normal;font-family:Menlo,'DejaVu Sans Mono',consolas,'Courier New',monospace\"><span style=\"color: #008000; text-decoration-color: #008000\">DEBUG</span> * Time:                        <span style=\"color: #008080; text-decoration-color: #008080; font-weight: bold\">0.</span>8273s                                                                       \n",
              "</pre>\n"
            ]
          },
          "metadata": {}
        },
        {
          "output_type": "display_data",
          "data": {
            "text/plain": [
              "\u001b[32mDEBUG\u001b[0m * Tokens per second:           \u001b[1;36m120.8726\u001b[0m tokens/s                                                             \n"
            ],
            "text/html": [
              "<pre style=\"white-space:pre;overflow-x:auto;line-height:normal;font-family:Menlo,'DejaVu Sans Mono',consolas,'Courier New',monospace\"><span style=\"color: #008000; text-decoration-color: #008000\">DEBUG</span> * Tokens per second:           <span style=\"color: #008080; text-decoration-color: #008080; font-weight: bold\">120.8726</span> tokens/s                                                             \n",
              "</pre>\n"
            ]
          },
          "metadata": {}
        },
        {
          "output_type": "display_data",
          "data": {
            "text/plain": [
              "\u001b[32mDEBUG\u001b[0m * Additional metrics:          \u001b[1m{\u001b[0m\u001b[32m'completion_time'\u001b[0m: \u001b[1;36m0.363636364\u001b[0m, \u001b[32m'prompt_time'\u001b[0m: \u001b[1;36m0.160711834\u001b[0m, \u001b[32m'queue_time'\u001b[0m:    \n",
              "      \u001b[1;36m0.221482892\u001b[0m, \u001b[32m'total_time'\u001b[0m: \u001b[1;36m0.524348198\u001b[0m\u001b[1m}\u001b[0m                                                                      \n"
            ],
            "text/html": [
              "<pre style=\"white-space:pre;overflow-x:auto;line-height:normal;font-family:Menlo,'DejaVu Sans Mono',consolas,'Courier New',monospace\"><span style=\"color: #008000; text-decoration-color: #008000\">DEBUG</span> * Additional metrics:          <span style=\"font-weight: bold\">{</span><span style=\"color: #008000; text-decoration-color: #008000\">'completion_time'</span>: <span style=\"color: #008080; text-decoration-color: #008080; font-weight: bold\">0.363636364</span>, <span style=\"color: #008000; text-decoration-color: #008000\">'prompt_time'</span>: <span style=\"color: #008080; text-decoration-color: #008080; font-weight: bold\">0.160711834</span>, <span style=\"color: #008000; text-decoration-color: #008000\">'queue_time'</span>:    \n",
              "      <span style=\"color: #008080; text-decoration-color: #008080; font-weight: bold\">0.221482892</span>, <span style=\"color: #008000; text-decoration-color: #008000\">'total_time'</span>: <span style=\"color: #008080; text-decoration-color: #008080; font-weight: bold\">0.524348198</span><span style=\"font-weight: bold\">}</span>                                                                      \n",
              "</pre>\n"
            ]
          },
          "metadata": {}
        },
        {
          "output_type": "display_data",
          "data": {
            "text/plain": [
              "\u001b[32mDEBUG\u001b[0m ************************  METRICS  *************************                                                 \n"
            ],
            "text/html": [
              "<pre style=\"white-space:pre;overflow-x:auto;line-height:normal;font-family:Menlo,'DejaVu Sans Mono',consolas,'Courier New',monospace\"><span style=\"color: #008000; text-decoration-color: #008000\">DEBUG</span> ************************  METRICS  *************************                                                 \n",
              "</pre>\n"
            ]
          },
          "metadata": {}
        },
        {
          "output_type": "display_data",
          "data": {
            "text/plain": [
              "\u001b[32mDEBUG\u001b[0m Getting function text_to_speech                                                                              \n"
            ],
            "text/html": [
              "<pre style=\"white-space:pre;overflow-x:auto;line-height:normal;font-family:Menlo,'DejaVu Sans Mono',consolas,'Courier New',monospace\"><span style=\"color: #008000; text-decoration-color: #008000\">DEBUG</span> Getting function text_to_speech                                                                              \n",
              "</pre>\n"
            ]
          },
          "metadata": {}
        },
        {
          "output_type": "display_data",
          "data": {
            "text/plain": [
              "\u001b[32mDEBUG\u001b[0m Running: \u001b[1;35mtext_to_speech\u001b[0m\u001b[1m(\u001b[0m\u001b[33mprompt\u001b[0m=\u001b[33m...\u001b[0m\u001b[1m)\u001b[0m                                                                          \n"
            ],
            "text/html": [
              "<pre style=\"white-space:pre;overflow-x:auto;line-height:normal;font-family:Menlo,'DejaVu Sans Mono',consolas,'Courier New',monospace\"><span style=\"color: #008000; text-decoration-color: #008000\">DEBUG</span> Running: <span style=\"color: #800080; text-decoration-color: #800080; font-weight: bold\">text_to_speech</span><span style=\"font-weight: bold\">(</span><span style=\"color: #808000; text-decoration-color: #808000\">prompt</span>=<span style=\"color: #808000; text-decoration-color: #808000\">...</span><span style=\"font-weight: bold\">)</span>                                                                          \n",
              "</pre>\n"
            ]
          },
          "metadata": {}
        }
      ]
    }
  ]
}